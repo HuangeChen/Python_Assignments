{
 "cells": [
  {
   "cell_type": "markdown",
   "metadata": {
    "collapsed": true
   },
   "source": [
    "Question 1 : (45 Points)\n",
    "\n",
    "Using Enron data-set, perform 3 analysis.\n",
    "15 points per analysis\n",
    "\n",
    "Instructions :\n",
    "\n",
    "Enron Scandal Summary - Link to Investopedia article to get a brief summary about the what the scandal was.\n",
    "The enron data-set is available at CMU Enron data 1.82 GB tgz file .\n",
    "You do not need to upload this data in your repository. TA will have their own local copy of the data at ~/midterm/data/enron/maildir/*. So use this relative path for storing your data.\n",
    "$ mkdir -p ~/midterm/data/enron/\n",
    "$ cd ~/midterm/data/enron/\n",
    "# Download it manually (faster) and unzip it or use below command (slower)\n",
    "$ curl -O https://www.cs.cmu.edu/~./enron/enron_mail_20150507.tgz\n",
    "You can do any analysis of your choice. A better analysis is one which gives useful information."
   ]
  },
  {
   "cell_type": "code",
   "execution_count": 1,
   "metadata": {
    "collapsed": true
   },
   "outputs": [],
   "source": [
    "from email.parser import Parser\n",
    "import glob\n",
    "import os,sys\n",
    "from string import punctuation\n",
    "from nltk import FreqDist\n",
    "import os.path"
   ]
  },
  {
   "cell_type": "code",
   "execution_count": 2,
   "metadata": {
    "collapsed": false
   },
   "outputs": [],
   "source": [
    "\n",
    "count=0\n",
    "for root,dirs,files in os.walk(\"/Users/huangechen/Desktop/midterm/data/enron/\"):\n",
    "    for name in files:\n",
    "            os.path.join(root,name)\n",
    "            \n",
    "            count += 1\n",
    "         "
   ]
  },
  {
   "cell_type": "code",
   "execution_count": 3,
   "metadata": {
    "collapsed": false
   },
   "outputs": [
    {
     "name": "stdout",
     "output_type": "stream",
     "text": [
      "517418\n"
     ]
    }
   ],
   "source": [
    "print(count)"
   ]
  },
  {
   "cell_type": "code",
   "execution_count": 4,
   "metadata": {
    "collapsed": false
   },
   "outputs": [
    {
     "name": "stdout",
     "output_type": "stream",
     "text": [
      "Message-ID: <17575401.1075855758266.JavaMail.evans@thyme>\n",
      "Date: Thu, 9 Nov 2000 10:44:00 -0800 (PST)\n",
      "From: david.delainey@enron.com\n",
      "To: wes.colwell@enron.com, sally.beck@enron.com, david.oxley@enron.com,\n",
      "\tmark.haedicke@enron.com, eric.thode@enron.com,\n",
      "\tstephen.douglass@enron.com, vince.kaminski@enron.com,\n",
      "\tscott.tholan@enron.com, brian.redmond@enron.com,\n",
      "\tjoseph.deffner@enron.com\n",
      "Subject: 2001 Group Expenses\n",
      "Mime-Version: 1.0\n",
      "Content-Type: text/plain; charset=us-ascii\n",
      "Content-Transfer-Encoding: 7bit\n",
      "X-From: David W Delainey\n",
      "X-To: Wes Colwell, Sally Beck, David Oxley, Mark E Haedicke, Eric Thode, Stephen Douglass, Vince J Kaminski, Scott Tholan, Brian Redmond, Joseph Deffner\n",
      "X-cc: \n",
      "X-bcc: \n",
      "X-Folder: \\Sally_Beck_Dec2000\\Notes Folders\\2001 plan\n",
      "X-Origin: Beck-S\n",
      "X-FileName: sbeck.nsf\n",
      "\n",
      "Guys, attached you will find a final cut on the ENA 2001 expense budget.  \n",
      "Please review and make any adjustments to your existing plan that are \n",
      "appropriate to hit the net ENA target.  In order to stay flat year on year, I \n",
      "split the remaining positive variance equally across the groups.  As we had \n",
      "discussed earlier, these costs will not be allocated to the business units \n",
      "and will be tracked on the ENA income statement below the line and the \n",
      "accountability managed by each of you.  All outside variable costs, \n",
      "specifically related to specific deals, will be charged to the business units \n",
      "eg) outside legal and tax, outside technical expertise, facility costs, \n",
      "outside research support, incremental back and mid office support for \n",
      "specific asset management deals, specific entertainment, etc.  I look at this \n",
      "cost structure as the minimum capacity charge we need to operate our business \n",
      "and evaluate/manage our risks.\n",
      "\n",
      "Wes, can you please  finalize the one page plan (expenses and headcount) for \n",
      "each group with these changes.\n",
      "\n",
      "\n",
      "\n",
      "Regards\n",
      "Delainey\n"
     ]
    }
   ],
   "source": [
    "\n",
    "with open('/Users/huangechen/Desktop/midterm/data/enron/maildir/beck-s/2001_plan/1.','r') as fp:\n",
    "    data=fp.read()\n",
    "    emaildata=Parser().parsestr(data)\n",
    "    print(emaildata)"
   ]
  },
  {
   "cell_type": "code",
   "execution_count": 5,
   "metadata": {
    "collapsed": true
   },
   "outputs": [],
   "source": [
    "from string import punctuation"
   ]
  },
  {
   "cell_type": "code",
   "execution_count": 6,
   "metadata": {
    "collapsed": true
   },
   "outputs": [],
   "source": [
    "def read_files(file_name):      # Create a function to read files. \n",
    "    with open (file_name, encoding='utf-8', errors=\"ignore\") as file_content:   # Need to deal with unicode problem.\n",
    "        lines = file_content.read()\n",
    "         # Remove punctuations and numbers and save as lowercase\n",
    "        pure_file = ''.join(ch.lower() for ch in lines if ch not in punctuation and ch.isdigit()==False)\n",
    "        words_list = pure_file.split()\n",
    "        return words_list"
   ]
  },
  {
   "cell_type": "code",
   "execution_count": 7,
   "metadata": {
    "collapsed": false
   },
   "outputs": [],
   "source": [
    "words_list = []\n",
    "path = glob.glob('/Users/huangechen/Desktop/midterm/data/enron/maildir/beck-s/2001_plan/*')    \n",
    "for file in path:\n",
    "    words_list.extend(read_files(file))"
   ]
  },
  {
   "cell_type": "code",
   "execution_count": 8,
   "metadata": {
    "collapsed": false
   },
   "outputs": [
    {
     "data": {
      "text/plain": [
       "1262"
      ]
     },
     "execution_count": 8,
     "metadata": {},
     "output_type": "execute_result"
    }
   ],
   "source": [
    "len(words_list)"
   ]
  },
  {
   "cell_type": "code",
   "execution_count": 9,
   "metadata": {
    "collapsed": false
   },
   "outputs": [],
   "source": [
    "\n",
    "\n",
    "fd = FreqDist(words_list)\n"
   ]
  },
  {
   "cell_type": "code",
   "execution_count": 10,
   "metadata": {
    "collapsed": false
   },
   "outputs": [
    {
     "data": {
      "text/plain": [
       "[('to', 33),\n",
       " ('the', 28),\n",
       " ('you', 21),\n",
       " ('plan', 20),\n",
       " ('please', 19),\n",
       " ('of', 13),\n",
       " ('from', 13),\n",
       " ('a', 13),\n",
       " ('in', 12),\n",
       " ('and', 12)]"
      ]
     },
     "execution_count": 10,
     "metadata": {},
     "output_type": "execute_result"
    }
   ],
   "source": [
    "\n",
    "fd.most_common(10)\n"
   ]
  },
  {
   "cell_type": "code",
   "execution_count": 11,
   "metadata": {
    "collapsed": true
   },
   "outputs": [],
   "source": [
    "freq_list = []"
   ]
  },
  {
   "cell_type": "code",
   "execution_count": 12,
   "metadata": {
    "collapsed": true
   },
   "outputs": [],
   "source": [
    "for word in fd.keys():\n",
    "    freq_list.append([word, fd[word]])"
   ]
  },
  {
   "cell_type": "code",
   "execution_count": 13,
   "metadata": {
    "collapsed": true
   },
   "outputs": [],
   "source": [
    "sorted_list = sorted(freq_list, key=lambda t:t[1], reverse=True)"
   ]
  },
  {
   "cell_type": "code",
   "execution_count": 14,
   "metadata": {
    "collapsed": true
   },
   "outputs": [],
   "source": [
    "rank = 1           \n",
    "freq_rank_list = []\n",
    "for word in sorted_list:\n",
    "    word.insert(1,rank)      \n",
    "    rank += 1\n",
    "    freq_rank_list.append(word)"
   ]
  },
  {
   "cell_type": "code",
   "execution_count": 15,
   "metadata": {
    "collapsed": true
   },
   "outputs": [],
   "source": [
    "import matplotlib\n",
    "import matplotlib.pyplot as plt"
   ]
  },
  {
   "cell_type": "code",
   "execution_count": 16,
   "metadata": {
    "collapsed": false
   },
   "outputs": [],
   "source": [
    "\n",
    "ranks=[]\n",
    "freqs=[]\n",
    "for w in sorted_list:\n",
    "    ranks.append(w[2])\n",
    "    freqs.append(w[1])"
   ]
  },
  {
   "cell_type": "code",
   "execution_count": 17,
   "metadata": {
    "collapsed": false
   },
   "outputs": [
    {
     "data": {
      "image/png": "[encoded data removed]",
      "text/plain": [
       "<matplotlib.figure.Figure at 0x110125128>"
      ]
     },
     "metadata": {},
     "output_type": "display_data"
    }
   ],
   "source": [
    "plt.loglog(ranks,freqs)\n",
    "plt.xlabel('ranks(r)', fontsize=14, fontweight='bold')\n",
    "plt.ylabel('freqs(f)', fontsize=14, fontweight='bold')\n",
    "plt.grid(True)\n",
    "plt.show()\n",
    "\n"
   ]
  },
  {
   "cell_type": "code",
   "execution_count": 18,
   "metadata": {
    "collapsed": true
   },
   "outputs": [],
   "source": [
    "import csv\n",
    "import sys"
   ]
  },
  {
   "cell_type": "code",
   "execution_count": 19,
   "metadata": {
    "collapsed": true
   },
   "outputs": [],
   "source": [
    "headers=['word','freqs','rank']"
   ]
  },
  {
   "cell_type": "code",
   "execution_count": 20,
   "metadata": {
    "collapsed": true
   },
   "outputs": [],
   "source": [
    "with open('Enron.csv','w') as f:\n",
    "    w = csv.writer(f)\n",
    "    w.writerow(headers)\n",
    "   \n",
    "    w.writerows(sorted_list)"
   ]
  },
  {
   "cell_type": "code",
   "execution_count": null,
   "metadata": {
    "collapsed": true
   },
   "outputs": [],
   "source": []
  },
  {
   "cell_type": "code",
   "execution_count": null,
   "metadata": {
    "collapsed": true
   },
   "outputs": [],
   "source": []
  }
 ],
 "metadata": {
  "anaconda-cloud": {},
  "kernelspec": {
   "display_name": "Python [conda root]",
   "language": "python",
   "name": "conda-root-py"
  },
  "language_info": {
   "codemirror_mode": {
    "name": "ipython",
    "version": 3
   },
   "file_extension": ".py",
   "mimetype": "text/x-python",
   "name": "python",
   "nbconvert_exporter": "python",
   "pygments_lexer": "ipython3",
   "version": "3.5.2"
  }
 },
 "nbformat": 4,
 "nbformat_minor": 1
}
