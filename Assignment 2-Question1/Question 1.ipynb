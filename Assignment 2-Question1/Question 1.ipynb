{
 "cells": [
  {
   "cell_type": "markdown",
   "metadata": {},
   "source": [
    " Learn and understand Zipf’s Law.\n",
    " Pick any file (or files) in NLTK package.\n",
    " Prove if Zipf’s Law works in Natural Language or not. \n",
    "\n",
    " REQUIREMNTS: (Must Do) \n",
    " Use ’glob’ to open and read file. If read multiple files use LOOP to achieve. \n",
    " Create at least one function and one lambda function. \n",
    " Save your data as an CSV file contains (Word, Rank, Frequency) with TITLE and Sort it by RANK. \n",
    " Open your CSV file, generate a log-log figure according to the data you saved. \n",
    " Write a conclusion at the end of your code base on your figure."
   ]
  },
  {
   "cell_type": "code",
   "execution_count": 1,
   "metadata": {
    "collapsed": false
   },
   "outputs": [],
   "source": [
    "import nltk"
   ]
  },
  {
   "cell_type": "code",
   "execution_count": 2,
   "metadata": {
    "collapsed": true
   },
   "outputs": [],
   "source": [
    "import glob"
   ]
  },
  {
   "cell_type": "code",
   "execution_count": 3,
   "metadata": {
    "collapsed": true
   },
   "outputs": [],
   "source": [
    "def open_files(path,filetype):\n",
    "    data=[]\n",
    "    read_files=glob.glob(path,filetype)\n",
    "    for i in read_files:\n",
    "        with open(i,'rb')as infiles:\n",
    "            data.append(infile.read())\n",
    "    return data"
   ]
  },
  {
   "cell_type": "code",
   "execution_count": 4,
   "metadata": {
    "collapsed": false
   },
   "outputs": [],
   "source": [
    "def get_filename(path,filetype):\n",
    "    import os\n",
    "    name=[]\n",
    "    for root,dirs,files in os.walk(path):\n",
    "        for i in files:\n",
    "            if filetype in i:\n",
    "                name.append(i.replace(filetype,''))\n",
    "    return name"
   ]
  },
  {
   "cell_type": "code",
   "execution_count": 5,
   "metadata": {
    "collapsed": false
   },
   "outputs": [
    {
     "data": {
      "text/plain": [
       "['rural', 'science']"
      ]
     },
     "execution_count": 5,
     "metadata": {},
     "output_type": "execute_result"
    }
   ],
   "source": [
    "path='/Users/huangechen/nltk_data/corpora/abc'\n",
    "filetype='.txt'\n",
    "name=get_filename(path,filetype)\n",
    "name"
   ]
  },
  {
   "cell_type": "code",
   "execution_count": 6,
   "metadata": {
    "collapsed": false
   },
   "outputs": [],
   "source": [
    "from nltk.corpus import abc"
   ]
  },
  {
   "cell_type": "code",
   "execution_count": 187,
   "metadata": {
    "collapsed": true
   },
   "outputs": [],
   "source": [
    "from nltk import FreqDist\n",
    "from string import punctuation"
   ]
  },
  {
   "cell_type": "code",
   "execution_count": 188,
   "metadata": {
    "collapsed": true
   },
   "outputs": [],
   "source": [
    "fd=FreqDist()"
   ]
  },
  {
   "cell_type": "code",
   "execution_count": 184,
   "metadata": {
    "collapsed": true
   },
   "outputs": [],
   "source": [
    "word_list=[]"
   ]
  },
  {
   "cell_type": "code",
   "execution_count": 190,
   "metadata": {
    "collapsed": false
   },
   "outputs": [],
   "source": [
    "for word in abc.words('science.txt'):\n",
    "    if word not in punctuation:\n",
    "        fd[word] += 1"
   ]
  },
  {
   "cell_type": "code",
   "execution_count": 191,
   "metadata": {
    "collapsed": false
   },
   "outputs": [
    {
     "data": {
      "text/plain": [
       "374723"
      ]
     },
     "execution_count": 191,
     "metadata": {},
     "output_type": "execute_result"
    }
   ],
   "source": [
    "fd.N()"
   ]
  },
  {
   "cell_type": "code",
   "execution_count": 192,
   "metadata": {
    "collapsed": false
   },
   "outputs": [
    {
     "data": {
      "text/plain": [
       "24283"
      ]
     },
     "execution_count": 192,
     "metadata": {},
     "output_type": "execute_result"
    }
   ],
   "source": [
    "fd.B()"
   ]
  },
  {
   "cell_type": "code",
   "execution_count": 193,
   "metadata": {
    "collapsed": false
   },
   "outputs": [],
   "source": [
    "for word in fd.keys():  \n",
    "     word_list.append([word, fd[word]]) "
   ]
  },
  {
   "cell_type": "code",
   "execution_count": 194,
   "metadata": {
    "collapsed": false
   },
   "outputs": [
    {
     "name": "stdout",
     "output_type": "stream",
     "text": [
      "Top 50 Words in Science:\n",
      " [['the', 20658], ['of', 11852], ['to', 8980], ['and', 8383], ['a', 8228], ['in', 7092], ['that', 4817], ['says', 4474], ['is', 4005], ['The', 3047], ['s', 2802], ['for', 2529], ['are', 2345], ['it', 2307], ['be', 2283], [',\"', 2267], ['on', 2131], ['have', 2129], ['with', 2100], ['as', 2083], ['from', 2020], ['at', 1882], ['by', 1703], ['they', 1611], ['or', 1485], ['an', 1359], ['he', 1277], ['more', 1274], ['was', 1273], ['their', 1216], ['which', 1192], ['can', 1142], ['has', 1142], ['this', 1140], ['not', 1047], ['could', 1004], ['than', 954], ['were', 944], ['But', 931], ['will', 925], ['also', 924], ['.\"', 919], ['researchers', 909], ['say', 888], ['been', 876], ['about', 851], ['University', 838], ['one', 813], ['who', 776], ['we', 774]]\n"
     ]
    }
   ],
   "source": [
    "sorted_list = sorted(word_list, key=lambda t:t[1], reverse=True)\n",
    "print('Top 50 Words in Science:\\n', sorted_list[:50])"
   ]
  },
  {
   "cell_type": "code",
   "execution_count": 195,
   "metadata": {
    "collapsed": false
   },
   "outputs": [],
   "source": [
    "r=1"
   ]
  },
  {
   "cell_type": "code",
   "execution_count": 196,
   "metadata": {
    "collapsed": false
   },
   "outputs": [],
   "source": [
    "\n",
    "for i in sorted_list:\n",
    "    i.insert(2, r)\n",
    "    r = r+1"
   ]
  },
  {
   "cell_type": "code",
   "execution_count": 197,
   "metadata": {
    "collapsed": false
   },
   "outputs": [
    {
     "name": "stdout",
     "output_type": "stream",
     "text": [
      "[['the', 20658, 1], ['of', 11852, 2], ['to', 8980, 3], ['and', 8383, 4], ['a', 8228, 5], ['in', 7092, 6], ['that', 4817, 7], ['says', 4474, 8], ['is', 4005, 9], ['The', 3047, 10], ['s', 2802, 11], ['for', 2529, 12], ['are', 2345, 13], ['it', 2307, 14], ['be', 2283, 15], [',\"', 2267, 16], ['on', 2131, 17], ['have', 2129, 18], ['with', 2100, 19], ['as', 2083, 20], ['from', 2020, 21], ['at', 1882, 22], ['by', 1703, 23], ['they', 1611, 24], ['or', 1485, 25], ['an', 1359, 26], ['he', 1277, 27], ['more', 1274, 28], ['was', 1273, 29], ['their', 1216, 30], ['which', 1192, 31], ['can', 1142, 32], ['has', 1142, 33], ['this', 1140, 34], ['not', 1047, 35], ['could', 1004, 36], ['than', 954, 37], ['were', 944, 38], ['But', 931, 39], ['will', 925, 40], ['also', 924, 41], ['.\"', 919, 42], ['researchers', 909, 43], ['say', 888, 44], ['been', 876, 45], ['about', 851, 46], ['University', 838, 47], ['one', 813, 48], ['who', 776, 49], ['we', 774, 50]]\n"
     ]
    }
   ],
   "source": [
    "print(sorted_list[:50])"
   ]
  },
  {
   "cell_type": "code",
   "execution_count": 198,
   "metadata": {
    "collapsed": true
   },
   "outputs": [],
   "source": [
    "rank=[]\n",
    "freqs=[]\n",
    "for w in sorted_list:\n",
    "    rank.append(w[2])\n",
    "    freqs.append(w[1])\n",
    "    \n",
    "    "
   ]
  },
  {
   "cell_type": "code",
   "execution_count": 199,
   "metadata": {
    "collapsed": true
   },
   "outputs": [],
   "source": [
    "import matplotlib\n",
    "import matplotlib.pyplot as plt"
   ]
  },
  {
   "cell_type": "code",
   "execution_count": 200,
   "metadata": {
    "collapsed": true
   },
   "outputs": [],
   "source": [
    "for text in abc.fileids():\n",
    "        for word in abc.words(text):\n",
    "            fd[word] +=1"
   ]
  },
  {
   "cell_type": "code",
   "execution_count": 201,
   "metadata": {
    "collapsed": false
   },
   "outputs": [],
   "source": [
    "ranks=[]\n",
    "freqs=[]\n",
    "for w in sorted_list:\n",
    "    ranks.append(w[2])\n",
    "    freqs.append(w[1])\n",
    "\n"
   ]
  },
  {
   "cell_type": "code",
   "execution_count": 202,
   "metadata": {
    "collapsed": false
   },
   "outputs": [
    {
     "data": {
      "image/png": "[encoded data removed]",
      "text/plain": [
       "<matplotlib.figure.Figure at 0x11369fb00>"
      ]
     },
     "metadata": {},
     "output_type": "display_data"
    }
   ],
   "source": [
    "plt.loglog(ranks,freqs)\n",
    "plt.xlabel('ranks(r)', fontsize=14, fontweight='bold')\n",
    "plt.ylabel('freqs(f)', fontsize=14, fontweight='bold')\n",
    "plt.grid(True)\n",
    "plt.show()"
   ]
  },
  {
   "cell_type": "code",
   "execution_count": 203,
   "metadata": {
    "collapsed": true
   },
   "outputs": [],
   "source": [
    "import csv\n",
    "import sys"
   ]
  },
  {
   "cell_type": "code",
   "execution_count": 204,
   "metadata": {
    "collapsed": false
   },
   "outputs": [],
   "source": [
    "headers=['word','freqs','rank']\n",
    "\n",
    "with open('abc.csv','w') as f:\n",
    "    w = csv.writer(f)\n",
    "    w.writerow(headers)\n",
    "   \n",
    "    w.writerows(sorted_list)\n",
    "    \n",
    "    \n",
    "    "
   ]
  },
  {
   "cell_type": "code",
   "execution_count": null,
   "metadata": {
    "collapsed": true
   },
   "outputs": [],
   "source": []
  }
 ],
 "metadata": {
  "anaconda-cloud": {},
  "kernelspec": {
   "display_name": "Python [conda root]",
   "language": "python",
   "name": "conda-root-py"
  },
  "language_info": {
   "codemirror_mode": {
    "name": "ipython",
    "version": 3
   },
   "file_extension": ".py",
   "mimetype": "text/x-python",
   "name": "python",
   "nbconvert_exporter": "python",
   "pygments_lexer": "ipython3",
   "version": "3.5.2"
  }
 },
 "nbformat": 4,
 "nbformat_minor": 1
}
