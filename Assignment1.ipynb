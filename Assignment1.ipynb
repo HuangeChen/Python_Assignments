{
 "cells": [
  {
   "cell_type": "markdown",
   "metadata": {
    "collapsed": true
   },
   "source": [
    "###Question 1"
   ]
  },
  {
   "cell_type": "code",
   "execution_count": null,
   "metadata": {
    "collapsed": true
   },
   "outputs": [],
   "source": [
    "Under package Gutenberg, see what files are in it.\n",
    "Find out how many words and how many unique words in file 'austen-persuasion.txt'.\n",
    "Calculate the frequency for each words and show the top 10 most frequent words and their frequency.\n",
    "Try NOT to use FreqDist module.\n",
    "Keep the punctuation and stop words in this question."
   ]
  },
  {
   "cell_type": "code",
   "execution_count": 4,
   "metadata": {
    "collapsed": true
   },
   "outputs": [],
   "source": [
    "import nltk"
   ]
  },
  {
   "cell_type": "code",
   "execution_count": 5,
   "metadata": {
    "collapsed": false
   },
   "outputs": [
    {
     "data": {
      "text/plain": [
       "['austen-emma.txt',\n",
       " 'austen-persuasion.txt',\n",
       " 'austen-sense.txt',\n",
       " 'bible-kjv.txt',\n",
       " 'blake-poems.txt',\n",
       " 'bryant-stories.txt',\n",
       " 'burgess-busterbrown.txt',\n",
       " 'carroll-alice.txt',\n",
       " 'chesterton-ball.txt',\n",
       " 'chesterton-brown.txt',\n",
       " 'chesterton-thursday.txt',\n",
       " 'edgeworth-parents.txt',\n",
       " 'melville-moby_dick.txt',\n",
       " 'milton-paradise.txt',\n",
       " 'shakespeare-caesar.txt',\n",
       " 'shakespeare-hamlet.txt',\n",
       " 'shakespeare-macbeth.txt',\n",
       " 'whitman-leaves.txt']"
      ]
     },
     "execution_count": 5,
     "metadata": {},
     "output_type": "execute_result"
    }
   ],
   "source": [
    "nltk.corpus.gutenberg.fileids()"
   ]
  },
  {
   "cell_type": "code",
   "execution_count": 6,
   "metadata": {
    "collapsed": false
   },
   "outputs": [
    {
     "data": {
      "text/plain": [
       "98171"
      ]
     },
     "execution_count": 6,
     "metadata": {},
     "output_type": "execute_result"
    }
   ],
   "source": [
    "persuasion=nltk.corpus.gutenberg.words('austen-persuasion.txt')\n",
    "len(persuasion)"
   ]
  },
  {
   "cell_type": "code",
   "execution_count": 5,
   "metadata": {
    "collapsed": false
   },
   "outputs": [
    {
     "data": {
      "text/plain": [
       "['austen-emma.txt',\n",
       " 'austen-persuasion.txt',\n",
       " 'austen-sense.txt',\n",
       " 'bible-kjv.txt',\n",
       " 'blake-poems.txt',\n",
       " 'bryant-stories.txt',\n",
       " 'burgess-busterbrown.txt',\n",
       " 'carroll-alice.txt',\n",
       " 'chesterton-ball.txt',\n",
       " 'chesterton-brown.txt',\n",
       " 'chesterton-thursday.txt',\n",
       " 'edgeworth-parents.txt',\n",
       " 'melville-moby_dick.txt',\n",
       " 'milton-paradise.txt',\n",
       " 'shakespeare-caesar.txt',\n",
       " 'shakespeare-hamlet.txt',\n",
       " 'shakespeare-macbeth.txt',\n",
       " 'whitman-leaves.txt']"
      ]
     },
     "execution_count": 5,
     "metadata": {},
     "output_type": "execute_result"
    }
   ],
   "source": [
    "from nltk.corpus import gutenberg\n",
    "gutenberg.fileids()"
   ]
  },
  {
   "cell_type": "code",
   "execution_count": 8,
   "metadata": {
    "collapsed": false
   },
   "outputs": [],
   "source": [
    "persuasion= gutenberg.words('austen-persuasion.txt')\n"
   ]
  },
  {
   "cell_type": "code",
   "execution_count": 9,
   "metadata": {
    "collapsed": false
   },
   "outputs": [],
   "source": [
    "num_vocab = len(set(w.lower() for w in gutenberg.words('austen-persuasion.txt')))"
   ]
  },
  {
   "cell_type": "code",
   "execution_count": 10,
   "metadata": {
    "collapsed": false
   },
   "outputs": [
    {
     "name": "stdout",
     "output_type": "stream",
     "text": [
      "5835\n"
     ]
    }
   ],
   "source": [
    "print(num_vocab)"
   ]
  },
  {
   "cell_type": "code",
   "execution_count": 21,
   "metadata": {
    "collapsed": false
   },
   "outputs": [
    {
     "name": "stdout",
     "output_type": "stream",
     "text": [
      "enthusiasm: 3 spots: 1 absenting: 1 affronts: 1 less: 30 trust: 4 petty: 1 chasms: 1 spine: 1 conflicts: 1 stopping: 1 sessions: 1 ere: 3 recommencing: 1 dealings: 1 riotous: 1 plight: 1 whatever: 8 involving: 3 removed: 4 unknown: 2 after: 77 devoured: 1 christmas: 0 strip: 1 division: 2 least: 42 especially: 13 wretchedness: 2 preparations: 2 husband: 34 million: 1 dissipated: 1 somewhere: 5 death: 11 f: 0 whispers: 1 3: 1 condition: 3 incumbent: 1 forbearing: 1 cottagers: 1 barrier: 1 passer: 1 chaise: 5 frank: 1 spring: 11 indicate: 1 rise: 6 careless: 6 misled: 3 lieutenant: 2 attentions: 9 reconciliation: 5 dined: 5 dears: 1 hearted: 6 height: 3 seriously: 7 susceptible: 1 attack: 1 approached: 3 past: 25 sparrows: 1 estate: 6 however: 83 blind: 1 remnant: 1 living: 22 removal: 9 roused: 8 supposition: 3 looked: 42 estranged: 1 assistant: 1 kicking: 1 thanks: 1 exactly: 14 danger: 13 fitted: 2 march: 0 finery: 1 impressively: 1 safely: 7 inconstant: 2 pierce: 1 spirits: 41 cards: 4 judgement: 8 apparently: 6 knife: 1 outwardly: 1 sorrow: 3 decides: 1 reasonable: 5 ill: 36 bend: 1 youthful: 1 coming: 33 sighs: 1 actually: 10 riding: 1 houses: 6 selection: 1 lesser: 2 bad: 28 acceptable: 2 assured: 5 appreciation: 1 did: 157 suddenness: 1 engaging: 3 favourer: 1 association: 1 preserve: 3 carrying: 1 ardent: 1 stage: 3 laugh: 1 endowed: 1 advance: 1 mental: 4 wonderful: 3 swept: 1 brethren: 1 lose: 7 smart: 1 e: 0 impressed: 1 cross: 2 cold: 13 lessen: 3 freckles: 5 consistent: 2 feign: 1 unaffected: 3 james: 0 honourable: 3 tight: 1 bed: 5 night: 24 unemployed: 1 materially: 2 nor: 40 tranquillity: 3 forgets: 2 nose: 1 grows: 1 improve: 4 eat: 4 subsequent: 1 anything: 48 preserver: 1 sacrifice: 2 saying: 25 prevent: 7 imprudence: 4 italian: 0 altered: 11 emma: 0 becoming: 5 allowing: 1 sister: 82 servants: 6 solemnity: 1 proposal: 2 declaration: 2 reserved: 2 please: 5 import: 1 renewal: 1 assorting: 1 yielded: 2 walker: 2 .--,: 1 committed: 1 over: 84 sheet: 1 presiding: 2 charities: 1 judiciously: 1 recollected: 6 conception: 1 moderation: 1 fed: 1 cap: 1 constantly: 1 remember: 15 borough: 1 lasting: 3 congratulated: 1 sorry: 20 county: 4 companions: 7 suspicion: 4 descend: 1 reserve: 2 deeper: 2 quarter: 7 set: 32 unobservant: 1 animate: 3 annual: 1 reasoning: 2 wonders: 3 grew: 4 reading: 8 correct: 3 document: 1 rejoice: 4 fatigue: 2 desperation: 1 liberal: 2 added: 24 aware: 15 law: 8 penetrating: 2 implicit: 1 gadding: 1 foolish: 2 likes: 2 appointment: 5 thoughtful: 3 urging: 1 essential: 6 surmised: 1 insincerity: 1 assuage: 1 pause: 9 separate: 4 lowness: 2 either: 34 cupboards: 1 authentic: 1 scott: 0 charm: 10 affected: 10 urgent: 1 preceded: 1 worst: 6 15: 2 face: 22 answers: 3 disrespectful: 1 tone: 18 fervour: 1 unrivalled: 1 baronight: 1 courtships: 1 suavity: 1 sequel: 2 exerted: 2 avarice: 1 convince: 6 teazing: 1 abide: 1 injustice: 3 low: 15 equipage: 1 opinions: 11 society: 13 ashore: 2 method: 2 devoted: 2 beautiful: 6 seventeen: 3 upset: 2 ;--: 2 accidentally: 2 defeating: 1 dirt: 1 cruelty: 2 begged: 4 whose: 21 food: 1 emulating: 1 grossly: 1 beside: 1 --;: 1 command: 7 commons: 0 happier: 5 fully: 14 submit: 3 musical: 1 inexcusable: 1 glorious: 1 destination: 2 perusal: 1 unabsurd: 1 queen: 0 anchorage: 1 altogether: 13 god: 1 sameness: 1 dejected: 1 appearance: 24 free: 5 trinkets: 1 witnessed: 4 dismembered: 1 tolerated: 1 introductions: 1 governor: 0 forest: 1 emendation: 1 responsible: 2 negotiation: 1 accosted: 1 shock: 3 fill: 2 merit: 4 analogy: 3 corrective: 1 proper: 17 noise: 5 old: 43 disappeared: 3 finishing: 1 compunction: 1 attractions: 2 ideas: 10 contrary: 9 appears: 3 contrast: 1 tremulous: 1 improbable: 1 flag: 1 streights: 0 recovery: 6 pure: 1 durands: 0 shop: 4 chose: 5 prone: 1 acquittal: 1 neighbourhood: 14 inquired: 2 sense: 17 liberty: 5 legs: 1 ancestry: 1 distinct: 1 officers: 4 painfully: 1 taunton: 0 bye: 1 jemima: 0 plymouth: 0 ribbons: 1 winter: 10 toilsome: 1 voices: 2 unreasonableness: 1 ;\": 20 gentlemanlike: 2 welcome: 9 sort: 41 scanty: 1 holly: 1 broke: 1 usage: 2 steadfast: 1 perceiving: 1 steep: 1 independent: 2 disadvantage: 1 bewitching: 3 respects: 6 she: 819 repossessed: 1 noon: 1 undeviating: 1 personally: 1 west: 1 wrote: 4 tressels: 1 event: 8 knot: 1 first: 112 derived: 1 excused: 3 standing: 8 raised: 5 permanently: 2 reasons: 1 introduce: 2 sensibility: 4 whom: 35 feel: 44 revelled: 1 doors: 5 final: 2 unacknowledged: 1 seems: 11 rational: 7 preachers: 1 render: 1 concerns: 5 eight: 10 heels: 1 examination: 1 audibly: 1 islands: 0 lowest: 1 heroism: 1 betraying: 2 panel: 1 imbibed: 1 respected: 2 drove: 5 alternation: 1 impossibility: 2 stay: 25 leaving: 12 mixture: 1 conjunctions: 1 pleased: 20 expecting: 3 hinted: 1 hail: 1 new: 26 remarkable: 4 sensible: 27 abominates: 1 closed: 9 momentary: 7 discovered: 1 complaisance: 5 testimonies: 1 yet: 55 thankful: 3 notice: 19 investigate: 1 lot: 3 extenuation: 2 climate: 2 ennoble: 1 21: 1 excepted: 1 trafalgar: 0 teasing: 1 double: 3 machines: 1 object: 32 printshop: 1 comfort: 21 brief: 1 utmost: 3 overlooking: 1 cool: 6 escaping: 1 invariably: 2 amicable: 1 tall: 3 become: 13 unembarrassed: 1 gaiety: 2 exclaim: 1 throwing: 3 attention: 27 altering: 1 calmer: 4 envelope: 1 dry: 1 season: 4 understand: 29 kellynch: 0 order: 10 inaccessible: 1 education: 5 condescending: 1 character: 49 wondering: 3 bank: 1 expedition: 1 embarrass: 1 intelligent: 4 judgements: 1 judged: 4 lansdown: 0 rules: 1 inferiority: 2 title: 1 legible: 1 absurd: 6 bowing: 1 folded: 1 discernment: 1 alliances: 1 feared: 6 alliance: 5 knelt: 2 gratefully: 1 flying: 2 satisfy: 3 favourites: 1 escorted: 1 adjoining: 3 madness: 1 sir: 5 sorrowing: 1 labouring: 1 loitering: 1 thornberry: 0 advice: 5 ?: 122 hunt: 1 squares: 0 jumping: 1 shoulder: 1 unimpaired: 1 communications: 1 apparent: 7 appeased: 1 explained: 4 corner: 6 subject: 27 tell: 31 explanatory: 1 contradict: 2 guilt: 1 yesterday: 14 rapidity: 3 repeats: 2 governess: 2 bound: 3 ma: 11 quieter: 1 recomposed: 1 electrified: 1 mistake: 5 cherish: 1 laconia: 0 easterly: 1 anxiety: 11 emboldened: 1 scornfully: 1 dependent: 2 glare: 1 inconvenience: 4 persuasion: 6 cockleshell: 1 usages: 1 bookish: 1 doubted: 1 12: 1 storms: 2 inconsistent: 1 allowed: 15 south: 1 melancholy: 4 contained: 1 marriages: 2 principally: 4 fortunately: 1 honesty: 2 dignity: 11 alone: 21 collection: 1 hither: 1 situation: 27 dance: 1 vex: 2 parcel: 2 shares: 2 manor: 1 clifton: 0 dreadfully: 3 retrenching: 1 declining: 3 part: 42 offices: 2 unlucky: 1 flowing: 1 eligibilities: 1 shapeless: 1 concerning: 2 westgate: 0 crossing: 2 ,\"--: 1 given: 33 increased: 8 plead: 2 collected: 7 husbands: 1 favourite: 8 misses: 1 the: 3120 private: 6 guarded: 1 duties: 4 surmounting: 1 -: 308 blameless: 1 farm: 3 --: 104 sympathize: 1 advise: 1 just: 65 apply: 2 ambitious: 1 bow: 5 quieted: 1 us: 48 topic: 1 where: 46 gross: 1 fasten: 1 inhabit: 1 theirs: 8 handsomely: 1 situations: 2 returning: 11 liked: 15 continued: 15 designing: 2 saddened: 1 exeter: 0 descending: 2 newest: 1 unpolished: 1 calm: 5 '.: 1 occupy: 2 plan: 12 precipitate: 1 carried: 7 plainly: 1 received: 34 material: 6 reddened: 1 starts: 1 preconcerted: 1 expressing: 1 honour: 14 mistaken: 9 exchange: 1 languor: 1 overlooked: 2 cling: 1 reseated: 1 happy: 63 diverting: 1 creation: 1 vine: 1 scheherazade: 0 kinds: 1 producing: 1 hedges: 1 recollections: 4 serve: 1 strictest: 1 hold: 8 foreseen: 2 9: 2 recoverable: 1 examples: 3 syllable: 1 comprehension: 1 remembered: 4 notions: 8 cheer: 1 laughing: 7 lasted: 1 illiberal: 1 keenly: 2 ladies: 26 falling: 1 thoughts: 9 mourner: 1 various: 5 obtrusiveness: 1 nothingness: 2 inviting: 4 fatal: 1 emotions: 3 exalt: 1 cared: 5 sounding: 1 leisure: 4 protesting: 2 requisitions: 1 compatible: 2 deputation: 1 calculate: 1 instantaneously: 1 disgraceful: 1 whole: 42 cavil: 1 reception: 3 affect: 2 breeze: 2 approve: 1 satisfactory: 1 unfledged: 1 smile: 13 fishing: 1 extremely: 16 delighted: 19 mentioning: 3 songs: 1 educated: 2 coloured: 1 defence: 2 contributed: 1 impediment: 1 sleep: 1 war: 9 rheumatic: 1 bustles: 1 refresh: 1 steadiness: 2 go: 87 quivering: 1 suffered: 9 apologised: 1 former: 28 like: 80 acquired: 4 ease: 8 admirer: 1 limited: 2 .: 2741 introduction: 6 fashion: 3 are: 141 thoroughly: 6 deprived: 1 cook: 1 visitors: 4 gown: 1 try: 9 unquestionably: 3 descriptions: 3 simple: 2 stationed: 3 thrown: 7 late: 16 orchard: 1 weather: 11 rapid: 4 generosity: 2 workmen: 1 suit: 9 probable: 6 publicly: 1 wrought: 2 trifled: 1 gapes: 1 fathers: 1 permanent: 1 obstinate: 1 spoiled: 1 revolts: 1 robust: 1 elliots: 0 calculates: 1 spared: 4 opportunities: 2 plans: 2 adverse: 1 breathe: 3 enviable: 1 reasoned: 2 graciously: 2 mean: 23 obliged: 30 retarding: 1 greater: 13 admiring: 3 promise: 10 disapprobation: 3 neither: 21 deserted: 5 glee: 1 marriage: 27 component: 1 ascending: 1 atkinson: 0 above: 6 mature: 1 operation: 3 sunday: 0 lisbon: 0 rambling: 1 quit: 8 wearisome: 1 romantic: 1 church: 5 powers: 5 illness: 7 blighted: 1 custom: 2 withstand: 3 mischance: 1 beat: 1 slowly: 1 afflicted: 3 existed: 1 dr: 0 popular: 1 afloat: 1 laundry: 2 check: 1 tidings: 1 ireland: 0 tea: 1 eye: 24 frankness: 1 stuff: 1 bride: 0 intelligence: 6 nerves: 9 crime: 1 livery: 4 toiling: 1 important: 7 atmosphere: 1 trick: 2 cheerfully: 3 adopted: 3 esq: 0 fixed: 13 listener: 3 unsoftened: 1 yarmouth: 0 preach: 1 persisted: 2 6: 1 connected: 5 fellow: 18 seas: 1 devise: 1 recommended: 3 don: 3 irritation: 2 internal: 2 newspapers: 3 overbearing: 1 headstrong: 1 thank: 8 hung: 3 sank: 1 dogs: 2 reflection: 8 ,)--: 1 finding: 18 injury: 5 mountains: 1 n: 1 exquisitely: 1 talking: 24 asp: 0 attraction: 5 suspecting: 4 well: 141 my: 194 license: 1 forward: 25 provocation: 1 bustle: 1 carteret: 0 remain: 15 unusual: 1 officious: 1 persuaded: 14 persuadable: 1 vary: 1 build: 2 drew: 15 countenance: 15 refusal: 2 periods: 1 gloves: 2 inconsolable: 1 creations: 2 accounts: 5 irish: 0 resenting: 2 ponder: 1 gift: 1 families: 8 communication: 6 mark: 2 cork: 0 cunning: 2 sat: 14 marshal: 1 humouredly: 1 despondency: 1 yearly: 1 told: 26 pies: 1 volumes: 2 filling: 2 veranda: 2 certainty: 5 maintenance: 1 exertions: 4 terms: 18 line: 8 zealously: 1 promote: 2 resemblance: 1 estrangement: 2 associate: 1 exaggeration: 1 forbid: 1 agreeable: 38 around: 12 bores: 1 uneasy: 2 professing: 1 doing: 28 voice: 19 answered: 15 rallied: 1 unattended: 1 beautifier: 1 forbad: 1 sight: 23 sprung: 1 heats: 1 thames: 0 rapture: 1 injured: 1 entreaties: 2 inverted: 1 heedlessness: 1 level: 1 carelessness: 1 children: 35 concealments: 1 contended: 1 enter: 6 ascertained: 3 views: 9 brow: 1 street: 8 settled: 22 walter: 0 wounded: 2 silver: 1 extended: 1 arms: 8 tendency: 2 beauty: 10 unproductively: 1 solitariness: 1 plea: 1 solid: 1 prosperity: 5 endangering: 1 pale: 1 forth: 4 daily: 6 encouraged: 4 shows: 1 archly: 1 discriminating: 1 granting: 0 inure: 1 represent: 1 assiduous: 2 admitted: 13 bathed: 1 deserve: 3 sophys: 0 gained: 4 advanced: 1 advantages: 5 acre: 1 applicant: 1 play: 13 divisions: 1 unfeudal: 1 owed: 4 high: 27 bespeak: 1 objected: 1 welcomed: 1 proceed: 6 apprehensive: 1 influence: 20 requiring: 1 gone: 51 declared: 6 switch: 1 startle: 1 pursue: 1 continually: 10 severe: 13 blinded: 1 graciousness: 1 edify: 1 twelve: 4 interview: 3 shaken: 1 meeting: 21 spending: 5 gnawing: 1 instrumental: 1 family: 79 parlour: 3 valuable: 5 vexation: 2 wore: 2 truth: 14 dorsetshire: 0 actions: 2 oblivion: 2 balance: 1 admired: 5 foremost: 1 view: 17 cutting: 1 grandson: 2 these: 43 september: 0 overspread: 1 anxious: 17 grievances: 1 watches: 1 resettled: 1 admiral: 4 shaking: 1 cleansed: 1 journeys: 0 nearest: 3 overheard: 1 takes: 4 create: 1 cliffs: 2 nobody: 14 imagine: 18 significance: 1 waited: 5 recollection: 9 tells: 4 summers: 1 seize: 1 memoirs: 1 succeeded: 6 hat: 2 fortify: 1 removals: 3 principal: 7 idly: 1 stepping: 3 oppressed: 2 medical: 1 prosperous: 2 easy: 14 upwards: 1 lately: 10 brilliancy: 2 arguing: 1 completed: 1 china: 1 dusk: 1 beautifying: 1 mentioned: 13 comparing: 3 untaught: 1 lodgers: 1 mistaking: 1 built: 2 observing: 8 behaviour: 4 digress: 1 netting: 1 informed: 4 asking: 4 scrawl: 1 treason: 1 devotion: 2 precaution: 1 consisted: 2 plants: 2 torment: 2 attributing: 1 sighed: 3 stockings: 1 envy: 2 resolution: 11 demands: 3 ears: 1 kneel: 1 list: 3 woody: 1 placing: 1 justness: 1 amusement: 10 !\": 61 pear: 1 --(: 1 wood: 1 deemed: 3 seemingly: 1 mixed: 2 instances: 4 famed: 1 story: 8 concussion: 1 manoeuvred: 1 single: 6 appealed: 2 landholder: 1 occasioning: 1 behold: 1 curacy: 5 contemplating: 1 according: 1 proverbs: 1 helped: 1 acquaintance: 61 wrist: 1 raptures: 2 diminished: 1 witness: 1 atlantic: 0 insolence: 1 united: 4 further: 2 always: 109 created: 1 unexpectedly: 1 maturity: 1 interfering: 2 changes: 4 refrain: 1 call: 19 sweets: 2 proof: 15 as: 787 arranging: 1 paid: 6 large: 19 succeed: 2 multiply: 1 consolation: 4 whispered: 3 studiously: 2 sentimental: 1 handwriting: 1 quietly: 9 matters: 9 inn: 13 sing: 1 lived: 20 afforded: 2 equalling: 1 placid: 1 tenderest: 1 confidence: 11 do: 190 incompatible: 1 covet: 1 fires: 1 viewed: 1 leaf: 1 dreadful: 9 fait: 1 joins: 1 interference: 6 sending: 6 barns: 2 must: 228 absence: 9 meant: 16 chancing: 1 unpersuadable: 1 purpose: 8 autumnal: 1 penetrated: 2 prejudices: 1 blindness: 1 learnt: 7 generally: 18 frosty: 1 expedient: 1 navy: 12 bruises: 1 omitted: 2 expressions: 4 dalrymples: 0 put: 31 wight: 0 pray: 3 extant: 1 differ: 1 pleasures: 3 defend: 1 astonishing: 1 fond: 11 imitation: 1 contradicted: 1 girl: 10 brain: 2 willing: 5 write: 6 cobb: 0 ii: 0 suspect: 6 reduction: 1 ---: 1 rendered: 6 dinings: 1 unbending: 1 actuated: 1 schoolfellow: 3 spot: 8 harder: 1 tender: 5 afterwards: 36 spendthrift: 1 essentials: 1 inconvenient: 6 whereabouts: 1 address: 2 miles: 12 fields: 1 retract: 1 enjoyed: 3 invite: 4 few: 61 performance: 4 threw: 2 1785: 1 almost: 60 sultaness: 0 curate: 8 two: 112 ships: 3 newspapermen: 1 am: 137 sportsmen: 1 bloom: 7 inhumanity: 1 relied: 2 offensive: 2 share: 13 arrangements: 6 indisposed: 1 also: 18 reins: 1 stealing: 1 both: 38 staggering: 1 temptation: 1 perceive: 4 song: 4 necessity: 9 indifferent: 9 bermuda: 0 praise: 9 hesitate: 1 away: 78 aspect: 1 kisses: 1 habits: 7 urge: 1 alloy: 3 affectionate: 3 others: 54 thin: 2 constant: 10 tearing: 1 assembled: 1 dancing: 7 corresponding: 1 irremediable: 1 resist: 3 lame: 1 portsmouth: 0 ride: 1 tyranny: 1 sell: 1 contrivances: 1 fixing: 4 carts: 1 allowable: 1 abstraction: 1 exclamation: 1 rubbed: 1 step: 3 paths: 1 accomplishment: 1 eternal: 1 draw: 6 a: 1529 assurances: 1 perfections: 1 naturally: 6 unutterable: 1 );: 3 exercise: 2 scientific: 1 inexpressibly: 1 horror: 7 lying: 2 accused: 1 conveyed: 6 struck: 14 tax: 2 unbecoming: 1 not: 926 puzzling: 1 silk: 1 school: 11 overpowering: 3 widow: 9 such: 196 vehement: 1 power: 13 age: 11 foresight: 2 bone: 2 felicity: 7 commanders: 1 realized: 1 sixteen: 2 vestibule: 1 unmanageable: 2 objections: 1 saleable: 1 suitable: 3 designs: 2 hey: 1 yours: 12 rocks: 2 practised: 1 homage: 1 foot: 7 unimportant: 1 rugged: 1 proceeded: 6 .): 4 expectation: 4 unconnected: 2 advisable: 1 confident: 2 equalled: 1 brother: 33 saturday: 0 country: 34 curl: 1 before: 113 travelling: 2 unfortunately: 2 neat: 2 remonstrance: 1 partly: 1 musgroves: 0 jar: 1 instead: 13 their: 273 towards: 31 doubts: 3 pronounced: 2 morley: 0 happened: 11 robinson: 0 singularity: 1 temples: 2 wednesday: 0 absolute: 3 lists: 1 dripping: 1 whither: 1 grounds: 7 suits: 2 traveller: 2 destroy: 1 surprise: 22 repaid: 1 staring: 2 cheerfulness: 6 usual: 22 delicate: 3 shakes: 1 levity: 1 wait: 12 faded: 3 resignation: 3 rating: 1 use: 28 best: 44 steady: 7 noble: 2 disingenuous: 1 liberality: 3 secrets: 1 depends: 1 deceived: 1 distrusted: 1 days: 24 dawdling: 1 becomes: 2 pursuits: 6 precious: 6 dutiful: 2 sure: 73 outer: 1 clock: 3 gifted: 2 insensibility: 1 fortune: 28 eclat: 1 preparation: 3 bled: 1 .--: 1 unperplexed: 1 deviated: 1 thrill: 1 comparison: 6 reclaimed: 1 premature: 1 grandfather: 1 visitor: 2 let: 22 plain: 7 counted: 1 instinct: 1 indies: 0 hayters: 0 presence: 4 journey: 5 unalterable: 1 apologize: 2 fell: 9 gad: 1 revive: 1 nonsense: 4 1st: 1 rest: 20 revolting: 2 nameless: 1 brightness: 1 knight: 1 18: 1 inadvertence: 1 streets: 6 hills: 2 sheriff: 1 delivered: 1 inserting: 1 dreading: 2 reports: 1 reader: 1 consult: 3 accompanied: 1 strenuous: 1 ample: 2 suspicions: 1 stronger: 5 wont: 1 equally: 9 elevated: 2 17: 1 surface: 1 comprehended: 1 him: 467 admiralty: 0 indispensable: 1 shooting: 5 swear: 1 loving: 1 dictate: 2 acquainted: 27 resolved: 1 pretend: 6 persevered: 1 safer: 1 shudderings: 1 near: 45 danced: 1 repulsive: 1 wells: 0 benefited: 1 romance: 1 confess: 10 blessing: 9 throw: 2 dim: 2 accepting: 3 henrietta: 0 assisting: 2 deep: 8 symptoms: 2 prettier: 0 stretched: 1 hoped: 18 seven: 10 mild: 1 gracefully: 1 youth: 15 nosegay: 1 friendly: 7 july: 0 sheweth: 1 disquiet: 1 ?),: 1 againsts: 1 shewing: 2 pensive: 2 parted: 7 century: 1 guide: 2 restless: 1 contemplated: 2 afford: 9 blunder: 1 laura: 0 astonish: 1 explanations: 1 comfortable: 14 ball: 3 giving: 19 fit: 10 clamour: 1 knows: 7 weasel: 1 desolate: 1 than: 243 dislike: 3 keen: 1 at: 519 till: 50 adieus: 1 form: 8 supposes: 1 disdain: 2 suspension: 2 doted: 1 hurry: 6 dalrymple: 0 unexpected: 2 chapter: 0 pointedly: 2 quick: 9 blister: 1 oblige: 1 pained: 2 memorandums: 1 speaks: 2 want: 31 june: 0 difficulties: 12 previously: 8 deny: 2 goodness: 4 defiance: 1 incessant: 1 foresee: 2 separations: 1 counteracting: 1 strikingly: 1 sensations: 9 armed: 1 father: 117 checked: 2 idea: 40 abilities: 3 happiness: 32 futurity: 1 callers: 1 produce: 4 shake: 3 spent: 8 hammer: 1 profess: 1 entreated: 4 defied: 1 harassing: 1 penelope: 0 compact: 1 wriggles: 1 nothings: 1 appeared: 20 16: 2 bestowed: 1 no: 309 caught: 16 longer: 26 repulsively: 1 lessening: 4 cleared: 5 avoid: 10 company: 37 release: 1 doubtful: 4 distresses: 1 temperament: 1 unhappy: 4 house: 78 feet: 2 household: 2 kindest: 3 narratives: 1 wholesome: 1 little: 175 implied: 3 freshness: 1 smirked: 1 ejaculations: 1 hypocrite: 2 stood: 12 fruit: 1 slighting: 1 whispering: 2 bodily: 2 oppose: 4 december: 0 heartily: 2 latest: 1 miss: 2 seats: 2 self: 19 doubt: 26 haggard: 1 nursing: 2 boots: 2 explain: 5 warm: 17 mildness: 2 --!: 1 contemptible: 1 eagerness: 5 alter: 3 preside: 1 easily: 6 fright: 1 situated: 1 forwardness: 1 youngest: 6 operate: 1 paying: 3 briefly: 1 prettiness: 1 perceived: 2 frankland: 0 joint: 3 taken: 26 c: 4 playing: 3 defer: 1 provide: 1 deserving: 4 embargo: 1 tradespeople: 1 distrust: 4 disfavour: 1 uneasiness: 2 restorative: 1 forgiven: 4 thoroughfare: 1 unreasonably: 1 disgusting: 1 confessed: 1 boys: 7 better: 87 spicers: 0 consoling: 1 mackenzie: 0 restored: 5 fling: 1 carriage: 26 strongly: 2 transformed: 1 contemptuous: 1 ranked: 2 whether: 30 married: 23 mention: 12 disinterested: 4 requested: 2 dare: 11 tones: 2 second: 17 personal: 12 screamed: 1 unwell: 5 declaring: 2 ardour: 3 twelvemonth: 2 chambers: 1 appreciate: 1 vacant: 2 suspended: 1 guessed: 2 green: 1 gratify: 1 round: 15 disposes: 1 wet: 2 colour: 3 miserable: 1 14: 1 heir: 11 protection: 2 i: 0 grown: 5 senseless: 1 salts: 1 sunk: 4 somehow: 2 dissolved: 1 grace: 6 generously: 1 waste: 3 visited: 9 quarrelling: 1 opposite: 6 soften: 2 toward: 1 dung: 1 prospect: 4 slipped: 2 had: 1177 apt: 3 apart: 1 depend: 7 quotation: 1 romancing: 1 business: 25 capital: 2 attendant: 1 bearing: 2 fate: 5 advancing: 1 pier: 1 crossed: 2 brown: 1 decisive: 1 contact: 2 improvement: 7 praises: 1 described: 5 permitted: 1 lower: 4 possessed: 4 glanced: 1 affluence: 3 glued: 1 below: 1 rare: 1 heightened: 2 affronted: 1 knees: 1 spirit: 12 witnessing: 2 with: 643 immediately: 28 notion: 1 reference: 5 cares: 3 eyed: 1 five: 12 bit: 2 numbers: 1 or: 274 reprehensible: 1 violence: 1 horribly: 1 theory: 1 about: 96 cellars: 1 solution: 1 minute: 8 vanished: 1 meditating: 1 spend: 11 dangerous: 9 edward: 0 collect: 2 shaped: 1 one: 221 motives: 2 regard: 25 among: 39 brawn: 1 tasting: 1 possessor: 1 perticular: 1 attribute: 1 improved: 14 expect: 10 respect: 17 push: 1 1789: 1 careful: 5 catalogue: 1 result: 5 heard: 65 sprang: 1 reappeared: 1 marking: 1 fingers: 2 immediate: 8 abydos: 0 sarah: 0 8: 1 member: 1 chosen: 3 unprofitable: 1 transposed: 1 honourably: 1 obligated: 1 benches: 2 collects: 1 publications: 2 clouded: 2 similar: 3 speedy: 1 supportable: 1 autumn: 10 east: 1 puncture: 1 maclean: 0 forte: 2 characters: 2 lovely: 5 7: 1 elevate: 1 cruise: 1 growth: 1 art: 3 very: 425 silent: 11 later: 5 player: 1 suspense: 10 impossible: 15 hamilton: 0 comforted: 1 labourers: 1 places: 5 scene: 5 rock: 1 native: 1 bay: 2 horsepond: 1 t: 6 faced: 1 reciprocal: 1 unsafe: 1 parting: 4 means: 21 measure: 2 because: 25 woe: 1 london: 0 contrive: 1 divided: 9 junction: 1 dividing: 1 varnished: 1 relators: 1 provoke: 2 under: 44 bulky: 1 charitable: 2 could: 444 precedence: 4 attempting: 1 irritable: 1 fearless: 2 confirmation: 2 human: 6 virtues: 2 females: 2 blush: 4 principle: 7 ,--`: 1 indiscreet: 1 establishment: 2 shining: 1 sandy: 2 rouse: 2 blains: 1 indulged: 1 yestermorn: 1 should: 185 bitterness: 1 ).: 1 passports: 1 speak: 26 handsomest: 1 humbler: 1 fraught: 1 variations: 1 scholar: 2 lay: 1 opportunity: 13 extreme: 3 gentleness: 5 animation: 5 composedly: 2 gallant: 2 speculations: 1 amongst: 3 meadow: 2 modes: 2 sickly: 1 dashing: 1 finished: 2 luxuriant: 1 defended: 1 gates: 1 investigated: 1 wearing: 3 mortified: 1 considerable: 7 beaten: 2 dispensation: 1 recognise: 1 tranquillized: 1 unfastened: 1 directions: 2 jesting: 1 fire: 3 ha: 0 casements: 1 bodies: 1 related: 5 principals: 1 most: 122 purchased: 1 discontented: 1 connection: 5 spoils: 1 merged: 1 undesirableness: 1 word: 32 o: 2 amused: 6 station: 6 projecting: 1 indulgence: 11 toil: 2 refinement: 1 perplexed: 1 inns: 2 formidable: 1 sport: 2 estimate: 4 describe: 1 rule: 1 privilege: 1 process: 2 enforced: 1 judge: 8 rising: 3 employ: 4 sympathetic: 2 ignorance: 3 foreboding: 1 elliot: 0 studied: 1 ending: 1 frosts: 1 supplement: 1 oddly: 1 grove: 1 nay: 6 formal: 3 resented: 1 representations: 1 unobserved: 1 20: 2 unluckily: 1 knit: 1 evidently: 10 bequeath: 1 posted: 1 undertook: 1 invitation: 13 partially: 2 slightest: 3 misconduct: 1 observance: 1 reality: 1 unlikely: 1 distinction: 3 butcher: 2 recommendations: 2 materials: 1 envied: 1 rut: 1 curtsey: 2 durable: 2 perseverance: 2 correspondence: 2 owing: 1 dress: 9 appointed: 3 concern: 5 ay: 3 sufficiently: 1 immoveable: 2 associations: 2 hesitatingly: 1 discredit: 2 upright: 2 apologies: 3 rents: 1 son: 17 wantonly: 1 wretched: 6 smiled: 10 embellishments: 1 thread: 1 inquiry: 1 kindly: 6 clerks: 1 grieving: 4 saved: 3 impartially: 1 november: 0 frost: 1 dining: 4 condescended: 1 frequenting: 1 attended: 6 crowd: 2 hearts: 5 collections: 1 refuse: 2 welcoming: 1 piece: 5 regarded: 2 treat: 2 sources: 1 presented: 6 unforgiving: 1 net: 1 calmness: 4 captivate: 1 unknowingly: 1 served: 1 entertained: 2 distracting: 1 perfume: 1 esteemed: 2 rank: 11 warning: 1 deficiency: 1 require: 2 bathing: 1 mother: 42 beginning: 26 entertainment: 1 decision: 7 convictions: 1 footing: 5 scandalous: 1 loved: 16 garden: 3 beloved: 3 withdrawn: 1 paced: 1 sickness: 3 queer: 1 mouths: 1 deal: 43 drop: 3 health: 20 duodecimo: 1 baronetcy: 2 scolded: 1 addressed: 3 delay: 6 heirs: 1 outline: 1 footpath: 1 footsteps: 1 actual: 4 fresh: 6 made: 96 orange: 1 sought: 7 miserably: 1 perceptible: 2 integrity: 1 constancy: 5 conviction: 8 gladden: 1 plaguing: 1 doubting: 1 relations: 5 inaction: 1 musings: 2 alluded: 3 indecisive: 1 novelty: 3 throats: 1 whenever: 7 juncture: 1 trustiest: 1 body: 8 accepted: 3 wasted: 1 side: 47 need: 20 shew: 4 speaking: 21 slam: 1 retrench: 3 hall: 0 stroll: 4 unaccountable: 1 guilty: 1 embarrassment: 2 murmur: 1 numerous: 2 importance: 11 2: 1 shy: 3 interrupting: 1 defy: 1 unconsidered: 1 deposited: 1 implying: 1 adopt: 1 straitened: 1 choicest: 1 shoot: 1 reconcile: 3 practices: 1 table: 15 excellence: 3 carpet: 1 ingratitude: 1 eyes: 33 rousing: 1 premises: 1 we: 110 money: 16 belonged: 6 hysterical: 4 desert: 1 parsonage: 1 dissipations: 1 variety: 2 save: 6 point: 29 girls: 14 interests: 2 instantly: 14 lighten: 1 interval: 9 tired: 9 shewed: 8 hurricane: 1 propose: 4 cried: 47 curricle: 4 throat: 2 friday: 0 clothes: 2 noticing: 1 yard: 3 convey: 8 ]: 1 interchange: 4 conclude: 2 au: 1 engrafted: 1 ready: 22 earn: 1 conceiving: 1 introduced: 14 aye: 0 spoil: 1 discussion: 3 accommodating: 1 characteristic: 1 applied: 5 small: 18 scheme: 8 sakes: 2 impressions: 6 fearing: 4 gloucester: 0 entreaty: 3 stairs: 4 finis: 0 acquiescence: 2 fearfully: 1 augmented: 1 signal: 1 rich: 11 maintained: 2 reluctantly: 1 clumsy: 1 neighbours: 7 mischief: 4 graceful: 1 !': 2 none: 19 devoting: 1 drive: 5 submitted: 5 employed: 5 mutual: 5 tenderness: 10 fitting: 3 faint: 2 civilities: 4 certain: 12 likely: 24 red: 2 attach: 4 confused: 3 professionally: 1 surveyor: 1 pathetic: 1 apology: 5 abode: 1 wiser: 3 national: 1 dearly: 1 news: 9 gloried: 2 grandchildren: 1 encountered: 1 motion: 4 lodging: 2 glance: 14 teaze: 2 wife: 45 prematurely: 1 cuffs: 1 shops: 1 port: 2 tuesday: 0 stares: 1 lavish: 1 conscience: 6 uncertain: 5 coarseness: 1 misfortunes: 1 recover: 6 resources: 1 croft: 0 blushed: 2 fetch: 3 show: 2 prompt: 1 dab: 2 surprises: 2 hurrying: 1 strangers: 4 candid: 1 purification: 1 anywhere: 9 solitary: 4 19: 1 aggravation: 3 occasionally: 6 bold: 1 undesirable: 1 give: 77 seat: 15 yield: 1 rejoined: 1 avoidance: 1 forms: 2 flight: 1 companion: 9 risk: 6 octagon: 0 ,\": 213 admiration: 10 goes: 2 professions: 3 brightening: 1 reflect: 3 everywhere: 3 figure: 4 tempt: 1 cousinly: 2 payment: 1 carpentered: 1 elizabeth: 0 prayer: 1 putting: 11 conceive: 2 unequal: 2 suspend: 1 prevented: 5 contemptuously: 1 ten: 11 enquired: 4 mahogany: 1 extension: 2 chief: 3 hardened: 2 awkwardness: 4 heaviest: 1 longest: 1 isle: 0 wrapt: 1 intrude: 1 thither: 3 beneath: 3 neglect: 5 ?): 1 horrible: 1 improving: 2 derive: 2 laughed: 3 speed: 2 hoping: 2 offering: 5 softened: 3 prepared: 3 occupying: 4 bending: 1 superficial: 1 closet: 1 endure: 4 presently: 4 management: 1 patience: 4 contrasted: 2 unsolicitous: 1 forgetfulness: 1 damp: 1 courage: 7 sidmouth: 0 governed: 1 evident: 10 themselves: 37 delightful: 7 laundress: 1 couples: 1 row: 3 wonted: 1 pardonable: 1 nonsensical: 2 attempted: 3 sudden: 7 heavy: 2 suspicious: 3 genteel: 1 acquisition: 1 naval: 6 connections: 2 market: 1 exultation: 2 disposed: 18 reconciled: 1 originated: 1 public: 8 squire: 2 prevents: 1 estimable: 1 pushing: 2 bred: 2 dawning: 1 claim: 9 lead: 2 hating: 1 come: 72 retrospections: 1 elegant: 11 patient: 3 sex: 3 upon: 64 broad: 1 quest: 1 own: 163 publicity: 1 charms: 3 temple: 0 hope: 53 indulges: 1 sixty: 1 glow: 7 confidential: 1 struggle: 7 extravagant: 2 justice: 14 informs: 1 design: 3 physician: 1 modesty: 2 relate: 2 predicament: 1 sea: 21 greatest: 8 creature: 11 number: 8 is: 393 hastened: 4 lament: 3 distinguished: 8 relieved: 3 steps: 8 showed: 2 excellent: 21 lady: 25 gives: 1 chanced: 2 landed: 2 writing: 8 if: 162 effect: 11 hale: 1 amazement: 2 forgotten: 9 shabby: 1 aloud: 2 odd: 6 hints: 11 understands: 1 weak: 4 fourteen: 3 littlenesses: 1 persisting: 1 supports: 2 find: 23 humoured: 6 observed: 17 seldom: 4 augur: 1 circle: 8 curtailed: 2 tenantry: 1 calmly: 2 relinquishment: 1 recanting: 1 elizabeths: 0 leaning: 4 shrubberies: 2 details: 1 farther: 16 executor: 1 healthy: 2 distressed: 6 walked: 28 reversion: 1 knowledge: 22 think: 149 fainter: 1 fickleness: 1 prompted: 3 intimate: 9 expression: 8 knowing: 14 hers: 10 forty: 4 hospitable: 4 beneficial: 1 expressive: 1 visible: 2 detail: 1 park: 2 consideration: 6 fought: 1 projected: 2 denial: 1 .'\": 1 directed: 2 insensible: 3 turnings: 1 glances: 2 tears: 1 ground: 5 extent: 2 scarcely: 11 ordering: 1 elude: 1 minutes: 26 merry: 3 muffin: 1 consulting: 1 mortifying: 2 retrenchments: 1 handsome: 19 kindness: 15 religious: 1 exceedingly: 12 project: 1 plunged: 1 dick: 0 services: 4 ostentatiously: 1 subdued: 1 reprieve: 1 narration: 1 once: 52 occur: 5 captain: 6 getting: 14 charmouth: 0 sad: 6 wall: 2 otherwise: 9 atonement: 1 generous: 2 comprehensive: 2 sobering: 1 person: 32 particulars: 6 nobility: 3 stupidity: 1 beauties: 1 forego: 1 ninety: 0 anticipate: 1 slip: 1 excluded: 1 crown: 1 hideous: 1 anybody: 20 lyme: 0 soldier: 1 centre: 2 guarding: 1 audible: 1 parson: 1 advised: 2 last: 88 pacing: 1 still: 72 closer: 1 averted: 2 insignificant: 2 established: 6 led: 7 astonishment: 10 gravely: 3 evade: 1 intimation: 1 instrument: 2 ignorant: 2 together: 54 hinting: 1 boldly: 1 insertion: 1 coldness: 2 named: 3 hospitality: 3 compliments: 9 alarming: 3 buzz: 2 comparatively: 4 willingly: 2 ends: 1 regulating: 1 killing: 1 presumed: 2 solicitude: 9 contractions: 1 complained: 1 original: 1 excepting: 9 opposing: 1 bench: 3 blotting: 1 desirable: 12 similarity: 1 papa: 6 insinuating: 1 perpetuated: 1 concealing: 1 cannot: 42 said: 173 tenants: 5 how: 88 daylight: 1 six: 11 nodded: 2 example: 2 upper: 3 encounter: 3 contemplate: 2 facts: 0 seek: 4 legacy: 1 benevolent: 2 understanding: 20 minds: 3 prime: 2 operated: 1 proud: 8 saving: 2 maid: 8 earnestly: 5 settle: 7 ended: 10 wanted: 33 shocked: 4 pitiful: 2 involved: 5 apace: 2 enjoy: 8 lost: 18 books: 10 quitted: 6 plausible: 1 lessened: 5 times: 16 unworthy: 4 william: 0 stagnation: 1 bore: 3 wishes: 11 continual: 3 pictures: 2 possessions: 1 fund: 1 directing: 2 shrubbery: 1 wrong: 10 backed: 1 accessions: 1 superiors: 1 shame: 4 ascent: 2 richer: 3 denying: 2 admit: 9 sour: 1 this: 200 arrangement: 5 brought: 33 gifts: 1 accession: 1 scruple: 5 slightly: 1 preserving: 2 troublesome: 3 difficulty: 7 plainer: 1 agony: 6 fastidiousness: 1 oftener: 4 live: 14 certify: 1 they: 323 interesting: 13 sturdy: 1 elasticity: 1 keep: 14 visit: 37 indecision: 1 stays: 1 here: 47 earnestness: 1 10: 1 disposal: 2 unprejudiced: 1 profound: 1 conducted: 1 sits: 3 minded: 1 smith: 0 unlike: 3 ungracious: 1 maids: 1 sailor: 6 conscious: 7 remaining: 7 friendship: 14 fix: 4 circumstances: 25 habit: 8 treated: 3 universal: 2 undoubtedly: 5 contrived: 2 regretting: 3 inequality: 1 wallises: 0 captiously: 1 your: 112 duplicity: 1 buildings: 3 regret: 13 supposed: 19 maker: 1 mansion: 1 confirm: 3 authority: 7 remembrance: 6 manly: 1 strike: 4 make: 87 retirement: 1 efficacy: 2 22: 1 indeed: 52 anew: 2 passing: 7 lifting: 1 sung: 1 revived: 2 sophia: 0 convenience: 5 died: 7 nephew: 1 increasing: 3 offer: 6 insipid: 1 including: 1 screen: 1 insisting: 1 baronet: 10 curtains: 3 qualities: 1 adding: 4 unanswered: 1 unwelcome: 3 rowed: 1 life: 49 immense: 1 run: 6 urged: 1 proprietors: 1 inferior: 9 obeyed: 2 rough: 4 sincere: 4 frigate: 3 camden: 0 necessary: 14 accustomary: 1 gloom: 1 ),: 28 warmest: 2 attentive: 6 priced: 1 disengaged: 1 unpacked: 1 required: 11 midst: 3 lane: 4 pulteney: 0 taste: 24 holds: 3 complicate: 1 fallen: 8 improvements: 2 door: 23 blue: 2 exclaiming: 2 ?'\": 1 sound: 10 previous: 3 faithful: 1 fancying: 4 properest: 2 harmony: 1 peculiar: 5 prefer: 3 gentlemen: 11 record: 1 issue: 1 doubtless: 0 angry: 5 unpardonable: 2 offence: 2 commonest: 1 sounded: 2 include: 1 thickest: 1 force: 1 kept: 17 depending: 1 laws: 1 embellishment: 1 smokes: 1 painters: 1 right: 43 probability: 3 certainly: 44 dullest: 1 mirth: 2 worldly: 5 unnecessary: 4 brightened: 1 vague: 1 extraordinarily: 1 lent: 2 trodden: 1 disgrace: 2 party: 62 acknowledge: 8 housekeepers: 1 nuts: 1 monkford: 0 plague: 1 ingenuity: 1 solicited: 3 joined: 10 gunsmith: 1 affliction: 3 shorter: 1 objects: 3 gold: 1 disagreeable: 4 reddening: 1 beyond: 23 pleasing: 11 every: 96 stir: 5 d: 2 faring: 1 newspaper: 2 fatigued: 1 .--,\": 1 master: 4 stolen: 1 neglected: 2 uppercross: 0 grierson: 0 regretted: 4 bless: 3 deeply: 6 refute: 1 retrenchment: 1 paternal: 1 funds: 1 wretchedly: 1 consultations: 1 resigned: 1 gay: 3 ibbotsons: 0 soft: 1 agitations: 4 speedily: 1 engaged: 19 imperfection: 1 them: 270 moreover: 6 taxes: 1 poor: 48 variance: 1 heyday: 1 correctness: 1 employing: 1 waggons: 1 pass: 12 likewise: 2 chair: 7 connect: 1 message: 3 dies: 1 of: 2564 indisputably: 1 guided: 3 inconstancy: 1 group: 3 approaching: 1 observations: 2 courting: 1 senses: 3 exquisite: 6 nevertheless: 1 worse: 23 giaour: 0 due: 13 gainer: 1 accomplishments: 4 mine: 10 ate: 1 came: 67 discharging: 1 skirting: 1 wm: 0 blunders: 1 catching: 3 err: 1 relenting: 2 needles: 1 likelihood: 1 nine: 7 heads: 5 ruin: 5 rupture: 1 pain: 20 consequences: 2 thankfulness: 1 rid: 5 pitied: 1 gradually: 8 prejudice: 2 milkmen: 1 other: 142 ceaseless: 4 chimney: 1 unexceptionable: 1 touch: 4 resembling: 1 his: 625 ensured: 1 amidst: 3 ruins: 1 curious: 4 ailed: 1 eagerly: 7 met: 27 baths: 1 insufficient: 1 fact: 15 assistants: 1 pretending: 1 dinner: 19 exhibited: 1 providence: 0 music: 7 lies: 1 expensive: 1 bring: 13 removing: 3 probabilities: 1 amusing: 3 blossoms: 1 servant: 11 arose: 4 special: 1 tempers: 1 baited: 1 again: 131 weight: 4 attentively: 1 makes: 6 burst: 8 vigour: 2 trunks: 1 velvet: 1 banished: 1 found: 83 decline: 2 beckoning: 1 prudent: 3 resentment: 3 generation: 1 opposer: 1 fortunate: 2 occasioned: 2 windows: 3 outlived: 2 simplicity: 1 unfolding: 1 plumpness: 1 cheerfullest: 1 bahama: 0 noticed: 3 dangers: 1 undertakes: 2 bitterest: 1 accept: 6 nature: 25 reward: 2 induce: 2 noisy: 1 breath: 1 proceeding: 4 finest: 2 injuries: 1 unnecessarily: 1 unsuspicious: 1 countenances: 1 tide: 2 famous: 1 obscure: 1 lieve: 1 entire: 2 somersetshire: 0 spite: 11 when: 196 meditation: 1 dispose: 1 truly: 12 broken: 7 marmion: 0 medium: 1 promised: 12 road: 3 suspected: 4 else: 27 disabled: 1 stories: 2 bath: 2 fancy: 7 everything: 38 contracted: 1 really: 43 allowance: 3 return: 28 greatly: 6 hours: 29 disappointment: 4 indifference: 10 rub: 1 supply: 6 widower: 2 uncertainty: 1 straight: 4 scrupulous: 4 resting: 1 overturned: 1 suggest: 5 folks: 1 besides: 14 pace: 1 sophy: 0 translate: 1 connecting: 1 thing: 41 duty: 13 possible: 45 literary: 1 civil: 5 enjoyment: 13 consciously: 1 deciding: 1 :--: 3 reflections: 2 gouty: 2 incumbrance: 1 completely: 17 accidental: 1 on: 386 reprobates: 1 decided: 22 then: 60 firmly: 1 assuring: 1 lesson: 1 excuses: 1 intently: 2 discoveries: 1 bears: 1 mortifications: 2 asked: 26 enforce: 1 abroad: 5 despondence: 1 unlooked: 1 sighings: 1 concerned: 7 haired: 2 admirably: 1 containing: 3 discreet: 1 played: 5 moment: 71 reap: 1 umbrellas: 1 deprecated: 1 deficiencies: 1 laid: 3 add: 6 accompanying: 1 aunts: 1 methods: 1 mere: 11 encouragement: 1 pleasanter: 3 enough: 71 enabled: 3 glasses: 3 perforce: 1 imaginations: 2 sincerely: 2 observe: 11 polite: 4 dropt: 1 pushed: 1 shadow: 1 engrossed: 3 haste: 2 partialities: 2 fraternal: 1 protegee: 1 things: 24 resident: 5 success: 5 path: 4 dropped: 3 expectations: 2 shot: 2 black: 5 term: 2 unprosperous: 1 firm: 2 often: 30 dwell: 3 crewkherne: 0 polished: 4 couple: 5 deserved: 8 intelligible: 3 alicia: 0 rains: 1 tune: 1 months: 17 misery: 10 assisted: 5 cheshire: 0 particular: 16 announce: 2 smallest: 15 relative: 3 cuts: 1 barouche: 1 concluding: 2 fanny: 0 admires: 1 absurdity: 1 usefulness: 5 withered: 1 regulations: 2 recommendation: 6 satisfied: 23 grandfathers: 1 sake: 13 renewed: 6 ascertaining: 2 undone: 1 trusted: 2 humble: 2 estimation: 1 smarting: 1 pore: 1 tried: 13 different: 26 comforts: 4 borders: 1 smooth: 2 arrive: 4 orders: 2 patiently: 1 desirableness: 1 emotion: 8 refused: 7 indebted: 1 waiter: 4 remained: 12 dependence: 4 inattention: 1 attending: 15 lectures: 1 equipped: 1 unformed: 1 from: 290 combat: 1 conjectured: 2 chill: 1 home: 83 lives: 8 twenty: 21 shyness: 1 determine: 1 ashamed: 14 judging: 3 insulted: 1 powerless: 1 bell: 2 enjoying: 1 poetry: 5 all: 517 proposals: 2 marry: 26 forgetting: 2 shortly: 2 poetical: 2 colonel: 0 civility: 8 information: 6 gentle: 7 pattens: 1 protestations: 1 improper: 3 buried: 2 broadest: 1 trying: 15 joy: 5 caring: 1 conference: 3 dissimilar: 2 lamenting: 2 solicitation: 1 clothe: 1 blood: 4 mankind: 1 and: 2739 fork: 1 selves: 1 praised: 2 multitude: 1 beach: 1 papers: 2 close: 7 vanquished: 1 cost: 1 despised: 1 forgive: 2 preventing: 2 fors: 1 expedients: 1 misuse: 1 rates: 1 agitated: 3 worthy: 5 evil: 14 avoided: 3 hence: 3 commanded: 4 affluent: 1 dared: 5 debt: 2 annexed: 1 amends: 1 betimes: 1 blows: 2 appearances: 2 frightful: 4 deliberation: 1 affection: 9 changed: 8 during: 7 hesitated: 2 misconstructions: 1 injunctions: 1 safety: 3 helpless: 3 water: 4 flattery: 2 governance: 1 propriety: 5 presume: 2 passed: 40 soldiers: 0 ways: 6 earnest: 6 lifeless: 1 remainder: 2 profession: 15 reduced: 2 pooles: 0 uncommon: 1 glass: 1 profitable: 1 baldwin: 0 endurable: 1 considered: 26 wind: 4 recital: 1 economy: 3 paper: 5 arrival: 9 sweeps: 1 social: 1 faces: 3 happening: 3 listened: 16 partiality: 4 testify: 1 strongest: 5 alarm: 6 considerably: 1 pretty: 27 bond: 0 talk: 29 recollecting: 3 invaluable: 1 thinking: 28 meat: 1 objection: 5 sparingly: 1 renewing: 2 so: 338 cultivated: 2 mile: 5 disagreement: 1 headed: 1 counsel: 2 continuing: 5 description: 16 grief: 3 higher: 6 charles: 0 deplored: 1 vacancies: 1 ,: 6750 shudder: 1 exceed: 2 arch: 2 dine: 13 younger: 7 dispel: 1 destiny: 1 amiable: 7 protested: 3 noted: 1 french: 0 reply: 11 resolve: 3 aunt: 8 beg: 8 hurt: 1 boy: 14 apartments: 2 started: 2 unless: 4 contradictory: 1 article: 4 seated: 1 each: 41 refutation: 1 reformation: 2 eager: 11 quicker: 3 flow: 2 !--: 1 trial: 5 weeks: 10 ushered: 2 sympathising: 1 replied: 31 rather: 60 impatient: 6 parent: 3 marys: 0 elder: 1 acceptance: 1 earth: 1 something: 61 cushions: 1 violent: 2 struggled: 1 never: 153 declined: 4 strolling: 2 blow: 1 glimpse: 1 anticipating: 2 tale: 1 voluntary: 1 lightness: 1 oath: 1 formality: 1 relation: 5 mrs: 0 dark: 8 february: 0 cordiality: 6 dear: 49 turns: 2 spell: 1 connexions: 7 crow: 1 tossed: 1 fair: 13 authorise: 1 assenting: 1 wealth: 1 yourself: 14 sedentary: 1 ever: 78 boast: 1 accord: 1 clever: 7 penetration: 2 ventured: 6 surrounded: 3 way: 78 perpetual: 3 uprightness: 2 jealousies: 1 consulted: 4 women: 20 complexion: 4 qualified: 2 pallid: 1 an: 238 fifteen: 3 ,--: 6 feebleness: 1 charge: 2 evening: 55 punctually: 2 cultivation: 1 inflicting: 1 circumventing: 1 musgrove: 0 cliff: 1 misty: 1 proposed: 7 tooth: 2 politicians: 1 impart: 1 soon: 121 trays: 1 wreck: 1 heavily: 1 down: 61 withdraw: 2 countries: 1 slight: 5 agitation: 14 bid: 3 comprehending: 2 smother: 1 sensation: 5 dugdale: 0 friendliness: 2 pavement: 4 income: 5 miniature: 1 regrets: 3 michaelmas: 0 care: 22 diffused: 1 supplies: 1 bedroom: 2 case: 25 impeaching: 1 successful: 1 blooming: 2 impatience: 2 pity: 12 disfigured: 1 plods: 1 restrictions: 4 rivals: 1 killed: 1 using: 2 obviously: 1 compelled: 1 escape: 9 principles: 3 lodge: 0 monday: 0 earliest: 4 abused: 2 sick: 12 reverse: 3 security: 1 applications: 4 breakfast: 13 residing: 1 clearing: 1 occasions: 2 behind: 15 tongue: 2 preserves: 1 insult: 3 freedom: 1 ask: 10 observances: 2 board: 12 dependencies: 1 entangled: 1 wise: 6 unwillingly: 1 lateness: 1 pleasantly: 4 overtures: 1 betide: 1 indignant: 1 inimitable: 1 honest: 1 influenced: 5 error: 1 teeth: 1 attend: 9 w: 0 thus: 8 secondary: 1 airs: 1 varying: 1 shrink: 3 inadvertencies: 1 claims: 15 kindled: 1 uttered: 5 unsisterly: 1 accordingly: 5 moments: 13 verses: 1 acknowledgement: 2 individual: 1 following: 9 dues: 2 mamma: 9 nursery: 6 sonnet: 1 observation: 8 hereafter: 5 arm: 11 intending: 1 cordials: 1 reductions: 2 negative: 2 approves: 1 selfish: 4 watchfulness: 2 retracted: 1 confinement: 2 examine: 1 acquitted: 1 wherever: 5 short: 47 felicitous: 1 blooded: 1 sincerity: 4 particularly: 21 cheerful: 9 ah: 0 rear: 1 affecting: 1 contend: 2 english: 0 striving: 1 confessing: 1 great: 116 larolles: 0 decencies: 1 will: 162 thoughtfulness: 1 investigation: 1 arrived: 9 liking: 5 lawns: 1 chamber: 3 imagination: 3 brings: 2 hearty: 4 rights: 10 trifling: 1 dropping: 1 already: 20 behave: 1 umbrella: 1 visits: 7 card: 11 frights: 1 ordered: 3 foreign: 2 clink: 1 felow: 1 expense: 2 indubitable: 1 pride: 17 does: 39 discern: 2 awful: 3 sweetness: 4 endured: 1 immortality: 1 extravagance: 1 inducement: 1 &: 4 busy: 4 sufferings: 3 handsomer: 2 29th: 1 report: 10 conveniently: 1 paltry: 1 loveliest: 1 rode: 1 hastily: 3 causes: 1 unintentionally: 1 ungenteel: 1 motto: 2 gate: 3 thought: 90 knock: 4 contributing: 1 denoted: 1 singleness: 1 drinks: 1 break: 2 smiths: 0 mortgage: 1 throughout: 1 selfishness: 5 indenture: 1 sauntering: 1 breaking: 3 alive: 4 fragments: 1 rivers: 0 theatre: 2 grandmamma: 1 apothecary: 2 rumours: 1 man: 133 source: 1 capes: 1 missed: 2 lucky: 4 cut: 6 fine: 33 having: 90 turning: 14 acknowledged: 8 anne: 0 disadvantages: 1 swears: 1 offend: 1 immethodical: 1 commissioned: 1 pinny: 0 seized: 2 finish: 4 conduct: 19 prior: 1 shut: 11 difference: 14 delayed: 1 anguish: 1 shape: 2 perplexity: 2 clergyman: 4 change: 34 hairs: 1 active: 5 silence: 11 accommodation: 3 wandering: 1 treasures: 1 spirited: 1 revival: 2 determined: 33 highest: 9 cordially: 1 wealthy: 1 reckon: 1 ye: 2 artist: 1 enemy: 1 oral: 1 residence: 5 same: 84 engage: 3 breathings: 1 whoever: 0 contempt: 5 maintaining: 5 read: 13 dances: 1 detailed: 1 representative: 1 repose: 3 degradation: 2 steadiest: 1 conceived: 3 procuring: 1 richard: 0 pounds: 5 brilliant: 1 tremulously: 1 examined: 3 circumstance: 18 mad: 1 1818: 1 persuasions: 1 toys: 1 intervention: 1 13: 1 obstinacy: 1 rate: 7 day: 77 rector: 1 sensibly: 2 calculations: 4 defying: 1 finale: 1 entrance: 5 modern: 2 frequently: 1 acute: 1 attachment: 25 5: 3 portion: 3 offered: 5 dismissal: 1 interest: 43 furnished: 2 turn: 17 nut: 4 next: 41 bright: 5 birth: 9 tree: 2 stamped: 2 cape: 0 forbearance: 2 doubtingly: 1 stands: 1 genius: 1 assistance: 6 top: 2 privileges: 2 chick: 1 alterations: 1 omission: 1 shipwrecked: 1 kind: 21 greeted: 1 assuming: 1 inclination: 11 fairly: 4 shifted: 1 possibility: 9 unvarying: 1 rouge: 1 adapted: 1 clay: 0 fashioned: 4 relationship: 5 enclosed: 1 discussed: 1 balanced: 1 .\": 369 ;': 1 merely: 9 totally: 6 language: 6 fortitude: 6 safe: 9 even: 67 medicine: 1 acknowledgements: 1 effects: 6 glowing: 3 inexpensive: 1 orchestra: 2 deplorable: 1 winters: 1 correspondent: 2 harm: 4 place: 50 comprehend: 9 question: 22 condescend: 1 assumed: 1 nation: 2 consciousness: 14 perception: 3 hotel: 1 bursts: 1 hear: 38 tease: 1 1760: 1 wheedled: 1 lip: 1 skin: 1 readers: 1 endeavoured: 3 heart: 42 while: 58 property: 14 reaching: 2 take: 50 ugly: 1 impetuosity: 1 tolerable: 8 work: 9 desire: 9 foresaw: 1 comprise: 1 be: 949 brand: 0 see: 123 abdication: 1 striking: 1 wary: 1 since: 43 off: 69 failed: 6 trent: 0 officer: 6 occurred: 11 stupid: 1 stuck: 1 purchase: 1 communicated: 4 motive: 9 ingenious: 1 dog: 1 rain: 9 originals: 1 resorted: 1 weathered: 1 slighted: 2 awake: 1 suddenly: 7 chiefly: 2 assiduously: 1 honours: 7 expenditure: 1 depended: 4 screened: 1 transmitted: 1 pacify: 1 conversant: 1 cousin: 27 several: 10 boatmen: 1 excellently: 1 there: 216 madam: 2 torn: 1 apprehension: 2 entitle: 1 keys: 1 successive: 2 leaves: 2 crape: 1 christian: 0 narrow: 1 august: 0 squareness: 1 wound: 5 overthrow: 1 accurately: 1 thirty: 9 revolution: 1 1787: 1 moving: 3 grass: 1 nervous: 3 repeat: 1 believed: 21 surname: 1 harden: 1 s: 485 distinctly: 2 breathed: 3 complication: 1 myself: 31 claiming: 1 wild: 6 encouraging: 4 exclaimed: 8 yeomen: 1 consequently: 8 though: 107 heat: 1 remorse: 1 conversations: 1 rapidly: 1 grandeur: 3 enumeration: 1 firmness: 2 reverses: 1 blinds: 1 directly: 12 parties: 8 paragraph: 2 compounded: 2 shade: 1 blame: 5 cordial: 2 associates: 1 excuse: 7 affectionately: 3 child: 25 fascination: 1 future: 14 hayter: 0 blessed: 4 anticipated: 2 manner: 43 hazel: 1 assist: 5 press: 3 instant: 11 cripple: 1 energy: 1 irrational: 1 announced: 4 debates: 1 poring: 1 friend: 83 hart: 0 produced: 10 value: 19 belief: 5 decent: 6 beings: 1 prize: 3 study: 2 blowing: 1 pretensions: 2 start: 2 necessarily: 2 sympathized: 1 staid: 4 secondly: 2 seniority: 2 housekeeping: 1 decorum: 2 profit: 1 equity: 1 outward: 2 enlargement: 1 collar: 2 hopeless: 6 agent: 1 sanguine: 2 says: 7 contusion: 1 experienced: 1 gradual: 2 history: 16 bordered: 1 useless: 1 opinion: 24 control: 1 attractive: 1 up: 90 fault: 4 rained: 2 prevail: 1 stepped: 2 sacrifices: 3 grazier: 1 procure: 3 embarrassments: 2 assure: 25 speechless: 1 room: 75 tempting: 1 jealousy: 3 spare: 3 eleven: 1 mortify: 1 ceased: 8 abundance: 1 representation: 2 sporting: 2 disagrees: 1 somebody: 5 me: 188 charming: 4 landlady: 2 esteem: 3 spacious: 1 molland: 0 affections: 3 disordered: 2 commonplace: 1 mortification: 5 watch: 7 prided: 1 incapable: 1 ,\"--\": 1 long: 95 refreshing: 1 forgot: 4 possessing: 1 obtaining: 1 disposition: 7 nothing: 131 obliging: 6 racks: 1 engagements: 3 deficient: 4 unfelt: 1 grant: 6 feeling: 37 manage: 1 reverted: 2 jump: 2 unkind: 3 act: 8 blinding: 1 progress: 3 honoured: 3 stout: 1 through: 34 maintain: 1 terror: 1 advising: 2 took: 19 interrupted: 8 vext: 1 square: 1 sequestration: 1 dimming: 1 contemplation: 3 interested: 3 morality: 1 belmont: 0 harville: 0 considers: 1 struggling: 1 midshipmen: 2 sentiment: 6 sinking: 4 amount: 1 managing: 1 bespoke: 1 believing: 4 talked: 32 withholding: 1 snug: 3 learn: 6 baronetcies: 1 piano: 3 exert: 4 walk: 35 uncomfortable: 2 movements: 1 discovery: 2 courteous: 3 dowager: 1 tawny: 1 activity: 2 accommodations: 6 odious: 1 pen: 5 ring: 3 exception: 2 indistinctness: 1 false: 1 capable: 9 town: 15 pretence: 2 colonnade: 1 domingo: 0 prudence: 1 brave: 1 afternoon: 3 gout: 1 duplicate: 1 desired: 2 preparing: 5 herself: 158 appeal: 4 driven: 4 poets: 1 favourably: 1 harry: 0 gain: 3 sore: 3 equal: 22 conjecture: 1 but: 553 decidedly: 7 restoring: 1 twice: 6 good: 181 stream: 1 ought: 52 head: 35 wherewith: 1 avoiding: 1 counterbalance: 1 promises: 2 unsettled: 1 heedless: 2 bawling: 1 strengthened: 2 sundays: 0 sufferer: 1 caressed: 1 letting: 1 shilling: 1 disturbed: 1 compare: 4 incalculable: 1 solitude: 4 perfect: 16 unworthily: 1 1814: 1 what: 172 wishers: 1 treating: 1 fearlessness: 1 accommodate: 2 favourable: 4 remarkably: 3 disinclination: 1 suffers: 1 morning: 58 longed: 4 watched: 4 began: 33 unseen: 2 cruel: 5 allowances: 1 stiles: 1 vouch: 1 regain: 1 treachery: 2 he: 736 treading: 1 may: 87 hitherto: 1 cluster: 1 accomplished: 2 consent: 6 alertness: 1 misconceived: 1 say: 93 choose: 4 lively: 6 disparity: 2 resort: 1 grow: 3 omit: 2 venture: 9 1810: 1 moved: 7 chattering: 1 brigden: 0 positive: 3 image: 1 consultation: 1 cases: 4 :: 124 was: 1330 4: 1 moral: 2 cheap: 1 against: 27 startled: 5 uneventful: 1 evils: 5 properly: 10 space: 6 streightens: 1 ;: 1290 unmodernized: 1 hazard: 1 spoken: 21 amuse: 2 steeper: 1 practice: 3 years: 58 entered: 9 springs: 1 repeated: 7 recurring: 1 harp: 4 impose: 1 utter: 2 chatted: 1 picture: 7 summit: 1 1800: 1 unshackled: 1 lend: 2 luck: 7 entertain: 2 harvilles: 0 cheeks: 8 byron: 0 rejected: 1 reckoned: 1 sent: 14 known: 48 calculated: 3 delicacy: 4 imperfect: 1 bowed: 2 benefit: 5 suggestions: 2 somewhat: 3 back: 69 rumble: 1 patents: 1 engagement: 24 alarmed: 4 creditors: 1 darings: 1 gaze: 1 slightingly: 1 wonder: 19 comprehensible: 1 it: 857 creditable: 2 ultimate: 1 ,): 5 applying: 2 style: 19 exerting: 1 learning: 3 box: 5 unfairly: 3 outweighed: 1 formed: 6 included: 5 converse: 2 leg: 1 disclosed: 1 hasty: 2 quotations: 2 submitting: 1 incommoded: 1 flurried: 1 three: 39 meet: 24 brotherliness: 1 mainly: 1 restraints: 3 darting: 1 species: 2 embarrassed: 4 animated: 4 respectably: 1 boasting: 1 popularity: 1 privy: 2 waiting: 17 landaulette: 1 robbing: 1 fall: 9 keener: 3 feature: 1 plighted: 1 reasonably: 1 stake: 1 furniture: 8 german: 0 troubles: 0 ran: 3 summer: 10 pair: 1 heave: 1 merits: 5 retreating: 1 gale: 1 peace: 10 imperiously: 1 loves: 2 sway: 1 caution: 6 growing: 12 opening: 4 composure: 6 persons: 9 minehead: 0 fool: 5 privateers: 1 latter: 6 opened: 10 confide: 1 depriving: 1 shook: 3 agree: 7 intervening: 1 betray: 1 respecting: 1 mischievous: 1 recapitulation: 1 aristocratic: 1 deference: 3 promising: 1 felicities: 1 walks: 2 lameness: 1 excusable: 3 wear: 2 provoked: 1 hard: 9 persuading: 1 undesired: 1 glimpses: 1 hundred: 5 sympathy: 3 approved: 2 comprised: 1 burden: 1 justify: 2 amendment: 1 disproportion: 1 disgust: 3 dissent: 1 dash: 1 front: 1 gratitude: 10 offers: 1 half: 58 quite: 110 modest: 3 flattered: 4 decrepitude: 1 recovering: 8 serving: 1 unable: 7 relinquishing: 2 incumbrances: 1 simpleton: 1 range: 3 portraits: 2 afraid: 15 female: 3 model: 3 receipt: 1 sigh: 7 horse: 3 dignified: 1 playful: 1 stretch: 1 frederick: 0 bitterly: 1 wholly: 2 furnishing: 1 performed: 1 excite: 9 compared: 5 delusion: 1 neighbour: 3 delight: 6 endless: 1 exist: 3 politely: 4 grand: 1 oh: 3 freely: 2 results: 2 simplest: 1 reminded: 1 listening: 9 zealous: 2 taking: 24 state: 31 distant: 6 horses: 11 bursting: 1 worsting: 1 faculties: 1 tenant: 13 equals: 1 spoilt: 3 guidance: 3 resolute: 3 meetings: 4 tunbridge: 0 imagining: 1 condemning: 1 questions: 3 ship: 6 open: 21 flagrant: 1 intention: 7 ascertain: 4 --\": 10 consented: 2 shirley: 0 reverie: 1 limbs: 3 bewildering: 1 watching: 4 succession: 1 assertion: 2 groom: 1 sweeter: 1 kindle: 1 happens: 3 week: 26 advantage: 22 guard: 2 defective: 1 ensure: 1 unwearied: 1 love: 42 unconcerned: 2 burn: 1 for: 695 composed: 5 wondered: 3 superfine: 1 gloomy: 1 wished: 28 nights: 2 designed: 1 anticipation: 1 concert: 17 irresistible: 4 sorrowful: 1 coach: 2 infirm: 2 clinging: 1 idle: 3 excursions: 1 rooms: 18 letter: 33 feelings: 75 sighing: 1 limits: 2 gratified: 5 involve: 3 singing: 3 patronize: 1 pleasure: 39 soothe: 1 requires: 2 intended: 7 broodings: 1 weakness: 4 crofts: 0 why: 15 coat: 2 proportions: 2 finances: 2 much: 205 wants: 5 stretching: 1 tiresome: 1 \": 793 difficult: 5 accent: 1 stopt: 1 any: 198 incurred: 1 intimacy: 9 practicable: 3 agreement: 2 resemble: 1 failure: 1 himself: 95 hurried: 6 familiar: 1 grave: 3 pointing: 4 follies: 1 bewitched: 1 action: 2 prescribed: 1 claimed: 3 clear: 13 ruined: 2 lest: 2 revel: 1 requited: 1 approachable: 1 struggles: 1 11: 1 precluded: 1 affords: 1 wit: 3 allayed: 1 russell: 0 hysterics: 1 rejoicing: 2 internally: 1 pardon: 7 receiving: 6 strict: 5 ancient: 3 respectable: 5 inquiries: 1 issuing: 1 readiness: 3 believe: 47 its: 72 histories: 1 solicitous: 3 revenge: 1 hang: 1 ?\": 88 occasional: 1 anecdotes: 1 unconsciousness: 1 sentence: 2 wish: 58 attachments: 2 pin: 2 advertised: 1 strangest: 1 sunshine: 1 silly: 4 reached: 16 laying: 2 scheming: 2 compliment: 4 thousands: 3 toils: 2 instance: 3 prey: 1 artificial: 4 temper: 12 pitch: 1 deplore: 1 military: 1 partial: 1 superiorities: 1 slow: 2 exertion: 8 renting: 1 forced: 10 surprised: 12 note: 7 repeating: 3 oppression: 1 sands: 3 sedulously: 1 headache: 1 stopped: 9 yes: 14 coolly: 3 parliaments: 1 earlier: 8 seeing: 37 desperate: 1 disdainful: 1 male: 1 tolerably: 3 wives: 2 bill: 2 regulated: 1 tastes: 1 gleaning: 1 complaint: 2 bread: 1 talks: 3 join: 10 spelt: 1 needful: 1 brook: 1 consequence: 33 arising: 2 contiguous: 1 transplanted: 1 irresolute: 2 hid: 1 overwhelmed: 1 worked: 3 alike: 4 tenements: 1 parts: 2 gallantry: 5 yourselves: 2 degree: 24 indulge: 1 itself: 13 effort: 1 bows: 2 eventually: 1 sinner: 1 another: 62 flattering: 1 ear: 2 courtesies: 1 dressy: 1 thirteen: 3 shift: 1 discourse: 2 comes: 7 overpowers: 2 pavements: 1 foreseeing: 2 hollow: 1 neighbouring: 1 barrel: 1 deception: 2 tempered: 2 personableness: 1 meaning: 16 entertaining: 2 our: 62 gently: 3 shrewd: 2 disrespectfully: 2 catastrophe: 1 time: 151 confusion: 8 taught: 1 :\": 1 tenacious: 1 delicious: 1 exposed: 2 ceremony: 4 environs: 2 occupied: 13 speech: 7 endurances: 1 basil: 0 along: 13 prevailed: 3 aside: 2 intimately: 3 overpowered: 2 mindful: 1 `: 29 louise: 0 civilly: 1 stevenson: 0 bare: 1 wentworth: 0 amazingly: 1 offended: 1 cake: 1 occupation: 5 symptom: 1 folding: 3 that: 853 residents: 1 affront: 1 failings: 1 across: 3 gladly: 3 wallis: 0 respective: 1 discretion: 3 fly: 1 stable: 1 indignantly: 1 everybody: 13 neck: 1 province: 1 alternatives: 1 infinitely: 7 frightened: 2 restore: 1 many: 83 leaned: 1 glossy: 1 hears: 1 eldest: 12 mourning: 6 in: 1346 disobliging: 1 look: 54 printer: 1 rubbish: 1 filled: 4 owned: 1 north: 2 won: 1 observant: 3 snatched: 1 alteration: 2 positively: 1 completion: 1 fetching: 1 were: 426 anxiously: 4 subjects: 9 suited: 6 hardness: 1 rewards: 1 natural: 21 expenses: 3 willingness: 1 truths: 1 fashionable: 3 accident: 7 1791: 1 gig: 2 proverbial: 1 reason: 21 cease: 3 bough: 1 equivalent: 1 middle: 2 dissuade: 2 daring: 4 nice: 11 mercy: 1 explanation: 6 convinced: 9 rationality: 1 groups: 1 cautious: 4 enjoyments: 2 commanding: 1 gave: 29 poems: 1 gardens: 2 remove: 2 chairs: 1 guile: 1 await: 2 being: 220 pages: 1 misfortune: 2 incurious: 1 heartiness: 1 winthrop: 0 turned: 21 perfection: 3 painful: 10 carelessly: 1 superiority: 10 exceptions: 2 overcome: 4 unpleasant: 4 quitting: 6 brothers: 3 offspring: 1 intend: 1 distress: 15 wisdom: 1 speculate: 1 channel: 1 been: 496 scattered: 3 injurious: 1 acting: 5 reflected: 1 attempt: 5 subdue: 2 preferred: 5 declares: 1 judges: 1 supported: 3 older: 4 disappointed: 6 ones: 2 insinuations: 1 tauntingly: 1 complete: 9 wedding: 2 changing: 1 regaling: 1 humiliating: 1 endeavours: 1 trees: 2 entirely: 17 measures: 4 compliance: 2 boat: 4 disdained: 1 running: 5 lodgings: 11 pelisse: 2 driving: 4 decide: 5 violated: 1 increase: 5 considerately: 1 expressed: 7 shepherd: 0 allusion: 1 tribute: 1 union: 3 acted: 2 charity: 2 wishing: 12 sunny: 1 drays: 1 solemnly: 1 yielding: 3 forgetful: 1 humours: 1 unheard: 1 overtook: 1 grey: 1 ago: 16 merciful: 1 transient: 2 western: 0 resolving: 1 triumph: 2 renew: 1 imprudent: 3 larger: 2 carriages: 2 gets: 1 inspire: 1 unjust: 4 expressly: 1 became: 13 hates: 1 crowded: 2 personage: 1 seclusion: 1 points: 6 sufficient: 7 opposition: 7 friends: 30 abominate: 1 arranged: 6 perfectly: 43 stern: 1 transgressed: 1 shawl: 1 visiting: 2 know: 127 bias: 3 parental: 1 particularize: 1 lobby: 1 roaring: 1 ungrateful: 1 swinging: 1 plenty: 3 month: 9 names: 8 extensive: 2 sized: 1 corpse: 1 declare: 11 dwelling: 1 marked: 4 astray: 1 expedited: 1 trace: 2 baronetage: 0 get: 35 addressing: 3 erring: 1 cart: 1 seeming: 3 events: 5 attached: 5 misconstruction: 1 features: 9 intercourse: 11 furnish: 3 escaped: 4 talents: 2 passage: 3 present: 65 sun: 1 prettiest: 1 historian: 1 conceited: 1 print: 1 professed: 3 saw: 51 paused: 2 transgressions: 1 chat: 3 application: 4 pardoned: 3 reach: 10 displaying: 1 additional: 3 compassionate: 1 express: 5 prepossession: 1 shelves: 1 undue: 1 particularity: 1 disengaging: 1 supplied: 5 likeness: 1 replying: 2 ll: 1 labours: 1 misunderstood: 1 fastidious: 2 marlborough: 0 looks: 14 freehold: 1 deed: 1 valued: 5 avail: 1 sit: 14 highly: 15 woman: 67 got: 21 complaints: 3 inured: 1 unreasonable: 1 efforts: 2 distinguish: 6 varieties: 3 destroyed: 4 within: 21 debts: 1 twentieth: 2 village: 9 indignation: 3 unconvinced: 1 smiling: 12 invalid: 3 justified: 2 spontaneous: 2 hill: 9 manners: 33 independence: 6 gentleman: 32 unconsciously: 2 concluded: 3 provided: 3 distressing: 4 representatives: 1 attends: 1 rejoiced: 5 slender: 1 unison: 1 leading: 5 dressing: 3 needed: 1 proclaim: 1 fears: 4 hair: 1 mr: 0 conceal: 2 remarks: 3 evenings: 1 pitiable: 1 name: 41 captains: 0 proprieties: 1 hearing: 17 modify: 1 direction: 11 land: 2 sentences: 1 imaged: 1 promoted: 1 m: 0 innoxious: 2 credit: 10 seem: 16 explicit: 1 condolence: 2 born: 6 dinners: 3 shelf: 1 incurable: 1 valet: 1 asunder: 3 blushing: 2 hopelessness: 1 canvassed: 1 field: 2 scarecrows: 1 spoke: 31 employment: 4 ': 525 common: 16 route: 1 relief: 6 felt: 80 petted: 1 period: 15 interposed: 1 trifle: 4 heaven: 3 arrange: 2 superior: 9 desirous: 2 relieve: 1 hint: 13 shaving: 1 sloop: 3 ailments: 1 carefully: 1 sharing: 1 missing: 1 convenient: 4 direct: 3 knew: 61 uses: 1 appear: 13 weaken: 2 degrading: 2 match: 21 labour: 1 walls: 2 obtain: 1 boasted: 2 fear: 3 schoolmaster: 1 chances: 1 allusions: 1 reserving: 1 adieu: 1 eligible: 1 accomplish: 2 retain: 1 game: 3 musician: 1 hazarded: 1 repack: 1 today: 1 absolutely: 5 mantel: 1 fruitless: 1 reigning: 1 suggested: 3 nettles: 1 rose: 1 discomfited: 1 ours: 2 justly: 1 sweet: 7 quarrelled: 1 gratification: 8 pierced: 1 delays: 2 precepts: 1 deducting: 1 exemplify: 1 whine: 1 bent: 4 explains: 2 suppose: 23 benwick: 0 proposing: 1 feelingly: 1 abominable: 1 drawn: 6 account: 37 cash: 1 rigid: 1 stand: 5 suppositions: 1 stock: 1 henry: 0 prepare: 2 unwilling: 3 settling: 4 phoo: 2 nearly: 15 consumed: 1 test: 1 purse: 1 daughter: 23 jane: 0 indelible: 1 treaty: 1 unlocked: 1 mightily: 1 would: 351 compressed: 1 arranger: 1 hunting: 2 reported: 0 class: 4 louisa: 0 merchandise: 1 happiest: 6 instruction: 1 calling: 13 attaching: 2 recommend: 9 lofty: 1 begin: 10 summarily: 1 seating: 1 consider: 11 men: 31 satin: 1 walking: 21 politeness: 6 handed: 1 elsewhere: 2 farewell: 1 moralists: 2 ladyship: 2 making: 23 divide: 2 belonging: 5 tattersall: 0 severed: 1 retired: 3 page: 2 chance: 11 unfortunate: 3 branch: 1 semblance: 1 advertise: 1 quiet: 15 comfortless: 1 rated: 2 respectability: 5 conversation: 30 neatness: 1 arriving: 3 orchards: 1 placed: 12 left: 48 lingering: 2 guests: 1 ridicule: 2 collecting: 2 scenes: 5 cot: 1 dated: 2 spontaneously: 1 enthusiast: 1 held: 7 understood: 20 re: 10 viscountess: 0 ): 25 connexion: 10 luckily: 1 answer: 31 sailors: 6 gibraltar: 0 minutiae: 3 guess: 6 kingdom: 1 unvisited: 1 bruise: 1 unfit: 4 pains: 4 representing: 2 written: 11 rejoinder: 2 resuming: 1 prophesied: 1 protected: 1 bills: 1 thinks: 6 heartless: 1 accompany: 1 states: 2 supposing: 6 gowland: 0 into: 98 accuse: 1 schemes: 2 disturb: 1 possess: 2 ourselves: 7 ,': 11 subtleties: 1 assizes: 1 inimical: 1 thence: 1 sobs: 1 defect: 2 viscount: 2 occurs: 1 vigorous: 1 unqualified: 2 poured: 1 1803: 1 fervent: 3 welfare: 1 urgency: 1 ascended: 1 flushed: 1 diversified: 1 ecstasy: 2 ambition: 1 ?': 4 varied: 1 timidity: 1 risen: 1 buy: 3 intimates: 1 akin: 1 hardly: 39 triumphantly: 1 tolerate: 1 sees: 5 request: 2 scolding: 1 matrimony: 1 unnatural: 1 statement: 1 reproach: 4 support: 7 fat: 2 infatuation: 1 falter: 1 (: 69 crescent: 0 people: 39 depression: 1 favour: 17 trespass: 1 hedge: 6 released: 3 mend: 1 sounds: 9 remembering: 4 reckoning: 2 supporting: 2 continue: 1 happily: 5 january: 0 tapping: 1 inlaid: 1 able: 30 addresses: 3 farthing: 1 service: 10 now: 144 rationally: 1 dead: 6 joyous: 2 standard: 2 went: 30 23: 1 except: 9 poisonous: 1 dull: 2 authorising: 1 opposed: 2 raising: 3 exposing: 2 avert: 1 .': 7 excessively: 7 forming: 4 mechanically: 1 bridge: 0 meanwhile: 1 lighted: 1 abbreviation: 1 you: 548 volume: 4 some: 135 submissive: 1 fourth: 1 world: 36 compassion: 5 reined: 1 introducing: 1 book: 8 returned: 27 agreeing: 1 experience: 5 consigned: 1 choice: 7 credible: 1 possibly: 4 out: 95 retrace: 1 parents: 4 fail: 8 succeeding: 4 equality: 1 mary: 0 between: 53 disliked: 1 folly: 6 recently: 3 mindedness: 1 extinguish: 1 wings: 1 reduce: 1 butler: 2 used: 26 scruples: 3 misapprehension: 1 penance: 3 poignant: 1 fever: 2 separation: 4 giddy: 1 nearer: 4 shewn: 8 shall: 55 bestow: 4 herald: 1 doctor: 2 inevitably: 3 imprisonment: 1 quarters: 2 official: 1 preliminary: 1 needs: 2 imagined: 9 lines: 6 ---.: 1 secured: 4 unhappiness: 1 telling: 6 display: 3 keeping: 3 despair: 1 her: 1159 powder: 1 linger: 1 questioned: 3 conversing: 2 singular: 1 moderate: 2 flower: 3 exact: 4 drawing: 18 owners: 1 violation: 1 necessaries: 1 wanting: 10 general: 34 conclusion: 5 communicate: 3 thoughtlessness: 1 winds: 1 dint: 1 jumped: 2 only: 214 fresher: 1 originally: 3 restoratives: 1 called: 30 verse: 1 seeking: 3 thicker: 2 length: 1 year: 27 separated: 1 four: 21 grievance: 1 painting: 1 exceeding: 1 daughters: 10 belong: 4 soul: 9 climes: 1 lawyer: 2 unfavourable: 1 receive: 8 commonwealth: 1 captures: 1 unsatisfactory: 2 useful: 11 noises: 3 followed: 15 inspired: 1 pursued: 3 thorough: 2 lamented: 1 quantity: 1 aid: 2 full: 30 deranged: 1 confer: 1 secret: 9 nursed: 1 done: 74 indisposition: 3 lessons: 2 privileged: 1 dozen: 2 fortnight: 5 subsisted: 1 satisfaction: 11 confined: 3 regards: 1 knocked: 3 replaced: 1 lord: 1 incomprehensible: 1 checking: 3 flatter: 2 deceive: 2 st: 0 invitations: 4 cheerless: 1 canvass: 1 powerful: 4 perhaps: 50 recent: 3 touched: 2 expose: 1 gravel: 1 banish: 1 archibald: 0 bishop: 0 hands: 20 without: 106 attendance: 3 alas: 4 fellows: 3 gossip: 2 hemmed: 1 sum: 1 resentful: 1 pressed: 2 apartment: 2 acres: 1 greenhouse: 1 shocking: 2 help: 21 air: 20 insisted: 1 scissors: 1 fatigues: 1 sometimes: 19 sink: 1 detected: 1 cottage: 6 anyone: 1 curiosity: 17 thick: 3 works: 1 becomingly: 1 compromising: 1 ives: 0 heavens: 2 assert: 1 faith: 3 renter: 1 stile: 3 agreed: 15 mediterranean: 0 strafford: 0 enquiries: 9 possession: 8 sofa: 7 natured: 2 pressing: 2 approving: 1 securing: 2 impression: 8 pay: 8 complain: 4 sentiments: 10 surrounding: 1 trained: 1 unfounded: 2 attaining: 1 rally: 1 :--\": 2 light: 7 holding: 1 empowered: 1 bear: 21 destruction: 1 artful: 2 teach: 1 too: 127 commander: 2 surely: 2 skilful: 1 headship: 1 groves: 2 looking: 45 concealed: 2 hand: 23 proportion: 1 true: 21 addition: 5 apples: 1 infected: 1 loss: 8 quickness: 1 absent: 4 precisely: 5 admire: 7 to: 2775 expected: 18 exchanged: 1 pleases: 1 learned: 4 mystery: 1 resolutely: 2 barely: 1 warmly: 9 refer: 1 raise: 2 flat: 1 which: 415 regular: 6 pervading: 1 infuse: 1 tables: 1 withdrawing: 1 pleasantest: 1 recognising: 1 occurring: 1 harasses: 1 granted: 1 send: 9 invited: 10 substitution: 1 memory: 6 spurned: 1 confided: 1 sarcastically: 1 prose: 2 catch: 7 silenced: 1 unreservedly: 1 foretold: 1 smoking: 1 probably: 18 commission: 2 privations: 1 sealed: 1 thousand: 8 losing: 2 glad: 33 enquiry: 5 umpire: 1 fare: 1 anger: 2 descried: 1 setting: 8 proved: 9 vexed: 4 existing: 1 date: 3 overflowing: 1 thoughtless: 1 prospects: 3 mood: 1 undervalue: 1 disappointments: 2 nineteen: 6 watchman: 1 listen: 13 feels: 1 has: 100 lake: 0 images: 1 have: 583 widowhood: 1 promotion: 2 reluctance: 1 third: 4 amusements: 1 entitled: 3 gun: 2 nicety: 1 pausing: 1 induced: 6 total: 4 beforehand: 2 frequent: 3 alacrity: 4 inclined: 5 topics: 2 enquiring: 2 elegance: 6 dying: 1 holidays: 4 pleasant: 13 inheriting: 1 hide: 1 describing: 1 lace: 1 revolving: 2 plaster: 1 unwise: 1 landlord: 2 visions: 2 recollect: 12 unfeeling: 6 affairs: 8 flirting: 1 clearer: 1 wrinkles: 1 farmer: 2 behaving: 2 hushed: 1 mouth: 2 shore: 5 warmth: 10 endeavouring: 1 fated: 2 leave: 44 parish: 3 post: 3 critical: 1 retentive: 1 dread: 4 perpetrated: 1 1806: 1 vain: 16 letters: 12 discerning: 2 carry: 5 owner: 4 faults: 2 dislocated: 1 size: 3 strange: 3 .,: 4 trembled: 1 heaped: 1 more: 269 notoriety: 1 faltering: 1 shropshire: 0 strong: 29 alienable: 1 z: 0 dwelt: 2 matter: 21 bush: 1 asserted: 2 readily: 6 therefore: 27 happen: 10 sisters: 17 uncle: 1 frames: 1 vanity: 9 anxieties: 1 existence: 3 remark: 4 strength: 13 recognition: 1 unobjectionable: 1 confirmed: 2 appearing: 3 publish: 1 hot: 1 hopes: 9 ceremonious: 1 dreamt: 1 intervals: 5 austen: 0 studying: 1 seemed: 93 begun: 12 pretended: 2 endeavour: 3 degrees: 2 pockets: 1 choosing: 2 gratifying: 1 excited: 7 speeches: 1 apprehensions: 3 blessings: 3 ribbon: 1 excessive: 1 wainscot: 1 dearest: 1 breeding: 2 constructed: 1 trouble: 14 supplanted: 1 somerset: 0 discerned: 3 extraordinary: 13 cure: 6 milsom: 0 amiss: 3 distance: 9 eloquent: 4 grateful: 4 bringing: 11 poet: 2 soothing: 1 morrow: 24 entering: 7 library: 1 formerly: 5 foul: 3 utility: 3 exit: 1 stead: 1 ;): 1 john: 0 window: 18 ;--\": 1 impassioned: 1 apprehend: 2 surgeon: 6 pins: 1 might: 166 abuse: 1 travelled: 5 contents: 1 real: 22 imaginary: 2 bustling: 1 awkward: 3 manoeuvres: 1 quickly: 4 impulse: 3 rumour: 2 fast: 4 possibilities: 1 move: 9 going: 65 presumptive: 3 suppressed: 3 secure: 7 articles: 2 24: 1 mar: 1 repeatedly: 4 attract: 1 glowed: 2 proficient: 1 england: 0 shelter: 1 zeal: 5 floor: 2 governing: 1 course: 42 those: 71 forget: 13 disincline: 1 coarse: 2 dreaded: 2 wearied: 1 whisper: 4 finally: 5 glories: 1 humour: 10 [: 1 chooses: 1 openness: 4 occasion: 12 unpremeditated: 1 trivial: 2 stranger: 4 sacrificing: 1 contentment: 1 stop: 4 words: 23 follow: 9 compromise: 2 charmed: 2 perpetually: 1 office: 5 prized: 1 creatures: 4 prove: 4 lowering: 1 uniting: 2 prevailing: 2 enclosures: 1 liable: 4 comforters: 1 springing: 1 signify: 1 elbow: 1 protests: 1 domestic: 11 worn: 4 cause: 6 hanging: 3 recovered: 7 branches: 1 richness: 1 persuade: 8 attacks: 1 1: 3 preceding: 4 tied: 2 peculiarly: 2 suitably: 1 trusting: 1 astonished: 8 1784: 1 sitting: 11 can: 100 declarations: 1 patronised: 1 pump: 0 younker: 1 bottom: 3 contented: 2 seen: 58 gaining: 1 suffering: 18 cousins: 19 substantial: 2 inexhaustible: 1 trash: 1 who: 186 prompting: 1 sacrificed: 2 serious: 18 hardship: 2 testimony: 1 end: 31 preferring: 3 hesitation: 2 partner: 1 instinctively: 3 sides: 1 tempted: 4 hate: 4 !: 253 marrying: 8 fancied: 10 seizure: 1 interruption: 1 allow: 9 origin: 2 hereabouts: 2 suffer: 10 inevitable: 2 by: 411 reluctant: 2 argument: 2 mistress: 7 arise: 1 threatenings: 1 loyalty: 1 unguarded: 2 resume: 1 hour: 33 fifty: 6 young: 83 mirrors: 1 assume: 1 rat: 1 rent: 3 non: 1 enquirer: 1 nurse: 13 sharp: 2 fearful: 3 worth: 24 caprice: 1 rushed: 1 far: 32 attempts: 5 omitting: 1 mind: 64 eighty: 1 spread: 5 grappler: 0 solely: 2 jealous: 5 associated: 1 staying: 15 thursday: 0 white: 2 rooke: 0 solicitudes: 2 roof: 2 approach: 5 exclamations: 3 early: 26 quicken: 1 alienations: 1 ploughs: 1 retiring: 1 grieved: 5 smiles: 7 differently: 11 borne: 6 sooner: 10 weakening: 1 sheep: 1 considering: 11 "
     ]
    }
   ],
   "source": [
    "news_text = set(w.lower() for w in gutenberg.words('austen-persuasion.txt'));\n",
    "fdist = nltk.FreqDist(gutenberg.words('austen-persuasion.txt'));\n",
    "for m in news_text:\n",
    "    print(m + ':', fdist[m], end = ' ');"
   ]
  },
  {
   "cell_type": "code",
   "execution_count": 13,
   "metadata": {
    "collapsed": false
   },
   "outputs": [
    {
     "name": "stdout",
     "output_type": "stream",
     "text": [
      "and 2739\n",
      "; 1290\n",
      ". 2741\n",
      "had 1177\n",
      "to 2775\n",
      "the 3120\n",
      "be 949\n",
      "her 1159\n",
      "a 1529\n",
      "was 1330\n",
      "of 2564\n",
      "in 1346\n"
     ]
    }
   ],
   "source": [
    "l = [];\n",
    "news_text = set(w.lower() for w in gutenberg.words('austen-persuasion.txt'));\n",
    "fdist = nltk.FreqDist(gutenberg.words('austen-persuasion.txt'));\n",
    "for m in news_text:\n",
    "    l.append(fdist[m]);\n",
    "\n",
    "l.sort();\n",
    "l.reverse();\n",
    "\n",
    "\n",
    "for m in news_text:\n",
    "    for i in range(1, 13):\n",
    "        if (fdist[m] == l[i]):\n",
    "            print(m + ' ' + str(l[i])) "
   ]
  },
  {
   "cell_type": "markdown",
   "metadata": {
    "collapsed": true
   },
   "source": [
    "## Question 2 "
   ]
  },
  {
   "cell_type": "markdown",
   "metadata": {
    "collapsed": true
   },
   "source": [
    "Under package Gutenberg get content from file 'melville-moby_dick.txt.' (HINT: Words? Raw?)\n",
    "Find out frequency of 26 characters. (Turn uppercase into lowercase and count as one character)\n",
    "List all 26 characters in order base on their frequency. (From most frequent to least frequent)\n",
    "Try NOT to use FreqDist module.\n",
    "\n"
   ]
  },
  {
   "cell_type": "code",
   "execution_count": 183,
   "metadata": {
    "collapsed": true
   },
   "outputs": [],
   "source": [
    "import nltk"
   ]
  },
  {
   "cell_type": "code",
   "execution_count": 184,
   "metadata": {
    "collapsed": true
   },
   "outputs": [],
   "source": [
    "from nltk.corpus import gutenberg"
   ]
  },
  {
   "cell_type": "code",
   "execution_count": 248,
   "metadata": {
    "collapsed": false
   },
   "outputs": [],
   "source": [
    " content=gutenberg.raw('melville-moby_dick.txt')"
   ]
  },
  {
   "cell_type": "code",
   "execution_count": null,
   "metadata": {
    "collapsed": true
   },
   "outputs": [],
   "source": [
    "fdist=nltk.FreqDist([w.lower() for w in content])"
   ]
  },
  {
   "cell_type": "code",
   "execution_count": 249,
   "metadata": {
    "collapsed": true
   },
   "outputs": [],
   "source": [
    "characters=['a','b','c','d','e','f','g','h','i','j','k','l','m','n','o','p','q','r','s','t','u',\n",
    "          'v','w','x','y','z' ]"
   ]
  },
  {
   "cell_type": "code",
   "execution_count": 262,
   "metadata": {
    "collapsed": false
   },
   "outputs": [
    {
     "name": "stdout",
     "output_type": "stream",
     "text": [
      "a: 4736\n",
      "b: 0\n",
      "c: 1\n",
      "d: 74\n",
      "e: 29\n",
      "f: 2\n",
      "g: 1\n",
      "h: 3\n",
      "i: 2127\n",
      "j: 4\n",
      "k: 0\n",
      "l: 2\n",
      "m: 29\n",
      "n: 8\n",
      "o: 44\n",
      "p: 2\n",
      "q: 0\n",
      "r: 0\n",
      "s: 1802\n",
      "t: 291\n",
      "u: 2\n",
      "v: 7\n",
      "w: 1\n",
      "x: 1\n",
      "y: 2\n",
      "z: 0\n"
     ]
    }
   ],
   "source": [
    "for i in characters:\n",
    "    print(i+':',fdist[i])\n",
    "  "
   ]
  },
  {
   "cell_type": "markdown",
   "metadata": {},
   "source": [
    "Question 3\n",
    "\n",
    "Under package Webtext, see what files are in it.\n",
    "Get content in file 'pirates.txt'.\n",
    "According to the number of lines for Jack Sparrow and Will Turner, find out who is the real leading man in this movie.\n"
   ]
  },
  {
   "cell_type": "code",
   "execution_count": 102,
   "metadata": {
    "collapsed": false
   },
   "outputs": [],
   "source": [
    "import nltk"
   ]
  },
  {
   "cell_type": "code",
   "execution_count": 103,
   "metadata": {
    "collapsed": false
   },
   "outputs": [],
   "source": [
    "from nltk.corpus import webtext"
   ]
  },
  {
   "cell_type": "code",
   "execution_count": 114,
   "metadata": {
    "collapsed": false
   },
   "outputs": [
    {
     "data": {
      "text/plain": [
       "['firefox.txt',\n",
       " 'grail.txt',\n",
       " 'overheard.txt',\n",
       " 'pirates.txt',\n",
       " 'singles.txt',\n",
       " 'wine.txt']"
      ]
     },
     "execution_count": 114,
     "metadata": {},
     "output_type": "execute_result"
    }
   ],
   "source": [
    "nltk.corpus.webtext.fileids()"
   ]
  },
  {
   "cell_type": "code",
   "execution_count": 265,
   "metadata": {
    "collapsed": false
   },
   "outputs": [],
   "source": [
    " content=(webtext.raw('pirates.txt'))"
   ]
  },
  {
   "cell_type": "code",
   "execution_count": 123,
   "metadata": {
    "collapsed": false
   },
   "outputs": [
    {
     "name": "stdout",
     "output_type": "stream",
     "text": [
      "ounts to a full pardon. Jack will be free, a privateer in the employ of England.\n",
      "WILL TURNER: Somehow I doubt Jack will consider employment the same as being free.\n",
      "LORD CUTLER BECKETT: Freedom. Jack Sparrow is a dying breed. The world is shrinking, the blank pages of the map filled in. Jack must find his place in the new world or perish. Not unlike you, Mister Turner. You and your fiancée face the hangman's noose. \n",
      "WILL TURNER: So you get both Jack *and* the Black Pearl.\n",
      "LORD CUTLER BECKETT: The Black Pearl?\n",
      "WILL TURNER: The property you want that he possesses.\n",
      "LORD CUTLER BECKETT: A ship? Hardly. The item in question's considerably smaller and far more valuable. Something Sparrow keeps on his person at all times. A compass. Ah, you know it. Bring back that Compass, or there's no deal.\n",
      "Scene: BLACK PEARL\n",
      "[Jack is using calipers on a map, using his left hand, a \"P\" brand mark is seen on his right arm]\n",
      "[an hourglass is in the background, Jack taps the Compass]\n",
      "[Jack looks in his bottle, turns the bottle upside-down, only a few drops spill out]\n",
      "JACK SPARROW: Why is the rum always gone?\n",
      "[Jack rises to his feet, staggers]\n",
      "[Jack picks up his hat off the top of a globe]\n",
      "JACK SPARROW: Oh! *That's* why.\n",
      "[Jack walks past the crew sleeping on hammocks, Jack is carrying a lantern]\n",
      "[some of the crew are snoring, and Cotton is among those sleeping]\n",
      "JACK SPARROW: As you were, gents.\n",
      "[Jack goes downstairs to the hold, an animal bleats, Jack unlocks the door, goes in]\n",
      "[Jack sees eerie filter \n",
      "ounts to a full pardon. Jack will be free, a privateer in the employ of England.\n",
      "WILL TURNER: Somehow I doubt Jack will consider employment the same as being free.\n",
      "LORD CUTLER BECKETT: Freedom. Jack Sparrow is a dying breed. The world is shrinking, the blank pages of the map filled in. Jack must find his place in the new world or perish. Not unlike you, Mister Turner. You and your fiancée face the hangman's noose. \n",
      "WILL TURNER: So you get both Jack *and* the Black Pearl.\n",
      "LORD CUTLER BECKETT: The Black Pearl?\n",
      "WILL TURNER: The property you want that he possesses.\n",
      "LORD CUTLER BECKETT: A ship? Hardly. The item in question's considerably smaller and far more valuable. Something Sparrow keeps on his person at all times. A compass. Ah, you know it. Bring back that Compass, or there's no deal.\n",
      "Scene: BLACK PEARL\n",
      "[Jack is using calipers on a map, using his left hand, a \"P\" brand mark is seen on his right arm]\n",
      "[an hourglass is in the background, Jack taps the Compass]\n",
      "[Jack looks in his bottle, turns the bottle upside-down, only a few drops spill out]\n",
      "JACK SPARROW: Why is the rum always gone?\n",
      "[Jack rises to his feet, staggers]\n",
      "[Jack picks up his hat off the top of a globe]\n",
      "JACK SPARROW: Oh! *That's* why.\n",
      "[Jack walks past the crew sleeping on hammocks, Jack is carrying a lantern]\n",
      "[some of the crew are snoring, and Cotton is among those sleeping]\n",
      "JACK SPARROW: As you were, gents.\n",
      "[Jack goes downstairs to the hold, an animal bleats, Jack unlocks the door, goes in]\n",
      "[Jack sees eerie filter \n",
      "ounts to a full pardon. Jack will be free, a privateer in the employ of England.\n",
      "WILL TURNER: Somehow I doubt Jack will consider employment the same as being free.\n",
      "LORD CUTLER BECKETT: Freedom. Jack Sparrow is a dying breed. The world is shrinking, the blank pages of the map filled in. Jack must find his place in the new world or perish. Not unlike you, Mister Turner. You and your fiancée face the hangman's noose. \n",
      "WILL TURNER: So you get both Jack *and* the Black Pearl.\n",
      "LORD CUTLER BECKETT: The Black Pearl?\n",
      "WILL TURNER: The property you want that he possesses.\n",
      "LORD CUTLER BECKETT: A ship? Hardly. The item in question's considerably smaller and far more valuable. Something Sparrow keeps on his person at all times. A compass. Ah, you know it. Bring back that Compass, or there's no deal.\n",
      "Scene: BLACK PEARL\n",
      "[Jack is using calipers on a map, using his left hand, a \"P\" brand mark is seen on his right arm]\n",
      "[an hourglass is in the background, Jack taps the Compass]\n",
      "[Jack looks in his bottle, turns the bottle upside-down, only a few drops spill out]\n",
      "JACK SPARROW: Why is the rum always gone?\n",
      "[Jack rises to his feet, staggers]\n",
      "[Jack picks up his hat off the top of a globe]\n",
      "JACK SPARROW: Oh! *That's* why.\n",
      "[Jack walks past the crew sleeping on hammocks, Jack is carrying a lantern]\n",
      "[some of the crew are snoring, and Cotton is among those sleeping]\n",
      "JACK SPARROW: As you were, gents.\n",
      "[Jack goes downstairs to the hold, an animal bleats, Jack unlocks the door, goes in]\n",
      "[Jack sees eerie filter \n",
      "ounts to a full pardon. Jack will be free, a privateer in the employ of England.\n",
      "WILL TURNER: Somehow I doubt Jack will consider employment the same as being free.\n",
      "LORD CUTLER BECKETT: Freedom. Jack Sparrow is a dying breed. The world is shrinking, the blank pages of the map filled in. Jack must find his place in the new world or perish. Not unlike you, Mister Turner. You and your fiancée face the hangman's noose. \n",
      "WILL TURNER: So you get both Jack *and* the Black Pearl.\n",
      "LORD CUTLER BECKETT: The Black Pearl?\n",
      "WILL TURNER: The property you want that he possesses.\n",
      "LORD CUTLER BECKETT: A ship? Hardly. The item in question's considerably smaller and far more valuable. Something Sparrow keeps on his person at all times. A compass. Ah, you know it. Bring back that Compass, or there's no deal.\n",
      "Scene: BLACK PEARL\n",
      "[Jack is using calipers on a map, using his left hand, a \"P\" brand mark is seen on his right arm]\n",
      "[an hourglass is in the background, Jack taps the Compass]\n",
      "[Jack looks in his bottle, turns the bottle upside-down, only a few drops spill out]\n",
      "JACK SPARROW: Why is the rum always gone?\n",
      "[Jack rises to his feet, staggers]\n",
      "[Jack picks up his hat off the top of a globe]\n",
      "JACK SPARROW: Oh! *That's* why.\n",
      "[Jack walks past the crew sleeping on hammocks, Jack is carrying a lantern]\n",
      "[some of the crew are snoring, and Cotton is among those sleeping]\n",
      "JACK SPARROW: As you were, gents.\n",
      "[Jack goes downstairs to the hold, an animal bleats, Jack unlocks the door, goes in]\n",
      "[Jack sees eerie filter \n",
      "ounts to a full pardon. Jack will be free, a privateer in the employ of England.\n",
      "WILL TURNER: Somehow I doubt Jack will consider employment the same as being free.\n",
      "LORD CUTLER BECKETT: Freedom. Jack Sparrow is a dying breed. The world is shrinking, the blank pages of the map filled in. Jack must find his place in the new world or perish. Not unlike you, Mister Turner. You and your fiancée face the hangman's noose. \n",
      "WILL TURNER: So you get both Jack *and* the Black Pearl.\n",
      "LORD CUTLER BECKETT: The Black Pearl?\n",
      "WILL TURNER: The property you want that he possesses.\n",
      "LORD CUTLER BECKETT: A ship? Hardly. The item in question's considerably smaller and far more valuable. Something Sparrow keeps on his person at all times. A compass. Ah, you know it. Bring back that Compass, or there's no deal.\n",
      "Scene: BLACK PEARL\n",
      "[Jack is using calipers on a map, using his left hand, a \"P\" brand mark is seen on his right arm]\n",
      "[an hourglass is in the background, Jack taps the Compass]\n",
      "[Jack looks in his bottle, turns the bottle upside-down, only a few drops spill out]\n",
      "JACK SPARROW: Why is the rum always gone?\n",
      "[Jack rises to his feet, staggers]\n",
      "[Jack picks up his hat off the top of a globe]\n",
      "JACK SPARROW: Oh! *That's* why.\n",
      "[Jack walks past the crew sleeping on hammocks, Jack is carrying a lantern]\n",
      "[some of the crew are snoring, and Cotton is among those sleeping]\n",
      "JACK SPARROW: As you were, gents.\n",
      "[Jack goes downstairs to the hold, an animal bleats, Jack unlocks the door, goes in]\n",
      "[Jack sees eerie filter \n",
      "ounts to a full pardon. Jack will be free, a privateer in the employ of England.\n",
      "WILL TURNER: Somehow I doubt Jack will consider employment the same as being free.\n",
      "LORD CUTLER BECKETT: Freedom. Jack Sparrow is a dying breed. The world is shrinking, the blank pages of the map filled in. Jack must find his place in the new world or perish. Not unlike you, Mister Turner. You and your fiancée face the hangman's noose. \n",
      "WILL TURNER: So you get both Jack *and* the Black Pearl.\n",
      "LORD CUTLER BECKETT: The Black Pearl?\n",
      "WILL TURNER: The property you want that he possesses.\n",
      "LORD CUTLER BECKETT: A ship? Hardly. The item in question's considerably smaller and far more valuable. Something Sparrow keeps on his person at all times. A compass. Ah, you know it. Bring back that Compass, or there's no deal.\n",
      "Scene: BLACK PEARL\n",
      "[Jack is using calipers on a map, using his left hand, a \"P\" brand mark is seen on his right arm]\n",
      "[an hourglass is in the background, Jack taps the Compass]\n",
      "[Jack looks in his bottle, turns the bottle upside-down, only a few drops spill out]\n",
      "JACK SPARROW: Why is the rum always gone?\n",
      "[Jack rises to his feet, staggers]\n",
      "[Jack picks up his hat off the top of a globe]\n",
      "JACK SPARROW: Oh! *That's* why.\n",
      "[Jack walks past the crew sleeping on hammocks, Jack is carrying a lantern]\n",
      "[some of the crew are snoring, and Cotton is among those sleeping]\n",
      "JACK SPARROW: As you were, gents.\n",
      "[Jack goes downstairs to the hold, an animal bleats, Jack unlocks the door, goes in]\n",
      "[Jack sees eerie filter \n"
     ]
    }
   ],
   "source": [
    " for fileid in webtext.fileids():\n",
    "   print(webtext.raw('pirates.txt')[8000:9500])\n"
   ]
  },
  {
   "cell_type": "markdown",
   "metadata": {},
   "source": [
    "Question 4\n",
    "\n",
    "Under package nps_chat, see what files are in it.\n",
    "Find 'user121' and see how many posts he posted in all.\n",
    "Find out how many unique user in each age range group. (20s, 30s,...)(Hint: files' name)\n"
   ]
  },
  {
   "cell_type": "code",
   "execution_count": 130,
   "metadata": {
    "collapsed": true
   },
   "outputs": [],
   "source": [
    "import nltk"
   ]
  },
  {
   "cell_type": "code",
   "execution_count": 131,
   "metadata": {
    "collapsed": true
   },
   "outputs": [],
   "source": [
    "from nltk.corpus import nps_chat"
   ]
  },
  {
   "cell_type": "code",
   "execution_count": 132,
   "metadata": {
    "collapsed": true
   },
   "outputs": [],
   "source": [
    "user121= nps_chat.posts()"
   ]
  },
  {
   "cell_type": "code",
   "execution_count": 133,
   "metadata": {
    "collapsed": false
   },
   "outputs": [
    {
     "name": "stdout",
     "output_type": "stream",
     "text": [
      "[['now', 'im', 'left', 'with', 'this', 'gay', 'name'], [':P'], ...]\n"
     ]
    }
   ],
   "source": [
    "print(user121)"
   ]
  },
  {
   "cell_type": "code",
   "execution_count": 333,
   "metadata": {
    "collapsed": false
   },
   "outputs": [
    {
     "data": {
      "text/plain": [
       "10567"
      ]
     },
     "execution_count": 333,
     "metadata": {},
     "output_type": "execute_result"
    }
   ],
   "source": [
    "len(user121)"
   ]
  },
  {
   "cell_type": "code",
   "execution_count": 134,
   "metadata": {
    "collapsed": true
   },
   "outputs": [],
   "source": [
    "from nltk.corpus import nps_chat as nps"
   ]
  },
  {
   "cell_type": "code",
   "execution_count": 136,
   "metadata": {
    "collapsed": false
   },
   "outputs": [
    {
     "data": {
      "text/plain": [
       "['10-19-20s_706posts.xml',\n",
       " '10-19-30s_705posts.xml',\n",
       " '10-19-40s_686posts.xml',\n",
       " '10-19-adults_706posts.xml',\n",
       " '10-24-40s_706posts.xml',\n",
       " '10-26-teens_706posts.xml',\n",
       " '11-06-adults_706posts.xml',\n",
       " '11-08-20s_705posts.xml',\n",
       " '11-08-40s_706posts.xml',\n",
       " '11-08-adults_705posts.xml',\n",
       " '11-08-teens_706posts.xml',\n",
       " '11-09-20s_706posts.xml',\n",
       " '11-09-40s_706posts.xml',\n",
       " '11-09-adults_706posts.xml',\n",
       " '11-09-teens_706posts.xml']"
      ]
     },
     "execution_count": 136,
     "metadata": {},
     "output_type": "execute_result"
    }
   ],
   "source": [
    "nps.fileids()"
   ]
  },
  {
   "cell_type": "code",
   "execution_count": 137,
   "metadata": {
    "collapsed": false
   },
   "outputs": [
    {
     "name": "stdout",
     "output_type": "stream",
     "text": [
      "<!-- edited with XMLSpy v2007 sp1 (http://www.altova.com) by Eric Forsyth (Naval Postgraduate School) -->\n",
      "<Session xmlns:xsi=\"http://www.w3.org/2001/XMLSchema-instance\" xsi:noNamespaceSchemaLocation=\"postClassPOSTagset.xsd\">\n",
      "\t<Posts>\n",
      "\t\t<Post class=\"Statement\" user=\"10-19-20sUser7\">now im left with this gay name<terminals>\n",
      "\t\t\t\t<t pos=\"RB\" word=\"now\"/>\n",
      "\t\t\t\t<t pos=\"PRP\" word=\"im\"/>\n",
      "\t\t\t\t<t pos=\"VBD\" word=\"left\"/>\n",
      "\t\t\t\t<t pos=\"IN\" word=\"with\"/>\n",
      "\t\t\t\t<t pos=\"DT\" word=\"this\"/>\n",
      "\t\t\t\t<t pos=\"JJ\" word=\"gay\"/>\n",
      "\t\t\t\t<t pos=\"NN\" word=\"name\"/>\n",
      "\t\t\t</terminals>\n",
      "\t\t</Post>\n",
      "\t\t<Post class=\"Emotion\" user=\"10-19-20sUse\n"
     ]
    }
   ],
   "source": [
    "print(nps.raw('10-19-20s_706posts.xml')[:600])"
   ]
  },
  {
   "cell_type": "code",
   "execution_count": 138,
   "metadata": {
    "collapsed": true
   },
   "outputs": [],
   "source": [
    "posts = nps.xml_posts()"
   ]
  },
  {
   "cell_type": "code",
   "execution_count": 141,
   "metadata": {
    "collapsed": false
   },
   "outputs": [
    {
     "name": "stdout",
     "output_type": "stream",
     "text": [
      "[<Element 'Post' at 0x1102edae8>, <Element 'Post' at 0x110281cc8>, ...]\n"
     ]
    }
   ],
   "source": [
    "print(posts)"
   ]
  },
  {
   "cell_type": "markdown",
   "metadata": {},
   "source": [
    "Question 5\n",
    "Use Gutenberg and Web_text data. Find out what are the top 5 words that Shakespeare used but we do not use in currently.\n",
    "Take top 50 words from Shakespeare (all 3 books) and top 50 from Web_text (all the records).\n",
    "Remove punctuation and stop words.\n",
    "Remove the words we still use today, and get the unused list. Show the top 5 elements. \n"
   ]
  },
  {
   "cell_type": "code",
   "execution_count": 235,
   "metadata": {
    "collapsed": false
   },
   "outputs": [],
   "source": [
    "import nltk\n"
   ]
  },
  {
   "cell_type": "code",
   "execution_count": 236,
   "metadata": {
    "collapsed": true
   },
   "outputs": [],
   "source": [
    "from nltk.corpus import gutenberg"
   ]
  },
  {
   "cell_type": "code",
   "execution_count": 237,
   "metadata": {
    "collapsed": false
   },
   "outputs": [
    {
     "data": {
      "text/plain": [
       "['austen-emma.txt',\n",
       " 'austen-persuasion.txt',\n",
       " 'austen-sense.txt',\n",
       " 'bible-kjv.txt',\n",
       " 'blake-poems.txt',\n",
       " 'bryant-stories.txt',\n",
       " 'burgess-busterbrown.txt',\n",
       " 'carroll-alice.txt',\n",
       " 'chesterton-ball.txt',\n",
       " 'chesterton-brown.txt',\n",
       " 'chesterton-thursday.txt',\n",
       " 'edgeworth-parents.txt',\n",
       " 'melville-moby_dick.txt',\n",
       " 'milton-paradise.txt',\n",
       " 'shakespeare-caesar.txt',\n",
       " 'shakespeare-hamlet.txt',\n",
       " 'shakespeare-macbeth.txt',\n",
       " 'whitman-leaves.txt']"
      ]
     },
     "execution_count": 237,
     "metadata": {},
     "output_type": "execute_result"
    }
   ],
   "source": [
    "nltk.corpus.gutenberg.fileids()"
   ]
  },
  {
   "cell_type": "code",
   "execution_count": 238,
   "metadata": {
    "collapsed": false
   },
   "outputs": [
    {
     "name": "stdout",
     "output_type": "stream",
     "text": [
      "['[', 'The', 'Tragedie', 'of', 'Julius', 'Caesar', ...]\n"
     ]
    }
   ],
   "source": [
    "words1=gutenberg.words('shakespeare-caesar.txt')\n",
    "words2=gutenberg.words('shakespeare-hamlet.txt')\n",
    "words3=gutenberg.words('shakespeare-macbeth.txt')\n",
    "total_words=words1+words2+words3\n",
    "print(total_words)"
   ]
  },
  {
   "cell_type": "code",
   "execution_count": 404,
   "metadata": {
    "collapsed": false
   },
   "outputs": [],
   "source": [
    "fdist1= nltk.FreqDist(total_words);"
   ]
  },
  {
   "cell_type": "code",
   "execution_count": null,
   "metadata": {
    "collapsed": true
   },
   "outputs": [],
   "source": [
    "vocabulary1=fdist1.keys()"
   ]
  },
  {
   "cell_type": "code",
   "execution_count": 412,
   "metadata": {
    "collapsed": false
   },
   "outputs": [
    {
     "name": "stdout",
     "output_type": "stream",
     "text": [
      "dict_keys(['Voyce', 'coming', 'decay', 'Taper', 'Wearie', 'Lesser', 'easier', 'brandisht', 'hoopes', 'dish', 'regards', 'Pox', 'nights', 'mocke', 'cam', 'reconcile', 'neck', 'knowne', 'than', 'approach', 'many', 'Breast', 'sorely', 'infirmitie', 'Obserue', 'Macb', 'strongest', 'Theme', 'seduc', 'Picture', 'whatsoeuer', 'resolute', 'Caps', 'deed', 'Beggers', 'night', 'Beasts', 'Mankinde', 'deale', 'Onely', 'eye', 'Sweno', 'cryed', 'beautifed', 'Luc', 'Cuplet', 'Seale', 'Fleans', 'Thanes', 'olde', 'lungs', 'Adieu', 'instant', 'gifts', 'egge', 'portents', 'Bloud', 'posture', 'transformation', 'Prophesie', 'e', 'Elder', 'Bondmen', 'Stew', 'Fall', 'mightie', 'future', 'leads', 'glassie', 'marry', 'front', 'Dead', 'Pagan', 'knell', 'drops', 'Reade', 'Julius', 'euerie', 'vouch', 'Closet', 'Forth', \"'\", 'Bending', 'drowsie', 'Por', 'Heath', 'behauiour', 'encourag', 'deerer', 'Fates', 'Torches', 'heartily', 'supt', 'threatning', 'deseru', 'fare', 'Stop', 'clayme', 'Car', 'rauell', 'pretend', 'Maisters', 'right', ';', 'excuse', 'Hopes', 'downward', 'Sirra', 'Tragedie', 'Minister', 'Neutrall', 'Arrow', 'Frailties', 'Francisco', 'Crowne', 'All', 'Clay', 'scourge', 'greeting', 'aduice', 'pretence', 'Partizan', 'thereabout', 'Rankly', 'kniues', 'Sweare', 'proclaim', 'Husbanded', 'clamor', 'Shadowes', 'bunghole', 'False', 'Winne', 'Enter', 'set', 'Mercifull', 'iawes', 'invulnerable', 'Reuolution', 'Thould', 'except', 'slander', 'aid', 'Cauerne', 'bolter', 'sweetly', 'brau', 'generous', 'pride', 'thereby', 'Gouts', 'Feauer', 'distinguish', 'Curriors', 'Basket', 'Fenny', 'vnattended', 'Centinels', 'vnaccustom', 'Whore', 'women', 'assaid', 'distresses', 'Sennet', 'Iest', 'Riotous', 'Dame', 'Controuersie', 'vacancie', 'meddle', 'wassels', 'disappointed', 'shrieks', 'vnyoake', 'go', 'desir', 'Prey', 'sollemne', 'Naturall', 'Keepe', 'Fiffe', 'Wake', 'lightest', 'defeat', 'Garland', 'Chorus', 'beats', 'Gentleman', 'annoint', 'Guests', 'hasten', 'Alarme', 'Winde', 'Therein', 'Rood', 'Fennell', 'Addicted', 'vertuous', 'Mazard', 'beard', 'wauing', 'Lawyer', 'Speech', 'Modell', 'Fashion', 'Daughter', 'smallest', 'condemn', 'attyre', 'Did', 'Murther', 'gentlenesse', 'climbe', 'adiew', 'about', 'sage', 'twould', 'Companion', 'apprehensiue', 'punisht', 'Mace', 'interprete', 'Sea', 'behold', 'Quick', 'greeuous', 'Hymen', 'entreatments', 'vanishest', 'streames', 'betimes', 'Mysterie', 'scruples', 'glean', 'meant', 'followes', 'darefull', 'compact', 'Which', 'length', 'Diuellish', 'Gent', 'Whats', 'Pent', 'remembrance', 'rubbes', 'fetch', 'Hill', 'accepts', 'Approch', 'Reueller', 'friend', 'youths', 'Sutors', 'viewing', 'smack', 'strike', 'roar', 'Cyclops', 'direfull', 'weepe', 'dyest', 'Apparition', 'reputed', 'frighted', 'Deliberate', 'Childhood', 'Conquerors', 'Herald', 'sorrow', 'bring', 'whipping', 'steales', 'consort', 'champion', 'humour', 'grosser', 'howre', 'huge', 'Maiesties', 'professes', 'co', 'marr', 'marching', 'look', 'Rhinoceros', 'transported', 'vnborne', 'familiar', 'begun', 'Poland', 'Accounted', 'sledded', 'braz', 'Comerce', 'withal', 'befall', 'Tale', 'Happy', 'amaz', 'Straine', 'leasure', 'Vnhand', 'flaw', 'entreat', 'Cosine', 'forcing', 'pocky', 'buttons', 'shewes', 'proceed', 'crew', 'Hart', 'Foole', 'body', 'beene', 'Yeomans', 'reconcil', 'trifle', 'Gulfe', 'Lowlinesse', 'Foyle', 'gratis', 'Dido', 'Attends', 'sweete', 'quickely', 'improue', 'lifted', 'carrying', 'Woe', 'Yorick', 'Venom', 'inuest', 'vnforc', 'smear', 'protest', 'Beleeue', 'waite', 'fire', 'tyred', 'Stonie', 'feeble', 'skirts', 'beware', 'smiling', 'Cumberland', 'Time', 'parting', 'Conduct', 'Senate', 'vp', 'Philippi', 'scarcely', 'Doctor', 'Stye', 'Legges', 'Feuorous', 'Compact', 'conceit', 'appease', 'rouse', 'Companies', 'leaping', 'shamefull', 'Foiles', 'twentie', 'Full', 'forfeite', 'Cast', 'Horsses', 'aright', 'Primy', 'Malkin', 'prickt', 'Center', 'perusall', 'fought', 'maruels', 'sworn', 'Cooz', 'search', 'Cutpurse', 'Horsebacke', 'heads', 'paralell', 'Labourer', 'kicke', 'harsh', 'awak', 'forgone', 'Sucke', 'Emulation', 'Brothell', 'compulsiue', 'furnish', 'pursuest', 'conuey', 'powre', 'chopfalne', 'Streets', 'view', 'thrice', 'wild', 'Courage', 'perform', 'damnable', 'Light', 'preserued', 'equiuocation', 'Weazell', 'debt', 'disclose', 'corporall', 'earnes', 'Tropically', 'longer', 'declining', 'Donal', 'illuminate', 'Tenure', 'enurn', 'slewe', 'loads', 'boue', 'happy', 'confine', 'led', 'Dutie', 'Traueller', 'Inuite', 'Briefe', 'Market', 'early', 'sights', 'Chamber', 'dispos', 'Mortalitie', 'attaines', 'venom', 'Tender', 'sinewes', 'Seal', 'Septima', 'winke', 'Messa', 'els', 'bury', 'necessities', 'weede', 'Hated', 'Season', 'Becomes', 'Wash', 'slippery', 'Complie', 'Denmarke', 'range', 'infected', 'start', 'or', 'Wooes', 'base', 'Oare', 'Neighbors', 'flong', 'Apparell', 'dusty', 'Run', 'solidity', 'lids', 'expence', 'Elues', 'Tertius', 'baite', 'stalke', 'shriuing', 'Garbage', 'if', 'Cannons', 'Caes', 'Stirre', 'Capitall', 'Iibes', 'Mercurie', 'hatch', 'Rewards', 'Follow', 'Mouse', 'baser', 'Goes', 'torture', 'Rumor', 'happes', 'Order', 'would', 'vntrod', 'hope', 'stretch', 'Regions', 'Wee', 'Spoiles', 'Pollonius', 'gallopping', 'murthers', 'Lapwing', 'Deuotion', 'Gen', 'kisse', 'Calfe', 'worse', 'Cousin', 'praises', 'More', 'People', 'pitch', 'Vlcerous', 'vnwholsome', 'establish', 'discouered', 'clutch', 'attend', 'Vtterance', 'Ciuill', 'beckens', 'Come', 'alowd', 'Lap', 'harrold', 'spill', 'Writers', 'wandring', 'Quite', 'Seat', 'Ireland', 'importun', 'reserue', 'Ecclipse', 'worthy', 'Others', 'digestion', 'hastie', 'ended', 'divulging', 'begger', 'Fit', '-', 'Trade', 'This', 'Russian', 'ont', 'resemble', 'purposes', 'Extasie', 'speake', 'holily', 'lawlesse', 'Rouse', 'make', 'health', 'bloodier', 'sham', 'Selues', 'Willow', 'Audience', 'mood', 'disioynt', 'Nay', 'Brothers', 'remoued', 'sustaine', 'hie', 'Noble', 'Clamors', 'Syllable', 'Cups', 'sounded', 'teamed', 'abhominably', 'estate', 'acquaint', 'Lionnesse', 'reason', 'slights', 'Signifying', 'waxe', 'thicke', 'Lime', 'agreeing', 'Rather', 'courb', 'shreds', 'sick', 'Feat', 'abiure', 'Vnlesse', 'celebrated', 'say', 'Leade', 'Led', 'ignorance', 'generall', 'Formost', 'Squadrons', 'Dust', 'gaine', 'vtter', 'Roughly', 'least', 'station', 'guilty', 'Meeting', 'Mid', 'Louers', 'Surgeon', 'offered', 'famous', 'naught', 'Manet', 'Leuie', 'r', 'vnluckily', 'vrge', 'beginning', 'Peebles', 'swathing', 'Orizons', 'Carrions', 'vbique', 'flies', 'Capitoll', 'exprest', 'gaged', 'dyre', 'shold', 'deede', 'presence', 'exhalations', 'greeuously', 'Ice', 'dis', 'parley', 'Iephta', 'Instrument', 'Coffin', 'Vnknowne', 'fore', 'Ministers', 'hugger', 'Elbowes', 'Bels', 'rowe', 'wittingly', 'Comets', 'spurres', 'Thicke', 'Lenton', 'Vrine', 'faults', 'vnruffe', 'Popil', 'lesse', 'Troopes', 'lest', 'Seyw', 'ponderous', 'stowed', 'fogge', 'recame', 'Heroes', 'nothing', 'Turke', 'pleasures', 'passes', 'Trebonius', 'trouble', 'Spundge', 'Best', 'hum', 'Osricke', 'tyed', 'Cogitations', 'step', 'Scepter', 'held', 'gentler', 'Euery', 'processe', 'apprehension', 'exercise', 'Guardian', 'Bonfire', 'Mortals', 'Maid', 'ee', 'Battlements', 'passions', 'got', 'coap', 'Fierce', 'bread', 'Bands', 'Batchellour', 'Sticke', 'Gyant', 'Postscript', 'rauen', 'borne', 'grone', 'warning', 'Quoth', 'Paper', 'bruite', 'Bawd', 'looking', 'Ditchers', 'Sauiours', 'clap', 'Thumbes', 'Cradle', 'she', 'Bell', 'Crickets', 'clos', 'dangers', 'sickly', 'schoole', 'Voltemand', 'laps', 'drugge', 'happinesse', 'rude', 'sauage', 'Ye', 'Hearsed', 'satisfied', 'guarded', 'work', 'Cassius', 'rest', 'Fury', 'Harbingers', 'quit', 'face', 'Armor', 'Write', 'compos', 'Eates', 'farewell', 'Growes', 'costly', 'March', 'Boyle', 'scorning', 'apale', 'insisted', 'sides', 'forgetfull', 'Portia', 'Celestiall', 'Omnes', 'Prayers', 'noyse', 'Recognizances', 'you', 'noise', 'hurtled', 'Office', 'expedition', 'Mothers', 'depart', 'Liuing', 'Bene', 'stretcht', 'Scoenes', 'built', 'thralles', 'but', 'Low', 'Vse', 'sate', 'Cowardice', 'Liuer', 'euill', 'directly', 'Duncane', 'puft', 'thoughts', 'swarme', 'crost', 'neerest', 'Blessings', 'Worlds', 'Trumpet', 'vttered', 'cancell', 'duties', 'Clossets', 'hees', 'Ambass', 'Poysoner', 'don', 'Tinct', 'Guest', 'force', 'according', 'fix', 'Decius', 'affection', 'vnmake', 'perseuer', 'Sinewes', 'Choller', 'pratler', 'Comicall', 'garments', 'starting', 'brainish', 'hanging', 'Verse', 'crafty', 'surueying', 'question', 'spurne', 'vpbraid', 'delinquents', 'Clemencie', 'Mungrels', 'immediate', 'tugging', 'glimpses', 'admirable', 'Broakers', 'accompany', 'Humanity', 'Claimes', 'Conspirators', 'heare', 'Dane', 'Together', 'fly', 'chaunted', 'abuse', 'businesse', 'Halfe', 'Accursed', 'Caesars', 'Beene', 'Valiant', 'bearers', 'arme', 'quantitie', 'welcome', 'Garden', 'growne', 'troubles', 'construe', 'reueale', 'Rancours', 'Brazon', 'crimefull', 'Rubs', 'does', 'traines', 'Violets', 'drowsily', 'Ordenance', 'Cleane', 'reades', 'forbid', 'Authoriz', 'Calamity', 'persons', 'seize', 'wondrous', 'vnder', 'greeued', 'answered', 'Cannoneer', 'dore', 'congregation', 'misse', 'Nothing', 'Louer', 'respects', 'Dash', 'worme', 'sinkes', 'frame', 'touching', 'trulie', 'spoyle', 'sicke', 'smoak', 'Iades', 'Desart', 'try', 'comming', 'continuall', 'die', 'pleas', 'Pulpits', 'enow', 'Great', 'Cancell', 'mouing', 'Fishmonger', 'Opinions', 'pledge', 'draughts', 'asham', 'Mechanicall', 'Cudgell', 'hackt', 'Obseruer', 'Akers', '].', 'Dar', 'Hircan', 'Imaginings', 'foe', 'droppes', 'batten', 'Conuoy', 'Lyon', 'surest', 'throng', 'Keepes', 'Woo', 'lash', 'Vntill', 'wayward', 'knowings', 'Happily', 'battailes', 'summe', 'affections', 'rauishing', 'ayry', 'melteth', 'hat', 'Orator', 'Hurley', 'learning', 'infus', 'wisenesse', 'Thane', 'ene', 'Of', 'appalls', 'Yaughan', 'Reuenges', 'twere', 'Orchard', 'purg', 'Roofe', 'bids', 'Disease', 'Possets', 'thousands', 'smels', 'Monkie', 'acts', 'lines', 'pickers', 'boades', 'warmes', 'discourse', 'Play', 'Cobler', 'Plentie', 'Making', 'readie', 'mixt', 'went', 'harke', 'Womanish', 'Fife', 'Non', 'sweeter', 'plaid', 'Enfranchisement', 'reares', 'beget', 'strangers', 'scowre', 'hot', 'Yours', 'laught', 'Cuffes', 'farther', 'Garbe', 'sulleyes', 'fit', 'duty', 'Norweyan', 'tether', 'humor', 'vncharge', 'remedie', 'nill', 'Byrnam', 'Iutty', 'Behold', 'Dreame', 'Quilles', 'tell', 'conuinces', 'Doome', 'rate', 'accursed', 'perceiue', 'wrathfull', 'Minion', 'Actus', 'Ossa', 'sharke', 'cloud', 'resting', 'Beares', 'Soldier', 'roughly', 'Greater', 'Malcome', 'Tweakes', 'Confession', 'power', 'Banquo', 'debate', 'Pitfall', 'Are', 'lights', 'commings', 'forget', 'nose', 'audience', 'apt', 'onely', 'sinnes', 'neglect', 'twice', 'stealers', 'Poore', 'Sheath', 'confesse', 'gorge', 'Omitted', 'Marching', 'grafted', 'assume', 'knits', 'y', 'farthest', 'Chayre', 'smoake', 'beame', 'Profit', 'Saue', 'spred', 'expectansie', 'Greekes', 'threw', 'diet', 'Whose', 'fat', 'Clit', 'Weeds', 'Newes', 'imports', 'rance', 'Passing', 'incens', 'chidden', 'likeliehood', 'leane', 'Ensigne', 'ber', 'shalt', 'obserue', 'laboured', 'bestil', 'commands', 'ten', 'safety', 'float', 'neer', 'Capitol', 'Faulconers', 'those', 'buzze', 'cappes', 'tweene', 'mony', 'comfort', 'fee', 'friendship', 'illume', 'Turn', 'monsters', 'slew', 'Rayne', 'turnes', 'Three', 'coueted', 'Hanging', 'murder', 'Mars', 'Hee', 'builde', 'Vantage', 'trust', 'Does', 'Cum', 'Clambring', 'bulwarke', 'visitation', 'wafter', 'corner', 'motion', 'fawn', 'Humor', 'Vpon', 'toth', 'tydings', 'vouchsafe', 'point', 'crowing', 'Sleeke', 'Smiles', 'spacious', 'hatefull', 'dumbe', 'Besides', 'steals', 'Tush', 'thicker', 'thanks', 't', 'Offer', 'Nobility', 'shrill', 'Petition', 'fast', 'fires', 'Attend', 'cleere', 'stab', 'folde', 'intreate', 'hell', 'Marriage', 'Scullion', 'expectation', 'world', 'Sheepe', 'worser', 'infaith', 'errand', 'Anon', 'felt', 'Seruants', 'Shake', 'sterrile', 'displeas', 'Conscience', 'spouts', 'Contaminate', 'Iewels', 'Captaine', 'compare', 'rarer', 'bloods', 'Window', 'shagge', 'cease', 'Ransomes', 'turneth', 'embrace', 'Reuolt', 'myraculous', 'Hand', 'loe', 'refraine', 'leades', 'Hazard', 'sleeping', 'vngracious', 'Conquests', 'augmented', 'preuaile', 'dismantled', 'stocke', 'glaz', 'Dogs', 'Rubie', 'Bounty', 'ashamed', 'Accents', 'Trafficke', 'Tydings', 'pious', 'Returning', '3', 'anothers', 'Impatient', 'alwayes', 'Ant', 'vnnumbred', 'rumpe', 'cloath', 'winking', 'reply', 'fashion', 'deerely', 'begge', 'Know', 'trebble', 'insuppressiue', 'Blossomes', 'Dine', 'bides', 'mad', 'cream', 'fitnesse', 'gouerne', 'subtle', 'Beware', 'Monsters', 'glories', 'Cicero', 'Valentine', 'whit', 'Giuen', 'Br', 'nods', 'pray', 'Spaine', 'basest', 'Layes', 'Horse', 'inuisible', 'suites', '1599', 'Herod', 'Mettle', 'Highnesse', 'oh', 'Tower', 'Toyles', 'conscience', 'Weyard', 'sicklied', 'Augures', 'bake', 'minutes', 'Caska', 'confus', 'Intelligence', 'Lambe', 'Doubtfull', 'mourne', 'Traitorous', 'offends', 'outHerod', 'forgery', 'farre', 'document', 'driue', 'Walkes', 'Fearing', 'Begin', 'Forke', 'Titles', 'extenuated', 'drooping', 'exigent', 'Pronounce', 'tediousnesse', 'Nerues', 'Mason', 'Wenches', 'It', 'Flames', 'Pompeyes', 'Messenger', 'blackest', 'skirre', 'Immortall', 'compast', 'mutines', 'flowers', 'raise', 'hates', 'Humour', 'Mistresse', 'encombred', 'reflection', 'aye', 'bounds', 'reckon', 'minutely', 'vndivulg', 'Visit', 'rebuk', 'Whereas', 'Eagles', 'Interim', 'approue', 'inhabit', 'Sprindge', 'calculate', 'Strato', 'faire', 'griefe', 'Men', 'Ioyntresse', 'brow', 'Angel', 'rauin', 'tythe', 'becoming', 'ear', 'break', 'wastfull', 'yeelded', 'diuide', 'Equiuocator', 'Neptunes', 'thirtie', 'Dishonor', 'occurrents', 'Pons', 'orewhelm', 'youth', 'Spleene', 'Summer', 'disloyall', 'fulfill', 'threaten', 'Affliction', 'prayses', 'meanes', 'stare', 'feather', 'repetition', 'Billow', 'pour', 'chastise', 'wood', 'sweepe', 'Damme', 'merrily', 'care', 'directions', 'Ten', 'Antidote', 'Cymber', 'maske', 'vertue', 'Lottery', 'regarded', 'Receiues', 'relieu', 'moderate', 'vnsmirched', '(', 'Point', 'Chamberlaines', 'ore', 'Treatise', 'Spade', 'inobled', 'notice', 'Verses', 'redeliuer', 'praying', 'frankely', 'extent', 'Martiall', 'pettie', 'Aleppo', 'Sign', 'Inne', 'Limbes', 'legs', 'iournies', 'strengthen', 'Preparations', 'vnholy', 'Cowards', 'cine', 'Whilst', 'danke', 'stout', 'whiffe', 'Amazement', 'winch', 'Rebellion', 'guts', 'beautified', 'Liquor', 'bidding', 'massie', 'high', 'Foes', 'Rayes', 'Homage', 'Gallowgrosses', 'Stone', 'proceeded', 'Inuenter', 'sliuer', 'likely', 'Strengthen', 'grones', 'trusted', 'Gramercy', 'sight', 'Hor', 'Space', 'l', 'alone', 'capeable', 'Hie', 'annexment', 'foresaid', 'cursed', 'other', 'Al', 'sixteene', 'Widdowes', 'Notion', 'Cause', 'Crowes', 'ring', 'strangely', 'Neuer', 'recouer', 'compell', 'run', 'Barn', 'flushing', 'Prepare', 'Tide', 'Forme', 'Neats', 'giue', 'glosse', 'heares', 'foote', 'possesse', 'Reigne', 'Secundus', 'rapt', 'conceyu', 'mincing', 'minute', 'laments', 'Genius', 'Miseries', 'squeale', 'odde', 'Thinke', 'steed', 'runnes', 'trauaile', 'gliding', 'Progresse', 'Sexta', 'lying', 'Chance', 'shaking', 'constant', 'Racke', 'winne', 'MACBETH', 'Fate', 'conioyn', 'Pate', 'wildely', 'abide', 'waterflie', 'rabble', 'Begge', 'returneth', 'shut', 'pul', 'Runne', 'yeeld', 'Falling', 'nipping', 'debatement', 'blown', 'envenom', 'Nobles', 'infinite', 'Down', 'Grant', 'shoulder', 'murdering', 'East', 'Lecture', 'mew', 'Bee', 'horrible', 'Clowne', 'Ideot', 'Red', 'dozen', 'Society', 'Hose', 'tending', 'insolence', 'Faith', 'Pub', 'Building', 'sparrow', 'bleeding', 'Starres', 'bewept', 'throwne', 'Pride', 'pot', 'stopt', 'Aroynt', 'feete', 'Another', 'stinking', 'posset', 'souldiers', 'vilde', 'skinnes', 'minded', 'sweare', 'winters', 'toy', 'reeking', 'direst', 'Hammes', 'Gentrie', 'back', 'prettinesse', 'Diet', 'adheres', 'patient', 'hearer', 'faded', 'vnfirme', 'Booke', 'affectation', 'Leather', 'liue', 'Macduffes', 'witnesse', 'steele', 'mak', 'dedicate', 'passion', 'Iewell', 'imitated', 'slept', 'Danger', 'Storme', 'drie', 'Voice', 'Replies', 'Mettels', 'euen', 'Coffers', 'soule', 'Dewes', 'Vnderstanding', 'barr', 'seruant', 'Vulcans', 'method', '1', 'Masking', 'otherwise', 'selleredge', 'greetes', 'confirm', 'Gall', 'strucken', 'Frends', 'blench', 'Past', 'ingrafted', 'Antony', 'Bird', 'Norway', 'rise', 'palme', 'flourishes', 'Thing', 'Abuse', 'create', 'Opens', 'illusion', 'hourely', 'Blood', 'Proscription', 'Luxury', 'pestilence', 'Mountaines', 'heard', 'sounding', 'trash', 'Absent', 'corrupted', 'lane', 'Ouer', 'Nettles', 'dayes', 'Render', 'Statillius', 'cheere', 'Desiring', 'sutor', 'Wed', 'transforme', 'vniust', 'groanes', 'Pastoricall', 'Tarquin', 'reioyce', 'Shepheards', 'Recounts', 'little', 'Carried', 'rebels', 'pole', 'Pindarus', 'erring', 'heyre', 'both', 'Daysie', 'condition', 'Dukes', 'Mistrust', 'seeme', 'Inky', 'perfections', 'nearest', 'Patientlie', 'Meerely', 'Faults', 'indued', 'begins', 'Age', 'Searching', 'setled', 'busie', 'Northerne', 'instantly', 'truant', 'alas', 'Infants', 'Chaplesse', 'eaten', 'burning', 'greeue', 'Gorging', 'sprights', 'falne', 'extreamity', 'ioy', 'Exit', 'Taint', 'Listning', 'part', 'resort', 'harme', 'pluckt', 'scratcht', 'Began', 'foam', 'natiue', 'watchfull', 'lanke', 'Polonius', 'loosed', 'Weeping', 'sense', 'mowes', 'hunger', 'satisfaction', 'putting', 'trifled', 'committed', 'marke', 'poysond', 'bee', 'flight', 'com', 'gainst', 'Worthie', 'Leape', 'smart', 'Fetters', 'Daysies', 'Hercules', 'Exits', 'knocking', 'Nero', 'Powre', 'worlds', 'Tongue', 'endure', 'Assis', 'diuided', 'stoppes', 'Guard', 'depriue', 'scratch', 'truest', 'wonted', 'wherefore', 'spilt', 'Commandment', 'Distinguishes', 'gilded', 'Emphasis', 'deceiue', 'Comedie', 'thy', 'esteem', 'Kites', 'warres', 'Tooth', 'toward', 'Rest', 'bloud', 'Whereof', 'infirmities', 'Artemidorus', 'yoake', 'crust', 'Egge', 'Anckle', 'fraught', 'Goblin', 'God', 'releeued', 'Doublet', 'Monarchs', 'Shrow', 'purge', 'grey', 'merrie', 'vpshot', 'Sparrowes', 'operant', 'gastly', 'deceitfull', 'Inheritance', 'Pictures', 'sorry', 'decree', 'slightly', 'lack', 'Memorie', 'winkes', 'professe', 'daughter', 'fulnesse', 'summons', 'Fathers', 'tedious', 'Beauer', 'downfall', 'Throat', 'Countries', 'danger', 'bayed', 'Our', 'Neruij', 'backe', 'weares', 'blacke', 'sweatie', 'afternoone', 'primall', 'leapes', 'Husbands', 'Impostors', 'Scorpions', 'Brest', 'Assemble', 'off', 'Countrey', 'disturbed', 'intill', 'seeking', 'Gripe', 'names', 'deepely', 'worth', 'daggers', 'legges', 'impatiently', 'signified', 'left', 'Moity', 'fauors', 'Master', 'Padock', 'springs', 'teethes', 'greenly', 'shell', 'Womans', 'top', 'iudgement', 'tokens', 'Skreenes', 'Target', 'informes', 'Skill', 'drunk', 'windlesses', 'Demand', 'Satyre', 'moue', 'bowels', 'Due', 'breeding', 'payment', 'diligence', 'Scone', 'richest', 'Dost', 'slaying', 'Sodaine', 'consummation', 'stal', 'Iew', 'Wall', 'sweeten', 'Heraldrie', 'brutish', 'tried', 'ruffle', 'louing', 'Iugling', 'profit', 'found', 'Comming', 'loued', 'Arm', 'leuell', 'blame', 'desolate', 'wide', 'Least', 'rushing', 'growing', 'Contumely', 'bird', 'flattery', 'bounded', 'carried', 'assaile', 'Countenance', 'From', 'incensed', 'ayre', 'Guilt', 'Region', 'Motion', 'plague', 'thriue', 'end', 'supernaturall', 'feast', 'moued', 'shame', 'ditch', 'enrages', 'interpose', 'Recorder', 'stood', 'desirous', 'sutes', 'afear', 'Riddles', 'Cup', 'sinnewes', 'Far', 'flower', 'gidge', 'marrowlesse', 'Parragon', 'Indeede', 'Prophecying', 'Med', 'Snake', 'tongu', 'vnlesse', 'Sex', 'Il', 'Scholler', 'worldly', 'pre', 'strewments', 'Sconce', 'Alchymie', 'Imployment', 'Seedes', 'Inuentors', 'till', 'Strong', 'distill', 'vnprepar', 'Candle', 'Romane', 'Theefe', 'Predecessors', 'bear', 'wise', 'Vessell', 'creature', 'caught', 'Else', 'respect', 'voyces', 'sodaine', 'gather', 'quils', 'neerely', 'denote', 'flaming', 'Held', 'Betweene', 'outliues', 'Holds', 'hate', 'Counsellor', 'defeated', 'Contagion', 'intruding', 'prai', 'precedent', 'Vs', 'Bribes', 'Root', 'thee', 'recklesse', 'Peeres', 'Tiger', 'play', 'Lena', 'Iudgement', 'Gainst', 'OF', 'Obliuious', 'Wedding', 'weepes', 'storme', 'Conference', 'villaine', 'rites', 'cure', 'gladly', 'Sword', 'Incest', 'twas', 'Promontory', 'tryall', 'purer', 'Nauigation', 'heape', 'worthinesse', 'vanisht', 'Snares', 'Plebeians', 'publike', 'tricke', 'sirra', 'Faces', 'lone', 'later', 'Maids', 'Wound', 'needs', 'homage', 'Fixion', 'somthing', 'Cowardly', 'intemperance', 'hadst', 'Touching', 'Reply', 'paid', 'disperse', 'seekes', 'without', 'Complexion', 'strew', 'sufferance', 'Aspect', 'Alasse', 'Creepes', 'report', 'practice', 'Waues', 'Transformed', 'delight', 'Labio', 'coniure', 'swells', 'intent', 'Hye', 'repute', 'Mine', 'Prouidence', 'Babe', 'Lowlynesse', 'wore', 'crooked', 'breeder', 'receyuing', 'Shaking', 'til', 'Gallant', 'Memory', 'Officers', 'Billes', 'crying', 'tane', 'thaw', 'weighes', 'red', 'slab', 'wrinkled', 'Hold', 'Len', 'Awake', 'no', 'vnshaped', 'Madame', 'Ages', 'tale', 'Quarry', 'swift', 'Ducate', 'Guil', 'enemy', 'annoy', 'appoint', 'Porches', 'dropt', 'Wherefore', 'vnnaturall', 'pawse', 'Knife', 'vaine', 'forraine', 'Harnesse', 'pick', 'litter', 'briefely', 'Cai', 'Bestride', 'La', 'Curtain', 'Recorders', 'foorth', 'choice', 'grunt', 'deny', 'drink', 'scap', 'thing', 'Tigers', 'expell', 'bodies', 'Dying', 'ne', 'foole', 'still', 'determined', 'acrosse', 'Ruine', 'ragges', 'brag', 'Hibla', 'Chace', 'Oct', 'wisedome', 'Auaricious', 'stake', 'remain', 'Lay', 'Charmes', 'salt', 'Faulcon', 'clatter', 'Tables', 'slighted', 'currants', 'Crownes', 'indirections', 'mouth', 'armes', 'Vndertakings', 'cheapely', 'amazedly', 'beate', 'Moones', 'Combination', 'Satyricall', 'drop', 'practises', 'teeth', 'misgiuing', 'Tellus', 'Ah', 'sicken', 'outface', 'Diuell', 'resolu', 'yours', 'Hay', 'tempt', 'sweaten', 'Warder', 'doe', 'bestow', 'enter', 'bid', 'picture', 'cracke', 'dearly', 'ioyn', 'settled', 'griefes', 'plac', 'illnesse', 'lonelinesse', 'Perseuerance', 'wear', 'An', 'thrift', 'Weighing', 'spare', 'riuet', 'becomes', 'sayes', 'Sect', 'Calmely', 'hoodwinke', 'Ague', 'extrauagant', 'ambiguous', 'repent', 'Lethee', 'ioynt', 'disconsolate', 'throw', 'Primrose', 'grac', 'perdie', 'Fran', 'imploy', 'spring', 'Deeds', 'Suites', 'Babes', 'Wantonnesse', 'lay', 'Grating', 'squeezing', 'Soueraignty', 'horses', 'Women', 'Citizen', 'Moreouer', 'Abridgements', 'Lost', 'Northerly', 'musty', 'Firmament', 'Cases', 'were', 'pay', 'harp', 'Reynol', 'naturall', 'Violence', 'amends', 'broad', 'nickname', 'Professe', 'lyne', 'Portall', 'Mermaid', 'Shippe', 'Maggot', 'Cas', 'Nunnerie', 'Circumstances', 'Twas', 'neigh', 'slaughters', 'packing', 'Videlicet', 'gape', 'Temple', 'Soales', 'L', 'incompast', 'blankes', 'mould', 'vanquish', 'Frogge', 'cruell', 'tristfull', 'vnfelt', 'Mart', 'heartens', 'lodg', 'Compost', 'to', 'Vnder', 'Greyhounds', 'vngorg', 'Commencement', 'simple', 'Edward', 'Signet', 'Melted', 'blister', 'eight', 'mindes', 'Appar', 'Bloude', 'a', 'suppliance', 'Repugnant', 'sheath', 'Heere', 'Cosins', 'Other', 'fatter', 'Erebus', 'reuenge', 'maintains', 'Clowd', 'voyd', 'murtherous', 'Brutus', 'Brother', 'Reports', 'falsely', 'praise', 'quarter', 'remember', 'wanton', 'act', 'greeues', ':', 'croakes', 'Mole', 'Birnan', 'digested', 'rul', 'Robes', 'Mender', 'conueyance', 'fantasticke', 'Lethe', 'beauty', 'taints', 'abhorred', 'conioyntly', 'Valours', 'Sit', 'discretion', 'Tenants', 'against', 'Clo', 'Flowers', 'frowningly', 'blanch', 'anticipation', 'White', 'people', 'nourisher', 'rests', 'Disdayning', 'humble', 'Volume', 'consum', 'hands', 'K', 'Hecats', 'Sandal', 'graze', 'doore', 'Spaniell', 'tast', 'Out', 'seek', 'Early', 'Kill', 'gone', 'and', 'Menteth', 'greater', 'seuen', 'weeke', 'grudge', 'Ports', 'Bill', 'dreaded', 'Houses', 'beares', 'Southerly', 'Voltumand', 'was', 'Element', 'Line', 'embracing', 'intreaty', 'Roote', 'Seas', 'Striding', 'saies', 'Leagues', 'discouer', 'Iuggel', 'deliuer', 'ar', 'Acquaint', 'whelped', 'hearts', 'Goodnight', 'Garlands', 'bigge', 'feet', 'Renish', 'turning', 'horrid', 'toyles', 'Decayer', 'appliance', 'Olympus', 'wholsome', 'Wisedom', 'Verie', 'thinkes', 'Safety', 'cannot', 'weary', 'belou', 'attendant', 'dispatch', 'rite', 'earely', 'beleeue', 'Kernes', 'Warre', 'shrewdly', 'Affaires', 'Mistris', 'Synod', 'Farmer', 'alike', 'Domesticke', 'boughes', 'Gyues', 'poysons', 'Cass', 'skill', 'quick', 'vulgar', 'indirection', 'Importing', 'Bring', 'spend', 'saue', 'Beast', 'recount', 'Brooke', 'Theeues', 'fields', 'Anthonies', 'Wayting', 'Farwell', 'speciall', 'Angle', 'Ielly', 'blast', 'Riuer', 'Offenders', 'deigne', 'vnderstanding', 'Heire', 'riu', 'Oppression', 'Acts', 'Trifles', 'Loone', 'possible', 'hereafter', 'winde', 'smile', 'surmise', 'smacking', 'Ornament', 'Thankes', 'stooping', 'gowne', 'leaues', 'guest', 'breech', 'A', 'poorely', 'scape', 'knocke', 'sends', 'Deerer', 'teare', 'Buzzers', 'Bap', 'House', 'Fare', 'dang', 'loosest', 'Sancturize', 'Wherewith', 'finding', 'affaire', 'spirited', 'forgot', 'trammell', 'Scorne', 'Traitors', 'bondman', 'Vexed', 'profound', 'triuiall', 'vndoe', 'Bleed', 'Prompted', 'ioynes', 'ha', 'Deuice', 'Cognisance', 'sized', 'gamboll', 'signes', 'playd', 'secret', 'speaks', '1603', 'Monarkes', 'resounds', 'Agent', 'Fairies', 'leaperous', 'Floud', 'Truant', 'stolne', 'Foh', 'Body', 'Taken', 'stage', 'angerly', 'powerfully', 'malady', 'defeats', 'boystrous', 'Iouiall', 'intend', 'Animals', 'Germaine', 'vnrighteous', 'responsiue', 'Vp', 'Part', 'link', 'Breach', 'vnderlings', 'propos', 'either', 'Consequences', 'impatient', 'barren', 'hopes', 'reueng', 'forbeare', 'Vnkle', 'Plum', 'ready', 'Simples', 'appearing', 'Glories', 'Belzebub', 'liberall', 'euerlasting', 'thinking', 'Frend', 'Plucke', 'wrote', 'keep', 'Heraldry', 'losses', 'Pelion', 'supplyes', 'Vice', 'Obedience', 'Lungs', 'carelesse', 'Tradesmans', 'opinion', 'naked', 'Kalender', 'circumscrib', 'Garments', 'Buttrice', 'sometimes', 'incarnardine', 'fowly', 'Tartars', 'Angell', 'flash', 'burst', 'opposites', 'impresse', 'holy', 'Iaw', 'vnmeritable', 'tush', 'Poyson', 'beating', 'vnusuall', 'fortie', 'prolongs', 'History', 'as', 'prophane', 'Cut', 'Noblenesse', 'slaughterous', 'ouercame', 'Rosincrance', 'dwell', 'weake', 'put', 'straine', 'Modestie', 'vnprouokes', 'glare', 'fellow', 'Shaft', 'Agents', 'receyu', 'wither', 'changed', 'Peazants', 'Prouender', 'Scedule', 'Attempts', 'confession', 'Wanton', 'Vnsafe', 'crye', 'phrase', 'Skarfe', 'Councell', 'Shakes', 'Bloody', 'vnwatch', 'Comes', 'Delay', 'forward', 'lowdly', 'hedge', 'boasting', 'Make', 'Augury', 'Quintessence', 'Posterity', 'contracted', 'straite', 'Directly', 'Rosin', 'through', 'Swearers', 'deafe', 'Whether', 'Multitude', 'galls', 'downe', 'hard', 'troubled', 'Combate', 'Macduffe', 'affayres', 'retooke', 'presage', 'hurts', 'Bias', 'Tyrrany', 'forthwith', 'together', 'pester', 'Birth', 'Antiquity', 'chid', 'Pastors', 'Pe', 'Slaues', 'About', 'reioycing', 'Gardiners', 'falles', 'catching', 'imagination', 'ry', 'dismall', 'meate', 'wounded', 'besmeare', 'Captiue', 'filiall', 'dst', 'Nightly', 'Murellus', 'fierce', 'Harpier', 'this', 'teares', 'surfeted', 'neckes', 'curtsies', 'peerelesse', 'Harlot', 'Reflection', 'truepenny', 'affraide', 'pricking', 'Seruant', 'humorous', 'vnmastred', 'fresh', 'Thorow', 'Linkes', 'brought', 'Frame', 'Shakespeare', 'Whetstone', 'Kytes', 'drowned', 'murther', 'slay', 'courteous', 'highest', 'mistrust', 'Imitations', 'sterrill', 'Carde', 'thither', 'Dogge', 'astonish', 'Thither', 'told', 'Currants', 'gash', 'willingly', 'aboue', 'dreames', 'vnmanly', 'Mirrour', 'refus', 'bath', 'mile', 'Cyme', 'Clitus', 'Claudio', 'cleane', 'Article', 'Tending', 'gouern', 'recreate', 'Begger', 'credulous', 'bleeds', 'dreame', 'Sacrificers', 'Bough', 'impon', 'obseru', 'tearmes', 'Buzze', 'bow', 'slaine', 'demanded', 'Elsenour', 'turn', 'doubt', 'skin', 'Smoothnesse', 'Hang', 'knaue', 'speak', 'damne', 'Bru', 'Haile', 'Coigne', 'Bodie', 'anticipat', 'far', 'Fled', 'Rhewmy', 'fretfull', 'kindle', 'Blessing', 'personall', 'Porch', 'Things', 'they', 'Coronation', 'Scul', 'Lizards', 'vnsure', 'these', 'Index', 'Fines', 'houer', 'Heres', 'let', 'reseru', 'Toe', 'Layest', 'Marcell', 'Souldiership', 'immortall', 'Quarelling', 'steale', 'wayle', 'weakenesse', 'caution', 'roote', 'Masterdome', 'Iudges', 'forc', 'regard', 'pulling', 'rowse', 'stampe', 'Euening', 'Preparation', 'Because', 'Deere', 'finds', 'Cocke', 'Steward', 'vildely', 'Fooles', 'faithfull', 'Coronets', 'Vntimely', 'Ist', 'Immediately', 'Rat', 'Spels', 'bodilesse', 'THE', 'Affront', 'gracious', 'quaintly', 'Command', 'Labor', 'Dugge', 'ingag', 'Ingenious', 'Glasse', 'pearch', 'Peoples', 'sement', 'moult', 'Longer', 'enuiously', 'powr', 'lac', 'makers', 'portable', 'weighing', 'pat', 'vnfortified', 'eyther', 'command', 'Sleeue', 'Se', 'Battailes', 'tend', 'eare', 'foile', 'fury', 'shadow', 'Hic', 'conceited', 'tops', 'Consequence', 'doing', 'coile', 'Faiery', 'sixeteene', 'Gummes', 'Lyar', 'rowsed', 'yesty', 'sigh', 'formed', 'lament', 'acte', 'Tennis', 'Battell', 'Forgiue', 'Prouerbe', 'furbusht', 'purpose', 'cramm', 'choose', 'rent', 'Orchards', 'flattering', 'Kinne', 'hardly', 'Citizens', 'husband', 'wormes', 'vnguarded', 'Donalbaine', 'impression', 'discomfort', 'signe', 'since', 'Relatiue', 'peculiar', 'lasting', 'strong', 'limitation', 'Sway', 'light', 'soundly', 'knotty', 'Doing', 'Fortunes', 'Confines', 'cleerely', 'scarse', 'dimme', 'imediate', 'Denmarkes', 'preparation', 'honourd', 'Affections', 'borrowed', 'serious', 'newest', 'weapons', 'Rouce', 'Vault', 'hence', 'argument', 'acquittance', 'Patience', 'circumstance', 'hisse', 'vsurp', 'Ile', 'Pleas', 'cup', 'Lep', 'Pardon', 'tormenting', 'Quarta', 'answers', 'Thoughts', 'pareill', 'masters', 'Cozen', 'wager', 'Dinner', 'curd', 'gos', 'touches', 'Warres', 'ancient', 'working', 'We', 'tenders', 'Dowrie', 'Treacherous', 'Holyday', 'fry', 'enkindle', 'obscurely', 'returnes', 'heauie', 'Broyle', 'Bastardie', 'Coarses', 'solicites', 'empty', 'topple', 'great', 'easily', 'Away', 'Loe', 'Heard', 'confin', 'ynch', 'Warders', 'i', 'iust', 'fil', 'Fantasie', 'Wisdome', 'crept', 'My', 'giuers', 'Puzels', 'Wheeles', 'blason', 'Weaknesse', 'Hath', 'vnaccompanied', 'son', 'match', 'Wrackt', 'morrow', 'Farre', 'opening', 'blush', 'Thornes', 'sought', 'inexplicable', 'pregnant', 'meet', 'giues', 'Wisedomes', 'Brands', 'Pyrrhus', 'Free', 'disperate', 'owe', 'plentifull', 'Scripture', 'ioyfully', 'truth', 'befor', 'Aduancement', 'After', 'semblance', 'pierce', 'dagger', 'Two', 'Merriment', 'fares', 'meane', 'Resembles', 'goodly', 'Striking', 'Feast', 'Formes', 'deiected', 'mistooke', 'cost', 'Prythee', 'Abler', 'their', 'Kettle', 'hear', 'accuse', 'lofty', 'walk', 'Vniuersall', 'Ambitions', 'anon', 'Stood', 'forged', 'rots', 'conuocation', 'follow', 'Clock', 'closely', 'ruddy', 'ope', 'Rushing', 'vnskilfull', 'brim', 'mining', 'particulars', 'neerer', 'Cares', 'Meales', 'doome', 'Inheritor', 'Crauing', 'Wherein', 'willing', 'blurres', 'Cal', 'Lymbeck', 'apace', 'noyance', 'now', 'Tyber', 'wel', 'badg', 'aduance', 'Infaith', 'yawning', 'compleat', 'maist', 'Schoole', 'tyrannically', 'serue', 'Graspe', 'Any', 'three', 'scant', 'adores', 'Musing', 'Physitian', 'suppe', 'healing', 'restrain', 'Rankes', 'implorators', 'nie', 'prey', 'weakest', 'Sallery', 'Glasses', 'close', 'Olde', 'forgiuenesse', 'Soundly', 'Performe', 'execution', 'vntouch', 'twer', 'Fell', 'Girle', 'yeare', 'note', 'ere', 'speedier', 'accesse', 'harping', 'Fire', 'foolery', 'deiect', 'sence', 'Reuels', 'City', 'Addage', 'Except', 'knoll', 'Sergeant', 'fals', 'preuent', 'supposall', 'sokes', 'strugling', 'stopp', 'cleare', 'haply', 'mercy', 'deeme', 'approaches', 'vnbrac', 'Vnbated', 'Lookes', 'weyard', 'repose', 'Killing', 'Vengeance', 'receyue', 'Paiocke', 'suspiration', 'Dunsmane', 'gauled', 'foot', 'cousend', 'bootlesse', 'doublet', 'Statutes', 'wound', 'Doubt', 'vanished', 'into', 'mutine', 'CaeSAR', 'killes', 'Madmen', 'added', 'Seare', 'arriued', 'inch', 'actions', 'Diadem', 'addition', 'beyond', 'return', 'stalled', 'timely', 'Race', 'plaist', 'describ', 'vnhatch', 'wakes', 'trembling', 'show', 'deadly', 'goe', 'Greatnesse', 'Heauens', 'truely', 'vnfortunate', 'some', 'Benefit', 'towards', 'order', 'Canst', 'Cheeke', 'must', 'pleasant', 'appeas', 'slumber', 'hardy', 'Duty', 'swaies', 'Enioy', 'compt', 'Incenses', 'sighing', 'thirsty', 'priuy', 'vnnerued', 'homely', 'heaues', 'In', 'piercing', 'here', 'borrowing', 'vnproportion', 'Sewer', 'Theame', 'Seyt', 'Monument', 'wealth', 'marriage', 'Saluation', 'Vnspeake', 'Herbenger', 'define', 'besides', 'Carkasse', 'Sacrifice', 'Wine', 'councell', 'stopping', 'Hyrcanian', 'confidence', 'So', 'Neere', 'opens', 'Adders', 'sheene', 'Stept', 'seduce', 'action', 'tatters', 'defie', 'nam', 'Shee', 'amaze', 'TRAGEDIE', 'Brooch', 'hayl', 'Adue', 'Sweet', 'Caldron', 'Error', 'fold', 'oath', 'braue', 'lipps', 'Pioner', 'money', 'Next', 'Reuenge', 'dispatcht', 'Masters', 'sleeke', 'swim', 'Feature', 'apply', 'Perchance', 'hidious', 'gentle', 'Almost', 're', 'wit', 'Producing', 'truly', 'Question', 'Deuils', 'wretch', 'surcease', 'piece', 'glimmers', 'master', 'Fray', 'Incontinencie', 'Puh', 'mortified', 'Get', 'tye', 'Metel', 'Poesie', 'Wormwood', 'toyle', 'Pluck', 'vpmost', 'disease', 'gaming', 'iealousie', 'draw', 'others', 'fatnesse', 'falling', 'hitherto', 'First', 'Hence', 'aliue', 'heauenly', 'demeanor', 'thereunto', 'assur', 'Sooth', 'burnt', 'seeling', 'footed', 'streame', 'fearing', 'aloofe', 'brook', 'craues', 'vplifted', 'moode', 'loathsome', 'backward', 'kin', 'insinuation', 'bloody', 'cumber', 'trace', 'compelled', 'hawkt', 'his', 'feare', 'contend', 'Pulse', 'foredoes', 'choyse', 'coole', 'yoaked', 'Errands', 'Ordinance', 'conceald', 'Stage', 'flattered', 'receiued', 'Choughes', 'Cozens', 'scorn', 'droppings', 'Twixt', 'Dole', 'Prophet', 'heere', 'Knocking', 'vnfledg', 'Frenchman', 'Sanitie', 'Doores', 'confident', 'Bisson', 'Moderne', 'Mornings', 'wracke', 'clocke', 'tongues', 'stranger', 'glasse', 'Visitation', 'Griefes', 'Deceitfull', 'her', 'Circumstance', 'old', 'terme', 'Heccats', 'kneeles', 'mortiz', 'euils', 'Scull', 'diddest', 'Ours', 'Vanquisher', 'shoulders', 'discord', 'Arrowes', 'Widdow', 'Dollars', 'agen', 'flawes', 'Blush', 'freeze', 'frankly', 'Mar', 'Betwixt', 'informe', 'stabb', 'batter', 'be', 'fiery', 'Fruite', 'blasts', 'Yases', 'French', 'reasons', 'am', 'senslesse', 'traile', 'leape', 'Epitaph', 'Corne', 'saide', 'Words', 'Associates', 'ho', 'requited', 'Spurnes', 'rule', 'laine', 'Glow', 'shrunke', 'denies', 'eate', 'slaue', 'Sowes', 'soules', 'New', 'arises', 'rend', 'Hecticke', 'pleasing', 'arming', 'honourable', 'Sextons', 'thoght', 'Hatchment', 'byrth', 'proportion', 'knowing', 'Sences', 'Gates', 'Seu', 'lock', 'Guards', '&', 'Twill', 'Spightfull', 'Artlesse', 'wings', 'Bees', 'con', 'credent', 'solemne', 'Apparrell', 'visited', 'Hoping', 'infect', 'Scaena', 'Bookes', 'Captiuitie', 'bounteous', 'Crueltie', 'render', 'staffe', 'Reliques', 'Promis', 'Lent', 'vntitled', 'loosing', 'Necessary', 'maimed', 'shortly', 'proceeding', 'Behinde', 'Pilots', 'heerein', 'State', 'craue', 'Hare', 'fairest', 'Scarsely', 'Hostesse', 'street', 'rabblement', 'own', 'need', 'sole', 'inroll', 'gaze', 'hoorded', 'Hedge', 'Chiefe', 'forestall', 'Masse', 'Lier', 'Fret', 'Conuersation', 'interpret', 'conceiue', 'suite', 'ue', 'brightest', 's', 'sting', 'recoyle', 'cerments', 'Villanies', 'that', 'registred', 'horse', 'Arme', 'reported', 'partly', 'Pluto', 'vulnerable', 'Shoo', 'hole', 'droope', 'visite', 'Net', 'Chowgh', 'palter', 'acquire', 'Sauagely', 'Hamlet', 'Assisted', 'Key', 'Rebells', 'kinde', 'should', 'pillowes', 'Tyranny', 'Stay', 'Mischiefe', 'Strike', 'Counter', 'intrailes', 'Colleagued', 'Once', 'Kings', 'Tanner', 'Niggard', 'Figures', 'Temperance', 'sawce', 'stale', 'elder', 'talke', 'apparant', 'Vouchsafe', 'stoupe', 'flatter', 'reading', 'expect', 'Industrious', 'censure', 'Pretty', 'Dirge', 'distance', 'Bulke', 'accurs', 'proper', 'faculty', 'Pyrate', 'Slumber', 'Rabbles', 'Torch', 'Octauius', 'Royall', 'Tree', 'vnshrinking', 'Gambals', 'rightly', 'sit', 'beseech', 'Closset', 'pretty', 'Villaines', 'begg', 'can', 'Split', 'bodie', 'Diuinity', 'Steep', 'fierie', 'beholding', 'indissoluble', 'dunnest', 'Lust', 'Poleak', 'thickens', 'sounds', 'Month', 'glory', 'prouide', 'fey', 'nothings', 'Rawe', 'fruitlesse', 'split', 'blew', 'Platforme', 'insane', 'Banners', 'construction', 'Yes', 'Falles', 'brauery', 'tardy', 'Adams', 'thanke', 'waited', 'Macbeth', 'Wounds', 'trauailing', 'breathlesse', 'soyle', 'Co', 'Kite', 'superfluous', 'abroad', 'Chickens', 'spungie', 'late', 'Ladiship', 'Letcherous', 'retrograde', 'yesterdayes', 'dam', 'seriuce', 'hazards', 'guise', 'whilest', 'combined', 'Children', 'Com', 'Killes', 'Rout', 'faint', 'loue', 'turne', 'Coppie', 'loose', 'Legacies', 'dreyne', 'Poem', 'Woodcocke', 'vs', 'Ayre', 'Purgers', 'enseamed', 'especially', 'fitting', 'Treb', 'wed', 'honying', 'Why', 'vapours', 'Norwey', 'Slaue', 'sulphurous', 'Shield', 'ago', 'Loue', 'royally', 'faile', 'Wooll', 'Wonders', 'Foolerie', 'rotten', 'slender', 'moneths', 'easie', 'Cheekes', 'stuck', 'taught', 'Thigh', 'Soldiers', 'Taylor', 'allowance', 'Confusion', 'Affabilitie', 'smiles', 'Particular', 'liues', 'stops', 'Let', 'adue', 'worm', 'Sings', 'Gertrude', 'Mes', 'Emperor', 'pronounce', 'secrecie', 'Worships', 'stones', 'Carrion', 'Charme', 'couple', 'giued', 'Proiect', 'Front', 'appeares', 'eterne', 'returning', 'hurle', 'chast', 'Leafe', 'Aboord', 'ninth', 'prenominate', 'aswell', 'train', 'plundge', 'Aye', 'Sirs', 'mou', 'Patricke', 'reckoning', 'Malicho', 'Told', 'wary', 'cheefe', 'Burne', 'pittie', 'None', 'Vaulting', 'Town', 'edge', 'Reynoldo', 'lies', 'Post', 'chafing', 'Shadow', 'fitted', 'hidden', 'reigne', 'Cicatrice', 'dayly', 'auouch', 'Lo', 'Niobe', 'flesh', 'write', 'Tit', 'beleeu', 'thereto', 'Throwne', 'below', 'adde', 'saw', 'choaked', 'presented', 'extinct', 'sourse', 'Moore', 'learne', 'Stablenesse', 'remaster', 'Occupation', 'fawne', 'paint', 'rawnesse', 'Handle', 'Equiuocation', 'Welcome', 'Thy', 'Particle', 'spoyles', 'prepare', 'hang', 'maruell', 'drawes', 'possest', 'vnweeded', 'slight', 'proud', 'Gate', 'Fill', 'Coward', 'plaine', 'brood', 'Houer', 'Story', 'Northumberland', 'bay', 'Faction', 'Prologues', 'Extorted', 'crie', 'Ring', 'Descends', 'giuen', 'eene', 'Traytor', 'Grace', 'Hillo', 'fruitfull', 'blaspheme', 'heyres', 'Mischeefe', 'protests', 'Source', 'short', 'busines', 'accounted', 'durst', 'matter', 'fool', 'Childe', 'betoken', 'stares', 'Loyall', 'Battaile', 'wing', 'Quest', 'setting', 'equall', 'Stoope', 'pile', 'dead', 'Sadnesse', 'Byrnan', 'Denmarks', 'burnes', 'hoarse', 'importunity', 'taint', 'displac', 'demand', 'determine', 'sorts', 'Physicks', 'pleade', 'Illium', 'preuayl', 'Kinde', 'Tinctures', 'month', 'diuell', 'shooes', 'errors', 'Marriages', 'Vowes', 'folly', 'heeles', 'branches', 'Beautie', 'harts', 'Rapiers', 'pound', 'eating', 'Quiddits', 'Maides', 'comutuall', 'Soft', 'Before', 'vnassayleable', 'Fee', 'Lampe', 'op', 'There', 'treads', 'Remoue', 'Grauity', 'maleuolence', 'chiefe', 'Illo', 'vnkindest', 'pardon', 'Trophee', 'Bak', 'Maiesticke', 'encrease', 'admir', 'Batchellor', 'boorded', 'gis', 'president', 'broth', 'gawdie', 'wot', 'guiltinesse', 'Strooke', 'paines', 'dresse', 'tarre', 'Colmes', 'Carowses', 'Sold', 'tan', 'looke', 'Security', 'pawser', 'imperfections', 'dreamt', 'Banke', 'Lesson', 'flat', 'has', 'Contents', 'Flagons', 'beleefe', 'Dolour', 'Duncans', 'Staffe', 'passage', 'fret', 'mortall', 'enterred', 'prate', 'Soop', 'lawfull', 'Load', 'gets', 'vntill', 'Gibbet', 'initiate', 'Though', 'needes', 'Anger', 'Cry', 'become', 'Gauntlets', 'cried', 'chopt', 'houses', 'exact', 'beleeued', 'Moneth', 'proportions', 'England', 'Breuitie', 'nony', 'memorize', 'so', 'Papers', 'repaire', 'Workman', 'admittance', 'leaden', 'Lord', 'Weedes', 'non', 'which', 'Prayer', 'Watchers', 'strangled', 'clouts', 'tame', 'Spy', 'seeing', 'father', 'rost', 'She', 'Take', 'tride', 'thin', 'estimation', 'fuller', 'Passions', 'Right', 'Hebenon', 'vile', 'sword', 'thence', 'Place', 'ayd', 'appall', 'Channell', 'Gumme', 'Direction', 'numbers', 'Maiesticall', 'marre', 'Sables', 'low', 'Statists', 'According', 'Soueraigne', 'Melancholies', 'sometime', 'Sonne', 'behaued', 'shipped', 'hoa', 'Tertia', 'Health', 'Gashes', 'Precepts', 'youthfull', 'Rebels', 'mellow', 'quietly', 'Passe', 'Cautelous', 'such', 'Crab', 'Sonnet', 'courage', 'wicked', 'Spleenatiue', 'Each', 'laid', 'Gospell', 'Th', 'filling', 'Curses', 'swoope', 'Were', 'fearefulnesse', 'Apt', 'host', 'cries', 'catch', 'Serieant', 'glares', 'twaine', 'payed', 'Submitting', 'clay', 'metled', 'Midnight', 'wherein', 'Inchanting', 'Alarums', 'prouoke', 'dislike', 'Freedome', 'Honour', 'benefit', 'Cock', 'fourth', 'indeed', 'releefe', 'Drumme', 'Calp', 'Excite', 'spouting', 'knot', 'declines', 'humbly', 'eldest', 'louingly', 'dropping', 'considered', 'Morne', 'warnings', 'Nights', 'North', 'ill', 'demerits', 'kneele', 'Carriages', 'Brute', 'Vngartred', 'Seneca', 'Yet', 'hold', 'Pella', 'proscription', 'Mad', 'star', 'Image', 'Historie', 'vnbattered', 'shal', 'starling', 'Mightier', 'Proclaime', 'repayre', 'Souldiers', 'Boughes', 'Riuals', 'thSunne', 'Cart', 'lye', 'grounds', 'Volum', 'Depart', 'swear', 'hacke', 'sir', 'buy', 'aduanc', 'Perpend', 'expounded', 'Ros', 'Wiues', 'cheefely', 'Newt', 'bladed', 'Worke', 'Good', 'well', 'Deluer', 'Euerlasting', 'Ventures', 'Innouation', 'Ioyes', 'Fardles', 'Haply', 'steepe', 'do', 'Cure', 'counterfeit', 'Armie', 'Qu', 'suck', 'Till', 'Perhaps', 'scarft', 'there', 'Mansonry', 'solliciting', 'triumph', 'Throne', 'Kingdomes', 'tumble', 'Verity', 'proclaime', 'hideous', 'Stabs', 'vniuersall', 'Store', 'Owner', 'harshly', 'whereof', 'Rauen', 'Player', 'Last', 'story', 'dismay', 'dreines', 'pitteous', 'boldest', 'plucke', 'bestride', 'hardie', 'Stoopes', 'hit', 'Sutes', 'Counsailers', 'repulsed', 'shee', 'Deare', 'Fact', 'reach', 'Contriuer', 'superuize', 'dishes', 'Packet', 'Confounds', 'imployment', 'reuerence', 'Deed', 'vnkindnesse', 'parle', 'read', 'Harlots', 'prouoker', 'desert', 'behinde', 'glad', 'Tetter', 'desperate', 'Malc', 'Fellowship', 'dirty', 'Armes', 'walkt', 'sending', 'Groomes', 'poure', 'Seruices', 'Machine', 'Dismay', 'degrees', 'stricken', 'Wormes', 'Iigge', 'Beare', 'Dishonors', 'Starre', 'bleed', 'Flaggon', 'payes', 'Pin', 'Renowne', 'sland', 'de', 'Showghes', 'Clamour', 'smelt', 'dispise', 'possession', 'Steele', 'Bedrid', 'Luxurious', 'brands', 'likenesse', 'newes', 'stroakes', 'roughest', 'fairely', 'worthles', 'driues', 'Very', 'Deadmans', 'Truely', 'walkes', 'pricke', 'Sunne', 'rooted', 'roof', 'Tricks', 'recouery', 'Priest', 'golden', 'appear', 'drowse', 'Sennit', 'Waxe', 'Dames', 'omnes', 'Tyrannie', 'wishes', 'sawes', 'sighted', 'Froward', 'Could', 'Calender', 'Yeeld', 'Dominions', 'Fla', 'impartment', 'worne', 'Strange', 'Foe', 'murth', 'peering', 'sheets', 'false', 'Occasions', 'Whom', 'Yoricks', 'extend', 'Durst', 'bolts', 'Lease', 'Turfe', 'promis', 'Marry', 'gray', 'Bakers', 'Annuall', 'tunes', 'doffe', 'hah', 'offences', 'Goe', 'daintier', 'Alas', 'braine', 'voyage', 'Conuey', 'descend', 'Fiends', 'wrangle', 'foul', 'sirs', 'conueniently', 'blanket', 'Witnesse', 'selues', 'Lists', 'Pyes', 'flowt', 'Ditch', 'rides', 'Cap', 'Hunters', 'Metellus', 'hugge', 'himselfe', 'Sonnes', 'Too', 'sirrah', 'grug', 'Infects', 'Enemies', 'wildenesse', 'exclaim', 'Angels', 'life', 'Threescore', 'fooles', 'bore', 'Napkins', 'Ross', 'Rocke', 'Couetous', 'serues', 'Legions', 'Cries', 'builds', 'Calues', 'Cat', 'Horrible', 'argues', 'trod', 'Repast', 'sayer', 'kept', 'wrights', 'Consider', 'shockes', 'disposition', 'suffers', 'Tut', 'rt', 'hasty', 'descended', 'legge', 'darknesse', 'Lifes', 'bearing', 'Sparke', 'Blade', 'ears', 'Friend', 'Beards', 'fellowes', 'Pocket', 'ist', 'Wife', 'fauor', 'ther', 'Requit', 'poysoning', 'coynage', 'Monuments', 'rauel', 'exactly', 'playes', 'quell', 'attent', 'eternall', 'inclinde', 'dutie', 'Ladie', 'Blanket', 'Aboue', 'radiant', 'venome', 'mock', 'Flyes', 'choppie', 'cautell', 'sound', 'malice', 'feeds', 'chides', 'Scena', 'yell', 'Prowesse', 'Ruines', 'Tune', 'vndaunted', 'fatall', 'caru', 'Birds', 'Clownes', 'sooth', 'smooth', 'pitious', 'perswasion', 'hush', 'Glamis', 'honour', 'soare', 'Hayle', 'Boy', 'vtmost', 'bethinke', 'Warlicke', 'beards', 'deriu', 'fayle', 'Dangers', 'safely', 'vnsanctified', 'vnmaske', 'weyward', 'affayre', 'image', 'prowd', 'Cloakes', 'dealt', 'appurtenance', 'roares', 'Chimney', 'forth', 'pause', 'infirmity', 'Enemy', 'peace', 'roome', 'Calue', 'runs', 'deserues', 'Send', 'clout', 'dalliance', 'worthier', 'Threatens', 'Goate', 'Tokens', 'digge', 'goodnesse', 'Treachery', 'felicitie', 'Octauio', 'opposing', 'showts', 'Orbe', 'goary', 'rous', 'disclaiming', 'law', 'Affaire', 'mourning', 'Lewdnesse', 'Descend', 'streakes', 'predominance', 'contriuer', '!', 'Chambers', 'instrumentall', 'breaths', 'sets', 'Lightnesse', 'allow', 'Leige', 'suffer', 'Secrets', 'prou', 'hee', 'treble', 'impatience', 'Villany', 'suppresse', 'hony', 'Prologue', 'honors', 'smatch', 'Winner', 'Banq', 'Superstitious', 'behind', 'tis', 'thus', 'Botches', 'Laertes', 'blesse', 'feates', 'accurst', 'vnknowing', 'Silence', 'spent', 'Portraiture', 'Murderer', 'declension', 'lose', 'dreadfull', 'Card', 'befitted', 'damn', 'factious', 'Heark', 'manner', 'insert', 'lowd', 'Commencing', 'theirs', 'Her', 'Parchment', 'Naue', 'fearfull', 'Payes', 'mid', 'Trifle', 'meditating', 'Thumbe', 'vnuallued', 'sweat', 'lt', 'consequence', 'Iudicious', 'encorps', 'Wittenberg', 'bringing', 'Church', 'Depriu', 'Clocke', 'encountred', 'Who', 'lawful', 'Elements', 'toucht', 'buffets', 'call', 'blunt', 'puh', 'Spring', 'Traine', 'vngalled', 'coldly', 'Auant', 'Rosemary', 'melt', 'eager', 'Meet', 'Fortune', 'amble', 'secure', 'qualitie', 'slips', 'Dread', 'Hast', 'Phantasma', 'Pinch', 'corruption', 'disorder', 'Camell', 'stroken', 'Fantasies', 'Meale', 'Toad', 'Trick', 'Pursued', 'Pipe', 'deepest', 'blowes', 'lesser', 'place', 'Bargaine', 'T', 'carowsing', 'Barnardo', 'diminitiue', 'Braue', 'Capons', 'Looser', 'Conceit', 'Hora', 'modest', 'Motiues', 'calls', 'bloudie', 'c', 'hammers', 'Kinsmen', 'Pul', 'Tragedians', 'delay', 'Messala', 'reform', 'blood', 'already', 'Honestie', 'iangled', 'said', 'lie', 'Physicke', 'Pale', 'How', 'rich', 'implor', 'sinke', 'Mew', 'These', 'especiall', 'cull', 'rowze', 'vnhappily', 'fighting', 'inforced', 'Protestation', 'boot', 'Ambassadours', 'Sardians', 'Prince', 'subborned', 'ript', 'Minerall', 'Auarice', 'Exchange', 'sits', 'rendred', 'cast', 'Honourable', 'cling', 'key', 'materiall', 'Drinke', 'falser', 'Lands', 'guard', 'Porter', 'crawling', 'clogges', 'moe', 'Creatures', 'Sham', 'Or', 'Liberties', 'Songs', 'bak', 'plye', 'Prodigies', 'seperated', 'proues', 'presentment', 'common', 'Rites', 'holp', 'Rumour', 'dirt', 'rac', 'ran', 'thinkst', 'bad', 'vnschool', 'Vnmixt', 'desires', 'bene', 'Coole', 'Fillet', 'fled', 'bowle', 'Voluptuousnesse', 'Euer', 'Peece', 'Older', 'stealing', 'visage', 'strick', 'obstinate', 'absent', 'blinde', 'Lad', 'Rheume', 'Lockes', 'Ardure', 'points', 'auouches', 'dally', 'Augurers', 'altogether', 'dreadfully', 'ord', 'men', 'bray', 'Waspish', 'Banquoh', 'fie', 'Benches', 'vnripe', 'Contribution', 'confounded', 'Gorgon', 'Scourge', 'Requiem', 'Ang', 'drinkes', 'thou', 'neglected', 'Speakers', 'fortunate', 'motiue', 'Ple', 'Liues', 'aboord', 'ride', 'wits', 'foreknowing', 'Masterly', 'shake', 'Shop', 'lyes', 'Magicke', 'illes', 'Vnshak', 'single', 'Groundlings', 'Reuolts', 'shouted', 'stoode', 'Therefore', 'befalne', 'Contagious', 'selfe', 'Conditions', 'Loggets', 'flights', 'Soules', 'Goblins', 'breakes', 'yeelding', 'reechie', 'belt', 'aduantage', 'tidings', 'hung', 'Drinkes', 'stalls', 'vppon', 'Counters', 'distresse', 'frown', 'euills', 'Concaue', 'Your', 'visitings', 'cleft', 'Listen', 'High', 'Bear', 'exployt', 'wreath', 'gashes', 'beest', 'pith', 'swore', 'Lightens', 'Arabia', 'Bastard', 'ordinate', 'Ides', 'deckt', 'tost', 'depends', 'Ingredience', 'Dard', 'wheaten', 'dreampt', 'pristine', 'Condolement', 'plunged', 'Scoena', 'Napkin', 'Showts', 'shoote', 'contriue', 'Newtrall', 'Porpentine', 'belieue', 'Hearke', 'Asse', 'Holiday', 'Dunsinane', 'True', 'Without', 'le', 'rerule', 'screw', 'Reason', 'doores', 'seemeth', 'reade', 'Accoutred', 'Knaues', 'Protester', 'Elders', 'Sinells', 'rebellious', 'Nipple', 'walking', 'Drab', '.', 'on', 'Priests', 'Betters', 'measure', 'mone', 'Rage', 'vnruly', 'Neither', 'milche', 'placed', 'South', 'Tenures', 'fantasticall', 'barrell', 'Palme', 'ye', 'stirring', 'bend', 'eagerly', 'iustly', 'strokes', 'For', 'Comma', 'One', 'Traile', 'Interdiction', 'Shores', 'Deske', 'maruellous', 'vanish', 'courst', 'negligence', 'wast', 'foure', 'cloake', 'Marble', 'couchings', 'peepe', 'anticke', 'Leuies', 'womens', 'Collection', 'filme', 'Looke', 'floate', 'Scornes', 'flie', 'are', 'silent', 'valour', 'softly', 'coagulate', 'Goose', 'very', 'Religion', 'meaning', 'open', 'Author', 'tag', 'Butchers', 'Truncheons', 'Bondage', 'shrieke', 'digg', 'Lucius', 'Dwell', 'ripe', 'Secrecie', 'Truly', 'diseases', 'Forrest', 'Will', 'abstinence', 'Gold', 'Crocodile', 'Guildensterne', 'womanly', 'Flood', 'our', 'Eare', 'Torrent', 'Head', 'ordered', 'Volumnius', 'naughty', 'Trophies', 'Stoop', 'adioyn', 'Faire', 'accustom', 'particular', 'beteene', 'Venture', 'Cousen', 'HAMLET', 'clearenesse', 'counsail', 'Mirth', 'Weapons', 'oddes', 'Medicine', 'st', 'sixe', 'multiplying', 'Walles', 'flearing', 'measurelesse', 'File', 'presures', 'repeat', 'Ladder', 'keepe', 'Marcus', 'nor', 'IVLIVS', 'needfull', 'cuts', 'compunctious', 'Bilboes', 'trespasse', 'barre', 'Lions', 'times', 'spirit', 'moou', 'Those', 'surrender', 'forgiue', 'Core', 'Vprore', 'stole', 'Oftner', 'Arts', 'discharge', 'receiue', 'Argument', 'counsell', 'safetie', 'greets', 'Macdonwald', 'Stand', 'prouidence', 'witnest', 'Iealousies', 'Queene', 'same', 'awake', 'prythee', 'Helpe', 'Burning', 'importunate', 'figure', 'Centinell', 'Pearle', 'murthered', 'Anchyses', 'swell', 'paine', 'number', 'Trecherie', 'consonancy', 'sorrie', 'measur', 'Schreemes', 'meats', 'liuer', 'Banquet', 'braines', 'lapt', 'Caution', 'Valentines', 'marrie', 'afflict', 'mugger', 'soueraigne', 'Dayes', 'marshall', 'wrought', 'earthly', 'chances', 'fretted', 'Thriftlesse', 'blest', 'Quillets', 'Hypocrites', 'verities', 'enclosed', 'indiuidible', 'foolish', 'Bed', 'Lead', 'disclos', 'Course', 'marres', 'Bawdy', 'prodigious', 'strange', 'extremities', 'sad', 'Tapor', 'sonne', 'Contraction', 'Mountaine', 'Shardes', 'affear', 'Horatio', 'Crowners', 'Brasse', 'panders', 'lowe', 'Times', 'shape', 'Sleep', 'rush', 'fanne', 'circumuent', 'wilde', 'shoue', 'glow', 'Danskers', 'color', 'dallying', 'wrongly', 'seem', 'Affayres', 'holds', 'Murrellus', 'maker', 'Baboones', 'euent', 'Reuennew', 'bouge', 'Generall', 'vndertake', 'enterprizes', 'loath', 'Here', 'Friendship', 'we', 'browes', 'validitie', 'thankes', 'prethee', 'Peace', 'Tell', 'Deaths', 'moreouer', 'arose', 'Prepares', 'Summers', 'Entreatie', 'prouided', ']', 'Mischeefes', 'successe', 'leanes', 'rage', 'Alexander', 'sworne', 'vntimely', 'Snores', 'Fallies', 'strooke', 'Gaue', 'whispers', 'Enuy', 'howsoeuer', 'oppressed', 'Lucianus', 'excellent', 'hermony', 'Kibe', 'choake', 'comparisons', 'lippes', 'day', 'puts', 'Duties', 'enough', 'chose', 'accidentall', 'diseas', 'Frost', 'Faile', 'Mal', 'harmes', 'Tents', 'la', 'gaines', 'Herbe', 'Showting', 'opposition', 'Base', 'Vnite', 'sleepers', 'Bond', 'losse', 'Witchcraft', 'Knew', 'yellow', 'termes', 'demands', 'Mac', 'mens', 'Robbers', 'Rugs', 'approches', 'restore', 'Heare', 'Yong', 'surprize', 'hums', 'dwarfish', 'Humh', 'taste', 'iudgements', 'dare', 'Malicious', 'Him', 'boadments', 'tune', 'forgaue', 'Amen', 'Conceptions', 'Malcolm', 'coozenage', 'Knock', 'liberty', 'Opinion', 'Princes', 'Sence', 'sore', 'parts', 'fancie', 'Attendants', 'despight', 'Arrest', 'quartered', 'shot', 'Dispute', 'attempt', 'knowes', 'hither', 'affrighted', 'Partner', 'scanter', 'commanded', 'skinnie', 'drizel', 'senselesse', 'Read', 'Impotent', 'salutation', 'dread', 'fed', 'bloodily', 'Birch', 'Lines', 'Liars', 'wag', 'Oakes', 'Villanous', 'beautied', 'bubbles', 'Pallace', 'Either', 'perhaps', 'Smells', 'Murd', 'Feasts', 'cal', 'cooling', 'bang', 'Cell', 'Valour', 'Conueyances', 'somewhat', 'Stages', 'exceed', 'Mother', 'greatest', 'He', 'neuer', 'aslant', 'While', 'howle', 'Flatterer', 'tardie', 'Teare', 'then', 'enuious', 'Dogges', 'bonny', 'Throbs', 'Sundaies', 'Erre', 'skipping', 'twenty', 'lend', 'freedome', 'wrapt', 'Marcellus', 'come', 'effect', 'loyaltie', 'treasure', 'whether', 'grand', 'buried', 'Offall', 'domestique', 'making', 'forme', 'Masker', 'Spurre', 'firstlings', 'stoole', 'in', 'Lawes', 'Bane', 'dip', 'Bapt', 'Normandy', 'Heau', 'Sir', 'wrencht', 'Owle', 'towring', 'Baptista', 'ly', 'preaching', 'Gibbe', 'inlarg', 'laugh', 'Hindes', 'Cobble', 'Folded', 'hallow', 'goes', 'Lupercall', 'ouertake', 'blames', 'Alacke', 'heauen', 'Houres', 'might', 'mantle', 'election', 'shuffling', 'sings', 'Wittemberge', 'Gentry', 'drabbing', 'brows', 'indiscretion', 'Farewell', 'dosen', 'Dish', 'Compounded', 'Might', 'chafes', 'vnwip', 'bar', 'Conclusions', 'cloathes', 'away', 'crouch', 'fine', 'cheekes', 'amend', 'Cow', 'Watch', 'striue', 'choller', 'vndeeded', 'kindly', 'woe', 'diuision', 'feede', 'Dropping', 'Sindging', 'hew', 'Scoene', 'partiall', 'lost', 'strutted', 'ones', 'request', 'deuise', 'monwealth', '?', 'drenched', 'inuite', 'womb', 'Senit', 'lender', 'becke', 'Vnpegge', ':)', 'Virgin', 'Barbary', 'Ghost', 'stand', 'behoues', 'truster', 'stay', 'Fore', 'Iester', 'Much', 'Springes', 'Conflict', 'arriu', 'lacks', 'Esteeme', 'Curres', 'Crow', 'vndiscouered', 'wart', 'gau', 'vnimproued', 'hoe', 'Gentlemen', 'choyce', 'Drum', 'water', 'Proceeding', 'accident', 'wounds', 'seeming', 'Barren', 'Shooes', 'Compulsatiue', 'Italy', 'Organe', 'Polititian', 'stirre', 'Vnion', 'yonder', 'Dungeon', 'trip', 'knowe', 'cryedst', 'secrets', 'Stormes', 'watch', 'paper', 'Host', 'auoyded', 'stern', 'societie', 'Giue', 'sufficeth', 'bin', 'wilt', 'Reads', 'Plucking', 'yee', 'sighe', 'Antonio', 'them', 'I', 'Cockle', 'Limbe', 'else', 'done', 'iade', 'Be', 'stampt', 'mo', 'powrefull', 'Fast', 'Million', 'ambitious', 'streets', 'Came', 'six', 'warrant', 'inkindled', 'collected', 'Adde', 'inquiry', 'Prisoner', 'Admit', 'On', 'Paradox', 'Puppets', 'therfore', 'ment', 'blade', 'Mallice', 'shapes', 'Sepulcher', 'Ceremonies', 'baited', 'Ruby', 'assumes', 'Night', 'of', 'Ferret', 'also', 'agree', 'Clouds', 'spot', 'belike', 'daintie', 'pit', 'hauiour', 'interest', 'peake', 'Soldiours', 'Ingratitude', 'cheeke', 'calles', 'Browes', 'Reuiuing', 'Naught', 'Fellow', 'Wise', 'Propheticke', 'skyish', 'opposed', 'Honourably', 'hower', 'Oathes', 'Ro', 'prophanely', 'scorne', 'designe', 'subiect', 'Destroying', 'innocculate', 'bended', 'Gonzago', 'distraction', 'Honor', 'Towring', 'necke', 'clipt', 'Assembly', 'share', 'Childrens', 'Curbing', 'altitude', 'enemies', 'vnto', 'poyson', 'Rogue', 'Horat', 'hail', 'Lye', 'Honest', 'eruptions', 'Death', 'Commoners', 'blow', 'Iourney', 'perswades', 'Hangers', 'Imaginations', 'Surgery', 'Prophetique', 'vnprofitable', 'manly', 'Colossus', 'for', 'doest', 'Twelue', 'bals', 'kill', 'death', 'woer', 'Sirrha', 'goodnight', 'Libertie', 'Arbors', 'Scepters', 'Lenox', 'Lady', 'Euils', 'Staines', 'swallowed', 'therewithall', 'throat', 'Villaine', 'Italian', 'Alack', 'speculatiue', 'Such', 'modesties', 'plight', 'Teeth', 'Yond', 'friends', 'dil', 'bright', 'flashes', 'inclin', 'Funerals', 'contradict', 'thirst', 'dues', 'supply', 'Triall', 'Realme', 'large', 'Cataplasme', 'warre', 'monstrous', 'deceiued', 'Cloake', 'seuerally', 'Through', 'smeare', 'breadth', 'Staues', 'Lome', 'Games', 'could', 'Start', 'reaches', 'speakes', 'limitted', 'Moues', 'Moone', 'sayest', 'impeides', 'sweet', 'vap', 'gins', 'Among', 'yet', 'Prayses', 'Instruments', 'argall', 'compound', 'Aeneas', 'Clown', 'fate', 'creatures', 'Fauors', 'perfumes', 'Doct', 'prouokes', 'strict', 'stone', 'feele', 'enterprize', 'Speeches', 'conclude', 'Sure', 'applaud', 'patches', 'holdst', 'vngentle', 'long', 'fauour', 'know', 'predominant', 'inuested', 'Profession', 'dost', 'Cuckold', 'Fiers', 'emulate', 'middle', 'keene', 'Balme', 'Measure', 'thank', 'Am', 'procreant', 'Sheete', 'thorny', 'oft', 'perceiu', 'Constancie', 'former', 'yeares', 'with', 'potently', 'grained', 'warlike', 'swearing', 'vnfold', 'iot', 'Politician', 'Exeunt', 'certaine', 'Somnet', 'Yea', 'attended', 'essentially', 'Foggy', 'Kingdome', 'sees', 'progresse', 'Vesture', 'Taske', 'meete', 'may', 'Act', 'Thus', 'powres', 'Heathen', 'reignes', 'Check', 'dwelling', 'priuates', 'prais', 'Elsonower', 'Windowes', 'rather', 'Blockes', 'Round', 'Stole', 'prediction', 'Ieering', 'soultry', 'Playing', 'yon', 'moues', 'laue', 'questionable', 'liquid', 'Trappings', 'wish', 'ouerthrow', 'tear', 'hart', 'Orbed', 'Courtiers', 'padling', 'Rogues', 'march', 'sauagenes', 'workes', 'Wip', 'Curre', 'Philosophy', 'nine', 'credit', 'Heraulds', 'assault', 'Ladies', 'spectacle', 'clothes', 'Hats', 'blowne', 'Powers', 'Arraigne', 'espials', 'sticke', 'rapsidie', 'higher', 'Roaming', 'art', 'Haruest', 'mischance', 'Care', 'Dew', 'blasted', 'beshrew', 'awhile', 'rash', 'thewes', 'vowes', 'Excellent', 'Gods', 'Rudenesse', 'ouerthrowne', 'Pious', 'stooles', 'worthyest', 'Implements', 'nere', 'charmed', 'tyrannous', 'Wil', 'Henceforth', 'inflame', 'pluckes', 'Warriours', 'Offering', 'Romage', 'Husbandry', 'occasion', 'Confine', 'dishonour', 'Nest', 'notes', 'They', 'shriller', 'Meanes', 'Apparation', 'ship', 'Tis', 'Assume', 'heele', 'doubted', 'yond', 'Ministring', 'bodykins', 'slumbry', 'Cliffe', 'Frailty', 'Toth', 'Feathers', 'melodious', 'thrusting', 'Temp', 'verses', 'sea', 'What', 'sacred', 'whine', 'Prison', 'expresse', 'wife', 'exasperate', 'vnfixe', 'writ', 'blessing', 'Posters', 'certaintie', 'Bubbles', 'addrest', 'deare', 'Tragicall', 'Enquire', 'post', 'Crowner', '[', 'pursue', 'sleep', 'Pole', 'liu', 'quoted', 'Perils', 'charg', 'Holla', 'Cimber', 'William', 'grinding', 'bowts', 'vision', 'Canoniz', 'Mirrors', 'English', 'it', 'Hide', 'Churchyards', 'Nation', 'iest', 'Cassi', 'Messengers', 'ioyes', 'pall', 'Deci', 'Abuses', 'knowest', 'Successe', 'sorowes', 'stufft', 'Bace', 'curles', 'horsse', 'forgotten', 'beckons', 'iealous', 'stoope', 'discouery', 'Murderers', 'threat', 'staires', 'kild', 'lookes', 'hoter', 'Father', 'Tharsus', 'mirth', 'precious', 'Birthdome', 'someuer', 'Clymate', 'Sourse', 'nonce', 'lamented', 'iaw', 'Wards', 'Buyes', 'stalkes', 'Call', 'Lobby', 'streete', 'pernicious', 'whizzing', 'showes', 'clapp', 'fell', 'Columbines', 'vnmatch', 'inmost', 'Metaphysicall', 'Greefe', 'sickely', 'Loines', 'dismember', 'madnesse', 'Button', 'slipt', 'Attendant', 'aduenturous', 'encompassement', 'Mercy', 'dull', 'calumnious', 'Rew', 'murdrous', 'going', 'Tarquins', 'alter', 'weightie', 'carefully', 'perfume', 'houre', 'leisure', 'commended', 'lasts', 'Apron', 'Ones', 'continually', 'passing', 'Iouerney', 'Clamor', 'Hands', 'grace', 'Wrathfully', 'fault', 'Iulius', 'staine', 'Cawdor', 'vnbecomming', 'flame', 'Arras', 'streetes', 'throughly', 'waile', 'vntyr', 'please', 'Forget', 'sticking', 'met', 'Alarum', 'reuengefull', 'Cabin', 'Blowes', 'wait', 'Milke', 'Cruelty', 'Dy', 'Violet', 'meeting', 'Tributaries', 'Possesse', 'Corpes', 'safer', 'scann', 'Infirme', 'Grapple', 'No', 'Rookie', 'home', 'halt', 'Iudge', 'Chollericke', 'attaine', 'perchance', 'heed', 'quake', 'Purchases', 'Doore', 'saluation', 'Gentlewoman', 'Present', 'entreated', 'Lend', 'Missiues', 'growes', 'Tempests', 'Offences', 'choak', 'fifteene', 'Colours', 'showted', 'Spoakes', 'Epicures', 'heauy', 'starts', 'Turne', 'Golgotha', 'Twere', 'Natures', 'Images', 'maine', 'Brests', 'Rose', 'Dardanius', 'lauish', 'shrew', 'chew', 'Siedge', 'graue', 'Baby', 'carue', 'swolne', 'Proclaimes', 'Beldams', 'while', 'deuoure', 'obsequious', 'mainly', 'witching', 'perils', 'ioyfull', 'Impotence', 'allowed', 'chanc', 'stubbornnesse', 'warrantie', 'exploits', 'compar', 'broke', 'Siluer', 'purpos', 'deere', 'palpable', 'Whale', 'haile', 'smot', 'Choice', 'fawning', 'Cushions', 'liefe', 'Ambitious', 'breathed', 'Byrlady', 'my', 'presently', 'sanctity', 'peece', 'Saylor', 'dignity', 'Expedition', 'Largesse', 'Selfe', 'Didst', 'rot', 'Ment', 'Malcolme', 'ragge', 'confound', 'seruice', 'equiuocate', 'Retyre', 'Hony', 'Husband', 'fancy', 'Roome', 'Relation', 'veyl', 'Liege', 'Foule', 'founded', 'refuse', 'Deale', 'hits', 'olden', 'partake', 'euery', 'poor', 'shewne', 'eats', 'shew', 'creepe', 'graunt', 'Prodigall', 'Woodcocks', 'faces', 'bout', 'broken', 'trippingly', 'Policie', 'Commanders', 'state', 'wants', 'Suspition', 'wheele', 'Chops', 'Poet', 'Businesse', 'Whither', 'Now', 'Dawning', 'bone', 'desire', 'Catalogue', 'grownd', 'Wrath', 'Mend', 'blessed', 'drag', 'Acting', 'mightier', 'Ioue', 'places', 'grosse', 'appertaine', 'dyed', 'Serpent', 'fauours', 'Noone', 'courtesie', 'redresse', 'amities', 'Assure', 'Flatterers', 'Lustre', 'crimes', 'Guide', 'Ignorance', 'Son', 'leade', 'vnderneath', 'hurt', 'Euen', 'carriage', 'flowne', 'Banquets', 'strucke', 'Vol', 'pipes', 'Eyes', 'Word', 'hyre', 'Witch', 'steeds', 'speeches', 'Canopy', 'roasted', 'Auspicious', 'whose', 'talkes', 'Boundlesse', 'Lucil', 'cool', 'Sprung', 'perfect', 'grew', 'stanchlesse', 'Kin', 'Basis', 'Pigge', 'prize', 'wipe', 'Candied', 'Water', 'eyld', 'words', 'whisp', 'Remembrancer', 'Seeke', 'friendly', 'departed', 'things', 'Cheere', 'billes', 'trickes', 'Pickhaxe', 'assay', 'Ham', 'Made', 'amazement', 'Pretors', 'Beads', 'Flame', 'Sister', 'immediately', 'acquainted', 'kindnesse', 'Instructions', 'fixt', 'blanke', 'E', 'seated', 'hurling', 'company', 'Deny', 'commit', 'Chaire', 'Acted', 'witchcraft', 'Burst', 'Gamesom', 'haue', 'fencing', 'excepted', 'redder', 'Wharfe', 'whipt', 'Sutor', 'breach', 'winnowed', 'vnbend', 'euermore', 'Zone', 'sharpe', 'few', 'Marke', 'Receiue', 'Mantle', 'Youth', 'him', 'newly', 'pine', 'stands', 'remorse', 'summes', 'Flint', 'Forgets', 'ayme', 'resolue', 'Breake', 'too', 'Diuine', 'Seemes', 'any', 'throwing', 'wisht', 'bosome', 'aduise', 'something', 'Sicknesse', 'Breefely', 'Beetle', 'intreat', 'satisfie', 'Safely', 'soone', 'Thine', 'drawing', 'Triumph', 'scuffling', 'Actor', 'rated', 'Obsequies', 'Bugges', 'Ambition', 'intermit', 'Thrice', 'curtesie', 'adhere', 'beg', 'Honorable', 'Rosincran', 'condemne', 'Noise', 'vse', 'stop', 'Creation', 'Trees', 'digest', 'self', 'Repentance', 'Maiestie', 'Fools', 'prospect', 'liued', 'Byrnane', 'sleepie', 'depend', 'Oppressors', 'straight', 'Purples', 'hearty', 'neither', 'lamentings', 'shoone', 'Armies', 'drawne', 'strikes', 'Counsels', 'outward', 'handy', 'roate', 'sober', 'plots', 'Minions', 'Christians', 'Table', 'passe', 'remaine', 'Finding', 'sterne', 'Charractery', 'Planets', 'food', 'Euill', 'rebuke', 'grisly', 'Hearts', 'minds', 'quicke', 'burley', 'Octa', 'flourish', 'Offence', 'mettle', 'recommends', 'speede', 'Censure', 'Hey', 'Hoa', 'Think', 'Elephants', 'Westward', 'meere', 'aside', 'charge', 'Combustion', 'Withall', 'custome', 'Voyage', 'Moods', 'oppos', 'Eares', 'fears', 'falshood', 'Surgeons', 'spots', 'saluted', 'Seruice', 'permission', 'mayest', 'Costly', 'harrowes', 'conference', 'weeping', 'World', 'Flints', 'Feares', 'wrist', 'vnsex', 'yesterday', 'Haue', 'Seales', 'loades', 'S', 'vnity', 'Raze', 'Into', 'guild', 'Vizards', 'Like', 'Court', 'vnpurged', 'exposure', 'more', 'Flower', 'Beard', 'seen', 'Within', 'whips', 'Duff', 'Morning', 'Terror', 'vnwelcom', 'perceiued', 'royall', 'borrower', 'carnall', 'gently', 'milkes', 'May', 'Set', 'Eternity', 'ranke', 'Me', 'dismisse', 'Hagges', 'permanent', 'behoue', 'Sardis', 'leuying', 'Commission', 'feeding', 'mouncht', 'potent', 'Calphurnia', 'throats', 'within', 'Canker', 'incertaine', 'proscriptions', 'expostulate', 'Donalbane', 'Craues', 'shortens', 'pieces', 'peeces', 'Plautus', 'Saw', 'emptying', 'quarrell', 'Villager', 'restlesse', 'like', 'Comrade', 'th', 'inform', 'happen', 'sort', 'casuall', 'Already', 'Hilts', 'calling', 'arguing', 'Records', 'Ban', 'lodge', 'Consent', 'lift', 'Candles', 'Eyther', 'climb', 'mouths', 'Madam', 'helpfull', 'sayd', 'Aduice', 'defence', 'moment', 'Tooke', 'poore', 'imminent', 'greene', 'Art', 'ascend', 'pins', 'Sun', 'Teares', 'formall', 'difference', 'desart', 'painted', 'Remorselesse', 'Hiperion', 'cold', 'Fortitude', 'attendants', 'benyson', 'paule', 'escape', 'followed', 'verie', 'heauily', 'Whay', 'scapes', 'Censures', 'priuate', 'Globe', 'Drugges', 'gore', 'Withdraw', 'King', 'dupt', 'vngently', 'wrongs', 'intreated', 'Resort', 'Challice', 'silence', 'vsurpe', 'paire', 'sorryest', 'Titin', 'rages', 'Note', 'noted', 'pated', 'delights', 'Lords', 'twill', 'Plague', 'makes', 'vnlimited', 'tels', 'modestly', 'started', 'oftentimes', 'kist', 'Seeing', 'important', 'Swinish', 'comforted', 'Slippes', 'when', 'hyes', 'Trophees', 'Little', 'Himselfe', 'Ha', 'Brut', 'mistake', 'duller', 'pace', 'past', 'Clau', 'Dicers', 'toe', 'Maiden', 'Appetite', 'Imperiall', 'flying', 'Harke', 'Indeed', 'Compell', 'Stopes', 'parted', 'Challenger', 'Cæsar', 'Strawes', 'bated', 'Paconcies', 'purpled', 'instigations', 'receiuest', 'Scruples', 'earth', 'offer', 'performances', 'Shouell', 'mercie', 'swound', 'Gracious', 'Confesse', 'Strangers', 'wombe', 'Pitty', 'Addition', 'Creature', 'crash', 'fellowship', 'wafts', 'Tempt', 'wont', 'receiu', 'habit', 'Pery', 'Theatre', 'Study', 'engendred', 'multitude', 'absurd', 'Distilment', 'platforme', 'scand', 'Primus', 'months', 'forsworne', 'Abstracts', 'Alliance', 'vantage', 'Norman', 'first', 'Cynna', 'Seek', 'Nor', 'wasted', 'Carbuncles', 'giuing', 'almost', 'restraine', 'colour', 'wring', 'touched', 'integrity', 'season', 'stuffe', 'teemes', 'deaths', 'encounter', 'Vnto', 'fiue', 'amisse', 'Conspiracie', 'Produce', 'gate', 'vnsinnowed', 'infranchisement', 'Must', 'Functions', 'Cyn', 'Treacherie', 'heate', 'opposite', 'Cousins', 'yeeres', 'Mowsing', 'variable', 'Seed', 'Quarters', 'Madman', 'Et', 'shine', 'driuen', 'benetted', 'fill', 'contented', 'stung', 'wilfully', 'halfepeny', 'minde', 'Musick', 'mistook', 'haunt', 'Bones', 'stronger', 'last', 'shares', 'The', 'Say', 'vexeth', 'Eterne', 'carries', 'boord', 'Bosome', 'enters', 'horson', 'Seyward', 'hellish', 'cleaue', 'feed', 'tied', 'hath', 'therefore', 'muse', 'Rich', 'Howting', 'seare', 'thirty', 'dig', 'entire', 'Fruites', 'speech', 'liest', 'greeted', 'gender', 'Oracles', 'pitty', 'wake', 'greatnesse', 'speedie', 'drowne', 'vpspring', 'nice', 'Pol', 'Hearse', 'speaking', 'Troy', 'hors', 'vgly', 'tumbled', 'did', 'Weepe', 'accent', 'nightly', 'Resolution', 'Cosin', 'clowdy', 'mean', 'Louing', 'vice', 'Actors', 'binde', 'dotes', 'Vow', 'destruction', 'Crib', 'wishest', 'Ser', 'gift', 'Golden', 'warm', 'sure', 'scorch', 'combin', 'watcht', 'Macd', 'Fingers', 'deeper', 'Ghosts', 'blaze', 'Secunda', 'mutiny', 'flighty', 'byth', 'pendant', 'Romans', 'scandall', 'Professions', 'Title', 'Antonies', 'Deuoutly', 'Spirit', 'Gowne', 'Switzers', 'Chronicles', 'guide', 'vpper', 'answerest', 'Answer', 'Horses', 'Wolfe', 'Impediments', 'pratlings', 'Horsemen', 'Country', 'Vnction', 'Necessitie', 'muddied', 'raines', 'Theft', 'Actions', 'haire', 'Daughters', 'distemper', 'haires', 'Alreadie', 'commendable', 'withdraw', 'Countrymen', 'buyer', 'Robin', 'Blasted', 'remoue', 'likes', 'dilated', 'mischieuous', 'youl', 'Houre', 'ostentation', 'Lid', 'loues', 'abound', 'celebrates', 'apart', 'Coniure', 'Vnkles', 'Bold', 'calmes', 'sway', 'feeles', 'content', 'Test', 'skinne', 'bespeake', 'gestures', 'smyling', 'banish', 'Vulture', 'Males', 'ought', 'forge', 'blastments', 'fits', 'pompe', 'Discomfort', 'childe', 'admit', 'imperiall', 'Tutor', 'intended', 'hill', 'Supper', 'happily', 'windes', 'rid', 'resembled', 'casing', 'easinesse', 'conquest', 'Lyst', 'Appeares', 'Bridegroome', 'eyes', 'discard', 'wrong', 'byrlady', 'Bloods', 'sayings', 'clouds', 'Bonelesse', 'Cauldron', 'relate', 'mans', 'cals', 'take', 'Poure', 'pernitious', 'Chawdron', 'Scotland', 'vndone', 'vnderstood', 'walls', 'Lunacy', 'swiftest', 'full', 'Ancestors', 'hap', 'mee', 'touch', 'neede', 'seru', 'gon', 'Earth', 'ioyne', 'Worthy', 'notwithstanding', 'white', 'sparkes', 'equiuocates', 'free', 'Shark', 'Hypocrite', 'Cynicke', 'With', 'bait', 'vnderstand', 'dwindle', 'themselues', 'booke', 'promise', 'earnest', 'diuers', 'thether', 'Labors', 'instance', 'Origin', 'Double', 'tarry', 'shard', 'Leaue', 'house', 'solid', 'slope', 'Talke', 'Scene', 'Macbeths', 'seeke', 'doubly', 'betweene', 'ayres', 'Beer', 'succeeding', 'Quality', 'value', 'exploit', 'fond', 'Milkie', 'agitation', 'grossely', 'remaines', 'Adder', 'Desire', 'he', 'accord', 'Poniards', 'leuied', 'Doth', 'narrow', 'Whil', 'cut', 'hearted', 'Graue', 'Farme', 'Was', 'shreeking', 'cride', 'Spheres', 'arbitrate', 'Beauty', 'Doomes', 'Cursing', 'At', 'Diuided', 'Statue', 'solely', 'sanctified', 'vnwilling', 'presents', 'knee', 'Enterprize', 'Phrase', 'mute', 'Bow', 'Cape', 'word', 'Obseruers', 'Doue', 'performe', 'Sinne', 'Holding', 'Aygre', 'Demy', 'vncurrant', 'Ioy', 'Lepidus', 'Sawce', 'vseth', 'sences', 'kisses', 'ordinary', 'wherfore', 'cunning', 'extant', 'drift', 'longed', 'reaks', 'interre', 'Recompence', 'because', 'locke', 'Old', 'exception', 'Mawes', 'Cobl', 'wholsom', 'require', 'Crowned', 'Nose', 'deedes', 'sere', 'ranck', 'Captaines', 'yawn', 'wouldest', 'Obligation', 'ayde', 'Ribbes', 'Swords', 'showres', 'qualifies', 'Dec', 'dye', 'wearing', 'faining', 'inclos', 'buzzing', 'score', 'Mens', 'Danish', 'seruants', 'attractiue', 'Downey', 'passionate', 'Nobly', 'wisest', 'spoke', 'greefes', 'tremble', 'Cherubin', 'seuerall', 'Articles', 'womans', 'strength', 'writes', 'Argall', 'therein', 'deserue', 'Whirle', 'Battalians', 'Knaue', 'Flesh', 'impart', 'expend', 'signifie', 'where', 'Playes', 'ours', 'Castle', 'cures', 'Subscrib', 'lou', 'whisper', 'entrance', 'pittifull', 'Crests', 'tongue', 'Issue', 'leauy', 'Do', 'Vessels', 'Fra', 'Stra', 'augure', 'O', 'beauteous', 'ratifie', 'Ventiges', 'farwel', 'Dignity', 'Stands', 'Answering', 'liuing', 'Quicknesse', 'assaileable', 'dishonourable', 'Iemme', 'Sphere', 'labour', 'Larded', 'bosomes', 'Cannon', 'vnequall', 'bulke', 'Shout', 'seruile', 'lusty', 'referr', 'Land', 'Trust', 'offence', 'bent', 'containing', 'vices', 'bare', 'Glamys', 'tickled', 'Ducates', 'Winters', 'obeyes', 'proofe', 'Hunter', 'pull', 'sift', 'Cornelius', 'whilst', 'came', 'manners', 'formes', 'fasten', 'Mur', 'blunted', 'sucke', 'Slings', 'prostrate', 'Ifaith', 'wept', 'vigour', 'ranging', 'changeling', 'perturbed', 'Giants', 'Strumpet', 'rub', 'seasons', 'Hamlets', 'indure', 'deepe', 'smell', 'aueng', 'Charnell', 'presse', 'hearers', 'spake', 'Vniuersity', 'time', 'Theater', 'Nephewes', 'fitfull', 'Duncan', 'Rapier', 'Royalty', 'Spirits', 'often', 'leauing', 'encreaseth', 'haunting', 'saile', 'Boxe', 'vntye', 'Testie', 'incestuous', 'runne', 'Darknesse', 'Cathnes', 'singeth', 'proue', 'sold', 'Braine', 'Saylors', 'vnmann', 'deserued', 'Butcher', 'alijs', 'Hyperions', 'temp', 'againe', 'Chimneys', 'Idoll', 'Tempest', 'iudge', 'greefe', 'Prouinciall', 'confinelesse', 'compose', 'consent', 'Doe', 'duls', 'swet', 'iowles', 'Tapers', 'quoth', 'withdrew', 'Ligarius', 'ignorant', 'stayes', 'meeke', 'knots', 'defeate', 'brother', 'neyther', 'siz', 'befriend', 'perillous', 'Ioyn', 'Forraigne', 'Ore', 'sawe', 'succeede', 'Willes', 'ascended', 'remembred', 'Draw', 'Flaxen', 'defect', 'Allegeance', 'fac', 'Vienna', 'burneth', 'Heauen', 'plenty', 'Pleasant', 'Brow', 'chide', 'died', 'obseruation', 'Vertue', 'cines', 'Polon', 'obey', 'Popt', 'folke', 'Drown', 'Graine', 'remisse', 'labouring', 'neu', 'coniunctiue', 'Quinta', 'Grop', 'Eminence', 'Richer', 'steps', 'Chappell', 'drunke', 'push', 'Honesty', 'grant', 'proclaimes', 'Oh', 'patience', 'warranted', 'Fancies', 'guesse', 'Letters', 'Speak', 'Gin', 'rue', 'check', 'Lowd', 'Towards', 'lockes', 'Ne', 'Treasonous', 'acted', 'Antike', 'trembled', 'Law', 'hinder', 'kind', 'Armours', 'lips', 'man', 'Remembraunce', 'Swine', 'Since', 'prankes', 'Crimes', 'Feuer', 'vnbaited', 'Potion', 'gaue', 'Cloyster', 'aske', 'speculation', 'not', 'Confronted', 'Bride', 'concernings', 'ends', 'begin', 'fain', 'Most', 'thereon', 'Port', 'idle', 'obscure', 'wax', 'case', 'curiously', 'furie', 'Venome', 'Messe', 'Osr', 'Sable', 'auoid', 'neere', 'sorrowes', 'Cesterne', 'Tribute', 'teach', 'Triumphes', 'quite', 'wretched', 'friending', 'eleuen', 'preserue', 'Affection', 'closes', 'hide', 'sell', 'disgest', 'Sting', 'years', 'Amb', 'vndon', 'assistance', 'knit', 'Falne', 'vnkindely', 'ending', 'wash', 'knottie', 'conclusion', 'lyable', 'pangs', 'Well', 'charme', 'Ho', 'Recorded', 'Ill', 'Dies', 'Artificiall', 'cry', 'Philosophie', 'Lees', ')', 'hey', 'married', 'Sweets', 'preuention', 'parching', 'Sorrow', 'Mockery', 'Hawke', 'solicited', 'Senators', 'Sallets', 'Thunders', 'Apes', 'Caius', 'Shipwright', 'mingled', 'fear', 'aught', 'seiz', 'treacherous', 'concluded', 'Heires', 'nant', 'nay', 'Fortin', 'thunders', 'checking', 'new', 'Orphans', 'license', 'remainder', 'Darts', 'Vnsifted', 'dipping', 'niggard', 'strings', 'Filthy', 'Foode', 'doo', 'Sprinkle', 'Snow', 'detecting', 'ouercome', 'Quietus', 'Cou', 'Noblest', 'whereat', 'Lightning', 'You', 'whet', 'rank', 'Graces', 'By', 'mourn', 'Met', 'actuall', 'haste', 'Blaspheming', 'forgeries', 'Matine', 'sowre', 'shouting', 'Rubbish', 'behauior', 'foule', 'Message', 'Hell', 'Rough', 'mercilesse', 'nature', 'Sliuer', 'Estate', 'Sawcy', 'slaughter', 'combatted', 'necessaries', 'thinke', 'reconcilement', 'pure', 'Groue', 'Windes', 'Subiect', 'Eccho', 'Answere', 'ground', 'tragedie', 'gleane', 'canst', 'detraction', 'bloodie', 'Enough', 'drinking', 'Receit', 'interpreted', 'Malcolmes', 'Not', 'Bath', 'abus', 'wringing', 'Linnen', 'Lecherie', 'windy', 'Carpenter', 'Physicall', 'vnshaken', 'Hoast', 'limbes', 'Victorie', 'Morrow', 'ennactors', 'dy', 'Howlets', 'lookt', 'wee', 'comply', 'mind', 'Miching', 'em', 'holie', 'Confound', 'School', 'retaine', 'courtesies', 'presume', 'Norwayes', 'gain', 'stockings', 'though', 'Remember', 'whoreson', 'Confess', 'hollow', 'Petitions', 'sparke', 'Student', 'ratified', 'Schollers', 'vnreclaim', 'Meane', 'trenched', 'hides', 'plant', 'Famine', 'Labour', 'along', 'd', 'smil', 'withall', 'Coach', 'Coarse', 'hundred', 'voice', 'Pillowes', 'returne', 'Weale', 'Conspirator', 'shadowes', 'Hags', 'cheff', 'fame', 'Should', 'greet', 'whom', 'Macduff', 'vsually', 'Respeaking', 'cryes', 'doubtfull', 'Bonet', 'enact', 'intermission', 'besmerch', 'Sacred', 'picked', 'wayes', 'side', 'heauiest', 'especial', 'siluer', 'warie', 'Kerchiefe', 'larger', 'Powres', 'bankes', 'Ambassadors', 'perturbation', 'Cerimony', 'affraid', 'beneath', 'boudge', 'Nobler', 'mention', 'inuenomed', 'pocket', 'hoodman', 'knocks', 'kettle', 'affliction', 'Vertues', 'pestilent', 'nerue', 'Cleanse', 'Dungeons', 'Goodman', 'distracted', 'mother', 'Armed', 'Monday', 'bed', 'struts', 'tong', 'Mount', 'snatches', 'pronouncing', 'Iohn', 'outwardly', 'disprooue', 'ld', 'weare', 'ouer', 'bottome', 'nimbly', 'accust', 'betray', 'Friends', 'cleares', 'Vnreall', 'freely', 'Claudius', 'acting', 'heart', 'Painted', 'Termagant', 'Speake', 'Open', 'addresse', 'm', 'Serpents', 'disposed', 'sooner', 'Caesar', 'Field', 'Dispaire', 'Landlesse', 'consider', 'rights', 'fairer', 'Method', 'get', 'trifling', 'Sith', 'doth', 'obseruance', 'weigh', 'surpriz', 'whereon', 'mount', 'taken', 'helpes', 'deeds', 'grow', 'betime', 'determination', 'fathers', 'Whereon', 'peruse', 'Broke', 'sauing', 'Cly', 'Whiles', 'Volt', 'Soris', 'Deede', 'destroy', 'spurre', 'ioyntly', 'moneth', 'Hecuba', 'enuy', 'confirme', 'patch', 'Herein', 'coated', 'Deuices', 'screen', 'offended', 'iumpe', 'Shift', 'Robe', 'waxes', 'sightlesse', 'Song', 'Mee', 'Meete', 'sequell', 'groaning', 'Dudgeon', 'loud', 'Throate', 'Mansion', 'Pleasure', 'list', 'Signifies', 'Sisters', 'commend', 'party', 'distrust', 'Insurrection', 'Vulgar', 'beloued', 'vpon', 'Dreames', 'Shewes', 'sports', 'bountie', 'muddy', 'vrg', 'mark', 'Ride', 'seest', 'Finger', 'applauses', 'Gentle', 'keepes', 'hound', 'Companions', 'Propose', 'Sheep', 'pressure', 'Suruiuer', 'Weigh', 'Greetings', 'further', 'Rookes', 'Where', 'Armour', 'Glory', 'Conspirers', 'Scarffes', 'Endure', 'Curse', 'companie', 'buffet', 'flye', 'quarry', 'tread', 'Purueyor', 'laudable', 'asking', 'composition', 'effects', 'only', 'Statute', 'Spectators', 'impossible', 'afarre', 'Fume', 'Buffets', 'Charge', 'Safe', 'welcom', 'courses', 'bones', 'Hoby', 'Seyton', 'wold', 'ease', 'seemes', 'rashnesse', 'Against', 'none', 'Iustice', 'darkest', 'Some', 'Guildenstern', 'gayne', 'kindles', 'Indentures', 'contract', 'one', 'Skie', 'surge', 'latch', 'Shallowes', 'Writ', ',', 'Vsurpers', 'Fountaine', 'wisely', 'prick', 'Hoboyes', 'mend', 'wine', 'adaies', 'Worthinesse', 'fearefull', 'Greaze', 'hast', 'enforc', 'Fighting', 'Pesant', 'sent', 'Showt', 'Greeke', 'second', 'retentiue', 'Takes', 'Inobled', 'penetrable', 'Hounds', 'vneffectuall', 'Euents', 'Saint', 'vnkinde', 'opinions', 'Maw', 'space', 'botch', 'indeauour', 'escorted', 'Daggers', 'Corruption', 'augment', 'whole', 'successiue', 'rises', 'Thewes', 'Mischance', 'Deuill', 'defend', 'suiting', 'practise', 'Infected', 'howted', 'two', 'Resolutes', 'Mighty', 'Iigging', 'all', 'Spoyle', 'sundry', 'homeward', 'sinne', 'hazard', 'tother', 'Polake', 'Power', 'Destinie', 'adoption', 'Confederate', 'Aunt', 'sake', 'Envernes', 'wonne', 'hangers', 'terror', 'meerely', 'n', 'entertainment', 'morning', 'Offrings', 'Malefactions', 'speaker', 'Shall', 'Varrus', 'bites', 'ginne', 'valiant', 'Laugh', 'Try', 'inuention', 'purport', 'Dagger', 'His', 'suffered', 'Their', 'Lunacie', 'confess', 'owne', 'admiration', 'among', 'Melancholly', 'darke', 'Won', 'killing', 'dangerous', 'furious', 'reway', 'Is', 'Seywards', 'Beggard', 'reputation', 'preferre', 'rough', 'Pulpit', 'beside', 'howling', 'Discretion', 'proceede', 'Foyles', 'Shame', 'Pollax', 'beaten', 'Sey', 'Gown', 'bedded', 'Sinfull', 'Doers', 'Incestuous', 'Grandsire', 'Rebell', 'laide', 'bruited', 'Quarrell', 'findes', 'transport', 'answer', 'Maiesty', 'Rossius', 'written', 'foame', 'dearest', 'Israel', 'latest', 'franchis', 'fertile', 'Predictions', 'assignes', 'Offices', 'outragious', 'howl', 'Boyes', 'distract', 'beetles', 'sleepy', 'stickes', 'leaue', 'select', 'yonger', 'change', 'breed', 'Whips', 'Tributary', 'Disrobe', 'twixt', 'churlish', 'proposer', 'fayl', 'lighted', 'insupportable', 'aint', 'schreame', 'knock', 'Rendeuous', 'bound', 'Bodkin', 'Wit', 'Parthia', 'indifferently', 'stinglesse', 'Birnane', 'Occasion', 'Crown', 'Natio', 'entry', 'lets', 'Blesse', 'Makes', 'wil', 'misconstrued', 'Sceptred', 'your', 'stubborne', 'repeale', 'Lappe', 'lowly', 'Mildew', 'necessary', 'sodainely', 'Lyars', 'Blasting', 'temper', 'Custome', 'stroke', 'shatter', 'Peale', 'Loues', 'Exceedingly', 'buriall', 'vtterance', 'Laughter', 'angry', 'quickly', 'different', 'Blinde', 'Rauens', 'mischiefe', 'Motiue', 'beare', 'Vnmannerly', 'Approach', 'Gustie', 'Remembrances', 'Musicke', 'raw', 'seat', 'chaste', 'fauourites', 'hid', 'Colaterall', 'Dirt', 'Vnhouzzled', 'concerne', 'Scales', 'Greefes', 'Comment', 'Laer', 'Syw', 'Succession', 'rocke', 'Tuesday', 'enrage', 'rashly', 'Fox', 'Hemlocke', 'habite', 'Englands', 'beast', 'enmity', 'Crimson', 'petty', 'crowd', 'crib', 'wig', 'Desires', 'Mess', 'Giues', 'handed', 'rugged', 'newer', 'Lucillius', 'Religious', 'Battery', 'Hindges', 'lot', 'hilts', 'true', 'Skies', 'menace', 'bitter', 'Empire', 'chance', 'Murtherers', 'person', 'Whispers', 'learn', 'Feed', 'stomackes', 'waste', 'weedy', 'mated', 'became', 'vnpolluted', 'Cic', 'mingle', 'passages', 'valued', 'knauery', 'Action', 'Rule', 'headed', 'Obiect', 'imagine', 'heat', 'bubble', 'Conuert', 'most', 'shooke', 'Prima', 'absence', 'hyr', 'Hangmans', 'sicknesse', 'Rosse', 'vnsatisfied', 'Scale', 'constantly', 'Force', 'lacke', 'Aule', 'Wolues', 'Rubarb', 'threats', 'Man', 'meditation', 'Ere', 'Long', 'accompt', 'sowing', 'exalted', 'Enuious', 'Contending', 'meditates', 'Tu', 'Sinners', 'dust', 'pronounc', 'Pray', 'Gray', 'oppose', 'Nature', 'hauocke', 'Had', 'Hec', 'Trumpets', 'guift', 'Ship', 'think', 'craft', 'enfold', 'Relations', 'Cryer', 'Expire', 'shall', 'strongly', 'fall', 'conuert', 'mighty', 'henceforth', 'Queen', 'swimme', 'feares', 'wander', 'honest', 'Customary', 'Publius', 'seate', 'Still', 'Whole', 'bowl', 'Leaden', 'hop', 'leysure', 'visit', 'Lips', 'humours', 'hauing', 'Charity', 'way', 'Ophel', 'interim', 'wofull', 'assurance', 'richer', 'anger', 'dying', 'brest', 'Face', 'tayle', 'Earles', 'Truths', 'yong', 'conuerse', 'dum', 'send', 'Rim', 'ake', 'lyest', 'Charges', 'forehead', 'Rascall', 'innocent', 'intombe', 'pittied', 'small', 'performance', 'Doomesday', 'Thorough', 'Monthes', 'Fauour', 'Foysons', 'needed', 'Outlarie', 'contriuing', 'Senses', 'brinded', 'Ophe', 'If', 'Incenst', 'being', 'gall', 'Inhabitants', 'breath', 'spight', 'Writings', 'drossie', 'seuenty', 'Paddocke', 'tax', 'happyer', 'Grewell', 'Bar', 'bathe', 'struck', 'worke', 'woman', 'plenteous', 'watching', 'talk', 'Lippes', 'rant', 'sterner', 'tooke', 'deuill', 'inward', 'Bat', 'vnlineall', 'vnkennell', 'Inuestments', 'Retreat', 'Spaniels', 'Bosomes', 'course', 'Station', 'harrow', 'Don', 'awe', 'Walke', 'swaggering', 'Amber', 'shent', 'had', 'horridly', 'Beere', 'highly', 'Fleance', 'asunder', 'young', 'hent', 'due', 'actiuely', 'nutshell', 'mooue', 'comes', 'Wood', 'Beauteous', 'feeling', 'brew', 'Letting', 'Belike', 'Vnfixe', 'Then', 'find', 'Vouchers', 'constrained', 'opprest', 'Geulles', 'forty', 'euer', 'dispriz', 'Slanders', 'decline', 'Being', 'deceiu', 'sensible', 'Assassination', 'sleepe', 'field', 'Sinke', 'Epicurus', 'thousand', 'Sport', 'drownes', 'Liue', 'Wilt', 'fortune', 'sighes', 'hearke', 'abilitie', 'exterior', 'lugge', 'Liberty', 'Quintus', 'Cracks', 'farwell', 'Cuts', 'vnpacke', 'Captiues', 'seauenth', 'Commends', 'Disguising', 'obseruant', 'disbursed', 'Ophelia', 'impious', 'Purpose', 'damned', 'impittious', 'dasht', 'orderly', 'Would', 'ayrie', 'Mutes', 'sport', 'bethought', 'Seeme', 'curse', 'faine', 'noble', 'groane', 'blazes', 'Calumny', 'after', 'heede', 'Repent', 'Campe', 'Fulfill', 'nought', 'Backe', 'nephew', 'good', 'waight', 'hems', 'As', 'Coniuration', 'shout', 'Warlike', 'pursie', 'vppe', 'wearie', 'rime', 'shade', 'Conqueror', 'Fly', 'Defiance', 'ow', 'Sentence', 'Galls', 'competent', 'eielids', 'Better', 'Collected', 'scope', 'Cherube', 'Chuck', 'Purgatiue', 'Protest', 'possitiuely', 'Witches', 'Guts', 'pleasure', 'direction', 'carry', 'hearing', 'Parricide', 'halfe', 'cabin', 'Truth', 'Neighbor', 'pastime', 'conuerted', 'retyrement', 'When', 'charitable', 'Something', 'M', 'sleepes', 'indite', 'Assignes', 'veyled', 'Damon', 'Treasons', 'shuffel', 'props', 'couert', 'an', 'Legacie', 'Soothsayer', 'deerest', 'spoken', 'swallow', 'knockt', 'merry', 'Army', 'Safeties', 'Sprights', 'stirr', 'Gho', 'Storie', 'arriue', 'Saile', 'inuites', 'Concord', 'fingers', 'Grandam', 'varnish', 'Pledge', 'Souldier', 'silenc', 'Corner', 'Esile', 'path', 'residence', 'stiffely', 'Asking', 'Villains', '2', 'Obey', 'chace', 'yes', 'delicate', 'sacrilegious', 'breefely', 'discerne', 'Hunts', 'Breathing', 'drown', 'croaking', 'breathing', 'deseruers', 'breake', 'Pastorall', 'Cath', 'Go', 'crack', 'engagements', 'Flats', 'merit', 'female', 'direct', 'Thrift', 'Suburbs', 'Grapples', 'Pallaces', 'Wisedome', 'euidence', 'whor', 'Cue', 'Sute', 'filthie', 'Funerall', 'countenance', 'Remorse', 'known', 'Imagination', 'stealthy', 'Hauing', 'causes', 'taking', 'sodainly', 'repell', 'seene', 'whereby', 'challenge', 'backs', 'knockes', 'absolute', 'what', 'guilt', 'Thaw', 'Sweltred', 'pittious', 'Drachmaes', 'Nemian', 'Whereto', 'And', 'liable', 'worst', 'dogge', 'throwes', 'Historicall', 'Stythe', 'Damned', 'Visage', 'Delight', 'erruption', 'drinke', 'Rosincrane', 'Pind', 'counterfet', 'knew', 'extremity', 'Seldome', 'Sound', 'Kinsman', 'Flauius', 'Christian', 'Summons', 'arm', 'masse', 'Kingly', 'best', 'vnseam', 'Holes', 'Rome', 'Feare', 'deaftly', 'transpose', 'dew', 'keeper', 'Choppine', 'vnmannerly', 'Conquest', 'how', 'soundlesse', 'Graues', 'answere', 'rung', 'heereafter', 'suffering', 'vnpreuayling', 'commendations', 'nod', 'spirits', 'Dyes', 'Honie', 'seal', 'Woman', 'yesternight', 'fatted', 'Barlet', 'by', 'Matrons', 'Adam', 'each', 'portentous', 'reuerted', 'mouthes', 'want', 'replication', 'steep', 'Tyrant', 'Chariot', 'Ocean', 'Pull', 'Patch', 'sing', 'Diuel', 'Tyrants', 'Cals', 'Treason', 'Minde', 'Mummey', 'quality', 'Gone', 'vnpregnant', 'lated', 'blisters', 'Bequeathing', 'bonds', 'rais', 'Blacke', 'Conception', 'Sleepes', 'whither', 'Nunnery', 'sweaty', 'West', 'Stones', 'Traitor', 'made', 'Ancestor', 'Dishes', 'Wassell', 'Buriall', 'lispe', 'Thence', 'cressant', 'Commons', 'Chanson', 'forgetting', 'raues', 'store', 'timbred', 'afterwards', 'mine', 'translate', 'Priams', 'Life', 'Balles', 'weapon', 'Fortinbras', 'sayle', 'thumbe', 'Organ', 'houres', 'Sleeping', 'reeke', 'thereof', 'Sing', 'offendendo', 'robustious', 'purging', 'Ermites', 'Sunday', 'volly', 'older', 'rare', 'lockt', 'waues', 'another', 'Fiend', 'Matter', 'carelesly', 'Priam', 'vnworthy', 'watchmen', 'couer', 'Processe', 'safest', 'twelue', 'Allies', 'Pigeon', 'Fight', 'Madnesse', 'next', 'age', 'smother', 'refresht', 'Artimedorus', 'humane', 'Christendome', 'Nimph', 'deliuers', 'quiet', 'imperfect', 'frets', 'consorted', 'Bellona', 'iocund', 'Cin', 'planted', 'disposing', 'beds', 'Damnation', 'Fetch', 'painting', 'exchange', 'Mountebanke', 'craz', 'eares', 'matters', 'arrant', 'afraid', 'Girdle', 'whereto', 'Fires', 'fro', 'Entrailes', 'Passion', 'Braggart', 'Roses', 'probation', 'prosperously', 'annoying', 'Guild', 'Bonds', 'vnknowne', 'Vision', 'count', 'Treasure', 'nasty', 'prison', 'Throw', 'See', 'is', 'cheefest', 'continent', 'from', 'vnlocke', 'punish', 'enforced', 'bleede', 'stomacke', 'soft', 'Reasons', 'midnight', 'sawcy', 'Vncle', 'wonder', 'Wren', 'knowledge', 'yeelds', 'boyle', 'strife', 'thought', 'doubts', 'Knight', 'grasped', 'Fellowes', 'Hackt', 'sawcie', 'assaies', 'Vndeseruers', 'Y', 'Titinius', 'defectiue', 'Ranke', 'Eye', 'once', 'Bakt', 'Colmekill', 'mixture', 'Countreyes', 'frieze', 'Carue', 'Behauiours', 'vnrung', 'vttermost', 'coppied', 'Spokes', 'temperately', 'Rore', 'Company', 'praising', 'Can', 'shrowding', 'exil', 'nimblenesse', 'Angus', 'graces', 'swelling', 'Deuotions', 'drugg', 'better', 'weeds', 'Swimmers', 'Obiects', 'tarrying', 'Ambassador', 'fright', 'passeth', 'property', 'vpward', 'Thunder', 'toile', 'drest', 'knauish', 'Remaines', 'Mindes', 'Praetors', 'Holy', 'bought', 'Churches', 'prating', 'amis', 'strook', 'dream', 'perswade', 'Murthers', 'Paris', 'appointment', 'profoundest', 'Audit', 'Crying', 'Royaltie', 'Flauio', 'soliciting', 'breefe', 'dire', 'Authorities', 'finger', 'Lyons', 'couched', 'sayst', 'knife', 'forg', 'purse', 'Wing', 'shed', 'dint', 'yawne', 'Cato', 'Iron', 'adulterate', 'Compasse', 'miserable', 'memory', 'reme', 'burthen', 'Clowds', 'rellish', 'damnation', 'scolding', 'Sent', 'began', 'Thou', 'Handsaw', 'Thereto', 'Barke', 'Axe', 'Lunacies', 'Pricke', 'Flye', 'Manhood', 'repealing', 'pate', 'Recoueries', 'fam', 'compasse', 'Soule', 'Aduise', 'Worse', 'much', 'Dignities', 'Cannot', 'Cob', 'suggestion', 'confessing', 'Mutiny', 'Vsing', 'Character', 'Vrge', 'scarsely', 'current', 'disgrace', 'minister', 'Exorcist', 'purchase', 'Popillius', 'sitting', 'multitudinous', 'Hecat', 'slip', 'distant', 'offend', 'conuenience', 'ask', 'sipping', 'aduancement', 'Direnesse', 'Fault', 'Fortifies', 'Tent', 'quench', 'withers', 'supporting', 'Vnicornes', 'briefe', 'listen', 'puisant', 'Bid', 'coniectures', 'coniuring', 'voluntary', 'honor', 'shift', 'prepar', 'iuyce', 'bloudy', 'Faculties', 'Oath', 'violence', 'Toyes', 'Inhibition', 'voyce', 'greeu', 'Repaire', 'Lights', 'fortified', 'staid', 'France', 'Sits', 'Var', 'load', 'Hurts', 'rore', 'Vnckle', 'rings', 'tender', 'the', 'Signall', 'Dance', 'Enemie', 'why', 'buckle', 'indifferent', 'whiles', 'crosse', 'auoyd', 'sadly', 'didst', 'eies', 'Arrests', 'Caines', 'Gallowes', 'secricie', 'faith', 'euents', 'hore', 'Mouth', 'Sainted', 'melting', 'Rebellious', 'vnbraced', 'fight', 'thrusts', 'vaunting', 'hungry', 'List', 'hand', '4', 'Camelions', 'standing', 'To', 'scarce', 'vses', 'Fortunate', 'Foundations', 'Deuis', 'Doom', 'afeard', 'Fye', 'bussling', 'court', 'warne', 'assure', 'enlarge', 'fir', 'necessitie', 'weaker', 'Baudry', 'substance', 'Antique', 'extasie', 'conuince', 'gallant', 'Spectacle', 'beat', 'Testament', 'prophesie', 'loses', 'instances', 'tempted', 'double', 'appeare', 'Hall', 'swoonded', 'soil', 'speed', 'incapable', 'helpe', 'redoubled', 'chariest', 'wrath', 'assistant', 'vnseene', 'been', 'Courtier', 'win', 'Braines', 'Decree', 'Lazar', 'thirties', 'dares', 'Winds', 'praier', 'Castles', 'murky', 'shirt', 'Quartus', 'vsuall', 'Ape', 'basis', 'vnscorch', 'limed', 'Generals', 'Griefe', 'wer', 'Sense', 'wooingly', 'o', 'Seize', 'brings', 'wade', 'bellowed', 'missing', 'violent', 'suffred', 'Lilly', 'whil', 'Lest', 'healthfull', 'muffling', 'Mark', 'coniur', 'dauntlesse', 'Coine', 'see', 'Firebrands', 'present', 'ratled', 'whence', 'speechlesse', 'cheerefully', 'will', 'Condition', 'banished', 'Honours', 'chamber', 'Opposition', 'Knell', 'thick', 'sweares', 'Seate', 'Owne', 'height', 'who', 'Yew', 'Function', 'black', 'Fie', 'bold', 'vnnaneld', 'continue', 'Countryman', 'strangles', 'incorporate', 'horrors', 'Magots', 'vnseale', 'Brandish', 'guifts', 'Acte', 'name', 'grim', 'affaires', 'itching', 'dispaire', 'carriages', 'yea', 'studied', 'alreadie', 'malicious', 'washing', 'Natur', 'Isles', 'file', 'Lads', 'dar', 'dry', 'Carters', 'crowes', 'anoynted', 'Lordship', 'grasse', 'spies', 'Hope', 'Artire', 'propose', 'horror', 'Cask', 'rob', 'Geese', 'incorrect', 'prosperous', 'Farrow', 'Anticke', 'hoo', 'Pompey', 'laying', 'tugg', 'surprized', 'Murtherer', 'Beauties', 'contagion', 'surly', 'imbark', 'Leaps', 'Murth', 'Phoebus', 'Mile', 'occulted', 'Barres', 'Players', 'firme', 'Dragon', 'requite', 'asleepe', 'finde', 'Kneele', 'Heap', 'heap', 'Libertine', 'Cawdron', 'terrible', 'tryalls', 'pale', 'Assistant', 'trap', 'Thought', 'thine', 'momentary', 'third', 'waites', 'Illusion', 'Ate', 'sauory', 'rusty', 'reforme', 'Patient', 'twentieth', 'guiltlesse', 'Easterne', 'iocond', 'FINIS', 'Pit', 'brauely', 'abridg', 'turbulent', 'Acheron', 'stately', 'Seeming', 'hangs', 'head', 'glanced', 'impasted', 'demy', 'shelfe', 'continued', 'Lucian', 'Borne', 'Benediction', 'decision', 'Raine', 'indeede', 'Chestnuts', 'Diamond', 'dexterity', 'Ceremony', 'Pyramids', 'bellow', 'account', 'beguile', 'saying', 'contrary', 'holde', 'before', 'annoyance', 'lead', 'intrenchant', 'inclination', 'Sleepe', 'crooke', 'reare', 'readinesse', 'takes', 'Knocke', 'Honors', 'Heart', 'Respect', 'slow', 'Nought', 'Shrunke', 'calme', 'Gifts', 'dipt', 'Oration', 'Numbers', 'Fatall', 'study', 'Cinna', 'Russet', 'shriek', 'claime', 'modestie', 'lowest', 'burne', 'That', 'Day', 'Coronet', 'excrements', 'reeles', 'Both', 'Shew', 'treade', 'Whence', 'propertie', 'Purse', 'Banquetting', 'Dreamer', 'safe', 'Lamound', 'Couch', 'Giuing', 'bestowes', 'vnion', 'boy', 'Violl', 'kissing', 'Put', 'crownes', 'weight', 'basenesse', 'Denmark', 'boule', 'Fixt', 'issue', 'Millions', 'Cauiarie', 'Quarrels', 'Purgation', 'wonderfull', 'Neighbour', 'Souldiours', 'Ronyon', 'Westerne', 'round', 'Ratifiers', 'Reuerend', 'Aduantage', 'walke', 'at', 'Pluckes', 'Chasticement', 'Threatning', 'composd', 'Towres', 'Greene', 'sagge', 'peeuish', 'But', 'Disasters', 'ouerlook', 'Ominous', 'collection', 'Boldly', 'Natiue', 'gap', 'clamorous', 'Climber', 'me', 'Hilles', 'Bondman', 'Shipwracking', 'kil', 'substances', 'Barbars', 'Name', 'Roman', 'louest', 'whin', 'entertaine', 'knees', 'Performance', 'Pertaines', 'crown', 'confront', 'stroake', 'cause', 'rose', 'Crime', 'Walls', 'Letter', 'stemming', 'out', 'eighth', 'Flourish', 'Syue', 'pluck', 'clad', 'inclining', 'Reuisits', 'excellence'])\n"
     ]
    }
   ],
   "source": [
    "print(vocabulary1)"
   ]
  },
  {
   "cell_type": "code",
   "execution_count": 413,
   "metadata": {
    "collapsed": true
   },
   "outputs": [],
   "source": [
    "from collections import Counter"
   ]
  },
  {
   "cell_type": "code",
   "execution_count": 414,
   "metadata": {
    "collapsed": true
   },
   "outputs": [],
   "source": [
    "word_counts=Counter(vocabulary1)"
   ]
  },
  {
   "cell_type": "code",
   "execution_count": 415,
   "metadata": {
    "collapsed": true
   },
   "outputs": [],
   "source": [
    "top_fifty=word_counts.most_common(50)"
   ]
  },
  {
   "cell_type": "code",
   "execution_count": 416,
   "metadata": {
    "collapsed": false
   },
   "outputs": [
    {
     "name": "stdout",
     "output_type": "stream",
     "text": [
      "[('Voyce', 1), ('coming', 1), ('decay', 1), ('youth', 1), ('Wearie', 1), ('Lesser', 1), ('hoopes', 1), ('dish', 1), ('regards', 1), ('Pox', 1), ('nights', 1), ('mocke', 1), ('cam', 1), ('reconcile', 1), ('drowsie', 1), ('clos', 1), ('than', 1), ('approach', 1), ('many', 1), ('Breast', 1), ('infirmitie', 1), ('Obserue', 1), ('Mercifull', 1), ('strongest', 1), ('Theme', 1), ('Against', 1), ('Picture', 1), ('whatsoeuer', 1), ('resolute', 1), ('Caps', 1), ('greene', 1), ('deed', 1), ('Beggers', 1), ('billes', 1), ('Beasts', 1), ('Mankinde', 1), ('deale', 1), ('Industrious', 1), ('Lecture', 1), ('Sweno', 1), ('cryed', 1), ('beautifed', 1), ('Luc', 1), ('rellish', 1), ('Seale', 1), ('Thanes', 1), ('twentieth', 1), ('olde', 1), ('Guildenstern', 1), ('Adieu', 1)]\n"
     ]
    }
   ],
   "source": [
    "print(top_fifty)"
   ]
  },
  {
   "cell_type": "code",
   "execution_count": 205,
   "metadata": {
    "collapsed": false
   },
   "outputs": [],
   "source": [
    "from nltk.corpus import webtext"
   ]
  },
  {
   "cell_type": "code",
   "execution_count": 206,
   "metadata": {
    "collapsed": false
   },
   "outputs": [
    {
     "data": {
      "text/plain": [
       "['firefox.txt',\n",
       " 'grail.txt',\n",
       " 'overheard.txt',\n",
       " 'pirates.txt',\n",
       " 'singles.txt',\n",
       " 'wine.txt']"
      ]
     },
     "execution_count": 206,
     "metadata": {},
     "output_type": "execute_result"
    }
   ],
   "source": [
    "nltk.corpus.webtext.fileids()"
   ]
  },
  {
   "cell_type": "code",
   "execution_count": 207,
   "metadata": {
    "collapsed": false
   },
   "outputs": [
    {
     "name": "stdout",
     "output_type": "stream",
     "text": [
      "['Cookie', 'Manager', ':', '\"', 'Don', \"'\", 't', ...]\n"
     ]
    }
   ],
   "source": [
    "webwords1=webtext.words('firefox.txt')\n",
    "webwords2=webtext.words('grail.txt')\n",
    "webwords3=webtext.words('overheard.txt')\n",
    "webwords4=webtext.words('pirates.txt')\n",
    "webwords5=webtext.words('singles.txt')\n",
    "webwords6=webtext.words('wine.txt')\n",
    "total_webwords=webwords1+webwords2+webwords3+webwords4+webwords5+webwords6\n",
    "print(total_webwords)\n"
   ]
  },
  {
   "cell_type": "code",
   "execution_count": 266,
   "metadata": {
    "collapsed": false
   },
   "outputs": [],
   "source": [
    "fdist2= nltk.FreqDist(total_webwords);"
   ]
  },
  {
   "cell_type": "code",
   "execution_count": 270,
   "metadata": {
    "collapsed": false
   },
   "outputs": [
    {
     "data": {
      "text/plain": [
       "FreqDist({'R': 19,\n",
       "          'wom': 2,\n",
       "          'carryin': 1,\n",
       "          'begging': 2,\n",
       "          'warrior': 1,\n",
       "          'facing': 8,\n",
       "          '70s': 1,\n",
       "          'WINNT': 1,\n",
       "          'weirdo': 1,\n",
       "          'airliners': 1,\n",
       "          'Roosevelt': 10,\n",
       "          'wage': 2,\n",
       "          'nurse': 3,\n",
       "          'approach': 3,\n",
       "          'region': 3,\n",
       "          'Prettier': 1,\n",
       "          '>.': 3,\n",
       "          'Drop': 12,\n",
       "          'scrambles': 1,\n",
       "          'spanning': 1,\n",
       "          'unsafe': 1,\n",
       "          'background': 91,\n",
       "          'brunch': 1,\n",
       "          'sleepover': 2,\n",
       "          'Butterscotch': 1,\n",
       "          'crowded': 15,\n",
       "          'Feminism': 1,\n",
       "          'vegans': 1,\n",
       "          'Entery': 1,\n",
       "          'Jetsons': 3,\n",
       "          'linuxmail': 1,\n",
       "          'Viognier': 1,\n",
       "          'Belgians': 1,\n",
       "          'sculpture': 3,\n",
       "          'comedians': 2,\n",
       "          'curvaceous': 1,\n",
       "          'availHeight': 1,\n",
       "          'OnUnload': 1,\n",
       "          'paths': 4,\n",
       "          'optimizations': 1,\n",
       "          'roller': 1,\n",
       "          'Horror': 1,\n",
       "          '256': 4,\n",
       "          'notices': 1,\n",
       "          'Backward': 1,\n",
       "          'unknown': 11,\n",
       "          'future': 16,\n",
       "          'Adventure': 1,\n",
       "          'marry': 18,\n",
       "          'comments': 5,\n",
       "          'teenagers': 1,\n",
       "          'UPS': 1,\n",
       "          'Julius': 1,\n",
       "          'Een': 1,\n",
       "          'citric': 6,\n",
       "          \"->'\": 1,\n",
       "          'mah': 1,\n",
       "          'clipped': 2,\n",
       "          'type': 109,\n",
       "          'cust': 24,\n",
       "          'Clear': 21,\n",
       "          'pretend': 3,\n",
       "          '10PM': 2,\n",
       "          'drugs': 29,\n",
       "          ';': 283,\n",
       "          'Hypothetical': 1,\n",
       "          'newspaper': 3,\n",
       "          'misbehave': 1,\n",
       "          'Prefs': 6,\n",
       "          'awake': 1,\n",
       "          'mauled': 1,\n",
       "          'mouseover': 7,\n",
       "          'hangin': 3,\n",
       "          \"('.')\": 1,\n",
       "          'button2': 1,\n",
       "          'relax': 2,\n",
       "          'Confirm': 4,\n",
       "          'throbber': 16,\n",
       "          'varletesses': 1,\n",
       "          'GPA': 1,\n",
       "          'sprinkles': 1,\n",
       "          'sp': 1,\n",
       "          'geez': 1,\n",
       "          'jumping': 3,\n",
       "          'groceries': 1,\n",
       "          'coulda': 5,\n",
       "          'appetising': 9,\n",
       "          'seated': 1,\n",
       "          'switchable': 1,\n",
       "          'player': 11,\n",
       "          'distinguish': 2,\n",
       "          'GOOD': 2,\n",
       "          '17703': 1,\n",
       "          'merger': 1,\n",
       "          'Hungria': 1,\n",
       "          'chuckling': 1,\n",
       "          'gettin': 8,\n",
       "          'titties': 8,\n",
       "          'Usually': 3,\n",
       "          'ö': 1,\n",
       "          'Combine': 1,\n",
       "          'betwean': 1,\n",
       "          'teen': 37,\n",
       "          'hydrochloric': 1,\n",
       "          'defeat': 1,\n",
       "          'debugger': 1,\n",
       "          'Gmail': 2,\n",
       "          'nsNodeInfo': 1,\n",
       "          'contagious': 1,\n",
       "          'Neil': 1,\n",
       "          'Quoi': 2,\n",
       "          'pirate': 12,\n",
       "          'Filter': 1,\n",
       "          'Caribbean': 3,\n",
       "          'throb': 1,\n",
       "          'beard': 5,\n",
       "          'Nu': 3,\n",
       "          'coworker': 5,\n",
       "          'whith': 1,\n",
       "          'Daughter': 5,\n",
       "          'Ecky': 1,\n",
       "          'collecting': 1,\n",
       "          'Doesn': 12,\n",
       "          'defunct': 1,\n",
       "          'CHARACTERS': 1,\n",
       "          'about': 601,\n",
       "          'aisles': 1,\n",
       "          'ignored': 25,\n",
       "          'domestic': 1,\n",
       "          'altss': 1,\n",
       "          'ejaculated': 1,\n",
       "          '192': 1,\n",
       "          'gruyere': 1,\n",
       "          'redirections': 1,\n",
       "          'ignites': 1,\n",
       "          'meant': 16,\n",
       "          'yep': 1,\n",
       "          'Cupcake': 1,\n",
       "          'endings': 2,\n",
       "          'WinFrame': 1,\n",
       "          'lime': 4,\n",
       "          'nbsp': 3,\n",
       "          'improper': 3,\n",
       "          'synchronise': 1,\n",
       "          'livestock': 1,\n",
       "          'Hi': 27,\n",
       "          'Aauuuves': 1,\n",
       "          'Undisable': 1,\n",
       "          'entities': 3,\n",
       "          'cowards': 2,\n",
       "          'MNG': 4,\n",
       "          'sorrow': 1,\n",
       "          'Harry': 7,\n",
       "          'boomark': 1,\n",
       "          'humour': 5,\n",
       "          'resolving': 3,\n",
       "          'yeilds': 1,\n",
       "          'Dichotomy': 1,\n",
       "          'GENT': 4,\n",
       "          'Ph': 1,\n",
       "          'dual': 17,\n",
       "          'look': 241,\n",
       "          'breathe': 6,\n",
       "          'concerned': 2,\n",
       "          'familiar': 5,\n",
       "          'shutdowning': 1,\n",
       "          'Slashdot': 3,\n",
       "          'hair': 68,\n",
       "          'Limit': 1,\n",
       "          'Wardrobe': 1,\n",
       "          'blind': 21,\n",
       "          'disgrace': 1,\n",
       "          'Atristic': 1,\n",
       "          'intermission': 1,\n",
       "          'keyboard': 66,\n",
       "          'Uzi': 1,\n",
       "          'body': 46,\n",
       "          'Pepsi': 1,\n",
       "          'ree': 1,\n",
       "          'thumbs': 1,\n",
       "          'tennis': 1,\n",
       "          'close': 171,\n",
       "          'mile': 3,\n",
       "          'Buy': 6,\n",
       "          'canonizeUrl': 1,\n",
       "          'igloo': 1,\n",
       "          'blows': 7,\n",
       "          'reloading': 9,\n",
       "          'ampersands': 1,\n",
       "          'passerby': 7,\n",
       "          'clearing': 10,\n",
       "          'TaskList': 1,\n",
       "          'blocked': 31,\n",
       "          'recently': 16,\n",
       "          'Rieussec': 1,\n",
       "          'school': 79,\n",
       "          'regulary': 1,\n",
       "          'overlooking': 1,\n",
       "          'theory': 2,\n",
       "          'undue': 1,\n",
       "          'Movies': 1,\n",
       "          '85': 2,\n",
       "          'accommodate': 1,\n",
       "          'moisturize': 1,\n",
       "          'XMLSerializer': 1,\n",
       "          'args': 2,\n",
       "          'absorb': 1,\n",
       "          'tmp': 2,\n",
       "          'chocolate': 27,\n",
       "          'Child': 7,\n",
       "          'tampons': 1,\n",
       "          'cheaper': 4,\n",
       "          'estimate': 1,\n",
       "          'note': 13,\n",
       "          'pasted': 3,\n",
       "          'Brown': 4,\n",
       "          'PrintPDE': 1,\n",
       "          '?!?': 1,\n",
       "          'explicitly': 1,\n",
       "          'starve': 1,\n",
       "          'duvet': 1,\n",
       "          'necrophiliac': 1,\n",
       "          'Ahbsidy': 1,\n",
       "          'Clarety': 1,\n",
       "          'margarita': 1,\n",
       "          'propted': 1,\n",
       "          'Monetary': 1,\n",
       "          'Taller': 1,\n",
       "          'vbscript': 1,\n",
       "          'dinosaur': 2,\n",
       "          'Emmy': 1,\n",
       "          'risking': 1,\n",
       "          'fastest': 1,\n",
       "          'Gucci': 1,\n",
       "          'searchbox': 2,\n",
       "          'ENTER': 5,\n",
       "          '242275': 1,\n",
       "          'brioche': 1,\n",
       "          'nonempty': 1,\n",
       "          'jackpot': 2,\n",
       "          'updation': 1,\n",
       "          'Garnacha': 1,\n",
       "          'Loosing': 1,\n",
       "          'survived': 1,\n",
       "          'magnification': 1,\n",
       "          'ShoppingCart': 1,\n",
       "          'twentysomethings': 1,\n",
       "          'GC': 1,\n",
       "          'unpalatable': 1,\n",
       "          'Thug': 40,\n",
       "          'Gecko': 5,\n",
       "          'logout': 1,\n",
       "          'shells': 1,\n",
       "          'genders': 1,\n",
       "          'selfishly': 1,\n",
       "          'listener': 2,\n",
       "          'monks': 1,\n",
       "          'Unavailable': 1,\n",
       "          'H': 10,\n",
       "          'or': 708,\n",
       "          'download': 298,\n",
       "          'teabag': 2,\n",
       "          'bathroom': 33,\n",
       "          'solves': 1,\n",
       "          'Fab': 1,\n",
       "          'successfull': 1,\n",
       "          'Ayy': 2,\n",
       "          'saved': 69,\n",
       "          'dir': 12,\n",
       "          'charlatan': 1,\n",
       "          'sheets': 6,\n",
       "          'GUEST': 8,\n",
       "          'dunno': 17,\n",
       "          'Unclosable': 1,\n",
       "          'BSD': 1,\n",
       "          'hatch': 2,\n",
       "          'Nameless': 1,\n",
       "          'ororitary': 1,\n",
       "          'African': 18,\n",
       "          'F3': 3,\n",
       "          'tracked': 1,\n",
       "          'conversation': 20,\n",
       "          'would': 352,\n",
       "          'frontmost': 1,\n",
       "          'claimed': 2,\n",
       "          'finance': 3,\n",
       "          'Maybe': 70,\n",
       "          'winter': 9,\n",
       "          'pussy': 52,\n",
       "          'calorie': 1,\n",
       "          'commodities': 1,\n",
       "          'merge': 2,\n",
       "          'formhistory': 2,\n",
       "          'Earl': 2,\n",
       "          'nationstates': 1,\n",
       "          'skank': 1,\n",
       "          'justice': 2,\n",
       "          'Properties': 12,\n",
       "          'tech': 1,\n",
       "          'entitiy': 1,\n",
       "          'licensed': 1,\n",
       "          'lycos': 1,\n",
       "          'Amsterdam': 3,\n",
       "          'maximized': 11,\n",
       "          'Suspiciously': 1,\n",
       "          'bloody': 9,\n",
       "          'cetta': 2,\n",
       "          'depict': 1,\n",
       "          'health': 3,\n",
       "          'switch': 35,\n",
       "          'Mediaplayer': 1,\n",
       "          'marches': 1,\n",
       "          'receiving': 1,\n",
       "          'donâ': 1,\n",
       "          'Click': 28,\n",
       "          'Audience': 3,\n",
       "          'Nay': 2,\n",
       "          'youthful': 3,\n",
       "          'Vegetal': 3,\n",
       "          'phones': 4,\n",
       "          'RETIRED': 1,\n",
       "          'beetrooty': 2,\n",
       "          'AltSS': 3,\n",
       "          'angels': 6,\n",
       "          'omigod': 1,\n",
       "          'girlfriends': 2,\n",
       "          'BookmarksRoot': 1,\n",
       "          'Metal': 3,\n",
       "          'admin': 3,\n",
       "          'describing': 1,\n",
       "          'DMV': 2,\n",
       "          'Cashmere': 1,\n",
       "          'disappointment': 3,\n",
       "          'Pen': 3,\n",
       "          'uninhibited': 1,\n",
       "          'hotmail': 4,\n",
       "          'Activate': 1,\n",
       "          'based': 18,\n",
       "          'station': 19,\n",
       "          'guilty': 1,\n",
       "          'mountains': 3,\n",
       "          'Mid': 7,\n",
       "          'dyslexia': 1,\n",
       "          'offered': 6,\n",
       "          'Barbossa': 2,\n",
       "          'Jock': 1,\n",
       "          'Keith': 2,\n",
       "          'biographies': 2,\n",
       "          'browser': 392,\n",
       "          'colon': 4,\n",
       "          'End': 3,\n",
       "          'puke': 3,\n",
       "          'tooth': 3,\n",
       "          'atheists': 1,\n",
       "          'cufflinks': 1,\n",
       "          'Lennon': 2,\n",
       "          'Sober': 13,\n",
       "          'Bitmap': 1,\n",
       "          'CUSTOMER': 13,\n",
       "          'Gravelly': 1,\n",
       "          'Bookmarks': 245,\n",
       "          'Dodgers': 1,\n",
       "          '4MB': 1,\n",
       "          'coast': 3,\n",
       "          'onGoogle': 1,\n",
       "          'selectable': 2,\n",
       "          'sip': 2,\n",
       "          'faults': 1,\n",
       "          'Kind': 5,\n",
       "          'Arrow': 4,\n",
       "          'task': 7,\n",
       "          'cheeks': 2,\n",
       "          'descriptor': 1,\n",
       "          'reversed': 3,\n",
       "          'batter': 1,\n",
       "          'freezez': 1,\n",
       "          'Raspingly': 1,\n",
       "          'held': 13,\n",
       "          '95': 17,\n",
       "          'green': 36,\n",
       "          'addy': 1,\n",
       "          'VIETNAMESE': 1,\n",
       "          'Clay': 2,\n",
       "          'works': 69,\n",
       "          'gig': 1,\n",
       "          'elegantly': 1,\n",
       "          'previous': 35,\n",
       "          'anywhere': 15,\n",
       "          '+-': 1,\n",
       "          'Cortlandt': 1,\n",
       "          'DL': 4,\n",
       "          'Paper': 1,\n",
       "          'Sports': 4,\n",
       "          'looking': 107,\n",
       "          'Ehhh': 1,\n",
       "          'cached': 9,\n",
       "          'accused': 2,\n",
       "          'Bell': 7,\n",
       "          'growth': 1,\n",
       "          'briefly': 2,\n",
       "          'Logitech': 3,\n",
       "          'submited': 1,\n",
       "          'chunky': 3,\n",
       "          'sideshow': 1,\n",
       "          'global': 10,\n",
       "          'satisfied': 1,\n",
       "          'work': 528,\n",
       "          'disappears': 26,\n",
       "          'Spelling': 2,\n",
       "          'Scripted': 1,\n",
       "          'AddNewPageToDatabase': 1,\n",
       "          'GetDocumentURL': 1,\n",
       "          'Unnamed': 1,\n",
       "          'Bisol': 1,\n",
       "          'insisted': 1,\n",
       "          'Slate': 1,\n",
       "          '9rc1': 1,\n",
       "          'Schubert': 1,\n",
       "          'herring': 2,\n",
       "          'Gestures': 3,\n",
       "          'reminded': 4,\n",
       "          'unless': 30,\n",
       "          'Grapefruit': 1,\n",
       "          'Jamaican': 4,\n",
       "          'Ihink': 1,\n",
       "          'Pregnant': 3,\n",
       "          'bookmarkTree': 1,\n",
       "          'Regal': 1,\n",
       "          'bodysurfing': 1,\n",
       "          'pane': 11,\n",
       "          'ambassador': 1,\n",
       "          'Barnes': 4,\n",
       "          'dare': 6,\n",
       "          'Enter': 26,\n",
       "          'International': 2,\n",
       "          'Switch': 5,\n",
       "          'carpeting': 1,\n",
       "          'sulfuric': 1,\n",
       "          'thoughts': 3,\n",
       "          'nu': 1,\n",
       "          'expectations': 1,\n",
       "          'appName': 1,\n",
       "          'Christians': 3,\n",
       "          'Faux': 1,\n",
       "          'Gdk': 1,\n",
       "          'overdone': 1,\n",
       "          'provincial': 1,\n",
       "          'Xilinx': 1,\n",
       "          'Join': 3,\n",
       "          'according': 6,\n",
       "          'MISTRESS': 1,\n",
       "          'ssl': 8,\n",
       "          'Bizzare': 1,\n",
       "          'Total': 4,\n",
       "          'repressed': 2,\n",
       "          'Ummm': 14,\n",
       "          'cube': 3,\n",
       "          'negro': 1,\n",
       "          'Ass': 2,\n",
       "          'ashtray': 2,\n",
       "          'politician': 1,\n",
       "          'crosswalk': 1,\n",
       "          'rely': 2,\n",
       "          'Upgrade': 2,\n",
       "          'Fernando': 1,\n",
       "          'BigAdmin': 1,\n",
       "          'lair': 1,\n",
       "          'rubbery': 3,\n",
       "          'welcome': 10,\n",
       "          'super': 4,\n",
       "          'inoperable': 1,\n",
       "          'humanity': 1,\n",
       "          'afoul': 2,\n",
       "          'Miss': 10,\n",
       "          'show': 175,\n",
       "          'Weiner': 6,\n",
       "          'progressmeter': 1,\n",
       "          'Bollinger': 2,\n",
       "          'does': 718,\n",
       "          'Corgan': 2,\n",
       "          'anging': 1,\n",
       "          'eyepatch': 1,\n",
       "          'libnkgnomevfs': 1,\n",
       "          'injected': 2,\n",
       "          'motherboard': 1,\n",
       "          'niggas': 14,\n",
       "          'marred': 2,\n",
       "          'prosthetic': 1,\n",
       "          'brandShortName': 1,\n",
       "          'syndicalism': 1,\n",
       "          'entity': 8,\n",
       "          'Notably': 1,\n",
       "          'impressive': 7,\n",
       "          'fiancé': 1,\n",
       "          'comming': 2,\n",
       "          'Barista': 15,\n",
       "          'Uncheck': 1,\n",
       "          'excitment': 1,\n",
       "          'Redo': 1,\n",
       "          'wagering': 1,\n",
       "          'Indic': 1,\n",
       "          'Negative': 1,\n",
       "          'coincidence': 1,\n",
       "          'Dentist': 3,\n",
       "          'popcorn': 4,\n",
       "          '169': 1,\n",
       "          'basketball': 4,\n",
       "          'BlackBerries': 1,\n",
       "          'mom': 109,\n",
       "          'Baddad': 1,\n",
       "          'smellin': 1,\n",
       "          'V8': 1,\n",
       "          'tasted': 13,\n",
       "          'u': 8,\n",
       "          'combo': 5,\n",
       "          'hazelnut': 1,\n",
       "          'choosers': 1,\n",
       "          'tryin': 7,\n",
       "          'ABOUND': 1,\n",
       "          'scheduled': 1,\n",
       "          'f': 19,\n",
       "          'i686': 1,\n",
       "          'hippy': 1,\n",
       "          'Homepage': 3,\n",
       "          'roadmap': 1,\n",
       "          '!!': 11,\n",
       "          'SHIFT': 1,\n",
       "          'issuezila': 1,\n",
       "          'iWon': 1,\n",
       "          'thousands': 1,\n",
       "          'Shithaca': 1,\n",
       "          'Air': 1,\n",
       "          '88': 1,\n",
       "          'Urls': 1,\n",
       "          'BIG': 1,\n",
       "          'cellars': 2,\n",
       "          'Nov': 1,\n",
       "          'Snotty': 1,\n",
       "          'Samba': 1,\n",
       "          'went': 86,\n",
       "          'HADRUS': 6,\n",
       "          'MERCER': 5,\n",
       "          'Recieved': 1,\n",
       "          'Decor': 1,\n",
       "          'Nine': 2,\n",
       "          'Protective': 1,\n",
       "          'switched': 5,\n",
       "          'hot': 108,\n",
       "          'Leaner': 1,\n",
       "          'chuggers': 1,\n",
       "          'Bordeaux': 5,\n",
       "          'mulitple': 1,\n",
       "          'user': 93,\n",
       "          'KKK': 1,\n",
       "          'ELDERLY': 1,\n",
       "          'bodes': 3,\n",
       "          'correction': 3,\n",
       "          'useing': 1,\n",
       "          'Carson': 3,\n",
       "          'grown': 11,\n",
       "          'Document': 4,\n",
       "          'Cathy': 1,\n",
       "          'vagina': 36,\n",
       "          'swung': 1,\n",
       "          'dolce': 1,\n",
       "          'performing': 6,\n",
       "          'UserAgent': 1,\n",
       "          'Compose': 1,\n",
       "          'various': 12,\n",
       "          'Tupac': 1,\n",
       "          'debate': 2,\n",
       "          'Blocked': 4,\n",
       "          'chalky': 2,\n",
       "          'Paragraphs': 2,\n",
       "          'cubicle': 1,\n",
       "          'smothered': 1,\n",
       "          'Overheard': 14,\n",
       "          'zhiv': 1,\n",
       "          'spots': 5,\n",
       "          'distracting': 1,\n",
       "          'memorization': 1,\n",
       "          '30sec': 1,\n",
       "          'Janitor': 1,\n",
       "          'coaxed': 1,\n",
       "          'y': 40,\n",
       "          'punkster': 1,\n",
       "          'Talkback': 4,\n",
       "          'pieces': 5,\n",
       "          'Darker': 2,\n",
       "          'hunt': 1,\n",
       "          'Restore': 4,\n",
       "          'vacuum': 1,\n",
       "          'Vertical': 6,\n",
       "          'FCUK': 1,\n",
       "          'recreated': 1,\n",
       "          'product': 7,\n",
       "          'slavery': 4,\n",
       "          'seems': 89,\n",
       "          'charity': 6,\n",
       "          'Adding': 4,\n",
       "          'size': 107,\n",
       "          'austrere': 1,\n",
       "          'pimples': 1,\n",
       "          'gnomes': 1,\n",
       "          'Puff': 7,\n",
       "          'cult': 1,\n",
       "          'woody': 9,\n",
       "          'converse': 1,\n",
       "          'Speedos': 3,\n",
       "          'The': 583,\n",
       "          'Hahaha': 1,\n",
       "          'partially': 14,\n",
       "          'monsters': 2,\n",
       "          'disregards': 1,\n",
       "          'trepidation': 2,\n",
       "          'Booga': 1,\n",
       "          'carat': 1,\n",
       "          'Hanging': 1,\n",
       "          'expensive': 14,\n",
       "          '9RC': 2,\n",
       "          'Does': 51,\n",
       "          'SATs': 1,\n",
       "          'overriding': 2,\n",
       "          'Earhart': 1,\n",
       "          'Rye': 1,\n",
       "          'holding': 49,\n",
       "          'HD': 1,\n",
       "          'Fleeing': 1,\n",
       "          'Information': 9,\n",
       "          'bulldyke': 1,\n",
       "          'Survey': 2,\n",
       "          'galeon': 2,\n",
       "          'Tia': 17,\n",
       "          'ladies': 22,\n",
       "          'Gorgeously': 1,\n",
       "          'freespeech': 1,\n",
       "          'Besides': 4,\n",
       "          'fourteen': 1,\n",
       "          'thicker': 1,\n",
       "          'unspecified': 1,\n",
       "          'entry': 44,\n",
       "          'MacOs': 2,\n",
       "          'seatbelts': 1,\n",
       "          'indication': 11,\n",
       "          'representations': 1,\n",
       "          'Server': 9,\n",
       "          'whiskey': 1,\n",
       "          'stab': 6,\n",
       "          'slingshot': 1,\n",
       "          'designed': 2,\n",
       "          'signore': 1,\n",
       "          'world': 55,\n",
       "          'spoon': 1,\n",
       "          'heh': 27,\n",
       "          'Approachable': 1,\n",
       "          'Q3': 1,\n",
       "          'haggling': 1,\n",
       "          'pull': 32,\n",
       "          'Portuguese': 4,\n",
       "          'bastards': 3,\n",
       "          'bottoms': 2,\n",
       "          'Twink': 1,\n",
       "          'Monsieur': 1,\n",
       "          'Hand': 5,\n",
       "          'atom': 1,\n",
       "          'weather': 7,\n",
       "          'indoor': 1,\n",
       "          'turnstiles': 2,\n",
       "          'overheard': 4,\n",
       "          '97': 2,\n",
       "          'Letters': 6,\n",
       "          'l10n': 1,\n",
       "          'Elvis': 4,\n",
       "          'Lion': 3,\n",
       "          'filter': 5,\n",
       "          'everything': 50,\n",
       "          'nsXREDirProvider': 1,\n",
       "          'Boston': 6,\n",
       "          'grates': 1,\n",
       "          'yada': 5,\n",
       "          'cannon': 5,\n",
       "          'wanting': 1,\n",
       "          'mystic': 2,\n",
       "          'Kramer': 1,\n",
       "          'bi': 6,\n",
       "          'sterilize': 1,\n",
       "          'Consistently': 1,\n",
       "          'issued': 1,\n",
       "          '(.)': 1,\n",
       "          'ALA': 2,\n",
       "          'turkey': 6,\n",
       "          'bodily': 1,\n",
       "          'pond': 3,\n",
       "          'Jen': 1,\n",
       "          'Reimplement': 1,\n",
       "          'beef': 10,\n",
       "          'Valentine': 13,\n",
       "          'grapes': 10,\n",
       "          'debauchery': 1,\n",
       "          'oh': 18,\n",
       "          'Whenever': 2,\n",
       "          'creepy': 3,\n",
       "          'diferent': 1,\n",
       "          'Poss': 2,\n",
       "          'Getelementbyid': 1,\n",
       "          'Oklahaoma': 1,\n",
       "          'somefile': 1,\n",
       "          'Extensions': 34,\n",
       "          'Whoa': 10,\n",
       "          'Malcolm': 4,\n",
       "          'Installed': 4,\n",
       "          'compiling': 3,\n",
       "          'tweaking': 1,\n",
       "          'someimage': 1,\n",
       "          'silkyily': 1,\n",
       "          'Charters': 1,\n",
       "          'It': 779,\n",
       "          'misattributed': 1,\n",
       "          'xy': 2,\n",
       "          'klicking': 2,\n",
       "          'customisation': 2,\n",
       "          'sorted': 12,\n",
       "          'hates': 6,\n",
       "          'character': 63,\n",
       "          '1300': 1,\n",
       "          'HI': 1,\n",
       "          'Munchaussen': 1,\n",
       "          'jarred': 2,\n",
       "          'Visit': 1,\n",
       "          'Reintroduce': 1,\n",
       "          'enhancement': 5,\n",
       "          'press': 20,\n",
       "          'suse': 1,\n",
       "          'Shhh': 7,\n",
       "          'Year': 15,\n",
       "          'Everytime': 1,\n",
       "          'insides': 1,\n",
       "          'education': 2,\n",
       "          'vagically': 1,\n",
       "          'darkened': 1,\n",
       "          'untitled': 2,\n",
       "          'activates': 3,\n",
       "          '?!': 67,\n",
       "          'Summer': 5,\n",
       "          'baloney': 2,\n",
       "          'Fear': 1,\n",
       "          'creating': 14,\n",
       "          'dump': 6,\n",
       "          'vgpro': 1,\n",
       "          'Halkin': 1,\n",
       "          'PLeasant': 1,\n",
       "          'mineral': 43,\n",
       "          'trunk': 17,\n",
       "          'extravagent': 1,\n",
       "          'showers': 1,\n",
       "          'totters': 1,\n",
       "          'hunting': 2,\n",
       "          'Unlimited': 1,\n",
       "          'regarded': 2,\n",
       "          'catheterize': 1,\n",
       "          'Fading': 2,\n",
       "          'burns': 4,\n",
       "          'requst': 1,\n",
       "          'booty': 9,\n",
       "          'Ts': 3,\n",
       "          ':*': 1,\n",
       "          'mime': 10,\n",
       "          'Fordham': 2,\n",
       "          'Coke': 5,\n",
       "          'poem': 3,\n",
       "          'persistently': 1,\n",
       "          '{': 7,\n",
       "          'PIGLET': 5,\n",
       "          'leafy': 6,\n",
       "          'Luckily': 1,\n",
       "          'Loops': 1,\n",
       "          'universal': 1,\n",
       "          'legs': 30,\n",
       "          'coloring': 1,\n",
       "          'Dammit': 4,\n",
       "          'spiked': 1,\n",
       "          'coil': 1,\n",
       "          'softness': 1,\n",
       "          'squashed': 1,\n",
       "          'carpet': 6,\n",
       "          'tycoon': 1,\n",
       "          'abc': 1,\n",
       "          'everytime': 9,\n",
       "          'recollection': 1,\n",
       "          'capsized': 1,\n",
       "          'OFF': 1,\n",
       "          'Sheers': 1,\n",
       "          'maven': 1,\n",
       "          'wildcard': 2,\n",
       "          'high': 112,\n",
       "          'Bum': 1,\n",
       "          'Lemme': 3,\n",
       "          'weiner': 1,\n",
       "          'tryng': 1,\n",
       "          'cedar': 1,\n",
       "          'mortified': 1,\n",
       "          'Imersion': 1,\n",
       "          'brakes': 1,\n",
       "          'bangin': 2,\n",
       "          'versa': 2,\n",
       "          '..\"': 2,\n",
       "          'sight': 3,\n",
       "          'PRINCESS': 2,\n",
       "          'lottery': 1,\n",
       "          'Brunch': 1,\n",
       "          'specialized': 1,\n",
       "          'Fills': 1,\n",
       "          'Communism': 1,\n",
       "          'Bap': 1,\n",
       "          'Nosejob': 1,\n",
       "          'Bambi': 1,\n",
       "          '...': 1542,\n",
       "          'crocheting': 1,\n",
       "          'Gus': 2,\n",
       "          'center': 9,\n",
       "          'four': 45,\n",
       "          '<?': 1,\n",
       "          'nice': 205,\n",
       "          'namedItems': 1,\n",
       "          'shelves': 2,\n",
       "          'CO2': 2,\n",
       "          'checkDownloadDirectory': 1,\n",
       "          'minute': 22,\n",
       "          'Wacom': 1,\n",
       "          'Genius': 2,\n",
       "          'ponytail': 2,\n",
       "          'spashos2': 1,\n",
       "          'Spell': 4,\n",
       "          'evolved': 13,\n",
       "          'Cockadoodledoo': 1,\n",
       "          'Script': 5,\n",
       "          'Mongoloid': 1,\n",
       "          'males': 1,\n",
       "          'tentacles': 14,\n",
       "          'jungle': 3,\n",
       "          'LAUNCELOT': 76,\n",
       "          'Literature': 1,\n",
       "          'owners': 1,\n",
       "          'freebyte': 1,\n",
       "          'mushroom': 2,\n",
       "          'shoulder': 8,\n",
       "          'dime': 8,\n",
       "          'Norfolk': 1,\n",
       "          'keeps': 29,\n",
       "          '[@': 44,\n",
       "          'Snappy': 1,\n",
       "          'Red': 18,\n",
       "          'Moron': 2,\n",
       "          'private': 4,\n",
       "          'Aauuugh': 1,\n",
       "          '20030628': 1,\n",
       "          'removal': 2,\n",
       "          'starving': 3,\n",
       "          '0x56ff8b90': 1,\n",
       "          'Special': 5,\n",
       "          'completlly': 1,\n",
       "          'Frosty': 1,\n",
       "          'behalf': 1,\n",
       "          'minded': 1,\n",
       "          'appdata': 2,\n",
       "          'GetPrevDocShell': 1,\n",
       "          'nobody': 21,\n",
       "          'profiles': 17,\n",
       "          'belts': 4,\n",
       "          'bloggers': 1,\n",
       "          'smoky': 7,\n",
       "          '()]': 1,\n",
       "          'prevent': 10,\n",
       "          'majoring': 1,\n",
       "          'spades': 1,\n",
       "          'SHRUBBER': 1,\n",
       "          'flabby': 9,\n",
       "          'Finish': 1,\n",
       "          'ideology': 1,\n",
       "          'Boss': 1,\n",
       "          'Sage': 2,\n",
       "          'robbery': 2,\n",
       "          'drinker': 13,\n",
       "          'libstdc': 4,\n",
       "          'sweatshop': 1,\n",
       "          'gents': 1,\n",
       "          '-.': 1,\n",
       "          'start': 175,\n",
       "          'immigrant': 1,\n",
       "          'housewares': 1,\n",
       "          'Marley': 1,\n",
       "          'clitoral': 1,\n",
       "          'tracts': 2,\n",
       "          '+,': 1,\n",
       "          '1': 2261,\n",
       "          'parole': 1,\n",
       "          'supported': 10,\n",
       "          'pas': 2,\n",
       "          'Funky': 1,\n",
       "          'precise': 3,\n",
       "          'pediatrician': 2,\n",
       "          'Past': 3,\n",
       "          'lemony': 4,\n",
       "          'pt': 3,\n",
       "          'rise': 2,\n",
       "          'laptops': 1,\n",
       "          'Overexcited': 2,\n",
       "          'vinyl': 2,\n",
       "          'physics': 3,\n",
       "          'Blood': 1,\n",
       "          'Luxury': 1,\n",
       "          'HEADS': 5,\n",
       "          '-\"': 1,\n",
       "          'Cigarettes': 1,\n",
       "          'stomps': 3,\n",
       "          'Brune': 1,\n",
       "          'headjobs': 1,\n",
       "          'elders': 1,\n",
       "          'botrytisy': 1,\n",
       "          'lookups': 4,\n",
       "          'wield': 1,\n",
       "          'fatal': 5,\n",
       "          'bohemian': 1,\n",
       "          'spits': 4,\n",
       "          'Exuse': 1,\n",
       "          'Avenue': 23,\n",
       "          'Pubmed': 1,\n",
       "          'represented': 1,\n",
       "          'denied': 9,\n",
       "          'res': 2,\n",
       "          'seem': 43,\n",
       "          'Forms': 5,\n",
       "          'addr': 1,\n",
       "          'regressions': 1,\n",
       "          'Pineappley': 1,\n",
       "          'wallpaper': 2,\n",
       "          'Age': 5,\n",
       "          'pickers': 1,\n",
       "          'elagent': 1,\n",
       "          'intelligently': 1,\n",
       "          'query': 10,\n",
       "          'maby': 1,\n",
       "          'Meaning': 2,\n",
       "          'Persistent': 2,\n",
       "          'Okay': 72,\n",
       "          'DoS': 1,\n",
       "          'chin': 3,\n",
       "          'Gibson': 2,\n",
       "          'disapearing': 1,\n",
       "          'kidding': 19,\n",
       "          'ano': 3,\n",
       "          'ReflowFrame': 2,\n",
       "          'squeeze': 3,\n",
       "          'Controls': 1,\n",
       "          'QUARTERMASTER': 7,\n",
       "          'recommend': 3,\n",
       "          'onomatopoeia': 3,\n",
       "          'hash': 1,\n",
       "          'frameloadcheck': 1,\n",
       "          'onW3': 1,\n",
       "          'Mysterious': 1,\n",
       "          ')\\'\"': 1,\n",
       "          'Disappear': 1,\n",
       "          'GetTemplateActionCellFor': 1,\n",
       "          'Thundercats': 1,\n",
       "          '03': 2,\n",
       "          'cancer': 16,\n",
       "          'grips': 3,\n",
       "          'trustworthy': 1,\n",
       "          'Peddler': 1,\n",
       "          'Types': 3,\n",
       "          'Popup': 39,\n",
       "          'wimp': 1,\n",
       "          'pants': 54,\n",
       "          'Bartender': 12,\n",
       "          'TIMES': 1,\n",
       "          'Extended': 2,\n",
       "          'searing': 1,\n",
       "          'zoosh': 1,\n",
       "          'apostrope': 1,\n",
       "          'dropmarker': 4,\n",
       "          'fifty': 11,\n",
       "          'total': 15,\n",
       "          'autocompleting': 1,\n",
       "          'Hoo': 2,\n",
       "          '50': 44,\n",
       "          'parrot': 3,\n",
       "          'screenx': 1,\n",
       "          'separate': 11,\n",
       "          'dabble': 1,\n",
       "          'gist': 1,\n",
       "          'Billy': 4,\n",
       "          'spank': 9,\n",
       "          'alpha': 3,\n",
       "          'Shack': 1,\n",
       "          'ALWAYS': 1,\n",
       "          'worked': 15,\n",
       "          'iconify': 1,\n",
       "          'rolling': 10,\n",
       "          'boycott': 1,\n",
       "          ...})"
      ]
     },
     "execution_count": 270,
     "metadata": {},
     "output_type": "execute_result"
    }
   ],
   "source": [
    "fdist2"
   ]
  },
  {
   "cell_type": "code",
   "execution_count": 418,
   "metadata": {
    "collapsed": true
   },
   "outputs": [],
   "source": [
    "vocabulary2=fdist2.keys()"
   ]
  },
  {
   "cell_type": "code",
   "execution_count": 419,
   "metadata": {
    "collapsed": false
   },
   "outputs": [
    {
     "name": "stdout",
     "output_type": "stream",
     "text": [
      "dict_keys(['R', 'wom', 'darkened', 'carryin', 'begging', 'imagemap', 'unnamed', 'semi', 'overwrites', 'stimulation', 'utterly', 'carrot', 'facing', 'latter', 'Winter', 'WINNT', 'weirdo', 'front', 'Roosevelt', 'yadda', 'crotch', 'wage', 'LAN', 'than', 'Trashy', 'region', 'proven', 'Consulate', 'Prettier', '>.', 'Drop', 'scrambles', 'Buddhist', 'race', 'Theme', 'unsafe', 'modern', 'background', 'peril', 'ctrl', 'Rector', 'WMV', 'Actually', 'Relax', 'oscillate', 'baking', 'Feminism', 'vegans', 'Entery', 'Jetsons', 'Pro', 'linuxmail', 'Viognier', 'Belgians', 'F', 'pregnant', 'noises', 'comedians', 'Sheila', 'Parking', 'ugliest', 'availHeight', 'pigeon', 'decker', 'airline', 'blockers', 'OnUnload', 'lit', 'stoner', 'Disjointed', 'paths', 'Preferably', 'stereotypas', 'handfuls', 'optimizations', 'ironing', 'e', 'PROF', 'siblings', 'Horror', '256', 'Terminator', 'limo', 'gentleman', 'Purell', 'unknown', 'future', 'Adventure', 'delusions', 'Cookies', 'marry', 'comments', 'weren', 'teenagers', 'SPOILT', 'UPS', 'nitric', 'Julius', 'realaudio', 'pea', 'stashed', 'Run', 'OOM', 'citric', 'ME', 'Rephrase', 'cetta', 'idols', 'nsIPK11Token', 'stain', 'CAREFREE', 'clipped', 'bellbottoms', 'pwd', 'TURKISH', 'cust', 'entries', 'binaries', 'nurse', 'Clear', 'approach', 'koreanair', '10PM', 'drugs', ';', 'prom', 'severely', 'excuse', 'Elderly', 'newspaper', 'misbehave', 'coffee', 'Prefs', 'wiper', 'elders', 'Shown', 'comlexity', 'postfix', '20s', 'breed', 'mouseover', 'Smith', 'Cuvee', 'dolls', 'hangin', \"('.')\", 'Empire', 'button2', 'relax', 'Confirm', 'False', 'shoelaces', 'throbber', 'src', 'Critical', 'GPA', 'sprinkles', '510', 'Shiny', 'prefable', 'shore', 'jumping', 'conclusions', 'Filling', 'coulda', 'flutters', 'barrels', 'spanning', 'idiom', 'Brazilian', 'flung', 'stormy', 'distinguish', 'GOOD', 'FIrebird', 'marks', '17703', 'm3u', 'merger', 'women', 'PP', 'swipe', 'Hungria', 'snack', 'chuckling', 'gettin', 'hover', 'titties', 'Picture', 'disappointed', 'Usually', 'ligatures', 'identify', 'ö', 'Later', 'tonics', 'Combine', 'Look', 'betwean', 'commodification', 'TO', 'sleepover', 'teen', 'Suit', 'ditz', 'hydrochloric', 'defeat', 'debugger', 'Gmail', 'nsNodeInfo', 'contagious', 'Gooeesay', 'Connectix', 'Anastos', 'SQUARE', 'Caviar', 'crowded', 'Quoi', 'Java', 'ston', 'positions', 'hook', 'pirate', 'Filter', 'Caribbean', 'Jacksoned', 'Yuk', 'throb', 'beard', 'Nu', 'coworker', 'tradesman', 'whith', 'reply', 'Toddler', 'Ecky', 'Highlighting', 'Studying', 'ablout', 'Did', 'Doesn', 'defunct', 'causes', 'Eight', 'Tanya', '2195', 'anniversary', '54th', 'CHARACTERS', 'Budding', 'about', 'meat', 'Tennessee', 'ignored', 'unrequestet', 'proxies', 'domestic', 'altss', 'ejaculated', 'softy', 'Any', '192', 'gruyere', 'Commas', 'Holocaust', 'clash', 'Mel', 'Excel', 'cricket', 'aborting', 'sixteen', 'ignites', 'lockup', '94', 'meant', 'yep', 'empowered', 'DOCTYPE', 'hedgehog', 'endings', 'radioButtonGroup', 'length', 'cannonade', 'lime', 'nbsp', 'improper', 'attrac', 'fetch', 'synchronise', 'accepts', 'Fireman', 'Hi', 'Tweaking', 'Fine', 'Aauuuves', 'RH52', 'hk', 'Undisable', 'tokay', 'Kaye', 'LOCKS', 'entities', 'cowards', 'MNG', 'husbands', 'weed', 'VCRS', 'sorrow', 'bring', 'Boookmark', 'Zach', 'Aniseed', 'Harry', '160019', 'overlap', 'POM', 'humour', 'resolving', 'notr', 'degrees', 'yeilds', 'EMPLOYED', 'scrutiny', 'requirements', 'Dichotomy', 'GENT', 'Road', 'storms', 'Mousewheel', 'dual', 'look', 'nsSystemPrefModule_gModuleInfo', 'breathe', 'subject', 'RunTimeout', 'Margalit', 'Compliant', 'concerned', 'familiar', 'squealing', 'begun', 'Poland', 'firm', 'Slashdot', 'beaches', 'hair', 'improves', 'Ebony', 'Limit', 'msnbc', 'Wardrobe', 'Tale', 'smartmoney', 'Spam', 'innocence', 'Slide', 'awaits', 'Jim', 'Turns', 'links', 'reincarnation', 'blind', 'disgrace', 'drawn', 'Atristic', 'forcing', 'intermission', 'nested', 'newsgroup', 'proceed', 'crew', 'arrives', 'Unforthcoming', 'body', 'subsides', 'Parton', 'Pepsi', 'ree', 'askin', 'tennis', 'clove', 'mile', 'Buy', 'canonizeUrl', 'igloo', 'Ditzy', 'unaju', 'Nebraska', 'reloading', 'Etora', 'ampersands', 'anchor', 'passerby', 'kontekst', 'Orthodox', 'Kray', 'Bit', 'TaskList', 'Rocky', 'Eloquent', 'recently', \"['...'].\", 'Rieussec', 'Time', 'huh', 'murdered', 'Bokmĺl', 'regulary', 'no', 'knows', 'advanced', 'racism', 'Greenwich', 'pine', 'Chromeless', 'slips', 'ew', 'Umbrella', 'Hit', 'undue', 'Baggage', 'Movies', 'finally', 'accommodate', 'inspector', 'Increase', 'Fell', 'absorb', 'brambly', 'sepcially', 'tmp', 'tempranillo', 'net', 'Link', 'grows', 'Italians', 'Child', 'housewife', 'neutralizes', 'Khan', 'equates', 'relapsed', 'scaffolding', 'tampons', 'cheaper', 'heads', 'Bah', 'CRUCES', 'estimate', 'Netbeans', 'pasted', 'Klingons', 'cows', 'Brown', '57yrs', 'ere', 'Dreidel', 'sandal', 'PrintPDE', 'F10', '+\"$@\"}', 'Backward', 'posse', '301', 'nsScriptableRegion', 'vers', 'explicitly', 'starve', 'dizziness', 'view', 'plans', 'unreasonable', 'duvet', 'desperate', 'Ahbsidy', 'Light', 'makings', 'readings', 'somebody', 'LEECH', 'mink', 'Incredibly', 'commuting', 'propted', 'demons', 'longer', ']:', 'Labradors', 'mugly', 'MANHATTAN', 'duh', 'vbscript', 'dinosaur', 'principle', 'Emmy', 'Seg', 'maxi', 'risking', '2500', 'require', 'fastest', 'healthy', 'Fruity', 'early', 'Younger', 'searchbox', 'rancio', 'ENTER', '242275', 'Saigon', 'COURSE', 'nonempty', 'jackpot', 'bails', 'traces', 'LADY', 'Loosing', 'Americanized', 'dropdowns', 'survived', 'magnification', 'w3c', 'ShoppingCart', 'twentysomethings', 'Other', 'burying', 'Interrupted', 'benefits', 'alleged', 'pic', 'Thug', 'Gecko', 'logout', 'tickle', 'shells', 'genders', 'Potentially', 'Belgium', 'highschool', 'Snapple', 'Acrobat', 'questions', 'cannons', 'Pttt', 'monks', 'delayed', 'Unavailable', 'Fairway', 'Chapelle', 'or', 'mugs', 'download', 'autumn', 'Fallon', 'bananas', 'bathroom', 'beacon', 'Whatsa', 'underlay', 'omen', 'ropes', 'disappointments', 'coughed', 'Victorian', 'suggest', 'Close', 'successfull', 'Ayy', 'misrender', 'boob', 'Strawberries', 'saved', 'Clark', 'POST', 'ball', 'Todd', 'offscreen', 'Copperfield', 'sheets', 'tanins', 'Feeling', 'dunno', 'Unclosable', 'BSD', 'hatch', 'Rockefellers', 'Nameless', '20040215', 'Follow', 'satellite', 'African', 'tabulator', 'autocomplete', 'DANCING', 'F3', '!&', 'conversation', 'pride', 'strawberry', 'ones', 'would', 'frontmost', 'Peru', 'edged', 'Noah', 'claimed', 'remarks', 'finance', 'toilet', 'JS_GetPrivate', 'pavement', 'Coworker', 'Rothko', 'worse', 'calorie', 'commodities', 'patrons', 'beams', 'Schwarz', 'Milestone', 'pitch', 'goats', 'Parmesan', 'Mercea', 'strangled', 'ringing', 'merge', 'formhistory', 'Chat', 'nationstates', 'Wilmer', 'Livejournal', 'tribe', 'skank', 'crone', 'justice', 'Properties', 'distributing', 'robes', 'sedimenty', 'tech', 'Putrid', 'Frisco', 'entitiy', 'ended', '\"><', 'lycos', 'miscellaneous', 'Chinkier', '-', 'grabbing', 'Amsterdam', 'Crack', 'maximized', 'resemble', 'Suspiciously', 'emperor', 'bloody', 'processed', 'Valtrex', 'favicon', 'ensued', 'propose', 'switch', 'retreat', 'Botrytis', 'BARBOSSA', 'Mediaplayer', 'marches', 'receiving', 'donâ', 'XPcom', 'scowling', 'Click', 'Audience', 'Same', 'Spirit', 'Fudd', 'alives', 'courthouse', 'Imagine', 'Vegetal', 'phones', '1981', 'MANAGE', 'upstate', 'beetrooty', 'AltSS', 'whitespace', 'TSA', 'omigod', 'Cecile', 'data', 'stock', 'ddhelp', 'BookmarksRoot', 'Metal', 'Rather', 'hypothesis', 'admin', 'constructive', 'enhancements', 'whirls', 'truncated', 'prefernces', 'Prostitute', 'Dowager', 'controversy', 'Hay', 'Pen', 'Corps', 'hotmail', 'Yummy', 'Cherries', 'spawns', 'turns', 'eyebrows', 'pretend', 'WebCT', 'Activate', 'based', 'station', 'guilty', 'IE', 'Burger', 'Mid', 'YOU', 'dyslexia', 'offered', 'famous', 'Jock', 'gents', 'tahn', 'Keith', 'beer', 'bloke', 'browser', 'VR', 'Hypothetical', 'colon', 'End', 'Stripes', 'eml', 'fark', 'puke', 'tooth', 'Phoenix0', 'atheists', 'recommendable', 'cufflinks', 'Lennon', 'Ian', 'contradicts', 'Sober', 'redrawing', 'Russian', 'GetResourceFor', 'caramel', 'fore', 'Bitmap', 'ups', 'adding', 'Bookmarks', 'formidable', 'cannoli', 'communists', '::~', '4MB', 'Chinese', 'Fools', 'shrooms', '161st', 'grapey', 'sausage', 'finer', 'acquaintance', 'selectable', 'sip', 'faults', 'Kind', 'shipping', 'ine', 'evidence', 'Arrow', 'task', 'yields', 'creaminess', 'complaints', 'Francisco', 'descriptor', 'dynamic', 'diapers', 'reversed', 'trouble', 'Snob', 'Best', 'kowmpenay', '*****', 'freezez', 'Sorry', 'fruits', '511', 'held', 'URLs', '95', 'green', 'bacteria', 'fragranced', 'VIETNAMESE', 'Clay', 'works', 'Proselytizer', 'gig', 'transsexual', 'Airport', 'Separators', 'environments', 'previous', 'FLY', 'anywhere', '+-', 'depicted', 'returnes', 'barriers', 'allowing', 'DL', 'jumped', 'Paper', 'McClanahan', 'storage', 'Sports', 'looking', 'wonderland', 'helper', 'queen', 'cached', 'bouquet', 'Provencal', 'accused', 'she', 'Bell', 'outdoors', 'hourly', 'layout', 'Jackson', 'briefly', 'Logitech', 'guns', 'certificate', 'submited', 'cheek', 'sideshow', 'elegantly', 'global', 'satisfied', 'shittiest', 'lunch', 'dame', 'frappuccino', 'wildcat', 'disappears', 'spaz', 'nametag', 'Spelling', 'Scripted', 'shaking', 'AddNewPageToDatabase', 'bewteen', 'Ogier', 'stuffing', 'March', 'PORT', 'successfully', 'outs', 'Unnamed', 'Lizzy', 'Torment', 'insisted', 'Campaign', 'sides', 'Sad', 'Salesman', 'harshness', '9rc1', 'shrugs', 'explanatory', 'Closed', 'Gestures', 'reminded', 'unless', 'Holliday', 'Everyone', 'overlying', 'MAYNARD', 'tackle', 'fem', 'depart', 'gallows', 'insetad', 'topmost', 'spelling', 'Regal', 'taping', 'but', 'bodysurfing', 'pane', 'Kosher', 'ambassador', 'Barnes', 'dare', 'dmg', 'Setup', 'directly', 'Switch', 'carpeting', 'sulfuric', 'thoughts', 'nu', 'politely', 'Kate', 'appName', 'pouring', 'Oddly', 'pedalling', 'Faux', 'invade', 'grandfather', 'Gdk', 'bobba', 'provincial', 'truncates', 'egg', 'increments', 'cutlass', 'Join', 'Byron', 'ambition', 'according', 'filthy', 'bumped', 'Got', 'imported', 'ssl', 'Bizzare', 'amigo', 'appetizing', 'hanging', 'quicksearch', 'decides', 'mast', 'Total', 'question', 'vietnamese', 'exporting', 'fateful', 'Groupwise', 'cube', 'immediate', 'Peep', 'TypeError', 'ranch', 'Ass', 'Poppa', 'ashtray', 'Blondie', 'UTF8', 'budget', 'glycerol', 'TreeMenu', '68th', 'passionately', 'Together', 'Upgrade', 'mosquitoes', 'sizes', 'tosses', 'Sydney', 'stars', 'xre_main', 'Fernando', 'windowť', 'lair', 'replies', 'ward', 'rubbery', 'welcome', 'islands', 'inoperable', 'humanity', 'INPUTs', 'executed', 'Kissena', 'ä', 'touristy', 'Futurism', 'cheekbones', 'progressmeter', 'Bollinger', 'yarmulke', 'does', 'Corgan', 'anging', 'pimps', 'switchable', 'sneaks', 'volatile', 'Sweet', 'libnkgnomevfs', 'stirred', 'Ritchie', 'persist', 'fish', 'niggas', 'bathed', 'ELIZABETH', 'cruft', 'Chill', 'officiall', 'overtones', 'parlour', 'dots', 'downs', 'offers', 'brandShortName', 'Kristin', 'syndicalism', 'holistic', 'Mercer', 'unaccessible', 'GetPrincipalAndFrame', 'fives', 'messing', 'some', 'comming', 'Barista', 'Autocompletion', 'Uncheck', 'cedary', 'harmonies', 'excitment', 'kabinet', 'Redo', 'wagering', 'Indic', 'Extravagantly', 'Amurri', 'aspire', 'Montrose', 'Negative', 'coincidence', 'Dentist', '].', '169', 'Ummmm', 'basketball', 'blueberry', 'magic', 'Gerber', 'BlackBerries', 'transit', 'nautilus', 'mom', 'sweets', 'Butterscotch', 'scrolls', 'Scusa', 'BACK', 'relatively', 'Arabian', '0x8b54', 'ifdeffing', 'V8', 'Libprofile', 'tasted', 'ie', 'u', 'combo', 'hazelnut', 'Preteen', '):', 'tryin', 'ABOUND', 'Elephants', 'sales', 'Perfume', 'commercials', 'scheduled', 'printout', 'quaffing', 'Grandmothers', 'f', 'i686', 'kiddin', 'Homepage', 'roadmap', 'Lovers', '!!', 'Ferinte', 'hazard', 'issuezila', 'iWon', 'wire', 'buyers', 'thousands', 'nsIAutoCompleteController', 'Shithaca', 'ism', 'downloading', 'disable', 'hotlink', 'Urls', 'Ehhh', 'swathe', '\"--', 'cellars', 'Play', 'Salesboy', 'sighing', 'stakes', 'Nov', 'Making', 'Samba', 'went', 'locale', 'begining', 'tips', 'MERCER', 'airplane', 'Recieved', 'Isole', 'up', 'assed', 'Submittal', 'Protective', '85', 'msgbox', 'switched', 'hot', 'Leaner', 'chuggers', 'hip', 'excepting', 'li', 'mulitple', 'EYES', 'focal', 'Nebbiolo', 'user', 'amegaproxy', 'Guggenheim', 'Nigh', 'Vuitton', 'modifiers', 'Smurfs', 'rss', 'correction', 'hangup', 'tell', 'movable', 'Pressing', 'WONT', 'useing', 'Carson', 'regrettably', 'grown', 'Granny', 'ting', 'Document', 'forsook', 'Cathy', 'Sherry', 'vagina', 'War', 'swung', 'dolce', 'traded', 'DRV', 'performing', 'Jaboulet', 'Soldier', 'UserAgent', 'AppPath', 'Hook', 'liquoricey', 'national', 'various', 'Tupac', 'debate', 'Blocked', 'Rhodium', 'doughnut', 'Paragraphs', 'directing', 'cubicle', 'nose', 'FEATURE', 'Miracle', 'Overheard', 'zhiv', 'spots', 'gay', 'distracting', 'fatness', 'boring', '30sec', 'snob', 'Janitor', 'Goldstein', 'y', 'punkster', 'Talkback', 'pieces', 'Darker', 'Lovely', 'threw', 'diet', 'Restore', 'Usher', 'irreparable', 'Feel', 'FCUK', 'imports', 'KB', '*****(*)', 'cements', 'Thppppt', 'recreated', 'product', 'sweetnes', 'nut', 'slavery', '.--', 'passwordmgr', 'Locks', 'unfocused', 'comic', 'commands', 'Adding', 'size', 'nee', 'float', 'unexciting', 'BITCH', 'austrere', 'Ceases', 'runes', 'Sherlock', 'pimples', 'radiobutton', 'those', 'gnomes', 'Puff', 'cult', 'Must', 'woody', 'converse', 'define', 'Speedos', 'una', 'The', 'alls', 'Glorious', 'Turn', 'Bet', 'sassy', 'Jet', 'partially', 'monsters', 'mum', 'disregards', 'ROBIN', 'Morn', 'Twister', 'ipecac', 'ending', 'carat', 'Robust', 'Hanging', 'Wine', 'expensive', '9RC', 'trust', 'Does', 'SATs', 'Jaywalker', 'overriding', 'roofs', 'Rye', 'Buttertits', 'holding', 'HD', 'nerve', 'Fleeing', 'harddrive', 'Information', 'bulldyke', 'Excited', 'Survey', 'point', 'Tia', 'Kent', 'ladies', 'customizing', 'freespeech', 'deserved', 'keep', 'magical', 'alert', 'Besides', 'workingon', 'fourteen', 'forced', 'hittin', 'thicker', 'unspecified', 'entry', 'MacOs', 'game', 'restricted', 'indication', 'representations', 'Server', 'ONE', 'stab', 'slingshot', 'CPUs', 'puzzle', 'abort', 'wider', 'tires', 'designed', 'mauled', 'signore', 'world', 'spoon', 'heh', 'dumped', 'registered', 'Approachable', 'cab', 'clipboardData', 'Minty', 'pull', 'tray', 'ironic', 'Portuguese', 'Tso', 'Victoria', 'article', 'fizzy', 'bastards', 'compare', 'Riiight', 'clingy', 'vegan', 'moms', 'bottoms', 'civil', 'MTV', 'cease', 'Label', 'scarf', 'SWF', 'Enhanced', 'Monsieur', 'bitterness', 'Cycling', 'Hand', 'atom', 'lawsuits', 'Teen', 'indoor', 'typicity', 'turnstiles', 'overheard', '97', 'Letters', 'transitioning', 'roach', 'horked', 'l10n', 'Elvis', 'addNetscapePanel', 'decorative', 'Ceparello', 'knockoff', 'filter', 'PREGNANT', 'Gevalt', 'nsXREDirProvider', 'Within', 'Boston', '.*', 'grates', 'macromedia', 'Champaux', 'yada', 'insurance', 'ashamed', 'cannon', 'wanting', 'flop', 'Sputnik', 'Barolos', 'clerks', ';-)', 'shooting', 'Medical', 'API', 'shwon', 'wavy', 'Stuff', 'scrawny', '??!', 'PL_DHashTableRawRemove', 'Daughter', 'Consistently', 'issued', '(.)', 'customer', 'agreed', 'Initialize', 'volt', 'ALA', 'campusi', 'mad', 'bodily', 'pond', 'Jen', 'Pennies', 'Toolbars', 'Beware', 'Reimplement', 'Darth', 'Valentine', 'rename', 'graduating', 'seriously', 'upercase', 'silliness', 'relation', 'percentage', 'MARRIED', 'grapes', 'Mondays', 'debauchery', 'oh', 'suddenly', 'disappear', 'screen', 'Paulette', 'Unclaimed', 'Whenever', 'gui', 'staves', 'diferent', 'scalar', 'Tanktop', 'youthful', 'Getelementbyid', 'commitment', 'Oklahaoma', 'favoured', 'somefile', 'Wonan', 'Whoa', 'Also', 'Malcolm', 'mint', 'Bald', 'chased', 'Installed', 'compiling', 'tweaking', 'someimage', 'Up', 'Picky', 'husky', 'unfocussed', 'reptiles', 'oxiidative', 'launch', 'It', 'misattributed', 'prompts', 'Witty', 'xy', 'klicking', 'whistle', 'thats', 'Sprite', '.:', 'customisation', 'gentlemen', 'Ridge', 'topic', 'anyone', 'lashes', 'definable', 'hates', 'Superstar', 'parameters', 'Gerard', '1300', 'HI', 'lactating', 'THAT', 'alcoholism', 'colonize', 'jarred', 'offline', 'stole', 'Poconos', 'Hula', 'Visit', 'Reintroduce', 'getcha', 'Eagles', 'enhancement', 'press', 'snot', 'Loser', 'Catholic', 'suse', 'calculate', 'auditions', 'Dom', 'contribute', 'McConaughey', 'fragrantly', 'functionally', 'spoof', 'nibbles', 'Everytime', 'amidst', 'floury', 'archive', 'returned', 'increasing', 'Christy', 'Exceptions', 'G5', '******', 'lent', '?\"!', 'foreigners', '><', 'flavour', 'starting', 'untitled', 'activates', 'Straight', 'Illinois', '?!', 'Summer', 'baloney', 'Fear', 'Juicer', 'creating', 'hopeless', 'Fx', 'Slope', 'congressman', 'generous', 'Halkin', 'FFox', 'lubricant', 'feng', 'rip', 'definitely', 'describing', 'palate', 'Sadat', 'trunk', 'extravagent', 'Lester', 'documentation', 'earthquakes', 'cuvee', 'Tunisian', 'Ten', 'uncertain', 'totters', 'hunting', 'Unlimited', 'regarded', 'catheterize', 'Fading', 'burns', 'requst', 'booty', 'moderate', 'crackheads', 'Ts', 'Horizontal', 'licensing', ':*', 'mime', 'unfortunately', 'direct', 'impress', 'Ain', 'Buttsnatch', 'IN', 'Fordham', 'notice', 'Privacy', 'etheriel', 'redirections', '350', 'activate', 'mainstream', 'extent', 'persistently', 'Conductor', 'Irish', 'fort', 'mooooooo', 'PIGLET', 'remarked', 'Resizing', 'Luckily', 'Loops', 'universal', 'Moins', 'infection', 'legs', 'automaticlly', 'liposuction', 'topics', 'tire', 'Dammit', 'lawn', 'spiked', 'Nope', 'softness', 'squashed', 'Yeaaah', 'rendering', 'Apple', 'MESSENGER', 'abc', 'luncheons', 'craving', 'Quip', 'firing', 'OFF', '+.', 'maven', 'bounce', 'high', 'observed', 'Lemme', 'weiner', 'tags', 'feet', 'even', 'tryng', 'cedar', 'Imersion', 'brakes', 'workin', 'Dreamcoat', 'bangin', 'Fruitcake', 'smoking', 'versa', '..\"', 'RDF', 'Thou', 'iProducts', 'rounded', 'setAttribute', 'knish', 'PRINCESS', 'WinFrame', 'criminal', 'alone', 'preserved', 'specialized', 'Fills', 'Communism', 'Bap', 'Nosejob', 'Bambi', '...', 'other', 'Terry', 'flees', 'didn', 'witchcraft', 'dealers', 'Errors', 'frickin', 'ring', 'groceries', 'mindless', 'Chihuly', 'blank', 'mattress', 'Gus', 'center', 'Enter', 'Stranger', 'minor', '<?', 'awkward', 'emo', 'woman', 'nice', 'inbetween', 'Underline', 'axe', 'namedItems', 'Mandel', 'intestines', 'Branch', 'Shlong', 'minimum', 'seatbelt', 'shelves', 'CO2', 'checkDownloadDirectory', 'minute', 'Wacom', 'Genius', 'GNOME', 'Akiva', 'Drinking', 'spashos2', 'Softly', 'sand', 'Display', 'livestock', 'airliners', 'spend', 'Seen', 'Trojan', 'adventurous', 'offs', 'takes', 'watermelon', 'timbressuisses', 'sewing', 'ducks', 'evolved', 'poisoning', 'grave', 'Cockadoodledoo', 'Script', 'depression', 'males', 'Neil', 'tentacles', 'stupider', 'jungle', 'rocker', 'LAUNCELOT', 'Literature', 'Sista', 'owners', 'JavaScript', 'TNT2', 'parmesan', 'freebyte', 'Nobles', 'Sweetie', 'deranged', 'Email', 'murdering', 'update_prebinding', 'Cumming', 'Pane', 'interesting', 'Review', 'keeps', '[@', '17', 'fship', 'Red', 'Moron', 'Volnay', 'falling', 'private', 'Aauuugh', '20th', 'dwarf', 'Company', 'gimme', '20030628', '!!!!!!!!!!!!!!!!!!!!!!!!!!', 'removal', 'starving', 'sort', 'Pride', '0x56ff8b90', 'Special', 'cofee', 'metro', 'undrinkability', '?--', 'BLONDE', 'Another', 'Franz', 'completlly', 'Frosty', 'hisself', 'gardening', 'behalf', 'annihilated', 'minded', 'et', 'appdata', 'dest', 'GetPrevDocShell', 'nobody', 'invisable', 'belts', 'bloggers', 'caviar', '()]', 'Drunken', 'hollower', 'prevent', 'cousins', 'cocksuckers', 'patient', 'metropolitan', 'spades', 'sex', 'Smiley', 'complications', 'ja', 'Leather', 'Finish', 'Values', 'ideology', 'cocoa', 'Boss', 'Sage', 'Herald', 'robbery', '140', 'reaky', 'passion', 'relative', 'slept', 'dissipates', 'drinker', 'wifebeater', 'libstdc', 'patriot', 'modifications', 'sweatshop', 'Digital', 'divs', '-.', 'start', 'Aunt', 'Flushing', 'Vahn', 'Marley', 'clitoral', 'gaping', 'tracts', 'mightiest', '1', 'frigerator', 'otherwise', 'supported', 'Lobster', 'quess', 'Chassagnes', 'widescreen', 'unlocks', 'deception', 'TERTIARY', 'sidebars', 'dship', 'Past', 'lemony', 'watery', 'rejoicing', 'Liquour', 'pt', 'rise', 'laptops', 'systems', 'oversized', 'Wouldn', 'Overexcited', 'loginnet', 'Spotted', 'Alternate', 'Shoot', 'biggest', 'amazes', 'physics', 'invoke', 'Blood', 'Luxury', 'HEADS', '-\"', 'heard', 'stomps', 'tourist', 'JRR', 'cabinet', 'Brune', 'prayed', 'Dominicans', 'Sally', 'CUSTOMER', 'jacket', 'lookups', 'wield', 'fatal', 'Doc', 'gamble', 'debt', 'redesigned', 'database', 'you', 'Pubmed', 'luxurious', 'represented', 'punany', 'inserts', 's', 'temperate', 'Latino', 'Jake', 'oddities', 'comb', 'locationbar', 'Trista', 'both', 'denied', 'res', 'condition', 'TC', 'scentedness', 'intersting', 'Floyd', 'BE', 'Jello', 'Inky', 'addr', 'belly', 'glue', 'BEDEVERE', 'generic', 'regressions', 'Pineappley', 'wallpaper', '44', 'begins', 'Age', 'pickers', 'hell', 'elagent', 'mathematically', 'intelligently', 'query', 'Caret', 'Seamonkey', 'Putting', 'lotto', 'Thursday', 'maby', 'tariffs', 'Meaning', 'poms', 'SOH', 'Persistent', 'part', 'bottomboimanhattan24', 'backcolor', 'Gibson', 'disapearing', 'gal', 'inside', 'cots', 'kidding', 'Lovitz', 'bypass', 'essay', 'pinch', 'squeeze', 'hoop', 'Controls', 'shave', 'QUARTERMASTER', 'Clarets', 'hmmm', 'Aim', 'recommend', 'Rico', 'Saint', 'Remove', 'retired', 'stiffly', 'Reserved', 'hash', 'frameloadcheck', 'pausing', 'weediness', 'onW3', 'Paint', 'Blanc', 'prematurely', ')\\'\"', 'Disappear', 'GetTemplateActionCellFor', 'Thundercats', '03', 'Apparel', 'selected', 'trustworthy', 'complain', 'forgive', '\"]', 'timescale', 'Peddler', 'Types', 'Popup', 'hired', 'wimp', 'pants', 'poem', 'Prefers', 'soo', 'moz', 'pageholder', 'jsut', 'Gatorade', 'alt', 'Anorexia', 'TIMES', 'Tooth', 'authorized', 'toward', 'gift', 'sternness', 'zoosh', 'apostrope', 'Trimbach', 'SELECTED', 'fifty', 'total', 'Disposition', 'autocompleting', 'Hoo', '50', 'God', 'parrot', 'observes', 'screenx', '1990s', 'fluid', 'separate', 'dabble', 'painted', 'accompanying', 'DataBase', 'Billy', 'spank', 'nowhere', 'Northside', 'ghetto', 'Persuasion', 'alpha', 'Complications', 'Baptism', 'Shack', 'strangers', 'dangereux', 'Suck', 'Pictures', 'advised', 'Producers', 'slightly', 'NTLM', 'hibiscus', '(*.*)\"', 'OHHHHH', 'daughter', 'iconify', 'msg', 'artificial', 'popped', 'rolling', 'Slideshow', 'discover', 'removeTab', 'boycott', 'Subway', 'itâ', 'danger', 'tilted', 'Hotkey', 'snores', 'alas', 'Jason', 'undeclared', 'Gay', 'Developer', 'passport', 'Customer', 'woo', 'hunger', 'component', 'lotus', 'Strangely', 'FORGET', 'Suburban', 'pump', 'sinks', 'clothing', 'Coalition', 'Flying', 'heroin', 'names', 'catsuit', 'worth', 'restaurants', 'page', 'emancipated', 'left', 'mongoose', 'resulting', 'roller', 'outward', 'drama', 'WebMail', 'Epoxy', 'cloaking', '...!', 'top', 'Bread', '_blank', 'pen', 'Clarify', 'county', 'printed', 'truncate', 'HELMSMAN', 'spun', 'lil', 'GlobalWindowImpl', 'keyboard', 'acidic', 'bowels', 'AMIABLE', 'Bobby', 'Slutty', 'Vampire', 'Carter', 'Bobblehead', 'giggling', 'Semite', 'fragrance', 'upstage', 'sweatshirts', 'carbs', '\">]', 'tried', 'Dairy', 'Dealer', 'aaugh', 'alligators', 'Kracker', 'latin', 'Scare', 'Maid', 'improvement', 'Bike', 'printing', 'rush', 'wide', 'balloon', 'Victor', 'remain', 'unh', 'seconds', 'selling', 'interview', 'AddBookmarkImmediately', 'Vegan', 'carried', 'MozDev', 'daycare', 'From', 'hopped', 'htaccess', 'communist', 'accessing', 'baggage', 'Cops', 'SD', 'lay', 'floor', 'distinguished', 'List', 'Orleans', 'feast', 'shame', 'possble', 'Options', 'Kit', '138', 'Access', 'Nintendo', 'junkie', 'tarry', 'Illustrator', 'extetion', 'Cleveland', 'associates', 'Ernie', 'coke', 'Reflow', '.*.', 'Vonage', 'Med', 'mentally', 'Monistat', 'mainland', 'personal', 'anytime', 'Massa', 'Sex', 'toasty', 'shlwapi', 'existant', 'Symantec', 'HTTPS', 'Gator', 'weensy', 'MIDDLE', 'ContentLoadURL', 'acctual', 'fumigating', 'floats', 'Whiz', 'Selected', 'weatherman', 'Bostonian', 'beverage', 'chemical', 'wipers', 'bigger', 'wise', 'nsITheme', 'falters', 'chapstick', 'Fraggle', 'WinAMP', 'browserwindows', 'flintlock', 'dolly', 'gnome', 'Malay', 'Imported', 'doorman', 'gather', 'LJ', 'rejected', 'Snoop', 'inplace', 'Leroy', 'crud', 'nnniggets', 'Warm', 'hacks', 'noted', 'hate', 'Cleaning', 'situation', '%', 'Phoenity', 'abortions', 'crush', 'Networking', 'Constipated', 'gon', 'walnut', 'sink', 'Perret', 'silkyily', 'aqua', 'Tiger', 'play', 'Grinch', 'Reset', '6th', 'overboard', 'smear', 'OF', 'tunnel', 'ticketed', 'observer', 'homeless', 'formats', 'photos', 'convicts', 'Interactive', 'penetrating', 'MTA', 'nosebleeds', 'Incest', 'struggles', 'currently', 'her', 'Hungarian', 'pursuit', 'Latest', 'behavior', 'dance', 'igniting', 'Exception', 'established', 'activestate', 'philosophy', 'Mmhmm', 'Troy', 'stalking', 'clearing', 'winey', 'dial', 'Upgrading', '400', 'spurious', 'later', 'outdated', 'receptors', 'frangrant', 'needs', 'jobs', 'ext', 'prefrences', 'Gathering', 'road', 'desk', 'prefrosh', 'onMouseOver', 'Opera', 'sells', 'Colombier', 'anchors', 'summoning', 'Complexion', '$(', 'cusomize', 'dm', 'Peniston', 'ntdll', 'Gaggle', 'mousovered', 'sp5', 'mozilla', 'reverse', 'won', 'Geraldo', 'John', 'Galeon', 'smiling', 'Moesha', 'blocks', 'Doucheville', 'Tjis', 'musky', 'peachy', 'Mine', 'school', 'Jack', 'wore', 'arstechnica', 'Everything', 'Cowboy', 'shopper', 'trackball', 'Climbing', 'mer', 'spoiler', 'gobbler', 'Angelina', 'gateway', 'Hint', 'til', 'desapears', 'Lackawanna', 'escalator', 'Memory', 'Risk', 'bodes', 'Alzheimer', 'crying', 'HIV', 'Secure', 'Haven', 'String', 'swinging', 'Ooohhh', 'throttling', 'disturbance', '[...', 'homies', 'buddy', 'businessman', 'In', 'tale', 'verbs', ');', 'attract', 'vampire', '(.', 'repay', 'Accept', '_ZTISt9bad_alloc', 'Thursdays', 'goodem', 'Mami', 'nights', 'restart', 'Inoperative', 'Bellagio', 'quitely', 'astounded', 'Cookie', 'dismiss', 'userdir', 'Slight', 'Ooo', 'Canyon', 'FIT', 'However', 'bumps', 'exclusively', 'metaphor', 'when', 'April', 'microscope', 'drink', 'swabbing', 'Fem', 'GetSignonsListFromPStore', 'Kat', 'hitting', 'sickly', 'pant', 'paradoxically', 'reordered', 'indent', 'acrobat', 'arises', 'doesnot', 'hyperlinks', 'Teach', 'Settin', 'flee', 'Mars', 'loops', 'Little', 'index', 'pickle', 'Richard', 'Napa', 'XPI', 'theory', '´', 'prawns', 'stolen', 'Tables', 'Accelerated', 'Mayflower', '47th', 'Figures', 'freeze', 'Burgundy', 'Norah', 'dollar', 'Amiable', 'Mummy', 'pecks', 'holders', 'brace', 'shots', 'blackened', 'R4M23', 'Events', 'Iodine', 'drop', 'Tunina', 'teeth', 'STYLE', 'superfluous', 'Option', 'deadborn', 'bubblegum', 'discovering', 'Eeeeee', 'dn', 'moves', 'popping', 'leathery', 'Olympic', 'untravelled', 'wersion', 'Ripe', '12MB', 'statements', 'Proverbs', 'Punk', 'Hazelnuts', 'nagging', 'lax', 'caption', 'wear', 'bgproperties', 'An', 'Hobbesian', 'choices', 'godparents', 'spare', 'smokes', 'ABBR', '82', 'becomes', 'Karaoke', 'babies', 'XMLSerializer', 'formally', 'doomed', 'Unh', 'educated', 'bogus', 'ambiguous', 'repent', 'teat', 'Betcha', 'Friend', 'throw', 'WHAT', 'motivations', 'suggestions', 'Bud', 'electrocuted', 'rc2', 'rrrr', 'shopkeeper', 'Uhhhh', 'Ana', '37yrs', 'Rosie', 'horses', 'Mew', 'redemption', 'Citizen', 'log', 'Chocolatey', 'plank', 'straits', 'Lost', 'dependency', 'Hyphenation', 'mustn', 'cave', 'Cases', 'pay', 'CRONE', 'geek', 'SYS3178', 'Plane', 'Radio', 'gallantly', 'broad', 'growers', 'anthropologist', 'souuthern', 'imperialist', 'news', 'shortie', 'loaded', 'Businesswoman', 'existed', 'Gave', 'rollover', 'transferred', 'criticizes', 'improving', '-)', 'orthodox', 'reds', 'books', 'iced', 'Sixth', 'vote', 'accessories', 'ashes', 'strippers', 'Apparent', 'unusalbe', 'Whaddya', 'cuz', 'bells', 'Himmler', 'Downtown', 'Brunette', 'urlbar', 'Greece', 'Pringles', 'disclose', 'crystal', 'Sheeps', 'globe', 'venkman', 'bore', '35ko', 'proposition', 'a', 'disposition', 'skipped', 'concentration', 'boyfriend', '(~/.', 'convenient', 'v0', 'Reverse', 'involving', 'f2', 'sin', 'fucked', 'infromation', 'lively', 'applications', 'tosail', 'uncommon', 'Brother', 'parameter', 'Democrat', 'jars', 'environment', 'approacheth', '65th', 'accessible', 'Bouncer', 'Restrict', 'Street', 'noses', 'Choosing', 'mutates', 'cope', 'Fucker', 'Go', 'cobras', 'dropped', 'tsk', 'emails', 'remotely', 'Suppress', 'sufficiencies', 'Zoloft', 'Spar', 'Asia', 'diploma', 'updated', 'Haley', 'Bye', 'RETIRED', 'disconcerting', 'trailing', 'giggle', 'retracts', 'birfday', 'Less', 'Adobe', 'tookit', 'td', 'Zoot', 'Eddie', 'banging', 'Awk', 'internship', 'CTRL', 'scrapes', 'subdued', 'haul', 'shrivelled', 'humble', 'intercoms', 'arch', 'Excellent', 'sniffing', 'K', 'independance', 'pressed', 'highest', 'Conde', 'dissapearing', 'shoot', 'Fraaaaan', 'chil', 'seek', 'Early', 'church', 'Zodiac', 'port', 'Feller', 'asshole', 'es', 'oak', 'toned', 'chaos', 'fruitiness', 'earth', 'Bill', 'dreaded', 'sundae', 'claw', 'Facebook', 'searched', 'fall', 'ecky', 'nsCSSFrameConstructor', 'Michael', 'offer', 'animated', 'triangle', 'lurked', 'Element', 'MID', 'liver', '=>', 'Jerry', 'treated', 'Swiss', 'percent', 'ninepence', 'whining', 'regularly', 'ATTRACTIVE', 'memorization', 'dialup', 'biz', 'fingered', 'terrorist', 'Inline', 'ar', 'mechanics', 'flips', 'firearm', 'entitled', 'Caillerets', 'carbohydrates', 'Proceeds', 'uses', 'sizer', 'turning', 'xhtml', '98', 'plane', 'PARTY', 'Lying', 'info', 'day', 'mhtml', 'symbolic', 'cannot', '20', 'GameBoy', 'war', 'spec', 'penguin', 'dripples', 'monitors', 'articles', 'DomI', 'loop', 'accepted', 'canvas', 'moderately', 'increase', 'fed', 'Downloader', 'discussing', 'Williamsburg', 'Mother', 'Monkeys', 'hiring', 'consistant', 'Enhancements', 'F9', 'Netgear', 'Launches', 'statistics', 'ville', 'vulgar', 'beans', 'Bring', 'Gates', 'Beast', 'annoyed', 'maderised', 'Lookit', 'VD', 'goddamn', 'Dorothy', 'Piggy', 'Brit', 'Vendor', 'fascinating', 'Firm', 'Bought', 'checked', 'permissions', 'ABBREVIATIONS', 'stern', 'pries', 'PARK', 'resited', 'howto', 'brackets', 'margarita', 'possible', '5AM', 'webservers', 'Scrabble', '\")\"', 'Kindergarten', 'someone', '132517', 'lentil', 'Many', 'Prosecco', 'multiline', 'Fetchez', 'Incorrectly', 'Waiter', 'chateauneuf', 'penguins', 'A', 'Jesuit', 'fanatical', 'gave', 'GOSH', 'maximum', 'gambling', 'Crashes', 'Instance', 'planky', 'kegs', 'Lexus', 'humans', 'destroyed', 'Taskmanager', 'antidotes', 'hoodie', 'Done', 'repeating', 'trashed', 'finding', 'Lie', 'x201D', 'lifted', 'fighter', 'Inspect', 'intolerant', 'rewr', 'Leathery', 'Costumizing', 'nsLineLayout', 'Evangelists', 'Merits', 'near', 'hairdos', 'XFT', 'Denny', 'professor', 'Disillusioned', 'Found', 'Prompted', 'streetlight', 'slaveholders', 'wrapping', \"?'\", 'spyware', 'rainbows', '1024x768', 'Histroy', 'partitions', 'malfunction', 'secret', 'Gym', 'Businessgirl', 'slaughtered', 'PATSY', 'Win2K', 'itches', 'seashell', 'bowling', 'indicates', 'discussion', 'Choppin', 'bruises', 'Serious', 'alot', 'Darfur', 'recognise', 'Santorum', 'MetroCard', 'pours', 'Receiver', 'webshots', 'Wup', 'stage', '()\"', 'twixt', 'WM', 'unset', 'Snotty', 'DID', 'seamonkey', '2nd', 'orchestra', 'cracker', 'ruthless', 'shoudn', 'Thpppt', 'clever', 'EASYGOING', 'Coarsened', 'academic', 'EARLY', 'v', 'my', 'eaten', 'networks', 'duff', 'Clive', 'Combo', 'either', 'Denial', 'BTF', 'hopes', 'maintained', 'papi', '1970', 'raspberry', 'eagles', 'plugin', 'sunrise', 'group', 'chars', 'Surly', 'Loimbard', 'Margin', 'gross', 'appearing', 'Twentysomething', 'appropriate', 'Meanwhile', 'groin', 'thinking', 'bastard', 'OpenOffice', 'pronounced', 'thru', 'Seemed', 'havn', 'applesauce', 'Ready', 'NS_GetSpecialDirectory', 'inquire', 'opinion', 'naked', 'tastes', 'buglist', 'Creation', 'framesite', 'nails', 'Sept', 'Gucci', 'Shit', 'food', 'Bors', 'thrash', 'Hey', 'Relatively', 'Falls', 'Brunch', 'nowehere', 'beating', 'asked', 'conflicting', 'evade', 'Quicktime', 'History', 'contain', 'Rainbird', 'seed', 'Musar', 'urinal', 'sluttier', 'drug', 'watering', 'similar', 'mitzvah', 'Willie', 'candleholder', 'winemaking', 'put', 'initials', 'stucks', 'http_referer', 'DIRECTOR', 'Minute', 'CeCe', 'corpse', 'Useless', 'Oddbins', 'ruin', 'delivers', 'Columbus', 'misplaced', 'astrology', 'connected', 'Unusually', 'encounter', 'Club', 'shortly', 'petting', 'updation', 'Desi', 'avocado', 'Bank', 'fags', 'phrase', 'dialogbox', 'Dragonball', 'crippled', 'rink', 'conversion', 'bigot', 'Delay', 'music', 'sherberty', 'negatively', 'indicate', 'deletion', 'tooltips', 'sparring', 'Gin', 'Cab', 'Staten', 'responsible', 'Make', 'glee', 'contracted', 'major', 'Sold', 'crab', 'angels', 'Bad', 'crime', 'through', 'attributes', 'castle', 'additional', 'Money', 'fo', 'backbone', '2AM', 'bonfire', 'Queer', 'Extend', 'viewFader', 'acroread', '\"***', 'binding', 'Alerts', 'Installation', 'Live365', 'logged', 'Than', 'skirts', 'ssmall', 'About', 'conflict', 'fours', '\"|\"', 'navigates', 'petri', 'seperator', 'catching', 'checks', 'butter', 'hibernation', 'wounded', 'utf', 'lure', 'Sailor', 'weariest', 'incl', 'Nightly', 'originating', '**(*)', 'this', 'sewer', 'richt', 'example', 'Move', 'hourglass', 'Antigen', 'happily', 'creep', 'R2D2', 'Slips', 'Protocol', 'abruptly', 'OVER', 'Uninstalled', 'omg', 'proudly', 'Shopaholic', 'restored', 'nick', 'Reductive', 'where', 'nan', 'containers', 'Patron', 'bitchy', 'U', 'Namibian', 'playlist', 'Palominos', 'bargain', 'outrageous', 'containing', '35YO', 'ahold', 'army', 'drowned', 'lacking', 'object', 'Giants', 'mutually', 'fuckhead', 'limited', 'unic', 'Conducter', 'brownstone', 'jolly', 'grander', 'Market', 'females', 'views', 'buggy', 'Paige', 'fortuitous', 'Leban', 'endearment', 'told', 'WinNT', 'Pleasing', 'viewable', 'Aryans', 'Romanian', 'horizontally', 'lanolin', 'lager', 'gap', 'copyright', 'Port', 'owed', 'Oo', 'receptive', 'cured', 'modules', 'estery', 'renumbered', 'Max', 'bunt', 'Ector', 'destiny', 'unfinished', 'inferior', 'pigeons', 'Ohh', 'camcorder', 'soon', 'failing', 'spell', 'PSC', 'TinyBMP', 'credits', 'clear', 'Memories', 'nsPrintSettings', 'details', 'abolished', 'scoll', 'sold', 'reluctantly', 'doubt', 'slowing', 'Resolving', 'returns', 'masses', 'unencrypted', 'hopping', 'speak', 'explore', 'Substantial', 'locating', '=', 'Styx', 'nsGlobalHistory', '52', 'dthread', 'onClick', 'Pfalzy', 'slows', 'dancer', 'whittling', '([', '?\"?', 'mono', 'Noodles', 'subways', 'dunzo', 'GED', 'awkwardness', 'mistook', 'they', 'possession', 'resend', 'roars', 'firmness', 'these', 'Index', 'Argentina', 'JACK', 'prints', 'textarea', 'indexed', 'Connect', 'eposasp', 'callers', 'Reese', 'Tarzan', 'history', 'railroad', 'launches', 'delicacies', 'Seated', 'regains', 'confirmation', 'Encryption', 'Love', 'TXT', 'Fag', 'singer', '.........', 'teabag', '@', 'Mozillas', 'aaah', 'ace', 'SELECT', 'Homer', 'Shortcut', 'mothafuckas', 'compulsive', 'clank', 'YEAR', 'Been', '.(', 'moans', 'Panel', 'seasonally', 'finds', 'freshmen', 'manacles', '34yo', 'solves', 'collects', '+)', '1997', 'specifying', 'Created', 'string', 'Unless', 'smuggling', 'clenched', 'dialogue', 'Checkmarks', 'Command', 'selection', 'Dorian', 'routines', 'handicap', 'Webster', 'Similar', 'Mandela', 'sanitation', 'cosine', 'chesty', 'library', 'nsWindowsShellService', 'Mistyped', 'studying', 'SSL', 'GMail', 'candle', 'UP', 'walked', 'carb', 'attractiveness', 'Popcorn', 'snakes', '2003041108', 'math', 'Swann', 'subtly', 'folder', 'Finishes', 'autograph', 'Miss', 'plus', 'conceited', 'toolbars', 'mnemonic', 'HAIR', 'Alexis', 'dosage', '.)', 'Map', 'dresser', 'SendGuestbook', 'shortness', 'SPARROW', 'restoration', 'Stored', 'typical', 'corrections', 'Stuy', 'ONLY', 'Caerbannog', 'beginnings', 'GENTLEMAN', 'talent', 'rc1', 'rocks', 'dir', 'gifs', 'thugs', 'employs', 'Mmm', 'Heard', 'choose', '57th', 'collapse', 'pint', 'charlatan', 'prompted', 'admiring', 'Starburst', 'patties', 'hardly', 'Timeless', 'nsExternalHelperAppService', 'PA', 'wagon', 'MozillaFireBird', 'lamb', 'Jord', 'Adresses', 'username', 'axed', 'camel', 'characthers', 'JESUS', 'medicated', 'yelled', 'garb', 'IV', 'SOAP', 'beach', 'Kentucky', 'light', 'slipping', 'manages', 'challenge', 'mathml', 'slice', 'java', 'shrimp', 'Un', 'CPR', 'regression', 'SCRIPT', 'preparation', 'nuggets', 'Sizes', 'fairly', 'Fe', 'dissapear', '][', 'pulldown', 'plagiarism', 'subwindows', 'conditioning', 'error_pages', 'drunko', 'Beach', 'Possible', 'gynecologist', 'tree', 'rumblings', '\"??????\"', 'academy', '>-', 'cup', 'matched', 'uncomfortable', 'tragged', 'Goldman', 'subcategories', 'NASCAR', 'Simone', 'answers', 'Despite', 'Eleven', 'atrocious', 'centre', 'Manchu', 'chooni', 'Klipper', 'poked', 'Galapagos', 'similitaneous', 'Satisfying', 'dappy', 'emerge', 'ororitary', 'curve', 'touches', 'ken', 'Nexx', 'Jane', 'noodle', 'Xopus', 'emergencies', 'peddling', '5981', 'ftoolbar', 'Seems', 'TAGs', 'barfed', 'Nutley', 'nastiest', 'Marriott', 'trackpad', 'downloadwindow', 'honey', 'Overweight', 'Century', 'bestiality', 'canceled', 'recollection', 'Goes', 'Grade', 'empty', 'prizes', 'T30', 'folowing', 'Pantano', 'SUN', 'pointed', 'easily', 'grammar', 'represent', 'affects', 'thatplague', 'homosexuals', 'Notice', 'gained', 'candidate', 'profilemanager', 'St', 'Ginsberg', 'kneel', 'soda', 'Carlos', '12', 'nightmare', 'posts', 'Curiously', 'missing', 'frozen', 'Progress', 'downarrow', 'nerdy', 'Homely', 'selecting', 'robotic', 'sought', 'Service', 'autocompleted', 'versus', 'uptight', 'Empiricist', 'letting', 'fills', 'Free', 'laid', 'disgorgement', 'Progresso', 'qt', '2_03', 'stretch', '623', 'Panties', \"').\", 'After', 'XPFE', 'hitching', 'figures', 'divorced', 'dbl', 'blasphemy', 'apso', 'Drink', 'Diedre', 'Hubbard', 'kneeling', 'Security', 'prey', 'Mister', 'Striking', 'illegitimate', 'Loud', 'dimes', 'reaimplement', 'Metric', '60s', 'oned', 'Bible', 'their', 'Streep', 'hear', 'corporate', 'leaves', 'walk', 'vines', 'move', 'significant', 'wack', 'Rockefeller', 'Public', 'Violate', 'Automobiles', 'Applescript', 'listbox', 'unwind', 'Blond', '();', 'gingery', 'sparkly', 'Local', 'windows', 'realplayer', 'Limo', 'Witnesses', 'Harried', 'spread', 'nppdf', 'unison', 'MouseImp', 'overlooking', 'whitening', 'Gilligan', 'infrastructure', 'Saudi', 'MapQuest', 'Beetroot', 'chews', 'brie', 'notable', 'un', 'F4', 'fleshy', 'cent', 'pussy', 'Xinerama', 'output', 'BRIDE', 'pressured', 'handeled', 'genius', 'three', 'inadvertantly', '36yo', 'Which', 'Portrait', 'customizeCharset', 'autodownload', 'Yarmulke', 'per', 'visiting', 'Throws', 'volunteer', 'patriotic', 'codes', 'Manage', '5', 'baptism', 'migrant', 'benign', 'wash', 'createElement', 'whoever', 'hepatitis', 'controlled', 'execution', 'mesmerized', 'notify', 'Favorites', 'IWC', 'Wannabe', 'IPs', 'scarecrow', '==', 'Mongolian', 'VALUE', 'Fire', 'Train', '];', 'AMD', 'diamonds', 'Manages', 'styling', 'evicted', 'machine', 'onto', 'magically', 'Moet', 'lads', 'dosn', 'Grigio', 'lah', 'vibrancy', 'emotional', '48th', 'hotbot', 'completed', 'Mulberry', 'hardcoded', 'classic', 'kidneys', 'career', 'Segmentation', 'charging', 'workshop', 'Flyers', 'completions', 'unuseable', 'Yeaah', 'ADVENTUROUS', 'saves', 'sugars', 'talkie', 'Started', 'pref', 'delightful', 'capsizes', 'aircraft', 'rocky', 'date', 'ASK', 'neighborhood', 'foot', 'campaign', 'attached', 'unharmed', 'nothing', 'wound', 'intermittantly', 'resolved', 'fugitives', 'applicaton', 'Businesslady', '),', 'splashes', 'Worker', '1000', 'Disappointing', 'silly', 'temporary', 'actions', 'logins', 'carnivores', 'filthiest', 'beyond', 'return', 'symbol', 'Pages', 'bags', 'reduce', 'accurate', 'Come', 'gtk1', 'simultaneously', 'locked', 'Sensitive', 'Spyware', '161546', 'Patterson', 'guitarist', 'Colored', 'individuality', 'h4', 'fences', '~', 'zippers', 'Sudden', 'Caskets', 'Ravishingly', 'Geocities', 'loudly', \"'+'\", 'haw', 'towards', 'order', 'actually', 'must', 'Software', 'Jazzercise', 'Milton', 'Alan', 'Missed', 'Raveneau', 'mutant', 'Rounded', 'Yup', 'medication', 'geography', 'thirsty', 'NY', 'princes', 'precautions', 'consume', 'inchin', 'Behold', 'decoded', 'pinstripe', 'refresh', 'index2', 'FireFox', 'opt', 'Waste', ':\\\\', 'Tweenie', 'Loads', 'precise', 'Cabbie', 'Width', 'dlls', 'swordfight', 'ineffective', 'Autocompleting', 'Venice', 'xpfe', 'strip', 'Luther', 'confidence', 'exaggerates', 'problem', 'having', 'Ireland', 'ripe', 'puppies', 'clack', 'godlike', 'weighty', 'laser', 'absolutely', 'defiance', 'patting', 'FUCKING', 'wedlock', 'MATURE', 'Eva', 'Uniformed', 'spoilt', 'heaven', 'ignoring', 'root', \"-%'\", 'citizenship', 'Dense', 'asterisks', 'Crazy', 'Tussaud', 'trois', 'Error', 'fold', 'filth', 'Credit', 'kebab', 'Charms', 'zingy', 'spy', 'Lemony', 'confusingly', 'thwonk', 'yell', 'evenings', 'bluepart', 'arrange', 'aged', 'Riley', 'gentle', 'greens', 're', 'theatre', 'pudding', 'incurable', 'visualize', 'axing', 'dip', 'separated', 'Taco', 'unescape', 'master', 'donation', 'Get', 'CitiKitty', 'souls', 'licensed', 'Temporary', 'rats', 'breeds', 'intelligent', 'munchies', 'biotech', 'disappoint', 'sophisticated', 'Waldo', 'eventhough', 'mumblemumble', 'sportsmanship', 'keywords', 'Xdrive', 'vanilla', 'nonstop', 'Foward', 'Again', 'First', 'cleint', 'clearly', 'javascript', 'deep', 'Bristol', 'Dragons', 'heated', 'valet', 'removeChild', 'blast', 'Norway', 'seasoning', 'URIbar', 'leap', 'rate', 'corrupted', 'rainbow', 'libgklayout', 'Dropdown', 'Communist', 'Chablis', 'schools', 'Schwarzenegger', 'NWA', 'university', 'Component', 'Feedback', 'backward', 'Drunk', 'Maureen', 'persistant', 'Korea', 'rat', 'Spicy', 'textual', '?\",', 'corpses', 'lobster', 'his', 'contrived', 'Range', 'ABOUT', 'Gun', 'null', 'Piercing', 'addict', 'Copy', 'pic4', 'Dogg', 'Project', 'Skating', 'visable', 'HANDSOME', 'fast', 'Fresh', 'Russians', 'sever', 'nuttyness', 'harvest', 'Gross', 'vacuum', 'movement', '2k', 'Helper', 'health', 'bookstore', 'Wild', 'engaged', 'appends', 'Quicksearch', 'installers', 'Irishman', 'scream', 'Kitten', 'ol', 'fwd', 'Iraqian', 'autofill', ',&', 'Frogpad', 'friggin', 'Nationality', 'Dedicated', 'amputation', 'afterwords', 'grovel', 'office', 'conflicts', 'Password', 'nearer', 'invalid', 'Carla', 'unaji', 'Kitchen', 'runway', 'muscles', 'Sure', 'Everybody', 'site_icons', 'glares', 'Expanding', 'surprisingly', 'HERE', 'dependencies', 'interjections', 'colorpicker', 'condescending', 'dya', 'beignets', 'flavors', 'target', 'IS', '33rd', 'KNIGHTS', 'orgasms', 'excessive', 'genu', 'Johnny', 'Help', 'vexed', 'lapels', 'Unreliable', 'browserwindow', 'grade', 'Chunky', 'Junior', 'interject', 'skewer', 'styles', 'Excalibur', 'fiery', '**:', 'slobfest', 'Manilow', 'fstv', 'Michigan', 'French', 'Orchard', '\"\\x99\"', 'reuses', 'Easier', 'undefeated', 'sheeps', 'img', 'Autoscrolling', 'lightning', 'alwaysAcceptSessionCookies', 'Prejudice', 'Harrison', 'martial', '125th', 'Reports', 'Yemen', 'Homelink', 'rule', 'Considerate', 'spicy', 'Bluecurved', 'Instead', 'Santiago', 'cheap', 'Nay', 'sinking', 'Gif', 'Phish', 'spears', 'Naming', 'winxp', 'lnsl', 'Media', 'redrawn', 'pleasing', 'planned', 'unity', '20022', 'Entries', 'quirk', 'jersey', 'tears', 'Killa', 'knowing', 'headset', 'temprementally', 'lock', '&', 'Johnnie', 'Fugazi', 'seized', 'Meh', 'disply', 'unforeseeable', 'VERY', 'engaging', 'sh', 'Reebok', 'Viagara', 'tits', 'misspelled', 'cedaryness', 'natives', 'Default', 'supreme', 'observe', 'boys', '\\\\', 'Muad', 'lib', 'Yankees', 'Bars', 'piney', 'manual', 'thong', 'bmp', 'Clearly', 'Confusion', 'concept', 'releasenotes', 'JRE1', 'popupmenu', 'Bay', 'loosing', 'aaaaaah', 'Blocker', 'Porcupine', 'fashioned', 'est', 'Manolos', 'State', 'Aw', 'GUESTS', 'bitchtastic', 'Creek', 'learned', 'defaut', 'submissions', 'hipster', 'cvsignore', 'Depot', 'own', 'Dreadlocked', 'Danza', 'straightener', 'need', 'gentrification', 'textfield', 'directories', 'Delaware', 'RenderViews', 'dissertation', 'Paytrust', 'BBC', 'Taskbar', 'downloadsRemoveExit', 'eet', 'fwump', 'pacbell', 'Danny', 'tests', 'dick', 'htt', 'urlmon', 'interpret', 'island', 'doos', 'Leesy', 'reared', 'tinks', 'differences', 'germs', 'Methodone', 'Married', 'naw', 'teens', 'Discussion', 'Frey', 'fifteen', 'vegetables', 'expand', 'cute', 'cultural', 'posting', 'behave', 'visa', 'tring', 'advancing', 'Shish', 'Net', 'NYU', 'Unquoted', 'Ensure', 'libpr0n', 'localizable', 'Tar', 'Krug', 'should', 'Martha', 'attacks', 'virus', 'Stay', 'Stern', 'privite', 'momentarily', 'cased', 'sweat', 'gooseneck', 'THROUGH', 'SEXY', 'grayed', 'whistling', 'unchecked', 'unix', 'Driver', 'likes', 'Magnify', 'Tina', 'boyfriends', 'packaged', 'Able', 'House', 'gems', 'officer', 'DMV', 'reading', 'expect', 'Tommy', 'chasing', 'autodetector', 'Jive', 'distance', 'Streamer', 'mace', 'OtherProgram', 'accesskey', 'Pop', 'dren', 'shitting', 'Brion', 'proper', 'Czechlosvakian', 'Build', '927', 'announces', 'Tree', 'Structured', 'submits', 'Verizon', 'professional', 'toaster', '50yo', 'Previous', 'vibrator', 'senior', 'cops', 'LOVE', 'protocol', 'dragging', 'Split', 'skating', 'doormen', '890', 'Grapey', 'LF', 'options', 'Ahead', 'cat', 'converge', 'flats', 'SWANN', 'prog', 'blue', 'LINUX', 'Bus', 'InsertElement', 'roast', 'Zagat', 'glory', 'penalty', 'Tourist', 'caring', 'receiver', 'weekly', 'sail', 'Cutie', 'scrambled', 'incompetent', 'prepending', 'MyEbay', 'pom', 'Twain', 'important', 'construction', 'poss', 'spouse', 'Cashmere', 'Yes', 'sulfur', 'singing', 'Directory', 'cycles', 'meteors', 'R3DM24', 'Russia', 'pan', 'lecturing', 'surprise', 'Ohmigod', 'farmyardy', 'wording', 'Co', 'tile', 'chatzilla', 'hots', 'viewSource', 'expects', 'sha', 'late', 'fleeting', 'hospitable', 'setup', 'jaywalker', 'unrendered', 'Fairy', 'Global', 'complexity', 'Scalper', 'wuss', 'Tips', '\".', 'streams', 'Hospital', 'Yorkers', 'least', 'possibles', 'LEEECH', 'scale', 'Sicilian', 'honeysuckle', 'loose', 'compatable', 'circus', 'mass', 'dotted', 'initialized', 'crawls', 'Billecart', 'clams', 'Uther', 'attachments', 'bloodstream', 'necrophilia', 'Goodbye', 'unfamiliar', 'anchovies', 'MOZILL', 'ago', '26', 'Ale', 'shower', 'Technophobic', 'conductor', 'Trendy', 'richest', 'RealPlay', 'bladder', 'fumes', 'combined', 'pilotage', 'ROAR', 'sins', 'Studio', 'Greek', 'security', 'rapes', 'baked', 'Purple', 'chilled', 'framed', 'headers', 'reassignment', 'smiles', 'Particular', 'Helen', 'mangled', 'classes', 'OLEAUT32', 'shipped', 'detective', 'deserves', 'worthwhile', 'Steelers', 'noticably', 'McDonalds', 'multiplicated', 'preferences', 'pronounce', 'dialog', 'SUBSTANCE', 'plants', 'Alphabet', 'resolate', 'Fails', 'submition', 'Space', 'ninja', 'coming', 'bandage', 'faint', '314', 'Front', 'specified', 'driver', 'ser', 'returning', 'waist', 'firmly', 'noon', '1st', 'Jonathans', 'Olive', 'Ray', 'standards', 'biographies', 'aviary', 'freezes', 'Aye', 'WIDOW', 'Stopping', 'encourage', 'mousse', 'identities', 'Strange', 'hurries', 'extend', 'instant', 'inaccessible', 'raising', 'Vendetta', 'Esther', 'ESPNs', 'class', 'queerer', 'bleeder', 'Post', 'backed', 'Doughy', 'hangover', 'hidden', 'Emilion', 'legumes', 'inattentive', 'Fatal', 'peak', 'balls', 'Quieter', 'duplication', 'catches', 'FreeBSD', 'favorites', 'frighten', 'Contract', 'Tibet', 'haircuts', 'ad', 'slit', 'reminder', 'saw', 'hyped', 'LEFT', 'extinct', 'nude', 'unfinalized', 'spins', 'shoe', 'xterm', 'Eratic', 'alcohol', 'humorously', 'successor', 'Proxy', 'whitelisting', 'Bessie', 'Conflicing', 'weirded', 'persistence', 'Firefox0', 'disk', 'aptly', 'spends', 'trannie', 'stairs', 'proped', 'prepare', 'hang', 'AFL', 'crewmember', 'slight', 'proud', 'Gate', 'flies', 'documentary', 'reflected', 'negotiateauth', 'Nickel', '120dpi', 'hearts', 'boot', 'ledge', 'Integrated', 'testicles', 'updating', 'conformant', 'Shortcuts', 'Jolie', 'rewards', 'wontons', 'mistakenly', 'kernels', 'gives', 'dmoz', 'veil', 'MX700', 'CRASH', 'supplied', 'child', 'recommended', 'rushes', 'MozOpacity', 'presence', 'conversate', 'flights', 'Mormons', 'Tilded', 'switching', 'sits', 'thrashes', 'downwards', 'form', 'heartburn', 'Richards', 'Agh', 'protrude', 'makeup', 'femininish', 'caret', 'untill', 'table', 'craziness', 'Ice', 'SETUP', 'accentation', 'prelight', 'Leak', 'abroad', 'unconscious', 'Copied', 'Shh', 'Private', 'rottentomatoes', '|', 'Utah', 'jealous', 'goods', 'determine', 'nighttime', 'sorts', 'caches', 'Langhe', 'japanese', 'altercation', 'SRC', 'month', 'dangling', 'leaps', '://', 'CALL', 'cunty', 'stuff', 'restarted', 'reopening', 'menulist', 'Delightful', 'hygienists', 'influence', 'branches', 'pdf', 'goop', 'Fourrier', 'TRANSIENT_FOR', 'occur', 'Foot', 'How', 'Solaris', 'area', 'Snot', 'Soft', 'manifest', 'Hover', 'pud', 'operator', 'accounting', 'skimp', 'redesign', 'Jobard', 'groom', 'StolenCarReport', 'memoirs', 'popup', 'dickbag', 'numbering', 'completely', \",'\", 'Esc', 'Rough', 'smoke', 'prestige', 'concentrate', 'amazon', 'dumping', 'Autofill', 'Headers', 'whop', 'stabbed', 'curls', 'Franklin', 'swhen', 'perpetuates', 'Communicator', 'Pair', 'editors', 'locket', 'Themeable', 'tan', 'offset', 'trolls', 'Dodgers', 'stripper', 'Onmouseover', 'Wednesday', 'sensitive', 'Hannukah', 'WindowsXpgtk', 'comparsion', 'depending', 'zaurus', 'BRIGHT', 'Skin', 'neighbors', 'divine', 'Extraneous', 'served', 'seperators', 'capsized', 'representing', 'decant', 'sliding', 'Milstein', 'Wheelbo', 'favor', 'Inspiron', 'gets', 'aromatic', 'shows', 'seizures', '1px', 'sec', 'truly', 'onGoogle', 'Barbra', 'canbe', 'cried', 'mishandles', 'Waitrose', 'editAction', 'PMSing', 'Indonesia', 'enjoy', 'doubts', 'Graphite', 'cockroch', 'People', 'slappin', 'so', 'certainly', 'atop', 'Preggers', 'Future', 'Ohhhhh', 'Pomeranian', 'unrequested', 'velvety', 'j', 'Fullscreen', '600', 'which', 'demi', '20031228', 'Record', 'struts', 'orchids', 'seeing', 'father', 'Grover', 'She', 'Firstly', 'Take', 'thin', 'GTK2', 'ESPN', 'hosts', 'HONEST', 'Info', 'retained', 'Gravner', 'market', 'keybindings', 'chaplain', 'sword', 'suffix', 'ridden', 'landlord', 'allocated', 'Seven', 'mainly', 'rotting', 'oblivious', 'limits', 'formation', 'goddd', 'Curiosity', 'drunkie', 'defensive', 'partner', 'middlemouse', 'princesses', 'love', 'Minimalist', 'dorms', 'elegance', 'issues', 'KFC', 'composing', 'millionaire', 'Messages', 'Decor', 'Stunned', 'displaying', 'financial', 'Harlem', 'noscript', 'disabled', 'pees', 'crackers', 'invisible', 'tinder', 'faulty', 'segmentation', 'Ok', 'policy', 'poodle', 'chickened', 'Profiles', 'stressing', 'gangsta', 'Restrained', 'courage', 'upstaged', 'fiancé', 'toolkit', 'ugly', 'licence', 'radiation', 'eweek', '***', '36', 'rendes', 'reender', '4000', 'Evolved', 'gstreamer', 'host', 'Somewhere', 'Nooooo', 'hoping', 'potential', 'Handler', 'above', 'outerwear', 'Direcway', 'pissing', 'hoops', 'Selection', 'penny', 'fudge', '1er', 'Submitting', 'nextSibling', 'HTTP_ACCEPT_LANGUAGE', 'Fishnet', 'vengeance', 'Providence', 'pricey', 'ref', 'slimy', 'Ťmanage', 'touch', 'DIRECTION', '11th', 'Migrator', 'shuffle', 'footage', 'expired', 'tiny', 'ns', 'Pedro', 'enabling', 'project', 'completly', 'sentences', 'Joan', 'Thoughtful', 'den', 'poured', 'nsOperaProfileMigrator', 'warnings', 'him', 'Prefix', 'ill', 'Characters', 'Chosing', 'bacon', 'Ah', '-*)', 'hold', 'Cider', 'star', 'agent', 'Hwah', 'Epson', 'sequin', 'Graphic', 'bottles', 'damnit', 'noodles', 'Think', 'Hardcoded', 'wetting', 'nearly', 'lyrical', 'grenade', 'rolls', 'positively', 'characteristic', 'sir', 'buy', 'po', 'nsSingleSignonPrompt', 'caricature', '1Mb', 'Z', 'nutsack', 'batter', 'web', 'prioritize', 'handin', 'flings', 'Ponytail', 'fifties', 'Mum', 'Hiding', 'diplomas', 'wanged', 'lining', 'temporalily', 'climbs', 'licky', 'hrefs', 'Show', 'Bout', 'Claude', 'Lucy', 'Bernadette', 'Cashews', 'Blaine', 'nsAppShellService', 'Probably', 'nfl', 'stump', 'Kraken', 'tannin', 'Oooooooh', 'Elegantly', 'real', '4th', 'hijacker', 'softball', 'Barely', 'Presbyterian', 'mozillanews', 'projects', 'joyful', 'author', 'there', 'insubstantial', 'processors', 'several', 'nsXULTreeBuilder', 'Xenu', 'Lawyer', '15', 'registry', 'subdialog', 'Minor', 'trade', 'beaver', 'Smokier', 'candied', 'cocktail', 'pram', 'Rectangle', 'employed', 'collard', 'babe', 'Player', 'Grippy', 'ANYONE', 'Whateva', 'Ashes', 'complained', 'Idea', 'DHTML', 'Gimme', 'harbor', 'unchecking', 'aleart', 'Quickly', 'stupidass', 'swampy', 'Section', 'misfires', 'Whip', 'promise', 'originally', 'Craigslist', 'hut', 'pockets', 'reach', 'indicator', '=\"#\"', 'megaphone', 'emacs', 'Cleaners', '###,', 'focus', 'muscular', 'Console', 'vengance', 'Unzipped', 'additionally', 'Ranking', 'Dutchman', 'avenged', 'Sarcastic', 'dialogs', 'zombie', 'Newly', 'bookmar', 'considerable', 'VOICE', 'allâ', 'glad', 'discriminate', 'MX', 'roots', 'spine', 'shifted', 'Gangster', 'newer', 'menage', 'Requests', 'Browser', 'Replicate', 'dye', 'Hoover', 'custom', 'Hater', 'Trobber', 'adjacent', 'baseball', 'Pawns', 'alternative', 'Pin', 'cuuuuuuuuuute', 'reject', 'Searchbar', 'Uugh', 'de', 'expected', 'flow', 'fooling', 'smelt', 'richness', 'completion', 'eyesight', 'riding', 'brands', 'mb', 'Rivington', 'dissipated', 'Faulty', 'Level', 'herpes', 'Direct', 'dippy', 'taker', 'cone', 'steals', 'Virtual', 'Q3', 'Newtons', 'genomics', 'Betty', 'Dogbert', 'bellydancing', 'Wha', 'roof', 'Tricks', 'Joel', 'dpreview', 'rieslong', 'retrieve', 'queef', 'Hiting', 'fadder', 'Barbershop', 'HandleEvent', 'Navigator', 'recognizes', 'install', 'exhibitionist', 'blondes', 'scumbag', 'stoners', 'datasource', 'ma', 'shouts', 'NI', 'Tap', 'branded', 'myfile', 'launched', 'stench', '20040625', 'uk', 'Coming', 'turbo', 'TIM', 'definition', 'nosebleed', 'axle', 'tautness', 'cigarette', 'variables', 'calm', 'menus', 'Weasel', 'false', 'harrassing', 'autofills', 'Possibly', 'convince', 'Bouelvard', 'Splendidly', 'ff', 'geocaching', 'banner', 'Euro', 'fixes', 'manicures', 'Acronym', 'temporarily', 'Peeps', 'Converse', 'Apples', 'days', 'serif', 'historian', 'dear', 'yuppied', 'None', 'relies', 'Fiends', 'mgr', 'foul', 'aliens', '2a', 'i586', 'brower', 'statutory', 'members', 'June', 'ADD', 'pits', 'rides', 'GC', 'dandelion', 'Enterprise', 'Mitch', 'Americano', 'rasping', 'adds', 'observant', 'URLBar', 'Too', 'triumphs', 'nsAutoCompleteController', 'labelled', 'Stunning', 'fullstop', 'chronic', 'boarding', 'Omigod', 'kennel', 'Naw', 'exploit', 'darken', 'exe', 'trial', 'shit', 'Juilliard', 'Warner', 'reorders', 'legit', 'treating', 'sobbing', 'Social', 'Rolex', 'MsgBox', 'longboat', 'autocompletiong', 'Iceland', 'Drawn', 'goodness', 'Customization', 'shushed', 'beads', 'smartest', 'stony', 'kept', 'fleamarket', '?*', 'roses', 'Salty', 'SEEKING', 'happening', 'Meatball', 'Ghetto', 'stream', 'Shhhh', 'erally', 'reexamines', 'Navy', 'Bronson', 'Somethin', 'Female', 'mailer', 'installing', '1994', 'KlipArt', 'xremote', 'Hyde', 'released', '785', 'suckinacock', 'roma', 'interactive', 'Folders', 'gpf', 'Pocket', 'continously', 'Princess', 'Services', 'ther', 'bridges', 'palace', 'cabbie', 'texturizer', 'jerk', 'borks', 'ODing', 'opentabfor', 'Kramer', 'Man', 'hamburger', 'Nature', 'Broadbent', 'overawed', 'Hooters', 'hr', 'rockets', 'halfway', 'Bullshit', 'fresher', 'compared', 'caused', 'idea', 'Zoo', 'mm', 'Celebrex', 'grapefruit', 'nineteen', 'Chase', 'majority', 'bathe', 'Browsing', 'href', 'eyelashes', 'hostile', 'animation', 'bonsai', 'Impeding', 'Birds', 'smooth', 'Dixie', 'SmartUpdate', 'Muslim', 'Seaport', 'goal', 'identification', '<', 'Boy', 'flutes', 'orderly', 'Reproducable', 'reclassified', 'leaks', 'chronological', 'Yahoo', 'assertive', 'WindowBlinds', 'transferring', 'Alice', 'mouth', 'identified', 'ungallant', 'Customize', 'Complete', 'Aruba', 'below', 'Genuine', 'forth', 'Salting', 'pause', 'requested', 'Femme', 'Hooray', 'Depths', 'Jazzy', 'cadeau', 'Ohio', 'everybody', 'Christina', 'bit', 'Ungainly', 'MFirebird', 'dildo', 'Pear', 'Tamagatchi', 'iMAC', 'Champagnes', 'misleading', 'okay', 'sim', 'bro', 'dot', 'silk', 'respec', 'Povich', 'commute', 'smarts', 'Choose', 'righthand', 'nuc', 'unladen', 'VILLAGERS', 'circumvent', 'bypasses', 'law', 'enhanced', 'lunged', 'procentage', 'stinks', 'navigator', '!', 'revert', 'x2122', 'Queerspotter', 'reaction', 'Beauty', 'stressed', 'sorority', 'descent', 'suffer', 'doen', 'Notes', 'averting', 'Ball', 'Uninstall', 'SVU', 'referrer', 'obvious', 'Ramones', 'Bigger', '2006', 'Watches', 'athletic', 'LUCKY', 'reviewer', 'libxpcom', 'easy', 'renamed', 'powder', 'Viagra', 'Read', 'Pilar', 'thus', 'illustrations', 'Log', 'Fix', 'wheel', 'sky', 'pinata', 'WIDTH', 'MALE', 'horks', 'Tabs', 'Card', 'decorated', 'Have', 'eccentric', 'punched', 'cells', 'Endless', 'sooooo', 'unsorted', 'Toms', 'LiveJournal', 'disconnect', 'theirs', 'trendoid', 'Anna', 'hotel', 'microwave', 'Magazine', 'Lets', 'reinstallation', 'crane', 'dice', 'prefs', 'radar', 'decide', 'jackass', 'ins', 'GetDocumentURL', 'gang', 'notification', 'microsoft', 'invasion', 'Owes', 'Jockman', 'filtering', 'HKLM', 'sacrificing', 'chapped', 'Who', 'Important', 'Cheerios', 'Bisol', 'Prius', 'hobbit', 'Warning', 'call', 'cycle', 'HEADERS', 'samba', 'Licensing', 'confusion', 'relics', 'peg', 'scents', 'NS_NewArrayEnumerator', 'VP', 'naughtily', 'Bow', 'underpants', 'always', 'agreement', 'BT', 'Holmes', 'plover', 'neva', 'ported', 'usually', 'buggered', 'Fashionista', 'unbroken', 'altered', 'Ewing', 'cache', 'coloured', 'Farm', 'Matcheroo', 'feedback', 'gravy', 'carton', 'daylight', 'specifications', 'swims', 'anyways', 'initiate', 'sleazy', 'spleen', 'Homeland', 'airports', 'buses', 'PowerBar', 'Win32', 'cleaning', 'clone', 'festooning', 'Reid', 'bunnies', 'calls', 'Oaky', 'guise', 'hammers', 'Typing', 'articulate', 'Bella', 'reports', 'rhythm', 'complete', 'guessed', 'bongos', '?)', 'coward', 'blood', 'tequila', 'already', 'Grapefruit', 'berryish', 'said', 'uncaught', 'Bloomberg', 'Halt', 'Liar', 'main', 'Pasting', 'appealing', 'Cream', 'scamper', 'aftonbladet', 'buttnaked', 'CUDDLY', 'broader', 'unfocuses', 'extremely', 'slogan', 'disclaimer', 'Ability', 'chromium', 'upscale', 'Firexfox', 'Handling', 'periods', 'fighting', 'carefully', 'Mothers', '?:)', 'picker', 'III', 'Den', 'Obnoxious', 'strizzoke', 'objectIsImage', 'blancs', 'Adelaide', 'Passionate', 'Cali', 'Smells', 'cast', 'Px', 'leesy', 'fair', 'Mexicans', 'rabbinical', 'Landscape', 'dictating', 'Wallace', 'guard', 'Cutomize', 'Epiphany', 'successful', 'Department', 'severe', '22nd', 'lachay', 'juice', 'smoothie', 'kisses', 'Puligny', 'Executing', 'solitaire', 'Astoria', 'celebrity', 'winemakers', 'Chewbacca', 'accidentally', 'Champagne', 'terrorists', 'Occasional', '_working_', 'Speed', 'afford', 'pigs', 'PRISONER', 'unsuitably', 'Compassionate', 'unionized', 'ran', 'newlines', 'robots', 'NC', 'unreliably', 'filesystem', 'Resource', 'applicant', 'Bureau', 'fled', 'Perfectly', 'Minh', 'event', 'Applications', 'integration', 'ethereal', 'mothafucka', 'Weather', 'stealing', 'startling', 'tough', 'Chars', 'childNodes', '59', 'Nana', 'cigar', 'NS', 'literary', 'webmin', 'guying', 'Ruth', 'HISTORIAN', 'anything', 'Old', 'userid', 'LanguagePacks', 'nostrils', 'Connection', 'tol', 'intentionally', 'Completely', 'themselves', 'information', 'Newman', 'Disappearing', 'cell', 'Hadrus', 'PrivilegeManager', 'ca', 'exasperated', 'Height', 'League', 'accordingly', 'flicking', 'Nancy', 'jumps', 'farting', 'ride', 'comp', 'passed', 'WINSTON', 'Event', 'twist', 'IBM', 'cause', 'sandwich', 'letters', 'macbuild', 'Dual', 'ŕ', 'individually', 'existence', 'authorities', 'discomforting', 'short', 'fiancée', 'googlesyndication', 'Readd', 'win32', 'Salt', 'Universe', '%...', 'fin', 'Hirschfeld', 'Antioch', 'Aviary', 'phone', 'generational', 'Robert', 'breakes', 'Didn', 'reorder', 'disappointment', 'resolute', 'moveable', 'punches', 'Causes', 'etc', 'Skinny', '178cm', 'kilos', 'refer', 'THERE', 'cleaned', 'prospects', 'stylesheets', 'SLIM', 'torture', 'liquorice', 'troops', 'Stays', 'Penny', '21', 'fantastic', '2147483647', 'Salad', 'vanillan', 'Bastard', 'performs', 'simultaniously', 'iconize', 'menupopups', 'studio', 'depends', 'dildos', 'platforms', 'Linux', 'training', 'hack', 'Eww', 'overdone', 'assertion', 'shuting', 'WELL', 'nonsmoker', 'Aaaaaah', 'subs', 'aspx', 'Rose', 'stapled', 'Dudes', 'football', 'undertones', 'lationship', 'Mean', 'Neo', 'Deployment', 'antibiotics', 'Changing', 'Xilinx', '(*.*)\")', 'GARDEN', 'Scurry', 'swamp', 'wizard', 'ganged', 'Merlot', 'Coed', 'sushi', 'insurgent', 'Plain', 'connect', 'mah', 'wing', 'Use', '64', 'challenged', 'context', 'Navigating', 'regional', 'ťrun', 'Polished', 'Definitely', 'ice', 'measure', 'REQ', 'At', 'Pinot', 'standard', 'psm', 'conditions', 'Grocer', 'strangely', 'inotes', 'blurred', 'Satellite', 'placed', 'South', 'Lebanon', 'ye', 'bend', 'arrived', 'WSEB', 'faced', 'models', 'Thief', 'strokes', 'Cast', 'score', 'enableIDN', 'dead', 'configurable', 'meatball', 'stages', 'twitching', 'initiated', 'butthole', 'negligence', 'Blackcurranty', 'proteins', 'Firefox', 'barnacles', 'grunting', 'rthe', 'Pearl', 'tho', 'MISTRESS', 'iPods', 'serverside', 'cross', 'tuck', 'panion', 'validated', 'enabled', 'obese', 'fabulous', 'clock', 'Foreigners', 'detect', 'flight', 'elephants', 'tints', 'unapologetic', 'LAST_VISIT', 'grey', 'Vanderbilt', 'taser', 'dabbled', 'acid', 'Adblock', 'interests', 'NE', 'Following', 'unyielding', 'dowload', 'circumstance', 'Gorge', 'explained', 'abstracts', 'initialisation', 'tranny', 'Will', 'Julia', 'entourage', 'bookmarking', 'Business', 'bookmark', 'Dell', 'dom', 'Bootstrap', 'appearance', 'ile', 'foetid', 'angel', 'pinot', 'Rotie', 'ordered', 'strewn', 'tradition', 'Mcafee', '225239', 'earthy', 'ron', 'Solid', 'Logo', 'UTF', 'Walt', 'triplets', 'REPRODUCABLE', 'Firebox', 'Bean', 'BLACK', 'MACCUS', 'consequences', 'users', 'SWM', 'tween', 'precious', 'hornet', 'Ummm', 'excists', ')(', 'resolve', 'barbecue', 'Blvd', 'Frizzante', 'bun', '*,', 'squeezed', 'palms', 'rings', 'brushing', 'ff0000', 'nor', 'freetype', 'autolytic', 'FVS318', 'cuts', 'boats', 'Pieman', 'Improvement', 'migrating', '_com_error', 'Olympics', 'darkness', 'HILLS', 'RFC', 'fullscreen', 'retard', 'Anthrax', 'bits', 'Israeli', 'Gawd', 'WHERE', 'shiny', 'skateboard', 'Tutor', 'bridgekeeper', 'Remote', 'multiply', 'Genghis', 'Checking', 'games', 'dub', 'Fuckhead', 'iNotes', 'adition', 'negro', 'intact', 'luck', 'sandwiches', 'Soon', 'glimpses', 'Burning', 'Parent', 'nosign', 'usable', 'Noo', 'Passengers', 'Iraq', 'Freezes', 'syntax', 'Tighter', 'transparency', 'tells', 'Currupted', 'Malibu', 'lobbed', 'disguise', 'flint', 'maceration', 'existential', 'sizable', 'drying', 'guyses', 'makefiles', 'Literary', '][@', 'Walkie', 'unserer', 'Winners', 'Firebird', 'confim', 'thinkpad', 'scaring', 'Sarah', 'betweeen', 'WOUNDED', 'Akeelah', 'changed', 'placement', 'Lead', 'Wikipedia', 'barely', 'deal', 'vanguard', 'compass', 'portion', 'Names', 'lurches', 'assholes', '5th', '9rc', 'cgi', 'SS', 'upstairs', 'blanc', 'iPod', 'prevents', 'Sean', 'fye', 'Yuck', 'deeper', 'sneezed', 'wrecked', 'tripped', 'searchplugins', 'fly', 'Static', 'Sleep', 'eating', 'leading', 'Collapse', 'unintended', 'waistband', 'culture', 'SOMEONE', 'overrides', 'reconstructed', 'Tuna', 'SOME', 'doggy', 'typeinfo', 'wrongly', 'migration', 'holds', 'alternatives', 'Dirty', 'chickening', 'Riper', 'wooded', 'Glue', 'INSTALLER', 'Nudists', 'Expanded', 'divorce', 'vacation', 'collapses', 'Violence', 'HS', 'mutiple', 'roommates', 'we', 'Sox', 'Rated', 'selector', 'Peace', 'nervously', 'Tell', 'Centotre', 'Ł20', 'arose', 'ASPI', 'drivers', 'Reorganization', '10th', 'Understand', 'tha', 'Astringent', 'ehhh', ']', 'Rican', 'Turbo', 'sheep', 'alright', 'performed', 'MegaBBS', 'Longboat', 'Eeeee', 'Allied', 'Sixteen', 'sexual', 'intrusion', 'Tucows', 'downhill', 'satirical', 'delay', 'profusion', 'Escape', 'Jekyll', 'Virgin', '200', '!\",', 'Honied', 'Jacques', 'verizonwireless', 'Rebecca', 'URI', 'super', 'commutes', 'scientific', 'BOOKMARK', 'processing', 'dotty', 'Foods', 'ElementAt', 'yogurt', 'erased', 'designMode', 'Islands', 'dislodge', 'Frankenpussy', 'OLD', 'Martin', 'GTK', 'reproducing', 'Beckett', 'fatten', 'bedroom', 'Lefquotes', 'everyday', 'scientists', 'Almost', 'moravian', 'Base', '4WD', 'Elijah', 'protection', 'airport', 'Armaments', 'chain', 'shaggy', 'dense', 'domainMismatch', 'generates', 'ey', 'graders', 'erratically', 'holidays', 'Initially', 'Mac', 'jiggly', 'Fortunately', 'customization', 'nsIPK11TokenDB', 'restore', 'undetermined', 'SoBro', 'sample', 'Korean', 'younger', 'rooftop', 'cm', 'dorky', 'fineness', 'gtk_selection_convert', 'Mad', 'Weiner', 'BIG', 'pirates', 'Him', 'cinematography', 'Named', 'Sunshine', 'Refined', 'unpredictable', 'Nahm', 'UA', 'illegally', 'teenage', 'stereotype', 'pamper', 'forums', 'wooga', 'parts', 'Kopete', 'Mature', 'glimpse', 'Arrest', 'cafe', 'flatter', 'Aust', 'shot', 'Aaauugh', 'vital', 'dogma', 'attempt', 'Maximizing', 'greyed', 'Outlook', 'scripting', 'perish', 'magnums', 'Toffee', 'matador', 'commanded', 'Third', 'Reynolds', 'bases', 'fixing', 'xft', 'leaking', 'designing', 'pencil', 'join', 'catfish', 'Blocking', 'restroom', 'whaddaya', 'onmousedown', 'ninety', 'cravings', 'bored', 'Zero', 'Damnit', 'ACTIVE', 'waitress', 'bubbles', 'decadent', ':...', 'Either', 'edge', 'slanty', 'Mousing', 'flash7player', 'arguing', 'Lifestyles', 'Batson', 'stowaway', 'delivered', 'Appoint', 'dumbass', 'picking', 'card', 'hesitates', 'mouthful', 'pubic', 'Xmas', 'Hindi', 'hoisted', 'SANFL', 'failures', 'Requester', 'borrowing', 'Firefoxs', 'starts', 'forks', 'wounding', 'lover', 'worships', 'RedHat', 'icons', '45yo', 'menulists', 'General', 'really', 'myspace', 'Shania', 'sane', 'aboveground', 'memorize', 'pots', 'exact', 'persons', 'felt', 'maxlength', 'come', 'gobrowsing', 'Minimum', 'accesible', 'ray', 'Brace', 'pheonix', 'alien', 'alligned', 'Way', 'bigots', 'stress', 'searching', 'uncalled', 'Laden', 'oui', 'Decreasing', 'JILTED', 'metaphorically', 'CARE', 'wondered', 'smoked', 'Gentrification', 'bathtub', 'injected', 'Square', 'snare', 'Signal', 'Goodie', 'gayer', 'purest', 'profane', 'LA', 'Son', 'philosopher', 'Panther', 'gracefully', 'Land', 'ly', 'FIREBIRD', 'quiting', '();\"', 'midnight', 'laugh', 'Anti', 'Snickers', 'tingles', 'dreamt', 'firstusa', 'waxing', 'Displays', 'classy', 'misc', 'meal', 'flood', 'rogue', 'belong', 'oxidized', '\"<', 'dolphin', 'marred', 'magnum', 'router', 'FixUpURLS', 'towel', '_ZN15nsTreeBodyFrame20PrefillPropertyArrayEiP12nsTreeColumn', 'Textarea', 'Convention', 'awaaay', 'lockPref', 'dosen', 'Box', 'colors', 'USSR', 'Sandrone', 'manlier', 'grooving', 'Contemplated', 'Sorts', 'restarts', 'formatted', 'snapped', 'spyglass', 'away', 'humanitarian', 'feeds', 'flyin', 'crapper', 'Whaaaaat', 'cheering', 'Shoutcast', 'migrate', 'behaviours', 'pcworld', 'customers', 'mistage', 'gots', 'Cain', 'clk', 'kindly', 'producing', 'Grouch', 'Dropping', 'BROTHER', 'sick', 'Lucky', 'Break', 'mounted', 'finder', 'DALMA', 'bugs', 'punk', 'quarters', 'Sought', 'invaders', 'Tooltip', 'Ignatius', 'bash', \"'/\", 'Netherlands', 'symlinks', 'subscriptions', 'filled', 'triggered', '!!?', 'tenure', 'Mountain', 'SVG', 'PUBLIC', 'stand', 'Quotes', 'mng', 'touching', 'stay', 'Vegas', 'Sheer', 'conscious', 'harassed', 'pierced', 'IO', 'HADRUS', 'Jeanette', 'gasoline', 'thunder', 'Boop', 'altogether', 'pullbar', 'Artist', '40s', 'momentum', 'water', 'Midas', 'Transferring', 'Hyperlink', 'ghet', 'Rieslingy', 'flicker', 'suspenders', 'restrooms', 'ungrateful', 'gonna', 'Italy', 'armed', 'entertained', 'Folder', 'dryness', 'complains', 'queefer', 'confused', 'Isla', 'handlebar', \"'].\", 'Tannic', '??', 'attacking', 'settings', 'Students', 'watch', 'paper', 'doubleclicked', 'textured', 'Pampers', 'placing', 'Lake', 'steak', 'urethra', 'stickin', 'typo', 'IDNa', 'phpbb', 'MUSICAL', 'hyperactive', 'bonk', 'SHIP', 'associate', 'haunts', 'analyst', 'centrum', 'die', 'blackbox', 'dynamics', 'Forget', 'uhh', 'Vangas', 'Treat', 'choiceradio', 'ambitious', 'hostnames', 'unblock', 'bye', 'bathes', 'Push', 'FAIR', 'Steady', 'Manifest', 'muscaty', 'formations', 'brats', 'Georgie', 'stated', 'morkWriter', 'Grohl', 'Velveeta', 'nighly', 'Swedish', 'Plugin', 'Sums', 'Among', 'properties', 'popular', 'fruit', 'Patient', 'spot', 'prisoner', 'branding', 'houses', 'Donate', 'inappropriate', 'interest', 'burned', 'reveal', 'photographs', 'Cursive', 'Congratulations', 'peoples', 'textbook', 'sincere', 'NS_ERROR_FAILURE', 'unintentionally', 'CopyStgMedium', '65MB', 'Delicious', 'lsquo', 'Hopelessly', 'medicinally', 'Hugs', 'lie', 'Braggart', 'ARE', 'vinous', 'finest', 'pruney', 'undescribable', 'tide', 'ing', 'login', 'Quiet', 'Cyrillic', 'sauvage', 'configuring', 'dorsal', 'cursing', 'Tobacco', 'Paging', 'enemies', 'Wart', 'GIF', 'Baltimore', 'reverted', 'dblClick', 'Amazingly', 'realone', 'qute', 'minerals', 'Death', 'Globally', 'blow', 'submitting', 'AMD64', 'Live', 'Spellchecker', 'Deeply', 'children', 'MR', 'resume', 'bear', 'slim', 'clarinet', 'for', 'check_doc_frequency', 'screamed', 'utilization', '92454', 'exhausted', 'fades', 'midget', 'GP', 'lower', 'mismatch', 'givin', '˝', 'C', 'freaky', 'decades', 'Integration', 'cellar', 'TOC', '**', 'PayPal', 'Lady', 'whupped', 'swallowed', '20030619', 'cerebellum', 'throat', 'speakerphone', 'Noth', 'kinds', 'twin', 'Several', 'Updates', 'Concentrated', 'roaming', 'beers', 'bright', '!\"]', 'During', 'Leno', 'instructed', 'Camelot', '62nd', 'yel', 'distinction', 'lacy', 'height', 'hdd', 'large', 'midi', 'graduated', 'Extremely', 'Current', 'Left', 'HEAD', 'closed', 'minimilist', 'Amongst', 'Tabbed', 'onwards', 'Lord', 'Crackheads', 'Hookup', 'Games', 'could', 'Start', 'callin', 'Noooo', 'JS_GetFrameFunctionObject', 'repond', 'movie', 'Shellfish', 'atypical', 'sweet', 'GData', 'warrior', 'domain', 'yet', 'fruitfucks', 'clobber', 'available', 'arrest', 'irony', 'Camaaaaaargue', 'rail', 'themed', 'striking', 'JSObject', 'ringworm', 'strict', 'stone', 'themeVersion', 'ebay', '1992', 'escorted', 'tame', 'Techie', 'Module', 'Businessguy', 'Rocker', 'Wasn', 'Big', 'Gallery', 'tomato', 'storm', 'armor', 'naturally', 'furniture', 'WOMAN', 'traditional', 'observation', 'cool', 'angrily', 'renderer', 'know', 'bag', 'crazed', 'Downloading', 'wount', 'Mt', 'lad', 'sighs', 'subminor', 'Hindus', 'march', 'alternate', 'Favicons', 'middle', 'icing', '6', 'thank', 'breezes', 'terminated', '5ft', 'Noirs', 'unbalanced', 'animal', 'former', 'Expressfind', 'robbed', 'grained', 'whistles', 'inseparable', 'Grazie', 'meantime', 'importing', 'plural', 'registering', 'Skip', 'gently', 'GIBBS', 'Mutual', 'thief', 'Dot', 'took', 'shallows', 'Rship', 'cumulative', 'may', 'mayonnaise', 'ch', 'ships', 'Heathen', 'garage', 'Resized', 'unattractive', 'WindowsXP', 'PgUp', 'Lee', 'reusage', 'SOUGHT', 'YEARS', 'SitePoint', 'Hya', 'rather', 'thinks', 'CD', 'firetrap', 'enthusiastically', 'coaster', 'Round', 'photography', 'nondescript', 'reported', 'Unexpected', 'hippy', 'gutless', 'Mike', 'Doen', 'Bridge', 'MSNBC', 'liquid', 'Dynamics', 'gtk_init', 'wish', 'rmvplus', 'evolution', 'escorts', 'erases', 'Dwayne', 'attorney', 'LOVELY', 'fb8', 'looks', 'Fb', 'Nice', 'distasteful', 'dyke', 'typed', 'click', 'Roxy', 'enhancing', 'emp', 'kin', 'skins', 'EasyWeb', 'codger', 'Roaming', 'InstallTrigger', '\\x91', 'Herod', 'van', 'desensitizing', 'MOZILLAFIREBIRD', 'Tall', 'submit', 'thingy', 'moon', 'golf', 'stupidism', 'Yorker', 'itch', 'deadman', 'monsieur', 'obstructs', 'cherries', 'lots', 'Valium', 'wav', 'Confirmation', 'Caligula', 'unisexual', 'metaphorical', 'synaptics', 'necessarily', 'PROSTITUTE', 'efforts', 'meatiness', 'exits', 'moons', 'Price', 'Elegant', 'nsFormFillController', 'Accesskey', 'Baddad', 'Bagboy', 'disembark', 'Kreplach', 'injects', 'aura', 'Tyson', 'nsObjectFrame', 'delirious', 'Tis', 'packager', '999kb', 'Installer', 'Wa', 'mafia', 'radius', 'redeeming', 'gazillionth', 'unzipping', 'Mhm', 'Gentile', 'valley', 'differently', 'floating', 'Jedi', 'soldiers', 'What', 'sacred', 'palm', 'considerably', 'wife', 'overstated', 'Halloween', 'bewtween', 'baseline', 'Says', 'Announcement', 'distress', 'eighties', '[', 'Vienna', 'Crapper', '}', 'forty', 'temp', '177cm', 'xre', 'dialogues', 'factory', 'FIGURED', 'William', 'Afghanistan', 'lays', 'hungrier', 'Sort', 'reconciliatory', 'charged', 'cpu', 'religiosity', 'acessed', 'IE6', 'refuge', 'neutrons', 'hoped', 'electric', 'Shouldn', 'DVDs', 'Nation', 'plaque', 'detected', 'reviews', 'GUI', 'swinger', 'PDF', 'iron', 'kickin', 'Update', 'Air', 'Ahhh', 'neutral', 'bifurcate', 'Maria', 'Unreasonably', 'believes', 'Rocket', '88', 'p3p', 'detail', 'confirmed', 'SALE', '?\".', 'Ehh', 'wines', 'its', 'pin', 'exotic', 'chewed', 'marrowbones', 'posted', 'tired', 'waved', 'compose', 'Shrubber', 'socks', 'Excessive', 'consistent', '*?', 'smelling', 'exit', 'Focus', 'efficiently', 'stretches', 'monuments', 'Hong', 'taut', 'stoppered', 'butterscotch', 'unprofessional', 'Rahastoyhtiöt', 'International', 'topleft', 'bisexual', 'ricochets', 'dog', 'groomed', 'mem', 'helpfully', 'booked', 'Mothbally', 'stationed', 'openDeviceManager', 'Frameset', 'CUTLER', 'levels', 'douche', 'hissing', 'BMW', 'diamond', 'Cam', 'promises', 'dull', 'worthless', 'leather', 'subdues', 'Yoga', 'Ewok', 'going', 'Jappy', 'Yale', 'talks', 'visas', 'use', 'Jamie', 'Permanent', 'Trolley', 'blend', 'replacing', 'ROYAL', 'Menulist', 'cook', 'Guido', 'cru', 'litozo', '130', 'diplay', 'revokin', 'Frazzled', 'nsScriptSecurityManager', 'grace', 'gas', 'Branson', 'mil', 'continuously', ':....', 'Brooklynite', 'tinderbox', 'talking', 'flame', 'noit', 'gnomestripe', '09', '96th', 'corrected', 'protocols', 'Builds', 'Wanted', 'danc', 'Frankly', '(-', 'min', 'hygiene', 'vegoose', 'copying', 'met', 'messages', 'Touche', 'temptress', 'Im', 'wait', 'streaks', 'regain', 'matches', 'category', '\\x97', 'Enthusiastic', 'dee', 'commandkey', 'Palate', 'Pouilly', 'gzipped', 'spat', 'Milwaukee', 'flinging', 'mutual', 'jhtm', 'compressed', 'crashes', 'END', 'Ere', 'Chaumes', 'felony', 'yelling', 'owes', 'Cyrus', 'dimming', 'x99', 'horoscope', 'Whole', 'posters', 'SP1', 'N', 'OPTION', 'vomit', 'estas', 'blushes', 'owns', 'vi', 'VICTORIAN', 'cock', 'ands', 'Keep', 'Piece', 'Ooh', 'cart', 'October', 'dookie', 'Them', 'Turning', 'Cashier', 'Cowell', 'jackets', 'Clean', 'Splendid', 'perl', 'Eggplant', 'Winamp', 'panel', \"='\", 'sync', 'Bronx', 'Vallana', 'Mailwoman', 'cholesterol', '+', 'Rochester', 'BMI', 'blang', 'inviting', 'manipulation', 'nowadays', 'winemaker', 'laden', 'Continuous', 'med', 'Schindler', 'charcter', 'Valley', '46', 'dine', 'Chardonnay', 'Motherfuckers', 'obnoxious', 'boogers', 'Young', 'buggering', 'Occurs', 'Shuts', 'population', '38yo', 'lightly', 'va', 'Bordeaux', 'contestant', 'Perl', 'Annie', '\"', '+,', 'commune', 'Invalid', 'CHROMELESS', 'nipple', 'schedule', 'modified', 'persists', 'Eee', 'Silky', 'rabbits', 'darker', 'Aha', 'subdirectory', 'redirection', '49', 'definite', 'Nigger', 'MimeType', 'transplant', 'tangy', 'Grill', 'purchased', 'tarted', 'Ferrer', 'PINTEL', 'certian', 'floatable', 'undershirt', 'suggestin', '700', 'indefinitely', '116th', 'Elements', '%)', 'Lose', 'popub', 'Downer', 'ounce', 'Epasa', 'lockups', 'humor', 'Yquem', 'refuse', 'aren', 'hula', 'Peril', ').', 'scrollable', 'defect', 'leash', 'Powerful', 'bout', 'played', 'intern', 'enjoyed', 'RDP', '?!...', 'profilename', 'Cannot', 'cookperm', 'state', 'Motherfucking', 'wants', \"',\", 'shiftclicking', 'Watchlist', 'dangers', 'downloads', 'SINGLE', 'wars', 'anthropology', 'lake', 'INTERNAL', 'cartographer', 'Individual', 'godfather', '.......', 'tranparent', 'Place', 'screwdriver', '(!)', 'lobotomy', 'RSS', 'Likes', 'handles', 'furry', 'HashTable', '250', 'places', 'jaguar', 'activated', 'dyed', 'shirt', 'astringent', 'lam', 'Pleasant', 'Browse', 'precariously', 'im', 'weblog', 'black', 'heels', 'Documents', 'respectably', 'affect', 'taunting', 'files', 'stool', 'XUL', 'Modern', 'carriage', 'nicer', 'CREW', 'lasts', 'secretly', 'Menu', 'xpinstall', 'pipes', 'silverback', 'ruler', 'GeForce', 'Oily', 'op', 'Observer', 'contrary', 'comprehension', 'roasted', 'PCL', 'labs', 'Terribly', 'indeed', 'service', 'camp', 'eleven', 'died', 'Friendly', 'glance', 'humbug', 'screenfont', 'ANTIOXIDANTS', 'correct', '0x028af92e', 'sleeps', 'metal', 'nano', 'Writing', 'removes', 'wipe', 'Astrology', 'segment', 'nsHttpChannel', 'youth', 'Kansas', 'bruised', 'Said', 'welfare', 'Litte', 'cannibal', 'Engineer', 'night', 'Pugs', 'joke', 'entrails', 'wheelbarrow', 'home', 'unripe', 'renovation', 'pork', 'Ultra', 'brunettes', 'footer', 'IMG', 'ipl', 'Sister', 'subliminal', 'dey', 'Dean', 'Complex', 'vache', 'EXE', 'sp', 'Hovering', 'seated', 'ifdefs', 'eternal', 'chiropractor', 'theme', 'guy', 'commit', 'rickshaw', 'partition', 'collecting', 'slam', 'cards', 'flavoured', 'staff', 'joint', 'Marque', 'par', '163rd', 'Malformed', 'useless', 'blowin', 'Da', 'embedding', 'vulnerable', 'holder', 'CHEST', 'taget', 'GENUINE', 'resting', 'vary', 'thumbs', 'Rename', 'blocked', 'WMP9', 'vieing', 'whisper', 'indigenous', 'North', 'typeof', 'soprano', 'princess', 'Interesting', 'Pleasingly', 'firebird', 'Unpleasant', 'catheter', 'Limey', 'industry', 'too', 'Xe', 'omits', 'historical', 'blowjob', 'happy', 'throwing', 'donut', '\"\"', '41st', 'shoves', 'rain', 'dryer', 'H', 'zipper', 'demo', 'InternetSearchDataSource', 'Strong', 'cover', 'telephonar', 'plates', 'KOLENIKO', 'Mouse', 'tracked', 'Minimized', 'exploiting', 'Groupmarks', 'PROPOSED', 'Hostname', 'objection', 'badger', 'crocheting', 'unhelpful', 'quotes', 'shoving', 'GUYS', 'depress', 'block', 'gov', 'girlfriends', 'quivers', 'TURNSTILES', 'oxygen', 'server', 'strlen', 'appetising', 'coach', 'Are', 'stop', 'hairy', 'digest', 'self', 'repetitiously', 'starch', 'DC', 'mouse4', 'Stuck', 'sticking', 'maximizes', 'Wilder', 'doubtless', 'draws', 'Panhandler', 'depend', 'addy', 'straight', ',--', 'Spring', 'Lolita', 'Calibrate', 'FindPrimaryFrameFor', 'work', 'Slate', 'Oooohoohohooo', 'clipping', 'sites', 'herring', 'Adressbar', 'bookmarkTree', 'Calendar', 'playing', 'functionality', 'Christians', 'buying', 'meds', '2GHz', 'myIpAddress', 'repressed', 'traffic', 'job', 'faraway', 'BCC', 'tucked', 'Applet', '25', 'pound', 'DUTCHMAN', 'granted', 'starling', 'Mercrdes', 'Intelligent', 'july', 'Seeking', 'entity', 'weirder', 'bathhouse', 'dilutish', 'gramatically', 'ratboy', 'usher', 'funeral', 'Flexible', 'patience', 'dividers', 'choosers', 'submenu', 'Lancelot', 'underbrush', 'international', 'mozctlx', 'contest', 'grudging', 'rigging', 'dingleberries', 'nervy', 'fit', 'internet', 'Notably', '8600', 'warns', 'wintv', 'Permission', 'Gotta', 'UAs', 'poorly', 'assume', 'United', 'mk', 'violently', 'MEAN', 'wrist', 'flawed', 'yesterday', 'Three', 'sound', 'Nerd', 'realm', 'S', 'Harvard', 'renders', 'ROMANCE', 'overlarge', 'Ticket', 'Initial', 'emotionally', 'gunblast', 'unicode', 'tinderboxen', 'grandmother', 'Quaker', 'Safer', 'TAINING', 'seen', 'junk', '600e', 'fleet', 'dominatrix', 'whips', 'mourning', 'Zinfandels', 'difficulty', 'Morning', 'despise', 'Top', 'beef', 'gotten', 'bologna', 'husk', 'Implement', 'lily', 'barriques', 'RealOne', 'chariot', 'AUSTRALIAN', 'special', 'jumpin', 'Rhode', 'dtd', 'sorted', 'Motley', 'lesions', 'linking', 'uppercase', 'conform', 'Nietzsche', 'Brazil', 'permanent', 'doens', 'beckon', '<?>..', 'autobiography', 'coaxed', 'salami', 'GPL', 'stewed', 'flusher', 'feeding', 'Motto', 'HTMLInputElement', 'wind', 'Printing', 'countries', 'collected', 'Sheers', 'Fabian', 'Expand', 'solve', 'Completeing', 'Dict', 'Cause', 'Gratuity', 'Rider', 'nsIAutoCompletePopup', 'cooked', 'protruding', 'WYVERN', 'LIMESTONE', 'openInbox', 'lying', 'roles', 'homepage', 'bunny', 'Mongoloid', 'rowboats', 'hunt', 'sooo', 'Dillon', 'mates', \"'...?)\", 'convert', 'unicorn', 'messy', 'minimized', 'tin', 'audition', 'spit', 'Lawrence', 'del', 'lift', 'Moderate', 'McChick', 'pediatrician', 'CAMERAMAN', 'Waterhouse', 'recognizeable', 'restraining', 'rehab', 'Unresolved', 'Forms', 'Gargenega', 'moment', 'Defined', 'Vengo', 'cowgirls', 'nuisance', 'DoS', 'Seattle', 'ReflowFrame', 'Vertical', 'com', 'Uncloseable', 'cancer', 'Bartender', 'Sun', 'ANTIDOTE', 'difference', 'impulse', 'pix', 'sluggish', 'SCENE', 'plump', 'develop', 'Certificate', 'cold', 'rusticity', 'employment', 'Mode', 'closing', 'Alyenne', 'Good', 'escape', 'horn', 'Version', 'jokes', 'Rod', 'staggers', 'toggle', 'Akkk', 'profit', 'CRAPPER', 'Apply', 'King', 'PT', 'Lifestyle', 'Text', 'collective', 'napkin', 'armies', 'indefatigable', 'Until', 'assessment', 'increment', '(>>)', 'ICQ', 'PARROT', 'impose', 'DOLLAHS', 'opens', 'Plague', 'Psychic', 'makes', 'encloses', 'bleats', 'vine', 'city', 'Locker', 'cower', 'fart', 'brat', 'started', 'harking', 'persistent', 'unidentifed', 'ravioli', 'Shut', 'violet', 'Mind', 'Seeing', 'expecting', 'mailbox', 'Whoever', '1t', 'Credits', 'gkgfx', 'Navigation', 'outwar', 'slowness', 'jaundice', 'Suggestion', 'embarassing', 'shaded', 'media', 'Store', 'Chainsaw', 'utilize', 'Tempranillo', 'Bernie', 'Ha', 'Krock', 'stunk', 'past', 'listings', 'escalated', 'jewelry', 'shalt', 'bein', 'Since', 'Cortlandt', 'comfortably', 'flying', 'M6', 'seems', 'spectacularly', 'Property', 'reminding', 'Bump', 'DISCIPLINARIAN', 'View', 'Every', 'mac', 'charity', 'Backups', 'Okaaaaaay', 'room', 'keyboards', 'avenue', 'mindgames', 'anticipation', 'pgp', '],', 'poetry', 'Inbox', 'DirecWay', 'StaticBuild', 'mov', 'motherboard', 'financing', 'tracker', 'survivors', 'PNCRT', 'highlight', 'Charming', 'ESC', 'Lent', 'collapsing', 'stoned', 'ano', 'Tremendous', 'spaghetti', 'guido', 'Autocompletes', 'twisted', 'keyCode', 'piki', 'Chico', 'deletable', 'aaggggh', 'Intermittent', 'freaking', 'cursive', 'Pref', 'absurd', 'Hot', 'uuggggggh', 'garden', 'months', 'hated', 'LTR', 'structured', 'Mouthfilling', 'apostrophe', 'Crashing', 'Part', 'first', 'Perrieres', 'manatees', 'Weird', 'wasted', 'xfs', 'cygwin', 'almost', 'Jumps', 'autoconfig', 'telethon', 'viewer', 'Enchanter', 'owli', 'Corel', 'BigAdmin', 'ringer', 'album', 'unofficial', 'Rows', 'groups', 'rv', 'Indian', 'Earthy', 'wicked', 'Inactive', 'useable', 'spiritually', 'interfaces', 'trocken', 'tiresome', 'PTB', 'burgundy', 'SUCKS', 'UAE', 'Fiftysomething', 'mommies', '!/', 'eyeliner', 'shoveling', 'investigation', 'servers', 'warmed', 'Houston', 'cassis', 'Occured', 'Castle', 'Logistical', 'surrounding', 'Isaac', 'Sie', 'Single', 'spinach', 'chill', 'mountaintops', 'menubar', 'reboot', 'frightening', 'apologise', 'Bones', 'filenames', 'last', '(<', 'Squirrelmail', 'escalators', 'Hahaha', 'carries', 'Rules', 'pirating', 'BUILD_OFFICIAL', 'wmp', 'autoFill', 'worries', 'purpose', 'girly', 'husband', 'PHPMyAdmin', 'ads', 'Rich', 'ellipsis', 'divElement', 'Arab', 'eat', 'Bestbuy', '173', 'misdirects', 'changing', 'Cohesive', 'Abstract', 'entire', 'consequently', 'INSPECTOR', 'direction', 'identity', 'balanced', 'Au', 'marker', 'remains', 'referer', 'wake', 'Certs', 'psychotic', 'pincher', 'meet', 'whorehouses', 'Most', 'innuendo', 'Barton', 'Dialup', 'difficult', 'overall', 'lists', 'hors', '31st', 'slurping', 'NS_ERROR_FILE_NOT_FOUND', 'markLinkVisited', 'preppily', 'Doctor', 'Booga', 'Resolution', 'AutoDownload', 'Natural', 'snatched', 'around', 'Surprisingly', 'vice', 'Added', 'execute', 'Hootchie', 'message', 'critic', 'mapy', 'Including', 'diagnose', 'warming', 'Golden', 'coding', 'tham', 'Duty', 'shoreline', 'blanched', 'borrow', 'Couldn', 'quicklaunch', 'XULElement', 'infatuated', 'pics', 'east', 'crushes', 'episode', 'slides', 'compatible', 'Romans', 'sunsets', 'cascading', 'Gee', 'stoked', 'nessisary', 'Title', 'Maintain', 'indifferent', 'nonfunctioning', 'comfortable', 'housewares', '24', 'Lidia', 'maturing', 'Transparency', ',\"', 'enjoyable', 'engines', 'um', 'volvo', 'deedle', 'Fellas', 'rollercoasters', 'fox', 'wo', 'cough', '00', 'Permissions', 'AdSense', 'chorus', 'Country', 'Berkeley', 'ISLA', 'bank', 'Scheduler', 'funky', 'strictly', 'Various', 'nonstandard', '?...', 'Actions', 'W', 'licks', 'Visiting', 'machines', 'WIFE', 'uptown', 'appearances', 'CAN', 'nigthly', 'strawberries', 'Earhart', 'ticket', 'Enhancement', 'apparantly', 'loded', 'FRIEND', 'Safari', 'runnin', 'bravery', 'punching', 'Thompson', 'Stewart', 'Walking', 'objectivity', 'longest', 'Carry', 'dated', 'flyers', 'dripping', 'Looka', 'Tracking', 'Video', 'Accel', 'purses', 'Proposed', 'FastFind', 'admitted', 'metric', 'ime', 'reward', 'Huet', 'breakage', 'Book', 'teach', 'combionation', 'P2', 'Loco', 'Ctrl', 'TALL', 'Pirate', 'Having', 'strapped', 'record', 'remind', 'remake', 'EndNote', 'escapees', 'Prissy', 'Sancerre', 'rid', 'Postcards', 'initialize', \"'(\", 'Trunk', 'Development', 'Shimoda', 'win2k3', 'eyes', 'afar', 'asses', 'PICS', 'Awwww', 'copy', 'galeon', 'Attention', 'foreign', 'Cherry', '::`', 'licking', 'dishes', 'messenger', 'take', 'pleased', 'pdfs', 'terminates', 'url', 'Right', 'Um', 'prof', 'Improper', 'notices', 'Rounder', 'chef', '\"...', 'TARGET', '\\'!\"', 'Champenoise', 'Gorgeously', 'Asserts', 'Regular', 'undefined', 'margins', 'NON', 'carve', 'miles', 'bam', 'gived', 'inet', 'aspect', 'launchError', 'animator', 'UninstallPackage', 'shui', 'notwithstanding', 'Cole', 'fooled', 'IExplorer', 'flames', '239', 'yes', 'CDs', 'mpg', 'bending', 'veg', 'ties', 'driving', 'boundaries', 'petrolly', 'Megaphone', 'Espresso', 'Jackie', 'autoscaling', 'Double', 'Websites', 'Snuffleupagus', 'Maume', 'read', 'Champenois', 'doubled', 'bougie', 'Jersey', 'unreliable', 'Defaults', 'coloring', 'intensity', 'reusing', 'unloading', 'Vader', 'Jonathan', 'Tortuga', 'beautiful', 'Beer', 'Quality', 'WAKE', 'fellows', 'Lockup', 'fancy', 'week', 'pressure', 'HANDYMAN', 'uninstalling', 'german', 'oldest', 'mail', 'Vegetarian', 'hazel', 'amusing', 'Tsk', 'noticed', 'Acronyms', 'thanks', 'handicapped', 'dude', 'whereabouts', 'eel', 'infected', '18', 'repainting', 'Sidebar', 'Alert', 'Firefighter', 'Type', 'grande', '800x600', 'sets', 'shorcuts', 'Sweeney', 'ALWAYS', 'nonexistent', 'wondering', 'Teddy', 'Offer', 'TuPac', 'Tidyness', 'nada', 'communism', 'seldom', 'smellin', 'presents', 'operation', 'bling', 'Official', 'mute', 'shlong', 'calibrating', 'word', 'orgasm', 'CARTOON', 'nuns', 'affected', 'gentrified', 'refreshed', 'walking', 'snatch', 'Stacey', 'Lithgow', 'coarse', 'replace', '###', 'stopped', 'ahge', 'lettuce', 'medicating', 'hope', 'Amelia', 'worship', 'Balanced', 'Oz', 'ordinary', 'Merely', 'cracheses', 'cloverleaf', 'Floral', 'beanie', 'Waitress', 'disability', 'abnormal', 'Goto', 'Except', 'NORRINGTON', 'packs', 'postscript', 'exhaustion', 'washing', 'develops', 'mortis', 'promts', 'teamed', '0705', 'country', 'Dec', 'Chicks', 'MOZILLA_1_5a_RELEASE', 'Automated', 'gyne', 'addressbar', 'stupidest', '23', 'nitwit', 'careers', 'University', 'Workout', 'chai', 'genital', 'Unaju', 'Patriot', 'administration', 'trucks', 'prego', 'BMP', 'Tibetan', 'Band', 'negative', 'strength', ')', 'Language', 'trashing', 'Rock', 'awful', 'doubleclick', 'uncoherent', 'WINDOWS', 'Daisy', 'Fragrant', 'blues', 'beneficial', 'coroner', 'compliment', '32', 'whinny', 'poo', 'whore', '62', 'Uabar', 'cures', 'accomplished', 'natural', 'probalbly', 'Dimes', 'writeable', 'shrubberies', 'entrance', 'bus', 'window', 'Incremental', 'tongue', 'commercial', 'tab', 'TLC', 'sep', 'orientation', 'uploading', 'southern', 'toothbruth', 'xp', 'dinners', 'Pause', 'rpm', 'military', 'Til', 'infertile', 'ruth', 'immigrant', 'Leaving', 'stampede', 'SendPage', 'Carrie', 'seperate', 'chokes', 'bj', 'aligned', 'inconsistencies', 'arts', 'clown', 'bundle', 'Issues', 'intends', 'Doggie', 'Pendragon', 'SEEKS', 'unpacked', 'Randomly', 'Attorney', 'climes', 'libprofile', 'motherfucka', 'haggling', 'Iced', 'Scrollwheel', 'speedball', 'bleeds', 'pasting', 'Liquid', 'substantially', 'Cunnilingus', 'harassment', 'Las', 'molested', 'masculine', 'Overhead', 'lacks', 'appreciated', 'Sam', 'whilst', ']...', 'Strung', 'folded', 'jizz', 'ungrammatical', 'amazingly', 'cheatin', 'Ando', 'surrounded', 'CASUAL', 'intervention', 'Whopper', 'Nun', 'solace', 'Laguna', 'imbedded', 'DPI', 'facetious', 'fool', 'adobe', 'english', 'FILEVERSION', 'rub', 'cruel', 'twosome', 'paying', 'lesbians', 'Howar', 'wather', 'compliant', 'Irate', 'smell', 'reality', 'Hallo', 'cheating', 'Lauren', 'somersaults', 'meatloaf', 'Homemade', 'excellent', 'narrower', 'Dover', 'Elliott', 'diffuse', 'CHAPLAIN', 'Shrubberies', 'oeuvres', 'Kills', 'Anne', 'localized', 'often', 'Dingo', 'cancelBubble', 'trading', 'assigned', 'Failures', 'rope', 'splat', 'detaches', 'Ringwood', '8101', 'notebooks', '130th', 'jpegs', 'DRESSED', 'consumes', 'pushing', 'overflow', 'Automatic', 'modem', 'motivated', 'TIMBER', 'dere', 'Kong', 'quot', 'manga', 'Garbled', 'Coliseo', 'connections', 'Nigga', '!]', 'NZ', 'shiksa', 'motorcyclists', 'Perfect', 'consent', 'stripping', 'vows', 'helping', 'figuring', 'Reject', 'Hello', 'borders', 'gate', 'chu', 'conditioner', 'thang', 'destroy', 'tipsy', 'labeled', 'interact', 'cookie', 'nth', 'Abilities', 'Austrian', 'fonts', 'Musical', 'Pennsylvania', 'rules', 'featuring', 'brother', 'visite', 'rubs', 'duplicated', 'DtoE', 'intuitive', 'sailor', 'outsmarted', 'license', 'Huyah', 'Vietnamese', 'concerts', 'waterwheel', 'Debbie', 'Cant', 'Pharmacy', 'produces', 'Whitelist', 'eats', 'courtesy', 'electrons', 'external', 'singers', 'Enjoys', 'Macho', 'plenty', 'rectangle', '82nd', 'phobia', 'florist', 'Burly', 'behaves', 'signaling', 'stories', 'underneath', 'randomely', 'Gawain', 'mangles', 'effortlessly', 'Notify', 'faggot', 'Keystroke', 'noisy', 'plums', 'Completed', 'humping', 'Library', 'limit', 'Along', '30PM', 'Dull', 'strings', 'Eye', 'possibly', 'weather', 'Sth', 'Dime', '46th', 'transie', 'golden', 'sensory', 'Thai', 'push', 'wierdness', 'Susan', '()\\'\"', 'sticky', 'sleeping', 'director', 'pickin', 'Ellis', 'jerky', 'Tolerant', 'vineyards', 'Smartass', '++.', 'National', 'scrotum', 'impairs', 'Slavery', 'check', 'commandkeys', 'tabbar', '%.', 'booze', 'SENTRY', 'bell', 'knuckleheads', 'titled', 'STERN', 'automatic', 'identifies', 'Secmod', 'relaunching', 'received', 'Pichon', 'sawfish', 'Law', 'Exotic', 'whell', 'meathead', 'kind', 'futhermore', 'LiveRef', 'nonexistantfunction', 'dialoges', 'backpack', 'Puerto', 'Lesbian', 'coked', 'pickles', 'signs', 'Auschwitz', 'Performinstall', 'slaps', 'Chugger', 'continuation', 'evolving', 'Brando', 'dash', 'VPN', 'Weekend', 'separator', 'Shrewd', 'Mud', 'Today', 'tabs', 'hooking', 'repositions', 'brawl', 'smothered', 'Subs', 'Agree', 'classically', 'sideways', 'astronomy', 'clit', 'reductive', 'Beeper', 'idle', '\"-\"', \".'\", 'blocka', 'wax', 'Germany', 'valuable', 'unacceptable', 'Receptionist', 'updater', 'juicy', 'curves', 'Desktops', 'puked', 'Stripper', 'Honestly', 'Paralegal', 'Grizzly', 'Germans', 'Swamp', 'controls', 'Hints', 'APIs', 'decided', 'restores', 'warned', 'Taurus', 'film', 'opera', 'hottopic', 'closes', 'compiled', 'succulent', 'SYRAH', 'sardines', 'judgmental', 'Wireless', 'submerge', 'fucks', 'cunt', 'Plants', 'Kangol', 'Carries', 'hurried', 'Oup', 'yang', 'conclusion', 'chirped', 'Wow', 'Well', 'resizable', 'Parkinson', 'valide', 'Shakespeare', 'fetus', 'navigate', 'cry', 'Lees', 'mutilates', 'English', 'Jewels', 'married', 'dissertationing', 'headphones', 'resuming', 'cept', '_search', 'Cafeteria', '>\"', 'awaaaaay', 'marriage', 'Hawke', 'shouting', 'repaints', 'Responses', 'defrag', 'cinnamon', 'Keyboard', 'Ala', 'pagesjaunes', 'smashes', 'Unlike', 'Softer', 'settable', 'digger', 'faiths', 'Chambolle', 'Downloaded', 'unzip', 'Eat', 'mapping', 'checking', 'new', 'confusing', 'deformed', 'assless', 'mystic', 'remainder', 'unappetising', 'XHTML', 'Gone', 'horns', 'sugar', 'onFocus', 'D2', 'doo', 'RemovePage', 'mostly', 'qualified', 'fuchsia', 'Message', 'spake', 'shores', 'Pelegostos', 'frothy', 'abode', 'sluggishness', 'quill', 'Hippie', 'price', 'You', 'assailant', 'negotiator', 'recycle', 'By', 'cognition', 'Employee', 'bi', 'pajamas', 'haste', 'greenish', 'Init', 'pub', 'Canadian', 'students', 'utter', 'Frog', 'Call', 'Hell', 'suggested', '...!*', 'deflects', 'varietal', 'nature', 'sheet', 'Thin', 'nanos', 'shotgun', 'corrupts', 'rammed', 'libimglib2', 'Logs', 'Oops', 'sack', 'reduction', 'door', 'maps', 'passin', 'unending', '245053', 'disabling', 'chord', 'behaviour', 'cares', 'delete', 'wort', 'fishin', 'Soy', 'Grey', 'interpreted', 'Tout', 'foil', 'Cupcake', 'boils', 'Ask', 'Followed', 'doorway', 'Republicans', 'Friendster', 'Muni', 'cautiously', 'processes', 'NewsMonster', 'ear', 'Alsace', 'undead', 'Know', 'maximize', 'Displaced', 'Degrade', 'borough', 'Seach', 'throne', 'Going', '83', 'incontinent', 'gExtensionssView', 'bandwidth', 'gray', 'scroller', '%%;', 'painfully', 'chat', 'slash', 'YUMMY', 'School', 'NG', 'ridiculously', 'activists', 'Krazy', 'Gorgeous', 'turkey', 'Cuz', 'poping', 'Alabama', 'gain', 'though', 'Remember', 'BEOS', 'Nat', 'disrespectful', 'BBQs', 'honeymoon', 'Basic', 'MacOS', 'hiden', 'segfaults', 'speaker', 'hides', 'lass', 'plant', 'MathML', 'canonicalurl', 'along', 'invite', 'standin', 'Coach', 'hundred', 'Larry', 'Perment', 'moments', 'Incoming', 'Intranet', 'pharmacy', 'pain', 'InDesign', 'Nasty', 'nsIExtensionManager', 'ed', 'tick', 'unassuming', 'Newstand', 'Church', 'brighter', 'disturbing', 'browny', 'useragent', 'homepages', 'Kangaroo', 'chance', 'Commerce', 'flavours', 'Muscatel', 'nominated', 'Jerseyite', 'picked', 'Authority', 'side', 'nickel', 'Dunno', 'bolts', 'Roger', 'Shockwave', 'larger', 'assist', 'Animal', 'reasobale', 'referenced', 'unexpected', 'Fades', 'programmed', 'Favorite', 'narcolepsy', 'lighting', '43YO', 'Expected', 'NYTimes', 'OLDER', 'hints', 'zilch', 'DVD', 'mention', 'Easy', 'debian', 'Work', 'Meursaults', 'Criminal', 'Nth', '!=', 'Ada', 'brassiere', 'Unable', 'Fritos', 'downloadscripts', '.),', 'spilled', 'Dungeons', 'distracted', 'Expose', 'description', 'crewmembers', 'member', 'FALSE', '79kg', 'barley', 'hermit', 'J2SE', 'menuitems', 'Chuck', 'corporation', 'DrawUI', 'Heights', 'lousy', 'introduces', 'Werbung', 'Ryan', 'pags', 'Friends', 'deathcycle', 'Spaghettios', 'uncle', 'impressive', 'MBNA', 'tortured', 'vehicle', 'apps', 'Guessing', 'HEADMASTER', 'cane', 'acting', 'BAYOU', 'upwards', 'January', 'Gable', 'Open', 'Key', 'shutting', 'Horse', 'errands', 'provides', 'bravest', 'Inches', 'stylesheet', 'unidentified', 'nav', 'sorting', 'key_selectAll', 'outer', 'Magdalene', 'leaky', 'OK', 'get', 'oaky', 'Mute', 'Poppyseed', 'SECOND', 'HIG', 'hi', 'dislike', 'insult', 'sweeps', 'attempts', 'weave', 'grow', 'Hijacking', 'unrelated', 'pair', 'cleares', 'Benchmark', 'captured', 'lives', 'Dowd', '30', 'borracha', 'kick', 'arcs', 'Magician', 'extravagently', 'barrier', 'Burnt', 'Eastwood', 'dispatcher', 'Thunderbird', 'Sooo', 'Ref', '81', 'Tower', 'wives', 'PERSON', 'douses', 'realism', 'sore', 'photo', 'sense', 'spaced', 'Mhh', 'Faint', 'hvv', 'IMAX', 'Shift', 'resinous', 'cracks', 'limp', 'eyelids', 'Cristal', 'dorm', 'recovering', 'redundant', 'Hiyaah', 'SUNY', '()', 'Unnecessary', 'extension', 'spending', 'outdoorsy', 'crabs', 'Sisters', 'rained', 'sprint', 'captive', 'Pronounciation', 'XFree', 'hills', 'scehedule', 'Wont', 'salon', '....[', 'Texas', 'Nerve', 'Bugger', 'SAILOR', 'liked', 'Session', 'Cobain', 'kobe', 'overwrought', 'drooling', 'Override', '20040521', 'weekend', 'MC', 'Mmmmmm', 'down', 'sourness', 'Islanders', 'Eve', 'Site', 'pecking', 'Starting', 'cleartext', 'gawd', 'blacks', 'PRISONERS', 'nigger', 'account', 'GREEK', 'sharply', 'Poss', 'Cool', 'Locate', 'laying', 'accounts', 'em', 'opaque', 'minutes', 'buffet', 'Duke', 'Penfold', 'integer', 'Refreshing', 'Meaty', 'northern', 'Incompatible', 'settimeout', '++', 'effects', 'solaris', 'Trail', 'Main', 'nsProfileMigrator', 'threatened', ')\"', 'nix', 'impossible', 'Snip', 'Charge', 'Phone', 'Fig', 'glasses', 'suits', 'Safe', 'swapped', 'sickness', 'boilers', 'bones', 'disheveled', 'frequency', 'Item', 'embarassment', 'substances', 'Gives', 'ARTHUR', 'luncheon', 'ease', 'official', 'tanks', 'POPUP', 'Laptop', 'upgraded', 'cage', 'prdtoa', 'eroneously', 'Surely', 'leftover', 'slave', 'privateer', 'fleeing', 'contaminated', 'notably', 'taxi', 'widget', 'Features', 'grilled', 'Skank', 'Flat', 'javasript', 'Backpacker', 'teleported', 'Chapin', '?:', ',', 'pyramids', 'Ecuador', 'cropped', 'gangster', 'Scoring', 'WYSIWYG', 'comparing', 'OOHHH', 'attachement', 'HKEY_LOCAL_MACHINE', 'strips', 'Godot', 'Per', 'fantasy', 'Icy', 'Hah', 'Wooha', 'vibrant', 'jacks', 'obligation', 'second', 'secretion', 'Palestinians', 'metabolism', 'automaticly', 'idiots', 'Adult', 'dogbert', 'greatly', 'space', 'Rigor', 'Manzanilla', 'scrol', 'Circumcised', 'Fuckin', 'Manually', 'Sherberty', 'Architect', 'whole', 'VH1', 'Bookseller', 'cosole', 'addicted', 'arent', 'loadFolderAndReplace', '=\"\">', 'equal', 'defend', 'throats', 'Hotel', 'Cat', 'concatenates', 'GIRLS', 'Student', 'tattoos', 'framework', 'elderberries', 'Category', 'Grenache', 'shyster', 'Frequent', 'clang', 'pursuing', 'Internal', 'Divine', 'unlock', 'wasn', 'Ferrari', 'extraneous', 'ala', 'theater', 'Colour', 'purge', 'sake', 'sips', 'quichsearch', 'slide', 'creature', 'wart', 'morning', 'bred', 'Parker', 'Britain', 'spiderlambs', 'Packing', 'choppy', 'dips', 'preschool', 'technique', '4gb', 'Hurrying', 'FB', 'chosing', 'charming', 'brisket', 'Nevins', 'friends', 'yrs', 'testing', 'evening', 'His', 'russian', 'suffered', 'setData', 'Their', 'Fetsoran', '****(*)', 'Norrington', 'Colombia', 'clap', 'individual', 'Grab', 'Won', 'Jackhammering', 'dangerous', 'furious', 'boroughs', 'navigational', 'Cary', 'Unicode', 'actual', 'sour', 'Is', 'anythinig', 'enablePrivilege', 'nsIEProfileMigrator', 'Rully', 'freedom', 'affair', 'soaked', 'beside', 'disables', 'ghost', 'keys', 'Parnell', 'stylist', '%,', 'Launching', 'Senator', 'anyway', 'boxes', 'improperly', 'farcical', 'Deletion', 'charm', 'Fellow', 'innoculated', 'License', 'Herbs', 'gates', 'downstairs', 'Jennings', 'unsuccessful', 'barrel', 'favourite', 'README', 'edgyness', 'slip', 'Journal', 'stabbings', 'charcteristic', 'voice', 'written', 'ants', 'Smiling', 'limbs', 'winEmbed', 'glibc', 'rubbed', 'cros', '04xx', 'tablet', 'accesing', 'wave', 'inturrupted', 'capital', 'NOT', 'upside', 'howl', 'whatshisname', 'scribbled', 'sic', 'flowers', 'Plug', 'Neverending', 'murder', 'subcategory', 'Almighty', 'warts', 'unconfigured', 'expanded', 'Coffee', 'ocean', 'Tov', 'headline', 'liar', 'lead', 'rodent', 'staph', 'dns', 'Control', 'payin', 'Preview', 'guiding', 'Amy', 'bicycles', 'Britons', 'fist', 'corupted', '(:', 'accirding', 'BLT', 'Instant', 'pillow', 'eminently', 'summarily', 'site', 'Mime', 'lets', 'usr', 'Makes', 'peer', 'NS_CanRun', 'resizing', 'se', 'Punch', 'surface', 'Small', 'SP2', 'Herby', 'executables', 'wench', 'betta', 'trim', 'helmet', 'scrolling', 'eis', 'stroke', 'signon', 'shatter', 'DnD', 'mor', 'raining', 'rabbi', 'domaine', 'vsz', 'Channel', 'anymore', 'WWW', 'anarchism', 'HTTP_ACCEPT_LANG', 'Ameritrade', 'Request', 'somtimes', 'Forgiving', 'TopStyle', 'underlined', 'pronoun', 'Trial', 'pot', 'seat', 'Thanks', 'therapy', 'experiment', 'Greenpeace', 'downlaod', 'revelation', 'reduced', 'entirely', 'MOZ_PHOENIX', 'varieties', 'respond', 'slavours', 'Thank', 'scenic', 'maid', 'ist', 'Tuesday', 'backwards', 'tonsils', 'minority', 'Chevron', 'Minimize', '?]', 'cut', 'Wife', 'Customizing', 'inadvertently', 'crib', 'fries', 'ranking', 'Mess', 'hoochie', 'MOZILLA_OFFICIAL', '1978', 'homework', 'Gulman', 'towns', 'tweed', 'yr', 'Dale', 'inhabit', 'Points', 'MySpace', 'teh', 'injustice', 'Dummy', 'theatrical', 'Page', 'incorectly', 'b', 'wipes', 'sod', 'learn', 'gene', 'waste', 'preggers', 'searchplugin', 'UTI', 'nectarine', 'became', 'oral', 'refused', 'Compressed', 'Shhh', 'Action', 'sharks', 'Smoker', 'imagine', 'Thppt', 'heat', 'modifying', 'Year', '02', 'fruity', 'newt', 'smashed', 'monitor', 'Technophile', 'foreward', 'Renaming', 'Mazel', 'BIKE', 'constantly', 'Force', 'Shacknews', '8859', 'sayin', 'ourselves', 'Bath', 'Pillsbury', 'Thpppppt', 'quicker', 'perms', 'botrytised', 'Blacklist', 'Vagina', 'pcpitstop', 'accelerators', 'Incredimail', 'Businessman', 'dust', 'Pleasantly', 'Inferior', 'Colorado', 'ageworthy', 'temoprary', 'functioning', 'loginto', 'floral', 'Cubillo', 'DECK', 'right', 'actin', 'think', 'Renders', 'insides', 'citizens', 'hotline', 'chop', 'habitat', 'drain', 'rhs', 'preferred', 'Matt', 'Dumbass', 'unnoticeable', 'ratings', 'Spears', 'config', 'lifts', 'education', 'wander', 'honest', 'phpMyAdmin', 'stupid', 'embarrassed', 'quarter', 'Mmmhmm', 'Grandma', 'Mix', 'savin', 'LaGuardia', 'fake', 'Haze', 'rescan', 'revisit', 'verify', 'submission', 'Returning', 'Firewall', 'was', 'graduate', 'evinced', 'Montauk', 'Springsteen', 'Lamaione', 'chrome', 'shallow', 'Anyways', 'Men', 'Face', 'ponds', 'Bellamy', 'team', 'silver', 'advertised', '37', 'HandleText', 'divorcing', 'sugg', '?!\"', 'stingy', 'descriptive', 'Prada', 'gangs', 'connection', 'upload', 'Mona', 'daring', 'Transparent', 'odb', 'logging', 'addition', 'innocent', 'consistancy', 'Madame', 'trick', 'Jealous', 'portrait', 'stains', 'diagonally', 'LATE', 'Transfer', 'inches', 'accompaniment', 'If', 'scene', 'Kaku', 'breath', 'Methode', 'rearranged', 'currentProfile', 'inconsistant', 'boosts', 'CUPS', 'assessable', 'grapefruity', 'sarin', 'struck', 'Off', 'Memoirs', 'trail', 'accelerator', 'bready', 'chevron', 'flossing', 'yyyyyy', 'Liberty', 'underwhelming', 'afterlife', '@@', 'don', 'onunload', 'mailman', 'edges', 'YES', 'level', 'Photo', 'whatchu', 'again', 'Village', 'Passion', 'killer', 'series', 'dungarees', 'grass', 'pocket', 'cf', 'REGION', 'tavern', 'Fleet', 'course', 'Station', 'alerts', 'airs', 'Don', 'zoneedit', 'Frames', '404s', 'plan', 'backgroun', 'rudder', 'dump', 'had', 'waiter', 'viewed', 'JLo', 'notified', 'fag', 'outings', 'young', 'advantage', 'Acknowledgement', 'Jeter', 'Deaf', 'cmd', 'mongrel', 'Wood', '30jun03', 'hereby', 'ink', 'Digest', 'frog', 'omelets', 'Jamaicans', 'bugzilla', 'elbows', 'aux', 'kidnap', 'legged', 'squeegee', 'pushes', 'Narnia', 'crispy', 'unsweetened', 'castration', '\">', 'vaults', \"'*!\", 'Being', 'Versailles', 'positioned', 'DNA', 'uniform', 'Derek', 'clicks', 'fur', 'exiting', 'thousand', 'emptively', 'MBA', 'mon', 'shrugging', 'Haw', 'js', '809', 'mere', 'Meathead', 'VT', 'inject', 'probing', 'Boobs', 'Canvas9', 'Goodman', 'aspects', 'tunnels', 'JDate', 'proved', 'Refresh', 'Bowery', 'openurl', 'mineral', 'arial', 'hamstring', ':#', 'fuck', 'immigrants', 'politician', 'hamburgers', 'Hm', 'restrained', 'sailors', 'cookieEnabled', 'business', 'independant', 'auntie', 'lust', 'curse', 'ripping', '2final', 'College', 'blazes', 'Oveheard', 'after', 'bed', 'Repent', 'hilltop', 'kernel', 'prosthetic', 'sourceforge', '34th', 'DevEdge', 'Picasso', 'Spaces', '2004', 'Flowery', 'Austere', 'cheese', 'Cap', 'CR', 'cocaine', 'Blonde', 'ani', 'Venoge', 'scrolled', 'hour', 'Brioche', 'Jesus', 'bet', 'care', 'HALF', '70', 'procedure', 'enables', 'neighborhoods', 'glop', 'crossing', 'Ofoto', 'misreads', 'offical', 'alienate', 'directions', 'bombs', 'Better', 'scope', 'Forest', 'Switching', 'stopps', 'hostesses', 'splendid', 'obscured', 'Jews', 'ps', 'Hack', 'merging', 'softer', 'pleasure', 'sneak', 'term', 'can', 'weightiness', 'cabin', 'leavin', 'Sit', 'por', 'quack', 'kneecaps', 'mypage', 'fliers', 'land', 'extracted', 'Something', 'wanted', 'felon', 'URLbar', 'twong', 'idl', 'Brut', 'Curtis', 'neighs', 'Olmec', 'sterility', '14th', 'Caesar', 'brontosaurus', 'Ignores', 'nsTreeBodyFrame', 'irc', 'boxers', 'sarcastically', 'wheelchairs', 'playback', 'profiles', 'Syccophant', 'Suitable', 'Characterful', 'spaceship', 'Idiosyncratic', 'succulence', 'servlet', 'Marilyn', 'Sexy', 'Ni', 'Tablet', 'fingers', 'wrote', 'x20AC', 'musicians', 'birth', 'violates', 'bug', 'BdN', 'saloon', 'farthole', 'bracelets', 'raise', 'during', 'Contents', 'peace', 'small', 'Amarone', 'skinnier', 'dungeon', 'installler', 'hallway', 'Newborn', 'retrieving', 'foreyard', 'pills', 'creative', 'ain', 'accessable', 'Goddamn', 'spanked', 'dudes', 'elevator', 'thinner', 'LOVED', '>)', 'lifecycle', 'deleting', 'Redhead', 'woant', ':\"', 'heading', 'Wyvern', 'producer', 'writting', 'walls', '~/.', 'Autocomplete', 'executres', 'Side', 'incompletely', 'today', 'Suburbs', 'reloades', 'Battle', 'talkin', 'BELLAMY', 'RAR', 'Sickly', 'Monaco', 'gangsterism', 'casual', 'feelings', 'vacuums', 'Dir', 'pretentious', 'blooded', 'whites', 'known', 'cloned', 'Toby', '20030913', 'thirds', 'Namespace', 'save', 'meg', 'blog', 'slowly', 'ALT', 'Snobby', 'Thick', 'Aah', 'mp3', 'includes', 'lighters', 'Offline', 'Noir', 'coil', 'nightfall', 'Alas', 'curfew', 'Friedman', 'Lean', 'And', 'Iiiives', 'interviewed', '196756', 'ports', 'stalk', '://///', 'Database', 'sooner', 'courtroom', 'Aya', 'travels', 'Edit', 'embryo', 'translator', 'bleach', 'buns', 'forces', 'Field', 'z', '127', 'Gambellara', 'nationality', 'jail', 'personality', 'knew', 'praying', 'snake', 'Idealist', 'firefox', 'Sound', 'munged', 'smashing', 'Hubtard', 'Christian', 'Peninsula', 'playa', '1991', 'Maboogie', 'crude', 'Hawaiian', 'swing', 'Touch', 'keeper', 'mid', 'boom', 'nanny', 'fest', 'localstore', 'preemies', 'brain', 'consider', 'suffering', 'Uhh', 'same', 'rights', 'Woody', 'spirits', 'twins', 'yeastiness', 'starboard', 'Woman', 'refocused', 'eses', 'living', 'influenced', 'tenth', 'oaked', 'RIVER', 'BLIND', 'each', 'problems', 'cloying', 'Method', 'configured', 'hotter', 'steep', 'avais', 'unhappy', 'Redford', 'resources', 'Silex', 'Group', '?::', 'sweatshirt', 'notebook', 'Patch', 'browswer', 'Carolina', 'leafy', 'Against', 'resolution', 'Snakes', 'among', 'GET', 'Dartmouth', 'bugtracker', 'reclaimed', 'Typeahead', 'Peter', 'called', 'Reasonably', 'sporadic', 'Reason', 'nnnnniggets', 'mommy', 'topmenu', 'Prisoners', 'Jon', 'bat', 'powered', 'bookmarkmanager', 'Hew', 'destory', 'West', 'Carol', 'balnced', 'Xserver', 'El', 'mount', 'ver', 'restrictions', 'sticker', 'Syrah', 'fuh', 'Bush', 'EventReceiver', 'preliminary', 'Aggregation', 'yeasty', 'Helpful', 'Hitting', 'waxy', 'store', 'commercialized', 'aTriggeringEvent', 'Period', 'mine', 'encountered', 'Segfault', 'Trisha', 'Proceededly', 'Chocolate', 'underestimate', 'multipart', 'dramatic', 'DINGO', 'codepage', 'vicious', 'BugZilla', 'serving', '\">>\"', 'autonomous', 'cursor', 'turnstile', 'burn', 'association', 'Asshole', 'anarchy', 'grated', 'snow', 'typically', 'Food', 'Purchase', 'legos', 'sniffer', 'Accepts', 'medieval', 'Xbox', 'Fight', 'unicorns', 'OR', 'Spongy', 'discovers', 'sgle', 'Buddy', 'quiet', 'abled', 'Ravishing', 'DOES_NOT_EXIST', 'Padlock', 'crewman', 'webpages', 'placeholders', 'horseback', 'flexible', 'insulting', 'Gentoo', \"['\", 'Code', 'painting', 'supposedly', 'creeper', 'matters', 'id', 'Lihtly', 'Deleting', '//', 'Users', 'coats', 'Ms', '171196', 'fortune', 'Shorter', 'Rasins', 'loging', 'DOS', 'Meursault', 'molten', 'annoying', 'releases', 'organize', 'PIN', 'Night', 'wanders', 'Bend', 'css', 'roundedness', 'Throw', 'See', 'is', 'Rousanne', 'continent', 'Localization', 'sexually', 'captions', 'cheers', 'Aauuuuugh', 'Functionality', 'soft', 'submerges', 'Lockups', 'uterus', 'BODY', 'incomplete', '58th', 'lean', 'club', 'hilitecolor', 'Talento', 'Skateboarder', 'alsa', 'miss', 'kills', 'nuthin', 'nsIDocument', 'exceeded', 'misconception', 'advice', 'ballet', 'sexy', 'Knight', 'Terrible', 'wildcard', 'inconsistent', 'PEARL', 'whimpers', 'random', 'Transit', 'perfectly', 'under', 'reporting', 'Roof', 'Bum', 'producers', 'Jerk', 'availWidth', 'once', 'luscious', 'lizard', 'ANNOYING', 'striped', 'board', 'professions', 'cars', 'HasMoreElements', 'Client', 'mixture', 'areas', 'Smurfette', 'Ensala', 'gowns', 'splitter', 'largest', 'intrinsically', 'listens', 'rapidly', 'Tokaji', 'Ohhh', 'Brought', 'Can', 'aperetif', 'shared', 'Midtown', 'necrophiliac', 'Privace', '1996', '0x80520012', 'BREEDERS', 'Warts', 'trimmed', 'Heee', 'sicky', 'weeds', 'Detailed', 'Cellmate', 'lock_pref', 'fork', 'jsp', 'prepared', 'nedit', 'tentacle', 'property', '>>', 'shapliness', 'stable', 'inoperative', 'bother', 'Lonny', 'Holy', 'Recently', '<!--', 'inching', 'Bottom', 'condoms', 'PlayStations', 'mic', 'strangeness', 'crap', 'winning', 'Calm', 'labels', 'wall', 'Homestar', 'Hail', 'caps', 'Rubbery', 'tons', 'allposters', 'somewhere', 'chatters', 'financially', 'globally', 'IRC', 'fr', 'freaked', 'Breed', 'cruiser', 'Bangkok', 'Republic', 'thread', 'uControl', 'Satan', 'funds', 'Australia', 'Beychevelle', 'macaroni', 'Eleanor', 'mix', 'HTTP_REFERER', 'miserable', 'memory', 'ANIMATOR', 'Nicely', 'Pinstripe', 'BuildID', 'firefly', 'Week2', 'Labrador', 'amnesia', 'alive', 'nsPasswordManager', 'Manger', 'sesame', 'sight', 'perfoming', 'borked', 'cant', 'reef', 'fails', '2002', 'weevil', 'reqeust', 'Colors', 'mayest', 'Utilitarian', 'lose', 'needle', 'sire', 'skull', 'll', 'localeVersion', 'Worse', 'much', 'syrah', 'Semitic', 'topical', 'Jacket', 'TRANSPARENT', 'Bowling', 'Garnacha', 'succession', 'Character', 'geez', 'bicker', 'current', 'lottery', 'GISELLE', 'sitting', 'Laconic', 'loud', 'cake', 'Tits', 'distant', 'Explain', 'offend', 'ENCHANTER', 'slapped', 'Remind', 'Drawing', 'Notebook', 'connects', 'Fully', 'AVIARY', 'zips', 'Waits', 'Pleasure', 'tracks', 'Hopefully', '60', 'Sgl', 'Beat', 'Del', 'remaining', 'breakfast', 'blacked', 'defeator', 'prepended', 'applet', 'ftp', 'Upon', 'hardest', 'ascii', 'culo', 'FE', 'Feds', 'chocolatey', 'Lafayette', 'trop', 'wmp9', 'Intistieti', 'Screw', 'tang', 'garlic', 'Lights', 'Krishna', 'capris', 'drums', 'oughta', 'prefLabel', 'France', 'Release', 'Case', 'claret', 'Slater', 'mall', 'cutting', 'Closes', 'writable', 'Crystal', 'pansy', 'handbags', 'YR', 'hairstyles', 'Cartizze', 'Guyy', 'Salesperson', 'incense', 'apart', 'Portion', 'contents', 'NS_ENSURE_TRUE', 'outdoor', 'VM', 'why', 'Hiyya', 'lovee', 'overridden', 'intellimouse', 'managers', 'soemtimes', 'McGirl', 'closebuttons', 'struggle', 'Four', 'Hoffa', 'Bored', '0xd594', 'Conflict', 'hordes', 'Via', 'scanning', 'cruise', 'confronting', 'variation', 'gtk_xtbin_resize', 'email', 'pageup', 'EMBEDded', 'poverty', 'Even', '75', 'chase', 'au', 'fight', 'Stylish', 'tenants', 'palette', '!\"...', 'asset', 'twilight', 'Makers', 'standing', 'ranges', 'Haul', 'steeps', 'InitPrintSettingsFromPrefs', 'lynched', 'Netscape', 'toolbar', 'able', 'Drag', 'sun', '43', 'hint', 'juiciness', 'help', 'imaginary', 'subway', 'forum', 'installment', 'Priceless', 'car', 'moistened', 'Riegell', 'assure', 'Conservative', 'prettyprint', 'inflexible', 'tattoo', 'YO', 'lychee', 'Macdougal', 'curious', 'Style', 'undone', 'Entry', 'span', 'sat', '.>', 'W3C', 'Fiddler', 'Listening', 'tolerance', 'merged', 'BURSAR', 'tempted', '!--', 'DeKalb', 'Subways', 'clears', 'Comics', 'Lankan', 'seeping', 'Capitalist', 'Gutsy', 'peeing', 'incapable', 'shy', 'Requires', 'Binary', 'marriages', 'mouthwatering', 'Anytime', 'guards', 'ontological', 'institution', 'been', 'PHP', 'asexual', 'Reminder', 'Gynecologist', 'Hump', '+#', 'crossed', 'webmail', 'Cinephile', 'Salesgirl', 'attack', 'increased', 'HKCU', 'Textwindow', 'hammering', 'Family', 'Luke', 'RAWWWWWR', 'Seaweed', 'cents', 'Prepare', 'richer', 'refugee', 'Sugar', 'Tide', 'explaining', 'apparently', '49th', 'Somebody', 'filer', 'Drying', 'brings', 'wade', 'Deeper', 'Keys', 'butcher', 'violent', 'xpt', 'haunted', 'Contact', 'doctype', 'outta', 'verging', 'Promoted', 'sidhe', 'Penicillin', 'Mark', 'Rayas', 'cookieBehavior', 'LongDesc', 'Return', 'spawn', 'Anybody', 'ridiculous', 'undrinkable', 'treatment', 'present', 'Sauce', 'hating', 'surrounds', 'GUEST', 'Attractive', 'Autostart', 'Duck', 'perpetuating', 'networking', 'patch', 'forgets', 'promoter', 'cartoon', 'bartered', 'public', 'Function', 'SAVE', 'Scrubby', 'bold', 'pit', 'Dennis', 'gesture', 'Blanche', 'honored', 'appeared', 'weak', 'multitasking', 'framesets', 'tissue', 'paddles', 'Point', 'horny', 'findBookmark', '65', 'authorization', 'bankruptcy', 'eg', 'carriages', 'Experience', 'unhandled', 'studied', 'memorized', 'memorabilia', 'Address', 'mess', 'cheesecake', '899', 'resolutionize', '7b', 'revealing', 'Cornwall', 'rowdy', 'crumbs', 'toupee', 'edgy', 'worms', 'II', 'dry', 'feasible', 'interrupted', 'ethical', 'minized', '])', 'headquarters', 'Cheng', 'Colheita', 'Ben', 'clubs', 'bound', 'MoMA', 'sovereign', 'horror', 'consortium', 'Dan', 'applied', 'slugs', 'smash', 'Fund', 'incorrect', 'Chip', 'Scrollbars', 'Stands', 'Nelson', 'surfing', 'swells', 'Consider', 'Favicon', 'Selectable', 'handed', 'Bimbette', 'headoff', 'ReResolveStyleContext', 'crosswalk', 'ribs', 'mentioning', 'Gansta', 'Dragon', 'leader', 'doors', 'ASSHOLE', 'colormaps', 'Prophylactic', 'Downloads', '->', 'momma', 'ducked', 'focusable', 'Spolsky', 'Incomplete', '1917', 'bookmarktoolbar', 'Marx', 'pale', 'applying', 'cash', 'understood', 'Thought', 'prime', 'disappointing', '\"&', 'third', 'nightbuilds', 'centers', 'Giselle', 'Touchpad', 'rusty', 'Barley', 'activating', 'Turkey', 'Tending', 'helps', 'overlayinfo', 'cz', 'remorseless', 'barking', 'River', 'litterbox', 'relationships', \"('\", 'instantly', 'squirt', '164006', 'Mouthing', 'compile', 'Whichever', 'dinner', 'ignorant', 'gif', 'Listerine', 'clam', 'webaccess', 'Tween', 'camels', 'spoken', 'mistakes', 'Dimitri', 'decision', 'redone', 'spontaneously', 'therefore', 'mapped', 'application', 'blankspace', 'every', 'Class', 'aging', 'tractive', 'weirdness', 'Leader', 'Leaks', 'Pouty', 'wining', 'witnesses', 'rollin', 'legally', 'hamsters', 'inc', 'FISHERMAN', 'fiiiine', 'cigarettes', 'legend', 'Hansom', 'bitch', 'amnesty', 'Aggh', 'pedophile', 'apears', 'Adidas', 'tights', 'police', 'nsViewManager', '48', 'shortish', 'Reefer', 'pogo', 'Urlbar', 'buggin', 'habits', 'FF091', 'pineapple', 'Hidden', 'upgrade', 'refrigerator', 'alligator', 'handy', 'tone', 'stink', 'involved', 'That', 'recycled', 'Phase', 'statusbar', 'suggestive', 'disorder', 'backgroud', 'stripped', 'std', 'Juicy', '0x00568bbd', 'Certainly', '2003', 'threesomes', 'psyched', 'platter', 'foam', 'Hovaya', 'repeats', 'smoker', 'Hotmail', 'aching', 'drives', 'dart', 'bloat', 'segue', 'netware', 'supporting', 'kissing', '??...', 'weight', 'prostitutes', 'hitchhiking', 'eyeing', '69th', 'Geographic', 'increases', 'Tags', 'shits', 'dpi', 'bomb', 'alibi', 'druggies', 'structure', 'dreams', 'shackles', 'competition', 'cookies', 'reloads', 'Robinson', 'tenner', 'crackwhores', 'LOCAL', 'tri', '100', 'compassion', 'campus', 'modifier', 'crushing', 'hardwood', 'jaw', 'Wistful', 'Judgment', 'initially', 'vbox', 'lesser', 'misaligned', 'pie', 'dictionary', 'MP3', '11', 'Tabbing', 'taskbar', 'Berry', 'weird', 'reordering', 'terrier', 'trying', 'terroir', 'widowed', 'coded', 'electrify', 'tombstones', 'Erbert', 'spooky', 'razor', 'Filipinos', 'handing', 'contiguous', 'ripped', 'Expansion', 'buck', 'pointer', 'Performance', 'busy', 'FirefoxSetup', 'marmalade', 'Missoula', 'armpit', 'punishment', 'out', 'tm', 'paste', 'HOW', 'revisionist', 'shivering', 'wrists', 'support', 'clad', 'Waa', 'exists', 'bless', 'instad', 'items', 'div', 'nsHashtable', 'omelettes', 'notorious', 'judgemental', 'wherever', 'Admissions', 'dish', 'Major', 'unclog', '13', 'aphrodisiac', 'citations', 'Skater', 'Cardio', 'M3U', 'Tribeca', 'many', 'happiness', 'Boyfriend', 'nsIProfileInternal', 'unreadable', 'cotton', 'hosted', 'shoulder', 'strongest', 'ratio', 'wah', 'landing', 'splash', 'mushrooms', 'Freddy', 'processor', 'trademark', 'Elegance', 'cameras', 'Caps', 'stick', 'none', 'Easter', '::', 'raving', 'syas', 'commando', 'Norfolk', 'bra', 'Rue', 'Muthafucka', 'P', 'weblogic', 'Six', 'freshener', 'maybe', '_7nsQueryInterface', 'ppc', 'interfer', 'DIVs', 'KKK', 'overturn', 'suicidal', 'vacates', 'Mahogany', 'FIELDNAME', 'salesman', 'Hitler', 'TomKat', 'Mozillazine', 'India', 'Oreos', 'normal', 'tonedness', 'BO', 'dont', 'subtitles', 'Star', 'Trojans', 'newsticker', 'directives', 'leads', 'exploded', 'MAC', 'Dead', 'shaft', 'running', 'drops', 'nervous', 'unforced', 'slices', 'dozen', '(%)', 'one', 'Een', 'Sounds', \"'\", 'choked', 'borderline', 'locate', 'clipboard', 'CCK', 'silky', 'append', 'CNN', 'tending', 'bay', 'seemingly', 'transitional', 'sclerosis', 'Finally', 'hips', 'neurons', 'Stop', 'Fu', 'GALAHAD', 'mooo', 'plays', 'types', '1982', 'fronts', 'downward', 'dessert', 'instructions', 'Large', 'browsing', \"')\", 'Owen', 'cousin', 'Staff', 'objectid', 'animating', 'All', 'outwit', 'luna', 'Lacks', 'freezer', 'tend', 'DownloadStatusBar', 'Jong', 'rougher', 'Nutty', 'Restaurant', 'challenging', 'narcist', 'remeber', 'Schools', 'Throwing', 'set', 'typing', 'twentieth', 'breasts', 'scantily', 'sociologist', 'Blin', 'Legal', 'overides', '<!', 'stuffed', 'alternatively', 'Edinburgh', 'appcontent', 'sweetly', 'nss', 'Survive', 'button', 'religious', 'vertically', 'Plung', 'signal', 'Really', 'likely', 'ms', 'Moby', 'dependent', 'redirects', 'scholar', 'liege', 'associated', 'ight', 'busts', 'inline', 'ascending', '46yo', 'Hanks', 'GetViewExternal__C8nsIFrameP14nsIPresContext', 'sorry', 'Marmalade', 'go', 'Chu', 'tube', 'Intellectual', 'SHRIMPER', 'skiing', 'reserve', 'Dem', 'Awkwardly', 'Native', 'pas', 'crisp', 'ERROR', 'ProfileInternal', 'beats', 'unpleasant', 'fired', 'analysis', 'gentrify', 'erroneously', 'avliable', 'repeatable', 'loaf', 'underfoot', 'maintain', 'summarise', 'smoothScroll', 'triple', ')...', 'k', 'bald', 'butts', 'kreplach', 'screenwidths', '300', 'Installing', 'presenting', 'bch', 'approve', '(?!)', 'Padding', '_files', 'profile', 'Cougar', 'Gummy', 'smallest', 'interfere', 'tonight', 'Cheez', 'temptation', 'advertising', 'lesbian', 'hast', 'accidentaly', 'SKIPS', 'stinking', 'SIR', 'poochie', 'Polar', 'weakening', 'strategy', 'giant', 'cakey', 'entered', 'exceed', 'behold', 'Justice', 'sidewalks', 'jpeg', 'intriguing', 'Quick', 'whacked', 'fireworks', '\\x94', 'judge', 'stall', 'cervix', 'kindergarten', 'deli', 'scriptable', 'coordinated', 'geeked', 'Hayes', 'Pan', 'folders', 'Teenie', 'condemn', 'invent', 'Army', 'compact', 'Blackberry', 'slag', 'maximizing', '&#', 'dumb', 'Hill', 'Antigone', 'finished', 'spatlese', 'Director', 'friend', 'Alaska', 'Resets', 'ADSL', 'graceful', 'viewing', 'smack', 'strike', 'ages', 'viciously', 'funniest', 'mofo', 'Gaelic', 'GDI', 'groveling', 'expert', 'ASPCA', 'Undergrad', 'surprising', 'MRIs', 'toy', 'snore', '0x00000000', 'hormonal', 'boogie', 'breaking', 'Cleans', 'export', 'Mama', 'huge', 'ponytailed', 'Professional', 'Muffin', 'co', 'Browing', 'wile', 'Saying', 'Searching', 'characteristically', 'ness', 'overblown', 'phpBB', 'Joyfully', 'Illegal', 'Localize', 'Chrome', 'Cialis', 'Bags', 'contrast', 'illiterate', 'Kids', 'recognised', 'recursion', 'intoxicated', 'American', 'blink', 'ju', 'Happy', 'organization', 'overly', 'â', 'sneeze', 'Change', 'populate', 'proceeds', 'pretzels', 'rape', 'buttons', 'incessantly', '7PM', 'sidebar', 'cum', 'range', 'Persist', 'Ahh', 'homestarrunner', 'describes', 'reference', 'device', 'Humor', 'gtk', 'smaller', 'vaginal', 'typeaheadfind', 'Fo', 'lyin', 'Manhattan', 'Flashblock', 'Soccer', 'carrying', 'Dis', 'multiple', 'Gosset', 'redownloads', 'mojitos', 'lettin', 'fnac', 'Higher', 'rows', 'DONT', 'Photoshop', 'tools', 'Sudanese', 'Uganda', 'feeble', 'values', '500', 'continuous', 'Bright', 'appreciation', 'Running', 'Whizzer', 'targeting', 'approximate', 'key', 'destructor', 'static', 'negotiate', 'gooder', 'tangle', 'convinced', 'appease', 'bitching', 'Williams', 'SHGetSpecialFolderPath', 'Programm', 'Full', 'rising', 'sa', 'vegetal', 'Peters', 'signons', 'billing', 'muthafuckas', 'matzoh', 'overtaken', 'checkboxes', 'instalation', 'Beauvoir', 'Center', 'vibrato', 'prominent', 'signed', 'crazier', 'Americans', 'fought', 'liquidy', 'loudspeaker', 'noting', 'search', 'Bready', 'Knowin', 'tupayHey', 'alcoholic', 'doorstep', 'xinerama', 'bugger', 'kissed', 'programs', 'tylock', 'DIV', 'Layout', 'vibrators', 'tr', 'specific', 'CCR', 'Crianza', 'notes', 'Isaiah', 'reunited', 'amounts', 'scurries', 'muffin', 'Yep', 'Harley', 'scaled', 'Windows', 'Beg', 'Hangs', 'Birthday', 'Ping', 'perform', 'slipped', 'pk11wrap', 'indefinately', 'Botox', 'Pasties', 'Animation', 'outlooks', 'bride', 'ActivePerl', 'Iiiiives', 'Tropically', 'nsExtensionManager', 'forgot', 'virusscan', 'ActiveState', '*?...', 'illuminate', 'Autumn', 'MBS', 'Fruit', 'loyal', 'Restoring', 'Usage', 'loads', 'sra', 'purely', 'sneaking', 'earring', 'Klan', 'infants', 'hearted', 'hemisphere', 'ppp', 'odor', 'Stupid', 'digestible', 'cvs', 'flashiness', 'ActiveUI', 'insist', 'allmakefiles', 'praised', 'papers', 'gzip', 'Voice', 'lapin', 'earshot', 'everything', 'formatting', 'Beginning', 'Toolbar', 'Straightforward', 'Masturbate', 'cctvusa', 'artifacts', 'homos', '44yo', 'requirement', 'yourself', 'Facts', '....', 'ford', 'Wellesley', 'provided', 'slideshow', 'ACRONYM', 'contextual', 'comment', 'attention', 'all', 'replied', 'ldap', 'Unique', 'Include', 'ebpp', 'Profile', 'base', 'July', 'switches', '53rd', 'text', 'adrift', 'student', 'Highlighted', 'D', 'Pirates', 'Empty', 'redcurrant', 'pads', 'RIGHT', 'functions', 'mole', 'spices', 'Logged', 'segnmentation', 'gays', 'Drugged', 'Caring', 'Garbage', 'Menus', 'engine', 'grunge', 'if', 'twitch', 'promised', 'dollars', 'threatening', 'holdup', 'common', '56', 'lollipop', 'benefit', '597', 'dies', 'javascripted', 'Epatha', 'fact', 'Parasing', 'almondy', 'ultimately', 'Arabic', 'hall', 'transparancy', 'Beneath', 'Endnote', 'choral', 'Diarrheas', 'scooped', 'cost', 'Shishi', 'Muerta', 'suction', 'Gen', 'tryouts', 'Vibrant', 'More', 'ororatorical', 'nosing', 'TitleBar', 'audio', 'Wheelchair', 'insulted', 'touris', 'JAVA', 'oddly', 'circles', 'sea', 'attend', 'FOXY', 'Eagerly', '-*-', 'lunchmeat', 'extnsion', 'Easily', 'monk', 'executable', 'apathy', 'listboxes', 'bad', 'cleansing', 'UN', 'solera', 'Geneseo', 'Migration', 'celebrating', 'JPEG', 'expanding', 'pony', 'labelling', 'worthy', 'Others', 'tastebuds', 'desires', 'rampant', 'baaaa', 'Trying', 'Katrina', 'disease', 'others', 'Plastic', '22', 'loins', 'herbal', 'actuarial', 'displayed', 'tarball', 'localize', 'Physique', 'toasted', 'Hipster', 'Preacher', 'make', 'editor', 'linuxinsider', '+`)', 'petetownshend', 'hearty', 'swank', 'plumns', 'comdlg32', 'Teyve', 'terms', 'Explorer', 'Dutchmen', 'acroynms', 'strand', 'Evaluate', 'looses', 'hunter', 'Noble', 'referring', 'nets', 'dock', '10', 'keeping', 'cockblocked', 'estate', 'Women', 'reason', 'Amish', 'Frothy', 'picket', 'Half', 'horse', 'aniseed', 'laptop', 'rooms', 'radio', 'movies', 'Pamper', 'density', 'hug', 'void', 'Widget', 'Denver', 'Barbados', 'say', 'Quincy', 'OPML', 'upgrades', 'explodes', 'Joey', 'requests', 'Versace', 'natively', '16x16', 'Unloose', 'cans', 'slashdot', 'basic', 'Com', 'unsingable', 'vs', 'Improve', 'jsconsole', 'Fifteen', 'Officer', 'chatting', 'shouldn', 'latkes', 'telling', 'Crown', 'STD', 'swap', 'dressing', 'allways', 'nsAccessibilityService', 'contemplatively', 'beginning', 'rubbers', 'gunzipped', 'thieving', 'f9', 'dashes', 'skinny', 'redacted', 'Thoroughly', 'psycho', 'marched', 'happened', 'scraping', 'quote', 'pun', 'coupla', 'dis', 'pluralize', 'Bolly', 'Cortese', 'Blunt', 'vagiburgers', 'cheeses', 'Online', 'sophomores', 'moisturize', 'FF09x', 'UNzip', 'TITLE', 'boat', 'waters', 'poisoned', 'Fourth', 'insists', 'Ferry', 'Cigarettes', 'sued', 'Diarrhea', 'Revive', 'illustrate', 'joining', 'low', 'Enjoy', 'webpage', 'poop', 'Grenade', 'Tends', 'hmmmh', 'Recording', 'nsIBrowserHistory', 'wi', 'doodle', 'bowls', 'casually', 'stuffer', 'enable_automatic_image_resizing', 'counter', 'causing', 'unvisited', 'basement', 'mozdev', 'hum', 'documents', 'wildcards', 'JVM', 'nosejob', 'Stimulated', 'mldonkey', 'sweeter', 'customizable', 'headjobs', 'Desktop', 'Defense', 'noaa', 'clicking', 'amongst', 'Toffeed', 'Chillin', 'Guardian', 'delighted', 'conforming', 'simpler', 'providers', 'Reinstalling', 'got', 'indicated', 'onSubmit', 'progress', 'Hiyah', 'bread', 'Babysit', 'Lemonhead', '...]', 'spotlight', 'publishing', 'travel', 'warning', 'developing', 'spanking', 'colonoscopy', 'Guiness', 'whale', 'conventional', 'piped', 'Lime', 'TABLES', 'favourites', 'cloning', 'xrashes', 'Fortysomething', 'instruction', 'mistyped', 'scuttles', 'unhovered', 'diggers', 'biters', 'says', 'Jury', 'POSTDATA', 'Sin', 'BUG', 'cape', 'powers', 'tremendous', 'copulating', 'rude', 'perception', 'deductables', 'PARTNER', 'whorebag', 'Wars', 'Fishface', 'guarded', 'exposing', 'flannel', 'rest', 'unaware', 'Nuh', 'noxious', 'quit', 'face', 'imprisoned', 'Norris', 'handle', 'hats', 'Cheap', 'climate', 'suntrust', 'ibm', 'Her', 'JAR', 'chardonnay', 'medicine', 'spits', 'Romania', 'burly', 'Julien', 'malaria', 'fallopian', 'plagues', 'managing', 'Chickennn', 'flirting', 'cod', 'gypped', 'Avenue', 'wildly', 'noise', 'Office', 'blocking', 'WTC', 'underline', '170', 'Himalayas', 'Sandy', 'Creative', 'moved', 'Give', 'awkwardly', 'Fuck', 'brains', 'Kidman', 'romantic', 'circumcised', 'men', 'Gevrey', 'snotty', 'thou', 'patches', 'Used', 'Diddy', 'bees', 'unlocked', 'thumps', 'duties', 'cdrom', 'eventually', 'Subfolder', '_all_', 'Nazis', 'Matthews', 'fully', 'n4', 'digging', 'packages', 'nipples', 'understanding', 'du', 'force', 'effort', 'fix', 'accompanied', 'grimey', 'Fifi', 'xbl', 'automatically', 'smoothscroll', 'Ghraib', 'reals', 'Discerning', 'anamation', 'Undo', 'stacked', 'pays', 'whispering', 'Nick', 'mutants', 'attempthing', 'boil', 'ATM', 'JetBlue', 'Yapping', 'centered', 'towers', 'Tourists', 'occasion', 'pool', 'Multiple', 'Croatia', 'toes', 'descending', 'respectful', 'sub', 'plugins', 'Hussein', 'Forced', '45', 'script', 'witty', 'pictures', 'afternoon', '145th', 'takin', 'duplicates', 'cereals', 'lemon', 'redraw', 'Rendering', 'Simpson', 'whispers', 'tote', 'speck', 'Technonerd', 'establishing', 'defender', 'Wonka', 'warrant', 'AGED', 'pry', 'crashing', 'subconsciously', 'Mayor', 'suspicious', 'URLS', 'R2', 'hawk', 'find', 'addPanel', '06', 'whatever', 'taxis', 'tempered', 'Central', 'CAPS', 'BALLROOM', 'seize', 'traveling', '200ms', 'clunk', 'bio', 'digestive', 'Simon', 'Doing', 'answered', 'Jovi', 'unwanted', 'cavemen', 'Nothing', 'XPCOM', 'Peggy', 'weepy', 'strap', 'Unbelievable', 'Whatcha', 'continuing', 'frame', 'accessibility', 'violin', 'freshmeat', 'spawned', 'intermittently', 'Strings', 'Elliot', 'Context', 'try', 'foggy', 'gamy', 'Phonenix', '.***', 'Eli', 'Great', 'thunderbird', 'Portly', 'of', 'CACHE', 'apologize', 'aperitif', 'Pomerol', 'alignment', 'feminine', 'depths', 'union', 'Quintaine', 'tit', 'Syndrome', 'prickle', 'foe', 'Ctl', 'Stalin', 'Millard', 'secretary', 'raping', 'complex', 'pauses', 'Racist', 'cutter', 'Cable', 'Metabolize', 'Became', 'True', 'cancelling', 'Trainer', 'nearest', 'risky', 'Editing', 'Chihuahua', 'mayor', 'Using', 'fraiche', 'Chewy', 'cafes', 'Whoops', 'unremarkable', 'merlot', 'FirefoxHTML', 'Portman', 'repaint', 'Dirtbag', 'hat', 'Maryland', 'browing', 'snows', 'learning', 'LaToya', 'removed', 'Properly', 'critical', 'Of', 'youuu', '2001', 'BLAINE', 'ginger', 'Montana', 'Ivy', 'yeast', 'Ballet', 'mill', 'HTTP', 'orders', 'apricots', 'answer', 'focus_background_color', 'nougat', 'dressed', 'CANCEL', 'Always', 'dentist', 'itself', 'acts', 'lines', 'Aaaah', 'keystrokes', 'Penthouse', 'hilighted', 'hysterical', 'Grail', 'unread', 'perfume', 'PDA', 'skips', 'autographs', 'hijacked', 'bohemian', 'loft', 'soul', 'tables', 'Goth', 'Cousteau', 'eatin', 'Gary', 'cllosing', 'Libya', 'phoeni', 'Yours', 'LORD', 'Heave', 'Koreans', 'farther', 'Nast', 'Ave', 'Its', 'KING', 'oxidising', 'duty', ':]', 'opener', \"-'\", 'Entity', 'herby', 'admitting', 'Customizable', 'Interested', '>', 'Intense', 'printable', 'partway', 'Grouped', 'thumb', 'printer', 'pu', 'Risky', 'LIKE', 'mothers', 'chug', 'pity', 'throughout', 'less', 'Ragetti', 'constructed', 'Omelettes', 'Steak', 'Cristina', 'technical', 'asleep', 'power', 'counselor', 'Ximian', 'Sidebars', 'ico', 'lights', 'Cross', 'Vanillan', 'viscous', 'forget', 'Autosearch', 'Missing', 'provent', 'cable', 'Manhunt', 'freshman', 'swf', 'independence', 'twice', 'deleted', 'Lincoln', 'manic', 'fortnight', 'Psalms', 'ssh', 'human', 'ipitos', 'helped', 'ulasponsel', 'Entourage', 'moral', 'niggets', 'nsChromeRegistry', 'intrinsic', 'Lite', 'dress', 'OpenURL', 'spikes', 'sizing', 'squirrel', 'myth', 'Whose', 'fat', 'HOOKER', 'wombs', 'nsIFile', 'JUNO', 'interaction', 'hawker', 'luckiest', 'Passing', 'connecting', 'conversations', 'keypress', 'bringin', 'blowing', 'invokes', 'introduction', 'silently', 'decrease', 'revision', 'Coke', 'ten', 'Quitelarge', 'disgorged', 'cokehead', 'outrun', 'frontal', 'Tempier', 'Recover', 'lacing', 'Attributes', 'upgrading', 'opposite', 'ave', 'Parents', 'friendship', 'characters', 'Anyone', 'Healthy', 'Riserva', '2xG5', ';-', 'Konqueror', 'Under', 'Files', 'positioning', 'teacups', 'MyIE2', 'overdose', 'scrape', 'PlayStation', 'truck', 'Google', 'trau', 'Hee', 'zz', 'brown', 'change', 'anorexia', 'rhyming', 'Epala', 'picks', 'Kenneth', 'Immidiately', 'corner', 'exclude', 'Passwords', 'motion', 'Sauternes', 'Cop', 'Evening', 'handler', 'millions', 'Laid', 'singular', 'cowboy', '57', 'delusional', 'MSR', 'unusable', 'Sutton', 'eyeball', 'Java2', 'hissy', 'richochets', 'ForEach', 'shrinking', 'Ahem', 'estranged', 'donuts', '750', 'television', 't', 'Statue', 'shown', 'Closing', 'CBGB', '91', 'Notable', 'Girlfriend', 'deftness', 'mixes', '20021014', 'normally', 'aboard', 'masturbating', 'incompatible', 'seven', '.\"', 'derives', 'Green', 'eagle', 'Anon', 'Disneyworld', 'daytime', 'Shake', 'glove', 'Prefernces', 'COTTON', 'Unchecked', 'Bimbettte', 'phoenity', 'Cruise', 'Amazon', 'Renegade', 'notch', 'cancels', 'frosted', 'monkeys', 'abyss', 'lis', 'Homeboy', 'Dock', 'sterilize', 'Window', 'dealer', 'Status', 'corky', 'Supreme', 'putting', 'repulsive', 'embrace', 'dirtiness', 'Krack', 'Aus', 'Sticky', 'misbehaves', '42', 'Mandrake', '63', 'Oh', 'quicktime', 'NORMAN', 'newsboys', 'hygienist', 'Pig', 'hood', 'Search', 'Pay', 'trusty', 'label', 'auth', 'Room', 'bottle', 'final', 'iguana', 'chips', 'certificates', 'chained', 'Technology', 'Soda', '3', 'Dynamic', 'Ethiopian', 'socio', 'ziti', 'T', 'hippie', 'Chi', 'fashion', 'Follows', 'en', 'Bone', 'figured', 'opened', 'animate', 'Hurricane', 'moustaches', 'Oooh', 'Roberts', 'Alphabetically', 'CompositeEnumeratorImpl', 'niggers', 'breaks', 'recall', 'extra', 'titles', 'recording', 'repeatedly', 'hardhat', 'bulges', 'Ne', 'SetVariable', 'TRUST', 'kettle', 'whuppin', 'downlad', 'otha', 'pray', 'foster', 'Miguel', 'dragon', 'win32api', 'Trix', 'enterprise', 'canine', 'funcion', 'degree', 'revenge', 'traitor', 'ferocity', 'Dividing', 'Forum', 'SHIFT', 'colonoscopies', '14', 'moose', 'churro', 'viewport', 'Reg', 'produce', 'accurately', 'bunk', 'prayers', 'creator', 'spherical', 'Chicago', 'AString', 'Marv', 'exponential', 'idiota', 'capable', 'Citric', 'document', 'previously', 'Thsss', 'nonmodal', 'grips', 'oooh', 'Polka', 'Vanna', 'Scarves', 'intervourse', 'glowing', 'Mb', 'exited', 'stylish', 'precum', 'solely', 'Expander', 'muttering', 'engages', 'nsIPermissionManager', 'Messenger', 'Mainly', 'aint', 'Copyright', 'horrendous', 'Betrothed', 'Mercury', 'improve', 'hotkeys', 'Migrated', 'countdown', 'Aries', 'overhead', 'scenes', 'oath', 'Biker', 'FreeType2', 'cellaring', 'cannonball', 'chalky', 'infinitve', 'Without', 'bounds', 'sherried', 'spice', 'chess', 'refreshing', 'Potter', 'topbar', 'Influence', 'bbqs', 'F6', 'jockey', 'Claire', 'southbound', 'hardware', 'dah', 'sucks', 'PATH', 'Thurman', 'hasn', 'comeback', 'Sea', 'kiss', 'ip', 'helperApps', 'becoming', 'screw', 'break', 'chastity', 'Isis', 'breast', 'Gangsta', 'Brooklynites', 'mammals', 'whipping', 'distinct', 'Cust', 'jerked', 'thonk', 'onload', 'threaten', 'Awww', 'Migrating', 'devoted', 'voluptuous', 'shutdowning', 'Synaptics', 'finesse', 'stare', 'Medium', 'Pssh', 'actress', 'reader', 'pour', 'deselected', 'Dice', 'resumes', 'Kidding', 'Secured', 'Smoke', 'taunt', 'implement', 'dona', 'Ever', 'VERSION', 'bums', 'onmouseout', 'Chekhov', 'Available', 'occurred', 'replaced', '==>', 'Dlg', 'Cheerleader', 'Africans', 'practically', 'Stylus', 'Disassemble', 'thunderstorm', 'session', 'Evanescence', 'unfocsued', 'Plays', 'Drinkable', 'insofar', 'tossed', 'ZOOT', 'Design', 'GSOH', 'Babelfish', 'Pong', 'camping', 'pulley', 'thrown', 'minus', 'Altruist', 'applause', 'Jeany', 'Cruces', 'alleys', 'offensive', 'triggers', 'GroupWise', 'Extended', 'achieve', 'attempted', 'Sign', 'wan', 'repressing', 'Natalie', 'https', '2000x4000', 'rack', 'searing', 'Vincafe', 'db', 'Finer', 'lions', 'robot', 'Atkins', 'forever', 'CSS', 'styled', 'Charlie', 'dumber', 'mangy', 'scales', 'Penguins', 'bidding', 'Bacchus', 'discarded', 'Utopia', 'unlike', 'witness', 'Clickable', 'grabbed', 'Annoucement', 'fertility', '=\".', 'gutsy', 'flavored', 'practicing', 'dropmarker', '96', 'teenager', 'radial', 'clean', 'Racquet', 'Valid', 'libnegotiateauth', 'bucks', '**(**)', 'explain', 'lame', 'religion', 'l', 'SMP', 'graveyard', 'Chinky', 'Spice', 'hull', 'Cunts', 'cursed', 'pizzaz', 'chapter', 'Sparrow', 'Devil', 'coast', 'Seasonably', 'dilapidated', 'stressful', 'Superior', 'slashes', 'Massacre', 'nonetheless', 'biologists', 'caramelly', 'keroseney', 'mirror', 'motherfucking', 'run', 'rfe', 'webforms', 'wa', 'rave', 'stupidness', 'feels', 'smacked', 'Installs', 'overheardinnewyork', 'magnifying', 'decade', 'Headline', 'retain', 'keychain', 'Palm', 'Youthful', 'express', 'Pamphlet', 'telescope', 'officials', 'centred', 'scott', 'hypothetically', '</', 'aim', 'Freakin', 'Bustage', \"();'>\", 'unfashionable', 'productive', 'executions', 'Chassagne', 'Privoxy', 'Assistant', 'meltdown', 'blazer', 'operate', 'Karl', 'zing', 'Aaagh', 'forwarding', 'snuff', 'constant', 'gist', 'Apricot', 'severing', 'entertain', 'Democratic', 'premature', 'Western', 'civilization', 'ram', 'Circuit', 'favour', 'stared', 'ecstasy', 'localization', '1999', 'display', 'guests', 'shut', 'Caucasian', 'babymomma', 'pul', 'Memorial', 'mule', '<***', 'opacity', 'Euh', 'facilities', 'Watching', 'forest', 'Phil', 'infinite', 'csv', 'Nobody', 'phat', 'dailup', 'East', 'eye', 'Crime', 'innerHTML', 'Bee', 'horrible', 'documentated', 'scripted', 'misrenders', 'cow', 'disjointed', 'Beautiful', 'News', 'ALONE', 'Kerouac', 'Tourette', '21296', 'appetite', 'snowflakes', 'Doubtless', 'bleeding', 'except', 'Popups', 'filetype', 'suffixes', 'Bare', 'resonates', 'pancetta', 'Pope', 'champagne', 'symbols', 'GO', 'nibble', 'Clerk', 'meateater', 'sacrifice', 'Idiom', 'mask', 'popper', 'buildings', '81st', 'abandons', 'parse', 'Berra', 'Gent', 'Exiting', '++]', '\\\\)', 'male', 'Stairmaster', 'Amateur', 'Meta', 'Nicole', 'waking', 'Immersion', 'communicate', 'back', 'outfit', 'disappeared', 'parte', 'faded', 'coalition', 'eternity', 'Zind', 'TIFF', 'bushes', 'DMX', 'pocketbook', 'Second', 'sworn', 'perf', 'Scandinavians', 'AN', 'Granddaughter', 'Invisible', 'browsers', 'steelyness', 'five', 'incest', 'wittle', 'chowder', 'breeze', 'advertise', 'Replies', 'Mormon', 'language', 'Sampson', 'exhibit', 'rubbish', 'E', 'twisty', 'Republican', 'coupon', 'Scruffy', 'trashcan', 'Unify', 'method', 'nsXULDocument', 'shadows', 'Dowload', 'Scan', 'rapaya', 'careful', 'sweeping', 'management', 'GOD', 'Monroe', 'burrito', 'motor', 'heavier', 'clicked', 'gauge', 'Bird', 'selfish', 'panes', 'Background', 'ideal', 'Fetish', 'hers', 'HushMail', 'semester', 'create', 'Opens', 'illusion', 'MinGW', 'pestilence', 'enh', 'trash', 'spouting', 'eensy', 'bookmarsk', 'reminiscin', 'exercise', 'Connecticut', 'Render', 'Blues', 'Torino', 'Banking', 'hosed', 'potentially', 'Holding', 'reception', 'Moussa', 'impersonate', 'posing', 'Bobsted', 'navigation', 'itinerant', 'lounge', 'CVS', 'fiscally', 'racks', 'gdk', 'best', 'aromas', 'harsh', 'little', 'FIND', 'pole', 'Niiiice', 'Tondonia', 'Positioned', 'wiped', 'comletely', 'aloud', 'kitchen', 'Works', 'Sauvignon', 'HEADER', 'Assholes', 'encodings', 'Aztec', 'Limited', 'Reproduce', 'building', 'nsEventListenerManager', 'constipated', 'Cooper', 'poised', 'Scotto', 'Fisher', 'internalError', 'echoed', 'cocks', 'bullet', 'whiff', 'beast', 'Grand', 'loves', 'handcuffs', 'burning', 'combining', 'Defeat', 'Displayed', 'pet', 'detailed', 'lip', 'Supermodels', 'saggy', 'crowd', 'dubloons', 'dig', 'Wax', 'Carriage', 'missed', 'Confected', 'activation', 'breeders', 'eunuch', 'rewrapping', 'Gene', 'nsStaticComponents', 'material', 'Loss', 'urine', 'NO', 'sporadical', 'satisfaction', 'infinitely', 'committed', 'incredible', 'usin', 'bee', 'steal', 'Cambodia', 'noirs', 'rivers', 'Query', 'smart', 'compilation', 'positive', 'Hercules', '\"-//', 'ASSERTION', 'Nero', '!...', 'Searches', 'import', 'Victory', 'Dylan', 'lengthy', 'endure', 'unedited', 'Nowhere', 'medium', 'Guard', 'Screen', 'scratch', 'Mis', 'bridge', 'Aramaic', 'Tech', 'TA', 'Aaah', 'thy', 'esteem', 'McDonald', 'tuxedo', 'Magnifier', 'walks', 'experiences', 'cocktails', 'Woodside', 'darling', 'crust', 'bats', 'Wooster', 'enjoying', 'bitches', 'Compiling', 'hilarious', 'corrupt', 'SwitchProxy', 'Raven', 'Chess', 'knight', 'residency', 'timeout', 'Anatomy', 'dbclick', 'malformed', 'shuttle', 'omigosh', 'Unattended', 'meter', 'lack', 'wool', 'shifts', 'brothers', 'Chateauneuf', 'automate', 'unusual', 'Provisional', '137041', 'Devices', 'Aging', 'Syntax', 'thorn', 'atai', 'Gotti', '...)', 'Solly', 'Christmas', '542', 'Our', 'Forgive', 'skip', 'Chelsea', 'crewmates', 'scared', 'kids', 'Parade', 'popunder', '77', 'Internet', 'NJ', 'cautious', 'period', 'fbird', 'Knights', 'Elevator', 'lifetime', 'off', 'crunchy', 'usage', 'Scoop', 'syndrome', 'mob', 'audacity', 'spills', 'sensible', 'mybankofamerica', 'sue', 'charges', 'enlargement', 'Loudspeaker', 'blackcurrant', 'Master', 'Colheitas', 'punch', 'tramp', 'ka', 'mooring', 'shell', 'mornings', 'acceptable', 'district', 'trophies', 'tokens', 'Watson', 'sisters', 'defy', 'weedy', 'Fuuuck', 'sprinkle', 'shaken', 'Waiting', 'commenting', 'Louis', 'crackwhore', 'breeding', 'Truedoc', 'resist', 'telekenesis', 'eval', 'LJM', 'behoove', 'DoProfileStartup', 'Wall', 'inputs', 'dentures', 'throbbing', 'seashells', 'Eco', 'birds', 'Nacho', '8826', 'hd', 'Gnome', 'festival', 'blame', 'Thatcher', 'Palace', 'graphics', 'Oct', 'rushing', 'growing', 'mini', 'Queens', 'Marathi', 'painkillers', 'liquor', 'periodic', 'Portland', 'chandelier', 'ceiling', 'Gold', 'connecton', 'spring', '901', 'pistachio', 'rapist', 'end', 'relive', 'orphan', 'Ithaca', 'dows', 'Target', 'fridge', 'hierarchy', 'Angie', 'RuPaul', 'seizes', 'stood', 'Composer', 'octopus', 'Elle', 'Brilliant', 'responsive', 'Hushmail', 'coat', 'ARMY', 'Thumb', 'PPC', 'pornography', 'Shiksa', 'Fledermaus', 'Tabbrowser', 'menuitem', 'advance', 'Rheingau', 'numba', 'readin', 'installs', 'kapazun', 'drinkable', 'spike', 'repainted', 'expandable', 'Scuse', 'mouseout', 'pre', 'Asa', 'average', 'consults', '17th', 'British', 'outstanding', 'Specially', '1909', 'Prerogative', 'carbonated', 'nsJAR', 'till', 'appendicitis', 'Recent', '19', 'indicating', 'WLTM', 'dueling', 'stations', 'piper', 'Pageload', 'coma', 'phantom', 'smarter', 'Agent', 'Westchester', 'Lives', 'respect', 'brunette', 'sensing', 'sodomy', 'brushed', 'Awesome', 'JFK', 'Muslims', 'Null', 'Tijuana', '810649', 'anarcho', 'immortal', 'parked', 'interviewing', 'Slip', 'Root', 'Tiananmen', 'thee', 'Skankbag', 'mahn', 'ish', 'troubled', 'AutoComplete', 'bile', 'overretarded', 'dries', 'Punani', 'navagator', 'Marc', 'Sue', 'Ernst', 'crates', 'Regain', 'COUNTRY', 'handling', 'cure', 'titty', 'misled', 'Sausage', 'servant', 'ü', '^-', 'reggaeton', 'employee', 'icy', 'cliams', 'flew', 'Pick', 'Jungian', 'Currently', 'REDHEAD', 'shitfaced', 'Router', 'pyromaniac', 'ATHLETIC', 'steamed', 'efect', 'encoding', 'Implementing', 'cuddly', 'cats', 'Keegan', 'textbox', 'slang', 'Darwin', 'HTTP_Favorites_Icon_Overflow', 'constipation', 'somthing', 'attachment', 'pantry', '6B', 'Provide', 'whooping', '224748', 'paid', 'soundcard', 'although', 'fixed', 'screams', 'Charters', 'lingers', 'messaged', 'operations', 'report', 'gorillas', 'Chevy', 'cherry', 'fatwa', 'woah', 'Osama', '70s', 'over', 'shines', 'vodka', 'sedate', 'zooming', 'attractive', 'section', 'hiyaah', 'rolled', 'aisle', 'unfortunate', 'Babe', 'python', 'contextmenu', 'Charred', 'flock', 'slimmish', 'Mexico', 'Maury', 'occasionaly', 'persisted', 'Oklahoma', 'SUB', 'ELLE', 'berry', 'samurai', 'Reload', 'summer', 'recipes', 'Gallant', 'reload', 'libjavaplugin_oji', 'functionalities', 'Normally', 'Miquel', 'onion', 'Op', 'messed', 'States', 'cancel', 'Foreign', 'added', 'Inner', 'loading', 'dblclick', 'ham', 'Thirtysomething', 'doctor', 'eyepatch', 'remembering', 'dl', 'Ages', 'Asexual', 'tarballs', 'Liquorice', 'DENNIS', 'cupped', 'psychic', 'seeking', 'haha', 'enemy', 'annoy', 'intellectual', 'wit', 'Concorde', 'piece', 'Onclick', 'transfer', 'baysian', 'Fashionisto', 'unsigned', 'Ampersand', 'pick', 'Augh', 'Around', 'hyphen', 'Shiraz', 'million', '!--,', 'clips', 'Functionalities', 'moving', 'choice', 'deny', 'Pray', 'Yodas', 'arrowing', 'thing', 'Whatchu', 'bodies', 'encrusted', 'agency', 'ne', 'motorcade', 'determined', 'doXPIInstall', 'OSX', 'Girl', 'TVs', 'contributors', 'euchre', 'snaps', 'sister', 'Appetizing', 'elsewhere', 'salt', 'Piazza', 'sprinting', 'Lam', 'shorten', 'Googlebar', 'destructive', 'bird', 'distribution', 'cheerleader', 'lion', 'Urrgghhh', 'preferencies', 'bottom', 'fi', 'protective', '54yo', 'Trillian', 'Combination', 'libc6', 'hence', 'spells', 'Resize', 'receipts', 'homosexual', 'optimation', 'venues', 'timer', 'pimp', 'Optional', '54', 'bindings', 'wearin', 'recoils', 'Dialogs', 'getURL', 'dynamite', 'unstyled', 'Egyptian', 'stops', 'veins', 'Belligerent', 'recognize', 'Abandon', 'Sadie', 'beings', 'boss', 'exceptional', 'FF09', 'Bitchalicious', 'heights', 'Prune', ';)', 'babyyy', 'swimming', 'flattering', 'DiskImageMounter', 'supportDDEExec', 'permanentaly', 'lineakd', 'integrating', 'Grip', 'accented', 'Quits', '?....', '53', 'randomgifs', 'coochie', 'sown', 'bathrooms', 'diarrhea', 'Deutz', 'overarching', 'Sara', 'pisanos', 'Older', 'PL_DHashTableOperate', 'incontinence', 'cop', 'FlashPlayer', 'App', '<!--)', 'OFFICER', 'folks', 'merchandise', 'squeezing', 'Acid', 'buts', 'Atlanta', 'Ma', 'spacebar', 'upholds', 'frankly', 'Intermittently', 'Picquant', 'sixth', '\"~\"', 'IFRAME', 'deletes', 'delciously', 'Each', 'rating', 'Bless', 'Commodore', 'dropbox', 'were', 'receive', 'commotion', 'scimitar', '21st', 'lexis', 'bearded', 'sawing', 'nickname', 'Lions', 'vexes', 'challange', 'Hhey', 'suicide', 'hunky', 'bike', 'roundhouse', 'esophagus', 'colostomy', 'congratulations', 'turned', 'packing', 'pizza', 'gummy', 'L', 'Sheratons', 'town', 'nsIIOService', 'nail', 'Argentinian', 'virgin', 'Janis', 'padlock', 'Mart', 'mozz', 'RH7', 'sections', 'squares', 'to', 'Notwithstanding', 'growth', 'package', 'nsJSEventListener', 'Mickey', 'simple', 'vex', 'XML', 'pullin', 'longboats', 'LOCK', 'popcorn', 'worker', 'shovel', 'swept', '=\"\"', 'mug', 'Diesel', 'inserting', 'sheath', 'Wait', 'Runs', 'fatter', 'book', 'suffice', 'signature', 'Countergirl', 'imagining', 'approachable', ';\")', 'secondary', 'duplicate', 'gripping', 'explains', 'rhythmically', 'undertakers', 'CD3', 'Isn', 'spritzy', 'Professor', 'mnemonics', '%%', '_Mozilla_', 'protect', 'Valvona', 'Still', 'remember', 'reposition', 'fewer', 'act', 'coli', ':', 'semen', 'Fungus', 'MSIE', 'necklace', 'attempting', 'empties', 'bowl', 'xls', 'blacklist', 'Beirut', 'Weighty', 'inputing', 'parole', 'plain', 'impeccable', 'Mm', 'muchover', 'Madonna', 'focused', 'Leslie', 'White', 'people', 'occurs', 'encryption', 'combos', 'hag', 'result', 'hands', 'Sync', 'listitems', 'CARRIBEAN', 'walker', 'anatomy', 'shaved', 'PRINT', 'fishy', 'communicator', 'just', 'gluey', 'Out', 'querystring', 'powerful', 'Depp', 'Kill', 'gone', 'and', 'Simple', 'Guessed', 'MFB06', 'York', 'medal', 'tanning', 'PhD', 'reminds', 'colourless', 'wayy', 'furthermore', 'overs', 'WinXP', 'peddler', 'capitan', 'veiny', 'bravely', 'cancerous', 'map', 'Religion', 'Mumm', 'Javascript', 'particular', 'overwriting', 'Coulter', 'pikang', 'regret', 'trans', 'Line', 'tobacco', 'hickey', 'Deleted', 'hugs', 'installed', 'LAYOUT', 'Douse', 'relyably', 'crow', 'Mantis', 'whipped', 'Firbird', 'livejournal', 'dynasty', 'initializing', 'artwork', 'Aquarius', 'gouged', 'Bimbo', 'Inconsistent', 'oscillated', 'Deep', 'Website', 'blanks', 'Die', 'comm', 'stinky', 'outgoing', 'Crash', 'tune', 'ass', 'blah', 'twang', 'pissin', 'bladders', 'ONSELECTION', 'Debug', 'decadence', 'blocker', 'yelds', '7th', 'sloths', 'gen', 'watson', 'rinse', 'costumes', 'sponge', 'services', '_and_', 'awfully', 'HTMLImageElement', 'Browsers', 'stamps', 'Phantom', 'Borderline', 'tubes', 'Weekly', 'Toothless', 'Triage', 'leak', 'chopped', 'marijuana', 'saliva', 'Viewer', 'Unresizable', 'YOUNG', 'Textfield', 'quick', 'gotta', 'Combe', 'Cutting', 'Importing', 'Charcterful', 'customizeToolbar', 'president', '500MHz', 'allows', 'blankly', 'sarong', 'poops', 'sphincter', 'Lightweight', 'fields', 'key_copy', 'WMP', 'videos', 'WILL', 'vertigo', 'Gould', 'groopie', 'Valderrama', 'psychics', 'DAVY', 'bosom', 'Hazelnut', 'edit', 'advert', 'homo', 'Asians', 'axes', 'boots', 'casket', 'fetishists', 'sulphury', 'Trifles', 'Rosanna', 'hovered', 'isnt', 'Exactly', 'slushie', 'LD', 'skinned', 'dominated', 'max', 'butterfly', 'screening', 'sting', '59th', 'guest', 'expose', 'http', 'disjoint', 'Keyword', 'Pinots', 'GPF', 'sends', 'Gewurz', 'leans', 'Lebanese', 'linebreaks', 'chipped', 'drunk', 'Clint', 'bandwith', 'snip', 'chrashes', 'redhead', 'tearing', 'reached', 'harder', 'Margret', 'MASTER', 'restarting', 'parentheses', 'whereas', 'laywer', 'olds', 'scrollbars', 'scooted', 'sluttiest', 'Fraternity', 'attribs', 'DESTDIR', 'g', 'park', 'tryna', 'Fridays', 'curb', 'sauvignon', 'ha', 'unappreciable', 'sized', 'wrestling', 'Lighter', 'Jimmy', 'Assertion', 'airplanes', 'JS', 'filing', 'layers', 'caught', 'Aren', 'captain', 'crackhead', 'sidewalk', 'LINK', '\":', 'responding', 'idiosynchratic', 'foreboding', 'idiot', 'cohoots', 'expiration', '38', 'Contiaing', 'bulls', 'Recognized', 'Problem', 'mistress', 'CPA', 'Odd', 'Police', 'alarmed', '\"..', 'Body', 'linked', 'prisoners', 'funny', 'supports', 'enthusiast', 'biscuits', 'Bayswater', 'Attempting', 'round', 'Pretendin', 'Middle', 'Swan', 'intend', 'Animals', 'partial', 'corks', 'Choice', 'Grandpa', 'Flamboyant', 'link', 'stepdaddy', 'hotkey', 'Number', 'impatient', 'explorer', 'specify', 'Schedule', 'crystalline', 'atmosphere', '54y', 'offended', 'sugary', 'veteran', 'Silent', 'understand', 'VAish', 'chances', 'sign', 'studies', 'characteristics', 'honestly', 'lawyers', 'thirteen', 'syringes', 'Uncaught', 'Tranny', 'sledgehammer', 'Yellow', 'Copying', 'FAYT', 'sculptures', 'Albert', 'speedy', 'retention', 'magonna', 'immigration', 'soooo', 'Touristy', 'crawled', 'Ethereal', 'raisin', 'Issan', 'Florida', 'courageous', 'flash', 'burst', 'Ashley', 'holy', 'cream', '8', 'aside', 'witch', 'sanitary', 'elf', 'halts', 'examples', 'Gamy', 'Behavior', 'gtk2', 'peppery', 'Uncle', 'pantsless', 'beloved', 'Rangers', 'civilian', 'AUST', 'graphic', 'plug', 'Hurry', 'fatty', 'enclosed', 'Streisand', 'soap', 'Radically', 'rim', 'installable', 'fellow', 'emotion', 'prompt', 'overpriced', 'bonnie', 'Stardock', 'nonbreaking', 'unusuable', 'xml', 'peaches', 'tyrant', 'vinegar', 'clench', 'colgroup', 'recovery', 'references', 'Cold', 'Introduction', 'Unaligned', 'Supportive', 'Ow', 'martin', 'transform', 'clubbing', 'Starbucks', 'forward', 'being', 'libglib', 'braces', 'hairlines', 'backside', 'Checkin', 'employ', 'Omgosh', 'tied', 'parlor', 'bevels', 'sum', 'functional', 'neighbor', 'Chicken', 'billboard', 'Orbit', 'AccessDirect', '100mb', 'tanked', 'Kim', 'Chaste', 'wasting', 'insteadt', 'workspace', 'required', 'Maggie', 'pluggable', 'Elephant', 'fail', 'sunglasses', 'animations', 'dialo', 'Mesnil', 'Indians', 'Vonnegut', 'Tangy', 'expression', 'nino', 'beeping', 'chasm', 'Thinking', 'Trekkies', 'resizeTo', 'fearsome', 'duels', 'Registry', 'white', 'surfaces', 'Knife', 'Consumo', 'inherent', 'stained', 'corn', 'losers', 'heinous', 'bows', 'diction', 'Vigne', 'fins', 'Jay', 'libintl', 'Excuse', 'Artistic', 'pitiful', 'completes', 'concebtration', 'rethink', 'division', 'RH8', 'threesome', 'ovulating', 'passionate', 'tycoon', 'holdin', 'Visual', 'Alcoholic', 'Decrease', 'tiring', 'Gruaud', 'humorous', 'lesbos', 'Meryl', 'Noticeable', 'Reloading', 'fresh', 'Ph', ')\".', 'Lift', 'Frame', 'spoonful', 'Urinal', 'bordering', 'Chapter', 'PDFs', 'Christianity', 'reasonably', 'accidentially', 'appears', 'OnDataAvailable', 'vaguely', '1995', 'records', 'altar', 'give', 'addresses', 'pleasingly', 'reunion', 'goat', 'CPPRMI36', 'willingly', 'crawl', 'Multi', 'LISTENER', 'attribute', 'impressionistic', 'capped', 'clocks', 'daughters', 'bath', 'Venus', 'Microsoft', '6ft', 'Oooo', 'Register', 'DIVORCE', 'sessions', 'LOVER', 'AOL', 'Towards', 'Gabby', 'tart', 'DOM', 'gothic', 'cobalt', 'WEATHERED', 'uninhibited', 'Figure', 'position', 'namechange', '...[', 'websites', \".'+'.\", 'Duane', 'woods', 'bow', 'Technicolor', 'inttelimouse', '***(**)', 'Wooo', 'Rugate', 'Pain', 'Selecting', 'Husband', 'skin', 'stairwell', 'college', 'brioche', 'Hang', 'kinda', 'KERNEL32', 'sources', 'onkeydown', 'plastic', 'Alba', 'dodgy', 'forlder', 'credentials', 'Funky', 'terminations', 'Alcoholics', 'far', 'Enable', 'informs', 'combobox', 'pac', '50s', 'turtle', 'PAC', 'Mornington', 'WIN98', 'knocks', 'Barrymore', 'stiff', 'berries', 'Bat', 'Japanese', 'Fail', 'sudo', 'Unrequested', 'let', 'depressing', 'thesis', 'Broke', 'PNG', 'Jadot', 'amounted', 'authorisation', 'estrogen', 'nsEventStateManager', 'optical', '.?).', 'permission', 'REQUEST', 'Geeky', 'lied', \")'\", '1903', 'loss', 'x', 'buzzing', 'Sted', 'clerk', 'fatass', 'Claret', 'pulling', 'Looks', 'OUTGOING', 'wrap', 'terrorism', 'Grenachey', 'Because', 'operating', 'Vanity', 'chidren', 'ENH', 'pitched', 'Bin', 'unable', 'Power', 'Webpage', 'mature', 'Hag', 'suspicion', 'PC', 'navbar', 'dowloading', '71st', 'pearl', 'ruit', 'seem', 'Shame', 'wrapper', 'searches', 'grippier', 'Schließen', 'Labor', 'Aqua', 'Garganega', 'compartments', 'used', 'Longer', 'Correctly', 'nsIXULChromeRegistry', 'showed', 'google', 'Melb', 'Guidelines', 'queers', 'ign', 'newly', 'Muscular', 'depicting', 'drawers', 'visually', 'Worth', 'command', 'Cos', 'MouseWare', 'pes', 'delimited', 'Step', 'adverts', 'Jewess', 'Guess', 'masturbated', 'races', 'nvidia', 'Stairway', 'bint', 'shadow', 'Pittsburgh', 'Tom', 'Anarcho', 'enchanter', 'Decent', 'tops', 'doing', 'Perfumed', 'garbled', 'Weatherby', 'version', 'abortion', 'Congressman', 'Mouvedre', 'Bouncing', 'Dialog', 'sigh', 'broomstick', 'holes', 'aborted', 'adventure', 'lol', 'whup', 'Vulnerability', 'mental', 'drag_and_drop', 'OmniWeb', 'dealin', 'shat', 'installExtension', 'Header', 'schooled', 'overcome', 'endearing', 'unbounded', 'busted', 'Quasi', 'Scuds', 'feint', 'rent', 'Cupcakes', 'steel', 'highly', 'whacks', 'tested', 'trainer', 'NT', 'Miami', 'families', 'focusing', 'correctly', 'ruled', 'Coma', 'Obviously', 'decent', 'Fat', 'lactation', 'Bloody', 'URL', 'rdquo', 'uninstalled', 'consulate', 'without', 'Barfly', 'sauce', 'MARQUEE', '=\"', 'lasting', 'Dew', 'utilityOverlay', 'spanks', 'Compass', 'Paypal', 'crapped', 'produced', 'Modal', 'confit', 'homely', 'napkins', 'explanation', 'Delicate', 'mixing', 'geev', 'blanked', 'numerous', 'western', 'FLYING', 'wannabe', 'serious', 'newest', 'Inspector', 'weapons', 'Leonardo', 'Sidewalk', 'Olsen', 'argument', 'candles', 'looked', 'development', 'thumping', 'xxx', 'comes', 'Canada', 'technically', 'Ironic', 'Gospel', 'Domaine', 'comedian', 'vessel', 'establish', 'consoleBindings', 'ra', 'arms', 'Burgundian', 'Sometime', 'Detect', \"':\", 'Shepherds', 'yaoi', 'remove', 'requiem', 'Doctype', 'Bagel', 'Libre', 'Talk', 'Parenthood', 'spoiled', 'Soho', 'expander', 'working', 'backspace', 'oomph', 'nigga', 'Titanic', 'Kevin', 'Sorority', 'delight', 'hanged', 'waitin', 'LAPTOP', 'Bookmark', '51', 'destination', 'Filename', 'unhighlight', 'rounder', 'great', 'Links', 'inactive', 'Abacast', 'perm', 'toast', 'ul', 'Away', 'perceived', 'summery', 'Stoned', 'wordwrap', 'nutty', 'i', 'TV', 'Down', 'pgup', 'Undrinkable', '.....)', 'pickup', 'recognized', '\"(', 'Pink', 'FULL', 'rhodium', 'anxiety', 'Brad', 'libnspr4', 'match', 'Eternal', 'fizz', 'Intel', 'opening', 'blush', 'bounty', 'Slaves', 'Nicaragua', 'polished', 'juices', 'duo', 'Koleniko', 'percentages', 'restaurant', 'altering', 'owe', 'jerking', 'cork', 'apricoty', 'detects', 'thine', 'morbidly', 'travelled', 'system32', 'Unix', 'disgusting', 'pierce', 'Usted', '))', 'Applebee', 'Two', 'tribal', 'Realist', 'animality', 'plaid', 'Flag', 'finishing', 'Flash', 'twister', 'lowest', 'Beth', 'abomination', 'Pie', 'crowds', 'gerbil', 'converts', 'comin', 'Rawk', 'cashew', 'coughing', 'usual', 'rower', 'battonage', 'reappearing', 'anybody', 'accel', 'camphor', 'cranberries', 'crooked', 'AUSSIE', 'decline', 'nudie', 'trashy', 'Outfitters', 'follow', 'Over', 'stomach', 'zipped', 'Arc', 'Rhonish', 'Reasonable', 'Ann', 'tabbing', 'Advanced', 'limey', 'regardless', 'Colonoscopy', 'commemorative', 'Prettiest', 'Gibbs', 'Chrysler', 'Richie', 'Babies', 'prescribe', 'Extension', 'willing', 'External', 'Called', 'Wordsmith', 'docshell', 'neat', 'now', 'player', '071', 'inebriated', 'Chileans', 'freezing', 'intense', 'flamboyant', 'Generate', 'unsatifyingly', 'byte', 'Else', 'longass', 'Progressmeter', 'introduced', 'uncompressed', 'potty', 'COPPER', 'arresting', 'safari', 'intercourse', '27', 'NRL', 'more', 'boomark', 'multi', 'usaa', 'JA', 'generalized', 'loved', 'le', 'weakest', 'makeout', 'Uzi', 'javascriptlaunch', 'close', 'timeless', 'columns', 'PENINSULA', 'masturbation', 'execcommand', '155th', 'deadline', 'Regression', 'args', 'Richly', 'Poppet', 'decanter', 'peeople', 'note', 'demon', 'Espanol', 'Intern', 'Howard', 'NBA', 'diacritic', 'Monetary', 'Taller', 'CART', 'City', 'queryCharset', 'rightclicking', 'Outline', 'googlebar', 'sleepy', 'Embassy', 'centering', 'Fab', 'Telugu', 'pastor', 'recommendation', 'Huge', 'Lion', 'Impressive', 'everyone', 'Maybe', 'hooked', 'CPU', 'facial', 'mercy', 'meaty', 'Carnie', 'labia', 'lube', 'experience', 'daily', 'Yeahs', 'babysit', 'MINSTREL', 'Failed', 'administrator', 'conceive', 'Lindsay', 'terribly', 'noboby', 'Cru', 'generating', 'cheesy', 'Cochran', 'addObserver', 'crashs', 'brave', 'bullshit', 'hiding', 'Headphone', 'Ginka', 'system', 'Hick', 'vanished', 'into', 'responsibility', 'shamrocks', 'descends', 'Skipped', 'red', 'attibute', 'xprint', 'interior', 'inch', 'sneakers', 'George', 'Dogs', 'lifestyle', 'AAARRRGGGHHH', 'hardness', 'flabby', 'cheaptickets', 'steroids', 'Hold', 'turtles', 'mangos', 'cargo', 'grad', 'motherfuckers', 'avoiding', 'illegal', 'Sweltering', 'Stylist', 'cobblestones', 'Faggot', 'show', 'faithful', 'midgets', 'Threat', 'Hanna', 'San', 'depreciated', 'Erroneus', 'Er', 'Us', 'enough', 'artists', 'Week12', 'AA', 'unclosable', 'battery', 'contentlocale', 'Steal', 'Locale', 'LastVisitDate', 'Active', 'Nine', 'judgement', 'hookers', 'dormant', 'matrimony', 'suspenseful', 'psychology', 'stopping', 'piercing', 'scar', 'here', 'staple', 'Compose', 'rotates', 'vBulletin', 'GUY', 'FUCKIN', 'launching', 'Enabling', 'insight', 'unstoppable', 'besides', 'almond', 'paranoid', 'nuttin', 'miserables', '?\"--', 'reside', 'reveals', 'spicyness', 'textmode', 'scoring', 'seatbelts', 'Pad', 'Percocet', 'whiskey', 'monstrous', 'DoubleClick', 'Submit', 'Darling', 'accents', 'handled', 'seduce', 'action', 'Salvador', 'Blue', 'mutinied', 'Monet', 'Cache', 'Hanukkah', ':/', 'remix', 'adorable', 'autocracy', 'Disable', 'origin', 'stitch', 'mingw', 'DAVID', 'money', 'tampon', 'Next', 'gym', 'suede', 'swim', 'cpp', 'Scrolling', 'fund', 'Ozzy', 'apply', 'Baked', 'LIVE', 'Sophisticated', 'PIRATES', 'quits', 'Peruvian', 'expire', 'persecuted', 'plummy', '{', 'nah', 'Accesskeys', 'post', 'carpet', 'everytime', 'wow', 'stronger', 'mortified', 'waxed', 'Unpleasantly', 'defualt', 'non', 'poopie', 'four', 'mentions', 'soy', 'chosen', 'German', 'inhale', 'QuickNote', 'Satisfiable', 'facicon', 'Pulldown', '\\\\<', 'blown', 'dime', 'Dark', 'unwraps', 'wallow', 'emits', 'XPConnect', 'openPreferences', 'sale', '05', 'SHRUBBER', 'locally', 'cheat', 'kosher', 'MIT', 'Groundhog', 'fifth', 'INSTALL', 'derstandard', 'burnt', 'Erm', 'Willy', 'frames', 'toothbrush', 'litter', 'Absolutely', 'Apparently', 'found', 'minimised', 'nsDogbertProfileMigrator', 'papaya', 'thinkin', 'chin', 'Practical', 'nsSidebar', 'sequel', 'onomatopoeia', 'ASCII', 'Mysterious', 'Maison', 'niece', 'agreeable', 'Rosalyn', 'spiritual', 'gum', 'tripod', 'feeling', 'hire', 'autodetected', 'FBI', 'shaving', 'lynching', 'exhhuasted', 'smalay', 'Possibility', 'signals', 'accept', 'savages', 'pecan', 'Modest', 'tomorrow', 'preferably', 'refuses', 'cardboard', 'Due', 'yuppie', 'Anorexic', 'disallows', 'draging', 'Manattan', 'goin', 'Rheged', 'fetid', 'ex', 'Sites', 'Comedy', 'Suzy', 'dark', 'def', 'February', 'cokies', 'stranger', 'translation', 'error', 'IRT', 'oily', 'moron', 'overgenerous', 'nsDownloadsDataSource', 'punished', 'lazy', 'finishes', 'neck', 'old', 'stead', 'slower', 'DEADBEEF', 'EPX', 'World', 'Fairly', 'Launch', 'cranberry', 'maggots', 'carving', 'edited', 'ln', 'Mitzvah', 'battle', 'kerosene', 'stepped', 'shark', 'classification', 'shoes', '55', 'DDE', 'Scarlett', '!?', 'autocompletes', 'reset', 'squared', 'Urban', 'Scroll', 'delimiter', 'be', 'ed2k', 'mmore', 'blasts', 'girl', 'passwords', 'reasons', 'targeted', 'Hair', 'am', 'staircase', 'vintage', 'scuttled', 'probably', 'CDRWin5', 'trendy', 'cd', 'ho', 'still', 'checkbox', ':-(', 'treacle', 'aerodynamic', 'takeout', 'consuming', 'eyeballs', 'shoulda', 'configs', 'blowgun', 'New', 'Floating', 'Ferdinand', 'register', 'sho', 'as', 'covers', 'ANY', 'choy', 'dose', 'equivalents', 'toggled', 'donate', 'admired', 'Arimathea', 'buddies', 'worked', 'Perignon', 'Oedipus', 'peas', 'Block', 'Blake', '>\\\\', 'Guards', 'extended', 'seamless', 'tucks', 'Standardized', 'troubleshoot', 'wings', 'pleasantly', 'ooh', 'Cote', 'dad', 'ravishing', 'grail', 'Hunky', 'Fun', 'Assumes', 'authenticate', 'halves', 'aesthetic', 'jpbe', 'Hovers', 'encrypted', 'Naaah', 'hospital', 'adventurer', 'render', 'hata', 'hottie', 'Hard', 'Embedded', 'Meunier', 'Union', 'woof', 'resistance', 'oldish', 'Barbara', 'Slavic', 'assassin', 'aliased', 'petals', 'cap', 'heavily', 'Ives', 'mohawks', 'Classy', 'tilts', 'Dolly', 'XSL', 'quest', 'rightclick', 'er', 'outline', 'Chassane', 'Foundation', 'NULL', 'street', 'yurt', 'substantial', 'Cingular', 'collapsed', 'mpopup', 'channels', 'soiled', 'Donna', 'sweety', 'Seepage', 'MozillaFirebird', 'saline', 'glorious', 'v5', 'Alt', 'x7', 'lesbo', 'victim', 'Broker', 'suite', 'vag', 'MSVCRT', 'penis', 'results', 'lonely', 'daga', 'pitchfork', 'vendor', 'that', 'process', 'ProfileManager', 'hysterically', 'testured', 'melange', 'drive', 'nsIImageLoadingContent', 'rigth', 'partly', 'pageInfo', 'msn', 'hay', 'Black', 'Effects', 'meatballed', 'hole', 'Commandline', 'fb', 'anonymous', 'flipper', 'digs', 'slow', 'HELLO', 'Training', 'belinda', 'Febreze', 'managed', 'wheels', 'Chinatown', 'Find', 'configuration', 'Banana', 'Counter', 'aol', 'Norman', 'ringtones', 'Geisha', 'dishonest', 'published', 'transvestites', 'Entering', 'between', 'liquified', 'Tolkien', 'pinto', 'pointy', 'chatracter', 'bandstand', 'Domestic', 'stale', 'uninspiring', 'Encoding', 'Vagisil', 'format', 'seventeen', 'kilobytes', 'farts', 'Hotkeys', 'tries', 'mankind', 'px', 'mouthfilling', 'phoenix', 'Pretty', 'publisher', 'menuseparator', 'bummed', 'elephant', 'Idle', 'Trapping', 'Sergei', 'duel', 'Pieces', 'Doors', 'COAST', 'Tight', 'mouse3', 'slabs', 'Rabbit', 'carp', 'idicator', 'italian', 'sit', 'preprocessor', 'cereal', 'pretty', 'delivery', 'rc', 'hazelnuts', 'fruitier', 'subfolders', 'enableForCurrentSessionOnly', 'Cancel', 'undeformed', 'Ihink', 'anxious', 'allergic', 'Necrophiliac', 'Caption', 'Chinaman', 'freed', 'cooter', 'sounds', 'embed', 'shack', 'Mom', 'berthing', 'Mostly', 'Flashplayer', 'middleclick', 'gains', 'split', 'gaydar', 'following', 'dialysis', 'blew', 'HERBERT', 'Warfare', 'OC', 'lawyer', 'appers', 'Parliament', 'chickens', 'Madeira', 'wading', 'osnews', 'Adams', 'waited', 'umlaut', 'Pussy', 'xpi', 'candlelight', 'paycheck', 'higher', 'Allowed', 'FUUUCK', 'Bugfix', 'needy', 'forestall', 'named', 'Difficult', 'Hallelujah', 'reliable', 'sarcastic', '78th', 'prior', 'Wayy', 'manager', 'heel', 'Children', 'Burn', 'firemen', 'displays', 'dirty', 'gropey', 'modal', 'Youngish', 'stayed', 'Lohan', 'test', 'syndicalist', 'calculations', 'Binutils', 'purity', 'yours', 'tutorial', 'piss', 'b0rk', 'especially', 'WAS', 'MSDN', 'reuse', 'mousedown', 'Burt', 'Creepy', 'exclusive', 'footlong', 'hijacks', 'osx', 'jump', 'Twenty', 'CopyFormData', 'wth', 'LITTLE', 'Beaujolais', 'charred', 'Reade', 'crashed', 'overshadow', 'MacBook', 'rotten', 'liberal', 'earrings', 'favicons', 'Ridden', 'mugged', 'ASIAN', 'adressbox', 'worksheet', 'stuck', 'stack', '}....', 'Woah', 'flu', 'Taylor', 'Dressy', 'Qualified', 'auto', 'somethin', 'mins', 'Meursuault', 'intranet', 'typelib', 'afoul', '++-', 'Policeman', 'enter', 'Let', 'oy', 'worm', 'loving', 'mammal', 'TouchWare', 'sleeper', 'Cashew', 'picture', 'ignore', 'flex', 'entering', 'Ay', '?),', 'troian', 'dearly', 'mousewheeling', 'Barbossa', 'thump', 'an', 'couple', 'relaxing', 'Freeze', 'Vinci', 'Cmd', 'Flicker', 'heaviness', '85th', 'someday', 'debris', 'missiles', 'stove', 'directory', 'hit', 'strides', 'apiece', 'Barnard', 'vacations', 'expectations', 'Forums', 'sterile', 'train', 'Northcote', 'hottest', 'Englishman', 'tcp', 'Connery', 'aquatic', 'giving', 'pneumonia', 'Belts', 'Told', 'Phoenix', 'navigating', 'GREEN', '47', 'railing', 'Forever', 'drummers', 'Talbot', 'lies', 'gaim', 'unimportant', 'accidental', 'Warhols', 'cons', 'department', 'relegated', 'Mozilla', 'Rhones', 'Web', 'copied', 'Ralph', 'flesh', 'pink', 'PROFESSIONAL', 'icon', 'write', 'Print', 'Asian', 'iselegan', 'hardcore', 'TAG', 'Opening', 'DOWN', 'infections', 'Edmunds', 'presented', 'Tore', 'Trump', 'Pez', 'erection', 'decompressed', 'toffeed', 'paint', 'vase', 'minimizing', 'bang', 'backgrounds', 'Welcome', 'Thy', 'compel', 'butters', 'vibrating', 'bok', 'socially', 'Between', 'leverage', 'Atlantic', 'type', 'Fship', '20021122', \"*'\", 'kingdom', 'woolworth', 'reintroduce', 'F2', 'chaps', 'Yogi', 'sunny', 'somewhat', 'weeks', 'mozapps', 'Gtk', 'Oxidised', 'serve', 'ton', 'virgins', 'toolbarbutton', 'freezed', \"'-\", 'eroro', '0x80004005', 'Actively', 'Source', 'Wah', 'Kermit', 'Ohmygod', 'brotha', 'damages', 'matter', 'High', '04', 'Chubby', 'squeak', 'Smoothwheel', 'Dumb', 'oven', 'stares', 'Uhhh', 'autocopy', 'alarms', 'sticks', 'headlines', '#', 'xpcom', 'BRIDGEKEEPER', 'recreational', 'unattached', 'Dog', 'adblock', 'yyy', 'Confused', 'Trick', 'taint', 'hormones', 'bookmarks', 'js_NewObjectMap', 'demand', 'sorta', 'authority', 'Network', 'Appetising', 'challah', 'anals', 'spirit', 'Whne', 'tight', 'widgets', 'gooping', 'errors', 'Technet', 'lables', 'nerd', 'Sing', 'soften', 'Marvel', 'featureless', 'activly', 'FRENCH', 'worstest', 'remembers', 'sudden', 'periodically', 'Before', 'scoops', 'Sopranos', 'rage', 'There', 'autoScroll', 'intimidate', 'konqueror', ';#', 'singles', 'animation_mode', 'WMZ', 'sumitting', 'ONCE', 'Awkward', 'pardon', 'Stuyvesant', 'elitist', 'signout', 'mpeg', 'bitchfabulous', 'meditate', 'HBO', 'SmartSource', 'worldcrossing', 'Seeks', 'shields', 'wrinkly', 'Personally', 'redirect', 'Diaries', 'DIRECTV', 'openDialog', 'route', 'Snicket', 'debug', 'closeable', 'buried', '?:))', 'pulp', 'Fuees', 'nat', 'Cottontail', 'raucous', 'slammed', 'wonderful', 'promising', 'footwork', 'flat', 'has', 'reinstall', 'aced', 'downloadmanager', 'Slightly', 'NOOO', 'margin', 'lowercase', 'Addiction', 'teddy', 'savior', 'disembarks', 'EXEs', 'paprika', 'varletesses', 'Load', 'Asking', 'Cutler', 'Tuh', 'Warn', 'minimize', 'Ballroom', 'Gingery', 'nods', 'become', 'credited', 'Engines', 'holiday', 'biography', 'Prince', 'bgsound', 'Ds', 'Yeah', 'Lignier', 'Grease', 'England', 'graph', 'helpful', 'blogger', 'consultant', 'impression', 'r', 'particularily', 'NOSCRIPT', 'autocompletion', 'seech', 'MOZRMI36', 'peeps', 'Clearing', 'dialouge', 'onclick', 'reliably', 'unloads', 'Never', 'reserved', '41', 'Parsing', 'village', 'Separator', 'Clinton', 'Groups', 'syphilis', 'unzipped', 'gamay', 'Cyberarmy', 'described', 'properly', 'hyperlink', 'shoo', 'status', 'poet', 'argyle', 'credit', 'alarm', 'Douche', 'Data', 'Wachau', 'numbers', 'automagically', '41yo', 'related', 'Quicklaunch', 'spaces', 'profanities', 'Believe', 'Attila', 'revulsion', 'Maltese', 'Emerges', 'According', 'Mosel', 'sometime', 'vegetarians', 'dit', 'farfetched', 'hyphenation', 'socialites', 'lived', 'farm', 'breathing', 'cucumber', 'quietly', 'pissed', 'such', 'acidity', 'bars', 'fuit', 'prescribed', 'youngest', 'complexion', 'Ramonet', 'filling', 'wamu', 'WASP', 'commission', 'useful', 'widower', 'mailto', 'doof', 'buttery', 'aruond', 'allowed', 'SCORPIO', 'embarrassing', 'making', 'catch', 'cupcakes', 'zip', 'jpg', 'recent', 'apricot', 'Anyway', 'chakra', 'Julian', 'clay', 'drinkabe', 'edu', 'subsequent', 'wherein', 'performer', 'gosh', 'hurry', 'government', 'crack', 'Were', 'Diff', 'Separate', 'fourth', 'GUARD', 'mirrors', 'Pack', 'protected', 'guide', 'Excite', 'Mason', 'knot', 'Certain', 'eveyone', 'Bo', 'dropping', 'redials', 'considered', 'attr', 'Barry', 'complicated', 'componentize', 'eldeflower', 'arrested', 'autoscrolling', 'alley', 'UltraNav', 'stapler', 'closets', 'interestingly', 'retarded', 'Yet', 'gypsy', 'windowopen', 'Image', 'Highlight', 'Timeout', 'Blah', 'interruption', 'paypal', 'Mrs', 'remote', 'scuse', 'wid', 'barrique', 'reads', 'cues', 'Win2k', 'rice', 'movin', 'flavoursome', 'underpinning', 'swear', 'shirts', 'kitty', 'fedora', 'indentation', 'UK', 'tragic', 'fascista', 'corkiness', 'clowns', 'Legends', 'intently', 'precision', 'drining', 'beared', 'Word', 'Mermaid', 'Polish', 'well', 'by', 'Jar', 'killed', 'NYC', 'initial', 'do', 'affirmative', 'almonds', 'java_vm', 'missionary', '664', 'misery', 'Quartet', 'dreaming', 'Lexington', 'Years', 'Bodies', 'Spinning', 'tie', 'showin', 'seal', 'Markers', 'mustard', 'disturb', 'imitation', 'evolve', 'Accessing', 'alinged', 'texture', 'releasing', 'zippered', 'Exhibit', 'slaving', 'commuter', 'tumble', 'replicable', 'hideous', 'iso', 'elegant', 'barnyard', 'herbs', 'TABS', 'Owner', 'presumably', 'thieves', 'cheeks', 'mellowed', 'Auxey', 'Last', 'story', 'Migrates', 'troll', 'Prep', '2GB', 'crypto', 'FF10x', 'DLL', 'picquant', 'cheated', 'disintegrated', 'Fixfox', 'Olfin', 'Lobstah', 'avoided', 'clhandler', '###!', 'Retired', 'extensionroom', 'crops', 'ypon', 'chene', 'Auth', 'Ford', 'keystroke', 'Dolcetto', 'desert', 'Enclosing', 'Tonys', 'killin', 'Traveled', 'TB', 'Showing', 'Doorman', 'depict', 'blackboard', 'sending', 'rep', 'blacker', 'Reopening', 'DO', 'rises', '...\"', 'writes', 'FIREBIRD_0_8_BRANCH', 'trippy', 'bleed', 'sis', 'chubby', 'disinterest', 'warms', 'improved', 'vanquish', 'Applying', 'planner', 'bagel', 'Bob', 'detecting', 'entertainment', 'intellicast', 'i18n', 'oddity', 'GIMME', 'toenails', 'ecurity', 'Scouts', 'poison', 'trains', 'Party', 'CROWD', 'intrusive', 'shrine', 'checker', 'trained', 'taking', 'Components', 'juggle', 'scrollwheel', 'garbage', 'Very', 'align', 'roster', 'ABC', 'owned', 'Hezbollah', 'eboot', 'admincp', 'bestbuy', 'son', 'appear', 'firewall', 'Sending', 'expands', 'AAA', 'Vicodin', 'Modifying', 'listing', 'Pharaoh', 'pistol', 'wishes', 'HER', 'attributed', 'modest', 'trough', 'Wolf', 'rollers', 'configure', 'absolute', 'Museum', 'vipernetworks', 'pagedown', 'terminate', 'Al', 'element', 'sez', 'bodied', 'oar', 'Crashed', 'secure32', 'trips', 'harmless', 'showering', 'DEAD', 'suspect', 'NVIDIA', 'Porty', 'laws', 'censored', 'midweek', 'never', 'sentence', 'bears', 'nsAutoCompleteMdbResult', 'immune', 'Marry', 'simply', 'outlook', 'STDs', 'odeon', 'boing', 'talked', 'squid', 'recreation', 'manners', 'Sense', 'whorehouse', 'STUNNER', 'Sacajawea', 'shiraz', 'mouseup', 'emit', 'voyage', 'git', 'descend', 'Cigar', 'rfc2616', 'designer', 'Account', 'Scrapes', 'jar', 'Standalone', 'blanket', 'm', 'poise', 'Captain', 'pmmail', 'generally', 'Bass', 'banking', 'enigma', 'karaoke', 'Belarus', 'bovril', 'Dancer', 'cases', 'touchin', 'vein', 'Avril', 'leprechaun', 'further', 'comparision', 'feeder', 'electrical', 'Kennedy', 'hemorrhoids', 'Oui', 'payment', 'life', 'womb', 'IM', 'commented', 'Frustrated', '07', 'eight', 'cert', 'butt', 'ICO', 'spirity', 'Understated', 'fees', 'Fredrickson', 'understated', 'covering', 'travellers', 'shuts', 'Schubert', 'native', 'Knoppix', 'plausible', 'Lynch', 'inverse', 'Edge', 'rendition', 'holla', 'roap', '302', 'Duff', 'Delancey', 'appl', 'container', 'dealing', 'ordering', 'org', 'HTML', 'factor', 'gonzo', 'Activist', 'Allen', 'queuing', 'venison', 'Hawaii', 'magicians', 'biff', 'mentioned', 'ctl', 'Loading', 'scaling', 'tank', 'BX', 'necessary', 'freaks', 'Olympian', 'ears', 'genes', 'Bitches', 'Maynard', 'bar', 'ping', 'Honey', 'style', 'testify', 'Indicator', 'PRINCE', 'dimension', 'eveloved', '*...', 'Dominican', 'cookbook', 'exactly', 'zSeries', 'mouseclicks', 'include', 'tolling', 'scare', ':(', 'fangs', 'readme', 'spindle', 'tiniest', 'evident', 'Gcc', 'buckle', 'Kid', 'Pulignyish', 'consolidate', 'Ugh', 'chihuahua', 'Hyy', 'place', 'chome', 'fine', 'Paste', 'Canel', 'DAD', 'Arrowing', 'Auntie', 'character', 'redolent', 'Thee', 'yoga', '\"*', 'MJ', 'Eeseepi', 'Location', 'unsecured', 'Pleasantish', 'seporate', 'clovers', 'Mission', 'Biotech', 'stroller', 'snort', 'affairs', 'deaf', 'MARTY', 'beetroot', 'confuse', 'Soave', 'Zoom', '*.', 'sittin', 'kidney', 'DANCE', 'As', 'Watch', 'treme', 'lighter', 'meals', 'permaculture', 'Thugette', 'gExtensionsView', 'recover', 'gaining', 'roads', 'Meat', 'rooting', 'homemade', 'PrefillPropertyArray', 'Rossio', 'Gran', 'font', 'craggy', 'Enemy', 'seg', 'disrespect', 'HERPES', 'runs', 'dolphins', 'Send', 'snatching', 'Spoofing', 'Strokes', 'emailed', 'Bowie', 'opportunity', '1850', 'nsTextFrame', 'Icons', 'treats', 'poppyseed', 'print', 'Rhone', 'piggyback', 'Fast', 'afterschool', 'Percent', 'onChange', 'Fahrenheit', 'JT', 'inexplicable', 'rejuvenated', 'ole', 'biscuity', 'oops', 'Buckingham', 'Supremacy', '9', 'boobs', 'subtle', 'designated', 'Rihanna', 'noticeable', 'dirs', 'Scented', 'Macon', 'Joseph', 'Twink', 'meaningful', 'hostess', 'amazing', 'Late', '57YRS', 'hee', 'GREENBEARD', 'ICON', 'Randy', 'searchbar', 'Hmmm', 'wonder', 'bill', 'unemployment', 'spiral', 'freez', 'FireBird', 'w2k', 'backqoutes', 'ragging', 'meta', 'laughter', 'Levis', 'Bermuda', 'cancellation', 'bikes', 'Matthew', 'logic', 'Silence', 'spent', '\"?\"', 'did', 'duelists', 'skulls', 'pack', 'Huy', 'damn', 'Caramel', 'manner', 'ghosts', 'manage', 'insert', 'xperts', 've', 'Dickinson', 'assassinated', 'wanton', 'AFFECTIONATE', 'antifreeze', 'Optometrist', 'excitement', 'California', 'battering', 'slap', 'eurasian', 'fright', 'snoring', 'draw', 'Ditmars', '-->', '!!!', 'escaping', 'Someone', 'Buttons', 'shrubber', 'assaulted', 'steam', 'fires', 'Cockney', 'bringing', 'superficially', 'XBL', 'eBay', 'donkeys', '****', 'Lan', 'parsing', 'Whaddo', 'HARLEY', 'ptoolbar', 'Brainiac', 'humming', 'Inability', 'neeeded', 'manufacturers', '?', 'Suaver', 'pixels', 'dreamer', 'Haha', 'appley', 'exasperation', 'build', 'burritos', 'gypsies', 'weeed', 'Meet', 'hours', 'Alien', 'pierces', '\")', 'koss', 'secure', 'reverts', 'Chimapate', 'romance', 'apple', 'tabgroups', 'corruption', 'passengers', 'Barsac', 'sorely', 'headless', 'dollas', 'Oscar', 'elected', 'deftly', 'evaded', 'Manager', 'molest', '30s', 'mending', 'weighs', 'shirfted', 'Alta', 'pastrami', 'gel', 'pig', 'coffin', '+;', 'maderisation', 'intervenes', 'advertisement', 'drinks', 'Yorkian', 'shortcut', 'Broome', 'cask', 'c', 'porn', 'unreachable', 'Toggle', 'Forte', 'inadequate', '2', 'spa', 'farmyard', 'Simpsons', 'Herbal', 'Kamal', 'biggie', 'ballroom', 'cfm', 'theaa', 'America', 'Latin', 'Wallpaper', 'kid', 'Nile', 'Whore', 'Exhales', 'Program', 'deeply', 'rich', 'kiosk', 'FREE', 'relocation', 'displayes', 'These', 'Yesterday', 'hmm', 'bark', 'embedded', 'discretion', 'stretched', 'abandoned', 'bottled', 'fan', 'havbe', 'FedEx', 'consumed', 'against', 'msi', 'pans', 'influential', 'treat', 'premier', 'FWD', 'Terminal', 'enema', 'Exchange', 'cumbersome', 'valleys', 'Halter', 'ketchup', 'defaults', 'centuries', 'Galahad', '40', 'Becky', 'Rodney', 'unrecoverable', 'ACS', 'crawling', 'pipe', 'Truncated', 'warn', 'wild', 'pooping', 'Boxers', 'chinks', 'allergy', 'Or', 'watched', 'Piquant', 'demonstrate', 'Porn', 'entitlement', 'bad_exception', 'inputting', '246903', 'Anthony', 'slid', 'integrated', 'Nah', 'Paolo', 'Orphanage', 'mouse5', 'Trader', 'zero', 'hiccups', 'wong', 'using', 'hoove', 'Vin', 'dirt', 'satchel', 'Roll', 'ruined', 'readable', 'fut', 'bbc', 'menu', 'spacing', 'rabbit', 'slope', 'visual', 'planet', 'lobbest', 'toolbarpalette', 'james', '7x', 'isn', 'rship', 'Download', 'lasagna', 'infinetly', 'modify', 'hyphens', 'Bushwick', 'packets', 'points', 'Support', ';\"', 'hater', 'crunches', 'lady', 'Liquor', 'postpone', 'cultures', 'SJP', 'Random', 'Alberto', 'squishy', 'Toolkit', 'flappy', 'tainted', 'Plus', 'raisiny', 'Benjamin', 'rowboat', 'trease', 'Production', 'century', 'StaticBuilds', 'creates', 'sunken', 'needing', 'respected', 'planes', 'Manual', 'spider', 'Austen', 'Has', 'lambs', 'VV', 'winamp', 'Meth', 'equivalent', 'Reprogramming', 'shake', 'decanting', '\\x92', 'brothel', 'chattering', 'Stuart', 'presentation', 'leftarrow', 'submenues', 'single', 'gkcontent', 'HOME', 'eloquent', 'Yay', 'dangerously', 'spray', 'song', 'breathin', 'research', 'shopping', 'conifgurable', 'Parity', 'Conservatively', 'obviously', 'Fratboy', 'Tony', 'Texts', 'egged', 'belt', 'Inconsistant', 'woodiness', 'Messiah', 'accessory', 'hung', 'Disabled', 'frequently', 'internationalized', 'residual', 'coral', '28', 'seashore', 'seeming', 'bayonette', 'bolted', 'getYear', 'Conn', 'hunchback', 'Your', 'bills', 'myself', 'Listen', 'Fork', 'Graphical', 'nerves', 'gametimesonline', 'spect', 'cheerleading', 'fontsize', 'sperm', 'Entered', 'minerality', 'cooler', 'Exclusion', 'Vietnam', 'Beyonce', 'Arabia', 'anti', 'mod', 'baggy', 'polyp', 'blinks', 'cumming', '!),', 'Responding', 'Days', 'offering', 'hitchhiked', 'GetInputs', 'Broken', 'geometric', 'Gentaz', 'msvcrt', '127539', 'nest', 'app', 'mountains', 'whopper', 'doggie', 'Mini', 'zipping', 'Managing', 'Complements', 'AVIARY_1_0_20040515_BRANCH', 'YORKE', 'filename', 'literature', 'blond', 'slime', 'č', 'Dove', 'harasser', 'shimmering', 'Spain', 'sheriff', 'bench', '(', 'xstacy', 'Unblocking', 'pools', 'via', 'inking', '.', 'on', 'Massachusetts', 'Wanna', 'el', 'BBQ', 'Neither', 'onions', '404', 'migrated', 'forgave', 'prosciutto', 'chainsaw', 'greater', \"`#'\", 'trip', 'intellectually', 'frustrated', 'Super', 'slider', 'abstract', 'Building', 'For', 'uninitialized', 'One', 'Printer', 'bonus', 'Minesweeper', 'shampoo', 'inconsistency', 'vanish', 'unclear', '48YO', 'stocking', 'capsule', 'customise', 'dedicated', 'sounding', '20031214', 'Aaron', 'Barbacasue', 'BOY', 'filming', 'uncommented', 'RA', 'bookamrks', 'Morrison', 'Screaming', 'are', 'hamster', 'diaphragm', 'v9', 'mailnews', 'softly', 'Peachy', 'TXul', 'Exits', 'dames', 'rinsing', 'oxidativeness', 'very', 'IsRelative', 'meaning', 'Gombee', 'Ethan', 'open', 'dollahs', 'ankles', 'tag', '%/', 'deploying', 'marked', 'Alright', 'peterre', 'clamato', 'keepers', 'Jones', 'touchpad', '19th', 'FAQ', 'peel', 'Quiero', 'Jessica', 'seas', 'diseases', 'Roda', 'gurgle', 'dumplings', 'matrix', 'infant', 'ALL', 'melts', 'noshade', 'landscape', 'Panorama', 'resets', 'logon', 'Rent', 'filepicker', 'autoupdating', 'SC', 'redhat', 'upward', 'Torrent', 'grip', 'Cash', 'Partly', 'inter', 'arriving', 'naughty', 'vitamins', 'hinting', 'Eradicate', 'dangles', 'BLUE', 'Fascinating', 'migrations', 'dictatorship', 'Approaching', 'Peanut', 'massage', 'colisions', 'Construction', 'nsSoftwareUpdate', 'Bug', 'knights', '*(*)', 'Romanee', 'inconsistently', 'wiling', 'enhance', 'Misbehavior', 'clarity', 'steely', 'situations', 'Fucking', 'Things', 'taxes', 'grader', 'whitelist', 'Cyclone', 'suave', 'HKCR', 'synchrony', 'winery', 'Supposing', 'NFS', 'Incorrect', 'fishnet', 'bid', 'cleavage', 'SoHo', 'permanently', 'pile', 'torpedos', 'contributor', 'temperature', 'done', 'north', 'times', 'Davy', 'suck', 'Those', 'coarseness', 'La', 'eh', 'Core', 'Be', 'austere', 'doin', 'forgiven', 'overlay', 'auditorium', 'Grouping', 'Seas', 'Traveler', 'sails', 'Stand', 'redirected', 'judged', 'Saves', 'afterwards', 'Lifetime', 'awake', 'Getting', 'Heh', 'endlessly', 'persuaded', 'laurels', 'Fantasy', 'flute', 'profits', 'Suave', 'Aussie', 'figure', 'Wrap', 'FF0', 'uniquely', 'Tonight', 'recount', 'scratching', 'ER', 'number', 'adopted', 'subpage', 'streets', 'FUN', 'exposed', 'croppeed', 'bamboo', 'minty', 'Pfft', 'deepening', 'Helloooo', 'rhino', 'six', 'radicalism', 'rewind', 'Demanding', '\",', 'Impala', 'herself', 'local', 'pointless', 'Corked', 'duuuuuude', 'Dare', 'combinations', 'mornin', 'foolish', 'readonly', 'diary', '-[', 'Course', 'folk', 'Moscato', 'pointing', 'concern', 'seeds', 'strange', 'bouncing', 'sad', 'IT', 'nutjob', 'mohawk', 'frameset', 'Paco', 'drinkability', '72', 'Times', 'shape', 'Interests', 'weekday', 'grocery', 'Powerade', 'touring', '---', 'Certified', 'describe', 'RANDOM', 'Nothin', 'Moss', 'ELIZA', 'glow', 'BCBG', 'color', 'Peas', 'synthesis', 'Adsense', '65533', 'Hoboken', 'Marvin', 'tabbed', 'Flustered', 'AND', 'LIFE', 'petition', 'Clare', 'OnTextEntered', 'Domain', 'Appendix', 'stranded', 'Larose', 'Here', 'Friendship', 'icky', 'Host', 'alias', 'lunging', 'Div', 'clllank', 'unozzie', 'Duplicated', 'dammit', 'TAB', 'firestone', 'Stony', 'catheters', 'reflect', 'quaffable', 'Uuh', 'Talking', 'Bravest', 'riper', 'paddies', 'Just', 'faceted', 'dismissed', 'wandering', 'Gyllenhaal', 'bugged', 'dismisses', 'deported', 'packed', 'premarital', 'Minnesota', 'shakes', 'Suppose', 'Rings', 'rdf', 'distribute', 'Richmond', 'MingW', 'Predetermined', 'Kick', 'departs', 'Wearing', 'Dang', 'incompatibility', \"!'\", 'bandana', 'exist', 'Blow', 'puts', 'YOUR', 'Bundle', 'BeOS', 'chose', 'faux', 'wharf', 'Sextra', 'adversary', 'assumes', 'leaf', 'Positive', 'river', 'douchebag', 'repeated', 'Enh', 'dimensional', 'Aaaugh', 'Carillon', 'camps', 'forthcoming', 'selfishly', '52yo', 'odbbb', 'DON', 'Boogers', 'newline', 'yellow', 'dat', 'Sofiya', 'lately', 'eva', 'desktops', 'autoscroll', 'square', 'farted', 'tickets', 'Rockettes', 'underway', 'Disk', 'x201C', 'taste', 'colleges', 'obscuring', 'Frat', 'nonfunctional', 'fn', 'julia', 'Win2000', 'Amen', 'falafel', 'Knock', 'Altar', 'liberty', 'Negro', '0x00000618', 'Vitamins', '.\"...', 'possessed', 'logons', 'hadn', 'copies', 'Inital', 'owner', 'Tons', 'grief', 'Journalism', 'Casting', 'contains', 'Pine', 'sketch', 'comedy', 'Pol', 'chest', 'active', 'expense', 'samples', 'Allways', 'hobby', 'badly', 'undefinetly', 'behind', \"'.\", 'coughs', 'panning', 'invisibly', 'wager', 'Jr', 'Lizard', 'Fileplanet', 'Lines', 'Meatier', 'ParseManifest', 'miniature', 'Parts', 'dropdown', 'systematicly', 'Giraffe', 'unstable', 'spicey', 'perhaps', 'Moz', 'Hampton', 'RAM', 'Tour', 'valor', 'PCs', 'inserted', 'notion', 'Improving', 'TLDs', 'latte', 'URLd', 'worry', 'himself', 'branch', 'PRISON', 'unavailable', 'He', 'dem', 'While', 'bounces', 'noose', 'molecular', 'Educated', 'Shopgirl', 'Boo', 'camped', 'then', 'pretending', 'populated', 'ITS', 'sonny', 'changes', 'porno', 'Hilary', 'Burberry', 'GCC', 'Cambridge', 'twenty', 'vests', 'intercept', 'Configuration', 'Boom', 'VIP', 'pretends', 'treasure', 'whether', '\":\"', 'espn', 'Uh', 'DTD', 'grand', 'shrimper', 'unfair', 'Looking', 'Tim', 'TABLE', 'NGApps', 'dumps', 'Umhm', 'Trish', 'Asked', 'ni', 'Repro', 'reinstalls', 'reinstalling', '255', 'Bittorrent', 'forms', 'rimming', 'Chop', 'mngr', 'ruffians', 'fucking', 'closest', 'Sir', 'tricky', 'Typo', 'hobo', 'ringtone', 'Raspingly', 'avoid', 'Kiosk', 'Nav', 'Quit', 'eisrequiem', 'Incovenient', 'Cobble', 'Linking', 'goes', 'problematic', 'blames', 'contests', 'fantastically', 'Ondragover', 'capitalized', 'sluts', 'rastafarian', 'might', 'Claus', 'code', 'duck', 'despite', 'musical', 'fanatics', 'Task', 'nl', 'installer', 'Farewell', 'pencils', 'nailing', 'stunned', 'ui', 'Binding', 'Makefiles', 'Idiot', 'Woa', 'AIDS', 'keybinding', 'exchange', 'stores', 'A4', 'Windowblinds', 'Boobies', \"()'\", 'Toplevel', 'profiledbuild', 'client', 'pee', 'coin', 'Kal', 'manifestation', 'ROD', 'matriarchal', 'carousel', 'mplayerplug', 'Californian', 'visibility', 'dispenser', 'replaces', 'Cherokee', 'mycroft', 'tellin', 'ntilde', '13th', 'loathe', 'lost', '_grey_', 'haircut', 'request', 'JAP', 'excusing', '\"\\\\\"', 'endangered', 'Satchel', \":'\", 'exceeds', '8th', 'trim_on_minimize', 'Failure', '!....', 'Patrick', 'fluffy', 'Aiming', ':)', 'comboboxes', 'tv', 'Auto', 'booksmarks', 'overlays', 'Knoxville', 'mama', 'Thinkpad', '5am', 'Tux', 'elemnts', 'watchin', 'title', 'Chile', 'heiress', 'Moving', 'Turnpike', 'Nador', 'vanishes', 'generate', 'wsm_attributes', 'versions', 'hoe', 'Fino', 'Gentlemen', 'lar', 'prettiest', 'signifying', 'transparent', 'groupings', 'algorithm', 'accident', 'Y2K', 'relocate', 'authentification', 'voila', 'deskmod', 'superstitious', 'Fahrpläne', 'undo', 'Bedwere', 'additions', 'dental', 'pears', 'Turner', 'parties', 'doc', 'wears', 'Assyria', 'basket', 'abandon', 'secrets', 'esd', 'border', 'syllable', 'bum', 'Weren', 'Tools', 'unhealthy', 'pixelated', 'bin', 'computer', 'proposal', 'washed', 'Possibilities', 'source', 'porting', 'appointment', 'them', 'I', 'Beating', 'else', 'IDN', 'Profilemanager', 'tor', 'mo', 'Charles', 'cloudier', 'Guild', 'planetarium', 'encounters', 'baric', 'enlarged', '>&', 'EASY', 'clutching', 'submenus', 'underwater', 'bearable', 'TextArea', 'blows', 'Admit', 'On', 'cockroach', 'Dry', 'Knocked', 'rimmed', 'siren', 'regular', 'Ballsy', 'Install', 'seein', 'knocked', 'Listens', 'cigary', 'also', 'agree', 'Hmm', 'HEADQUARTERS', 'downloader', 'alps', 'Playback', 'introduce', 'knuckles', 'Seamless', 'GRANDMUMMY', 'varied', 'walnuts', 'varietoes', '\"?', 'Bravely', 'Windws', 'video', 'accessed', 'suppose', 'smile', 'Bullets', '7zip', 'Fruitcakey', 'Problems', 'effect', 'Could', 'Hate', 'smacking', 'seaweed', 'taller', 'Semi', 'Associations', 'parsed', 'Backup', 'Grad', 'Hoochie', 'Freedom', 'goth', 'SIGSEV', 'Configurable', 'onLoad', 'Hiroshi', '20030223', 'primary', 'pulls', 'vineyard', 'steps', 'dll', 'share', 'unchristian', 'Circle', 'overlaps', 'vinyl', 'clue', 'nsAString', 'Amtrak', 'Directors', 'Cinco', 'natur', 'Throbber', 'rotating', 'blade', 'CREDITS', 'Prefer', 'Textbook', 'Gb', 'Acacia', 'tracking', 'validation', '!*', 'believe', 'Zamundo', 'Five', 'feathers', 'crystaline', '7', 'oversweet', 'Demi', 'easier', 'Whoppers', 'shrink', 'calmly', 'athlon', 'kill', 'PgDn', 'parade', 'Dr', '20030816', 'Hispanics', 'Cute', 'showers', 'Why', 'recap', 'provoke', 'hopper', 'migrator', 'fianc', 'hunters', 'respectable', 'west', 'barefoot', 'Directional', ']?', 'sweater', 'pepper', 'Italian', 'friended', 'Processed', 'localhost', 'ahead', 'Such', 'dancing', 'umbrellas', 'expansion', 'pl', 'Gangstas', 'SUV', 'Durex', 'CARRUTHERS', 'Explorers', 'London', 'passenger', 'bull', 'Goliath', 'customize', 'Weijing', 'snarls', 'stocked', 'Ion', 'Roar', 'sucker', 'snap', 'Petrolly', 'o2', 'death', 'gURLBar', 'vain', 'Merkerson', '-*', 'nappy', 'Lack', 'teaming', 'Designs', 'SearchToolbar', 'carrots', 'MyNetscape', 'reaches', 'suggests', 'Daily', 'MPEG', 'PutRowDict', 'BUSINESSMAN', 'flatness', 'Shell', 'Cancelling', 'rifle', 'Tone', 'Hardly', 'Images', 'lamp', 'Tab', 'Idaho', 'prelinking', 'Expired', 'Webern', 'Banner68', 'creatures', '86th', 'col', 'BYO', 'transactions', 'invincible', 'prompting', 'msswitchad', 'poster', 'offerings', 'erratic', 'slut', 'Henry', 'Southern', 'straw', 'jurisdiction', 'kicking', '!.', 'Announcer', 'hurt', 'Hasidic', 'photogenic', 'Drugs', 'drones', 'Dragged', 'lotta', 'long', 'blackberry', 'gazebo', 'Frank', 'semicolon', 'qualities', 'Blows', 'opinions', '<>', 'fidgeting', 'atozwebtools', '42yo', 'skeletor', 'Hawkins', 'MacIE', 'commodity', 'sista', 'weirdest', 'gtkselection', 'netherworld', 'cowering', 'Am', 'xpm', 'Damp', 'guitar', 'Collins', 'signing', 'dialog_enable_delay', 'fig', 'Oy', 'Ground', 'listener', 'Shopping', 'with', '...*!', 'stoop', 'Impossible', 'choking', 'museums', 'subfolder', 'Cabernet', 'deliciously', 'Philippines', 'Columbia', 'cma', 'oxidative', 'bagels', 'toss', 'Yea', 'upset', 'continue', 'twistie', 'Bears', 'within', 'valid', 'social', 'switchin', 'territory', 'engineer', 'dilute', 'Scrolls', 'disapper', 'sherbert', 'Rasta', 'Fool', 'sloppy', 'Check', 'genuine', 'autocmplete', 'Deleteing', 'NodeList', 'disconnected', 'Curious', 'guesses', 'scraped', 'Desk', 'row', 'informative', 'instead', 'toe', 'Stole', 'buzz', 'peed', 'distorted', 'Music', 'assignment', 'cowgirl', 'quip', 'until', 'al', 'interpretation', 'guessing', 'Ayeee', '!\"', 'approaches', 'il', '?>', 'Adress', '20040329', 'sweetness', 'Otherwise', 'CONCORDE', 'accesskeys', 'Philosophy', 'mate', 'latazo', 'nine', 'WARNING', 'assault', 'unconfigurable', 'belnd', 'Ease', ')[', 'killings', 'TiVoed', 'crazy', 'Marchi', 'Thing', 'Win98', 'glass', '2_02', 'Beyonc', 'remembered', 'complaining', 'Speedup', 'fragile', 'art', 'metaphysical', 'vomiting', '--', ';.', 'butch', '93rd', '__vt_17nsGetServiceByCID', 'rash', 'Scrollbar', 'chops', 'Cronenberg', 'fragrant', 'Reveals', 'FDU', 'flashes', 'Express', 'Constant', 'redo', '35', 'alleviate', 'Wangsta', 'costume', 'greatest', 'Regresion', 'webshell', 'Oozes', 'prefer', 'hump', 'Policewoman', 'movements', 'Cancer', 'Allow', 'numbing', '2005', 'GOING', 'packaging', 'They', 'mastered', 'umbrella', 'statement', 'drum', 'ship', 'grim', 'umlauts', 'Periodically', 'dlike', 'half', 'thighs', 'Comcast', 'keen', 'supply', 'Autopsy', 'survive', 'MOZ_XUL_APP', 'gums', 'knocking', 'Technically', 'foreground', 'Rights', '9x', 'caffeine', 'Ellington', 'realize', 'toolbarbuttons', 'Lower', 'blessing', 'pep', 'vons', 'burgers', 'Ť', 'discuss', 'Tp', 'manslaughter', 'Clicks', 'sleep', 'chip', 'wintertime', 'Motherfucker', 'alongside', 'verison', 'dispensed', 'Tannins', 'rescue', 'FM', 'unblocked', 'tweezer', 'Denied', 'deserve', 'WM_CLASS', 'Yum', 'Cotes', 'speaks', 'Saved', 'gopher', 'Thomas', 'FireFix', 'across', 'Applets', 'it', 'Items', 'rumor', 'fashionista', 'Extentions', 'elderly', 'xul', 'Antarctica', 'bartender', 'Shoeshine', 'EXCELLENT', 'Commuter', 'Superman', 'literally', 'authentic', 'spraying', 'calciomercato', 'disaster', 'gasps', 'Smoky', 'Aaaaaaaah', 'James', 'Santa', 'Decidedly', 'Pre', 'override', 'Father', 'Burritos', 'pounding', 'implications', 'years', 'disabilities', 'vgpro', 'visible', 'evil', 'shockwave', 'ripeness', 'everyones', 'mythological', 'dope', 'vajayjay', 'd', '0', 'antivirus', 'shocked', 'rapid', 'deodorant', 'hostname', 'factors', 'Prove', 'busty', 'preserve', 'billion', 'medicinal', 'spawning', 'passito', 'Tokyo', 'midterm', 'Arthur', 'Much', 'adopt', 'fell', 'crosswords', 'wouldn', 'legendary', 'xremoteclient', 'Maccus', 'synthetic', 'PLACE', 'dropmarkers', 'naming', 'Menuitems', 'Suite', 'Button', 'skeleton', 'Sangiovese', 'Mommmmmyyyyyy', 'payphone', 'Walnut', 'absent', 'fillin', 'differs', 'composition', 'Bargain', 'screwed', 'Changes', 'Chestnut', 'eraser', 'Beaucastel', 'trepidation', 'Plugins', 'GFXDRV', '`', 'wine', 'widen', 'Eccentric', 'lhasa', 'quotation', '210', 'Sri', 'revoked', 'continually', 'K6', 'refined', 'Greg', 'DS', 'invented', 'ddd', 'gravity', 'Suburbanite', 'fault', 'jugs', 'quickly', 'calories', 'hurts', 'puttin', 'Citrix', 'Tool', 'underlines', 'Cotton', 'Becomes', 'inccorrect', 'investigate', 'Clerks', 'SOLDIER', 'knock', 'Autojoin', 'Rita', 'physically', 'minimizes', 'canteen', 'Rosa', 'Taught', 'installations', 'provisional', 'Jordan', 'texts', 'meeting', 'AVIARY_BRANCH', 'scares', 'nsDownloadManager', 'TiVo', 'intensive', 'magazine', 'Naked', '!).', 'grabs', 'No', 'minstrels', 'baffle', 'Kwan', 'components', 'Icon', 'Plummy', 'pad', 'camouflaged', 'Vecchia', 'Activity', 'fetching', 'drier', 'Macaroni', 'uniforms', 'intifada', 'logitech', 'linux', 'viagra', 'Jeff', 'Cedary', 'Aaaaaaaaah', 'kg', 'Planeta', 'king', 'driven', 'De', 'pantylines', 'ctrlKey', 'Brave', 'resource', 'emptry', 'Compilation', 'Baffled', 'excitedly', 'Intriguing', 'Muppet', 'risk', 'perimeter', 'located', 'mouse', 'Greyhounds', 'pixel', 'lightweight', 'creepy', 'languages', 'brand', 'Filhot', 'daddy', 'Peng', 'chew', 'ZIP', 'tip', 'shrubbery', 'Baby', 'avocados', 'openURL', 'crips', 'escapes', 'forwarded', 'while', 'elapsed', 'leaving', 'lovely', 'unlabeled', 'possess', 'boldy', 'Dappy', 'actors', 'delineated', 'merit', 'yummy', 'thid', 'panels', 'traveled', 'fate', 'Content', 'blunt', 'ritual', 'broke', 'manly', 'worn', 'Churches', 'pops', 'belongs', 'European', 'GtkObject', 'louder', 'kabob', 'Notification', 'streaming', 'twelve', 'consistently', 'gent', 'states', 'unexplained', 'retract', 'suited', 'sweaty', 'Groomer', 'actor', 'MSN', 'forgetting', 'Profiterole', 'cartoons', 'proxy', 'compleate', 'curvaceous', 'Fashion', 'Gandhi', 'melon', 'prperly', 'disheartened', 'Aagh', 'Potato', '214', 'Understood', '.&', 'xmms', 'mentholy', 'scented', 'qtime', '*', 'Spell', 'XXXben', 'InitPrintSettingsFromPrinter', 'hits', 'dyndns', 'partake', 'clitoris', 'Rightclick', 'poor', 'discreet', 'intl', 'bought', 'dream', 'customized', 'sullied', 'faces', 'recalled', 'Foster', 'TTF', 'resized', 'lighted', 'broken', 'feared', 'staying', 'scheme', 'sons', 'Promoter', 'beam', 'convention', 'Mail', 'decorate', 'boundary', 'GA', 'gratuity', 'hybrids', 'alight', 'inherit', 'satisfying', 'Midwest', 'redisplay', 'Now', 'html', 'Cough', 'bone', 'contact', 'CARING', 'braid', 'interpreting', 'Wrath', 'diplayed', '?!?', 'drag', 'sleeve', 'unpredictably', 'Crackhead', 'unzips', 'Wobbly', 'Pill', 'Dawson', 'mezande', 'hammocks', 'gremlin', 'Toni', 'writer', 'Priority', 'Anton', 'finger', 'cracked', 'Explodes', 'answering', 'FTP', 'jumbled', 'tails', 'Gtk2', '!,', 'w', 'energy', 'lotsa', 'checkpoint', 'immediatley', 'pilot', 'V', 'Egg', 'Provence', 'appendedt', 'oozes', 'shorter', 'racist', 'diabetic', 'bobbing', 'aquarium', 'mycard', 'champions', 'whose', 'outside', '..?', '89th', 'Shy', 'unused', 'purse', 'faked', 'C3DDO', 'Catcher', 'unifying', 'dining', 'clients', 'preview', 'FAILS', 'perfect', 'website', 'grew', 'menubuttons', 'Smooth', 'cooking', 'prize', 'girlfriend', 'Donuts', 'domine', 'desktop', 'cloudy', 'words', 'Preppy', 'austerely', 'cities', 'Melissa', 'Aauuggghhh', 'friendly', 'writen', 'things', 'MAP', 'SPAN', 'weekends', 'filetypes', 'tagged', 'pros', 'Woo', '???', 'guts', 'possibilty', 'tasting', 'Overcome', 'underrated', 'taxpayer', 'immediately', 'groundhog', 'Grassy', 'wheezing', 'flushed', 'portable', 'argue', 'piquant', 'superficial', 'Obit', 'corners', 'ID', 'step', 'imply', 'company', 'Hear', 'wanna', 'checkmark', 'cycling', 'preppies', 'Trinadad', 'Alive', 'quests', 'ChapStick', 'Spicey', 'fucker', 'liquored', 'liking', 'gecko', 'fossil', 'Neee', 'frazzled', 'reloaded', 'morals', 'tendency', 'Multibar', 'manhood', 'ceased', 'flab', 'Zone', 'pageReportFirstTime', 'overwhelmed', 'Oxford', 'Smiths', 'few', 'design', 'overnight', 'banana', 'casts', 'MAN', 'marrying', 'Grivot', 'Forward', 'stands', 'slowdown', '92', 'fence', 'electronics', 'Magic', 'masts', 'mellow', 'plasma', 'Megan', 'biting', 'perilous', 'appreciate', 'whatsoever', 'Turkish', 'any', 'immediatly', 'sices', 'interrupts', 'Dinosaurs', 'Sunnyside', 'something', 'Indiana', 'HP', 'settled', 'Dracula', 'possibility', 'req', 'powerbook', 'schizophrenia', 'Hasta', 'drawing', 'B', 'Rework', 'fixup', 'saxophone', 'Idol', 'FIREFOX', 'appended', 'Easygoing', 'bob', 'rated', 'Leave', 'Savvy', '451', 'Xprt', 'heartbeat', 'queer', 'exorcist', 'Framesets', 'girls', 'oo', 'ensure', 'legal', 'unknit', 'yanked', 'menorah', 'original', 'UHO', 'sometimes', 'caravan', 'discount', 'hilite', 'Uninstalling', 'shuld', 'vulnerability', 'teacher', 'Guy', 'wood', 'reorg', 'Joe', 'Israelis', 'Shee', 'Daffy', 'audience', 'Back', 'autoconfig_url', 'Essex', 'neither', 'presses', 'Brooklyn', '()\">', 'began', 'audiostream', 'shanghaied', 'strikes', 'desire', 'Singapore', 'peach', 'recognition', 'texted', 'Westpac', 'sober', 'drove', 'balance', 'Table', 'Booksmarks', 'neesh', 'Gallahad', 'Harsh', 'System', 'abuse', 'air', 'blackhole', 'flabbier', 'adult', 'flip', 'breathed', 'minds', 'grape', 'Egyptians', 'unnecessary', 'Strip', '2000', '167', 'laughs', 'Fedora', '20030727', 'citrus', 'IIS', 'smoky', 'babes', 'Hoa', 'é', 'tush', 'charge', 'tabbrowser', 'Programs', 'Majorca', 'feature', 'Rustic', 'Orange', 'Park', 'extentions', 'Yeasty', 'Wrong', 'Herpes', 'concert', 'castanets', 'mandate', 'curiosity', 'conference', 'unnesessarially', 'internalize', 'kiwi', 'Boho', 'inner', 'Realtor', 'Definition', 'neverAsk', 'NETSCAPE', 'caller', 'WRONG', 'xfeDoCommand', 'routine', 'bust', 'Axelsson', 'pinnacle', 'Into', 'Stars', 'osmium', 'Like', 'Court', 'psychological', 'hooker', 'ifs', 'Webobjects', 'salad', 'prostitute', 'DNS', 'Engine', 'galleria', 'tickling', 'organ', 'okayed', 'Mmmm', 'Pizza', 'obsessed', 'apartment', 'ibook', 'hitcha', 'Ad', 'doctors', 'Stroganoff', 'May', 'autoload', 'Evangelion', 'Set', 'Rectal', 'Chemdraw', 'twat', 'parents', 'Me', 'Destroyed', 'aaaah', 'Ghettomama', 'upon', 'lesson', 'parka', 'generated', 'nuts', 'somehow', 'allergies', 'looney', 'Socks', 'excite', 'clinging', 'happens', 'Tunaville', 'decency', 'Cuckoo', 'supple', 'scrubbing', 'stored', 'POSIX', 'Synchonize', 'Especially', 'mud', 'Final', 'sees', '110th', 'Column', 'CRAZZZYYYY', '...?', '***>\"', 'underwear', 'Ă', '420', 'readability', 'TURNER', 'image', 'Name', 'Pale', 'F11', 'Flame', 'TM', 'Yuppie', 'like', '3rd', 'phase', 'inform', 'happen', 'Streaming', 'discovered', 'Already', 'pop', 'calling', 'enigmatic', 'whateva', 'Treaty', 'grandparents', 'Brian', 'vomited', 'Como', 'midpalate', 'formal', 'Barbera', 'escaped', 'Odwalla', 'sunshine', 'Wheeee', 'Midget', 'aunties', 'resize', 'interactivity', 'soles', 'RAGETTI', 'Visitor', 'intercepts', 'Exit', 'Drew', 'Debloat', 'hadda', 'Position', 'proves', 'ascend', 'hora', 'DUCK', 'Midwestern', 'ETERNAL', 'family', 'Activating', 'benefited', 'trees', 'simultaniasly', 'unstandard', 'BY', 'setter', 'pweeng', 'noble', 'followed', 'shithead', 'Astor', '08', 'auuuuuuuugh', 'BadValue', 'Moore', 'Balloon', 'MAGIC', 'Preference', 'Switcher', 'amp', 'Vincent', 'GIRL', 'Far', 'Hugely', 'poke', 'silence', 'Input', 'spotted', 'haven', 'toddler', 'Aspiring', 'width', '\"...\"', 'professors', 'failure', 'Sword', 'Ciphers', 'Tarts', 'silent', 'supposed', 'META', 'eggplant', 'Ozzie', 'lookup', 'Association', 'Standard', 'bong', 'hospitality', 'doesnďż', 'smells', 'Girly', 'cleared', 'Tara', 'claims', 'worshipping', 'arrow', '--...', 'dominate', 'salty', 'GRE', '..', 'infectious', 'Matrix', 'Fault', 'interferes', 'Fair', 'mistake', 'uninstaller', 'David', 'langpack', 'curly', 'evacuate', 'Broader', 'flavoury', 'Cup', 'DISPLAY', 'Poor', 'Monster', 'pashmina', 'init', 'pressing', 'contrasts', 'Gatsby', 'VILLAGER', 'odd', 'uploaded', '4096', 'lucky', 'tuition', 'FF10PR1', 'executive', 'onBlur', 'Boys', 'favorite', 'favors', 'breakdown', 'Pleasnat', 'extractor', 'plague', 'milestone', '\\'\"', 'arbitrary', 'Apps', 'kicked', 'buys', 'Oloroso', 'Jew', 'Judo', 'chocolate', 'decently', 'shapes', 'booth', 'preserving', 'crash', 'OBJECT', 'celebrate', 'zone', 'wont', 'yeah', 'choosing', 'rag', 'gassy', 'irregular', 'wobbling', 'profound', 'pasta', 'Independent', 'doesnt', 'Flight', 'cages', 'Similarly', 'Mets', 'crackling', 'scarper', 'Loses', 'hilarity', 'colours', 'Seek', 'vegetarian', 'Citibank', 'tar', 'questionable', 'suburbia', '103', 'Lil', 'coastal', 'colour', 'touched', 'integrity', 'season', 'pseudo', 'tear', 'cosmos', 'fried', 'Alarm', 'realized', 'Allah', 'libtoolkitcomps', 'collapsible', 'confected', '189th', 'Axl', 'Agreement', 'ANSI', 'ROMANTIC', 'cleanly', 'variable', 'brought', 'Keeps', 'Ultimately', 'password', 'shine', 'fill', 'Ecommercetimes', 'Dragging', '/', 'Girls', 'crows', 'bipolar', 'Pointer', 'mannequin', 'Domino', 'Beyond', 'thoughtful', 'Graham', 'Menopause', 'looping', 'shares', 'bundled', 'Say', 'Snappy', 'Progressive', 'faltplatte', 'villians', 'ignores', 'Bruce', 'blizzard', 'pioneer', 'nsIShellService', 'metallic', 'enters', \"''\", 'Mommy', 'Consolidate', 'dr', \"'?\", 'Cato', 'preference', 'hatin', 'whoreish', 'big', 'falls', 'Bold', 'thirty', 'Buick', 'flags', 'Allo', 'pls', 'digits', 'insecure', 'shitty', 'completing', 'shoots', 'partners', 'ADELAIDE', 'HEALTHY', 'Chanel', 'Marty', 'Raspberry', 'VERIFIED', 'Scandinavia', 'WIN32_MODULE_DESCRIPTION', 'tall', '/-', 'KNIGHT', 'speaking', 'companion', 'authentication', 'Tastes', 'CIA', 'Tokay', 'Herbert', 'Crantock', 'logically', 'Haut', 'blur', 'upper', 'accent', 'OO', '66', 'joints', 'underlying', 'Ladies', 'stunning', 'requesting', 'mean', 'megabyte', 'sweetie', 'Buzz', 'feel', 'MD5', 'clothes', 'requiring', 'Hopping', 'dissolved', 'Douchebag', 'Create', 'marquee', 'warm', '?\"', 'sure', 'Erroneous', 'FATHER', 'tropical', 'Einstein', 'mood', 'magazines', 'manure', 'relaxed', 'Uncontrollable', 'flush', 'perpetually', 'Autoscroll', 'divide', 'bicycle', 'geese', 'Juniper', 'Nursing', 'NICE', 'plastered', 'Teenage', 'Nazi', 'ingrate', 'dahs', 'souce', 'load', 'consumption', 'cr', 'nsToolkitCompsCID', 'majoring', 'sadomasochistic', 'layer', 'aggreement', 'Sporadic', 'hard', 'HyperText', 'uneducated', 'Answer', 'creak', 'funnier', 'tuned', 'incrementing', 'depressed', 'control', 'Cramped', 'Geez', 'mist', 'god', 'compatibility', 'Chick', 'Donald', 'continues', 'LOVING', 'Solera', 'sandy', 'Authentication', 'Welch', 'incorrectly', 'wantin', 'gererally', 'demanding', 'Crying', '42nd', 'glooby', 'nsIWindowMediator', 'Robin', 'Dad', 'Percentage', 'wedding', 'motherfuckin', 'Ark', 'Object', 'zoon', 'underground', 'overflowed', 'CRASHES', 'whiteness', 'upriver', 'Health', 'balinka', 'Saran', 'Peeing', 'Egypt', 'gentrifying', 'lifting', 'Griffin', 'partum', 'unexpectedly', 'Fantastically', 'birthday', 'Care', 'Ty', 'texting', 'the', 'rap', 'Butter', 'shortcuts', 'grippable', 'VA', 'aerial', 'cursors', 'Planned', 'Aaaaugh', 'Michelle', 'scuttle', 'together', 'gestures', 'grassy', 'paintings', 'Classic', 'Ello', 'fraud', 'ought', 'wet', 'faster', 'drip', 'fits', 'nothin', 'carbuncle', 'chilli', 'allocation', 'awhile', 'wreck', 'Unfortunately', 'mixed', 'awesome', 'Troubles', 'hill', 'nts', 'TIFFs', 'sombreros', 'My', 'Penfolds', 'prefill', 'pussies', 'rec', 'streches', 'groins', '160', 'Piglet', 'activites', 'tease', 'orangutans', 'wrong', 'couch', 'crystals', 'clouds', '4a', 'stoops', 'exceptions', 'Eyre', 'stealin', 'diggler', 'inaccurate', 'Sometimes', 'SEE', 'spoils', 'GetShrinkToFit', 'asks', 'Wake', 'sprayed', 'Upper', 'roommate', 'scooter', 'newfound', 'endocrine', 'full', 'trenitalia', 'plowing', 'Hour', 'Robbie', 'riesling', 'partygoers', 'awry', 'computers', 'receipt', 'receivers', 'calipers', 'announced', 'Earth', 'Contextual', '-<', 'free', 'Earl', 'imagination', 'tighter', 'masturbate', 'Perhaps', 'With', 'eliminates', 'cooch', 'h', 'Freud', 'unselected', 'gaggle', 'tool', 'frappucino', 'Ramone', 'dinosaurs', 'focuses', 'seats', 'Abnormal', 'Although', 'eart', 'fallen', 'house', 'solid', 'Dalma', 'URIs', 'sporadically', '90', 'Scene', 'sediment', 'acronym', 'Trapps', 'enormous', 'seemed', 'Seriously', 'dereference', 'Je', 'aiming', '4x4', 'pronunciation', 'hostel', 'bootitary', 'mindedly', 'incapacitorially', 'stroking', '45th', 'Flyer', 'offsite', 'starring', 'smelled', 'titlebar', 'eighteen', 'he', \"';\", 'sampling', 'frantically', 'Mercedes', 'narrow', 'band', 'gracelessly', 'swirl', 'oxidation', 'pushed', 'opium', 'appeal', 'Was', 'optional', 'including', 'ever', 'accordion', 'Deli', 'Lots', '.,', 'Living', 'Cracked', '421', 'born', 'Whatever', 'inverts', 'Sundays', 'Generation', 'PShop', 'soh', 'injury', 'Lunchmeat', 'curtains', 'nt', 'visited', 'EM', 'shellfish', 'jigglypuff', 'annual', 'bids', 'modeling', 'autistic', 'yo', 'anorexic', 'onresize', 'compress', 'headache', 'box', 'mashed', 'worried', 'brief', 'webcam', 'Shitty', 'surely', 'grouped', 'decaf', 'closer', 'thud', 'peanut', 'rte', 'sizePopup', 'Ca', 'dhtml', 'sucking', 'Literally', 'php', 'impaired', 'ventriloquist', 'tooltip', 'overhearing', 'unplugged', 'Somewhat', 'Yonkers', 'www', 'Therefore', 'pc', 'preppy', 'Gonna', 'FF', 'Lotus', 'parent', 'riveting', 'political', 'rode', 'intercom', 'wearing', 'futilely', 'Timmy', 'Foul', 'Written', 'Doodling', 'kitten', 'speakin', 'desynchronizes', 'Once', 'Essendon', 'subjected', 'spoke', 'fruitcake', 'extreme', 'Oldsheimer', 'extract', 'counting', '\\'\".', 'Attaches', 'header', 'tink', 'lowers', 'artist', 'seriousness', 'balancing', 'formfill', 'module', 'autolysis', 'spelled', '\">\"', 'Checkbox', 'roll', 'Orders', 'safely', 'role', 'tea', 'Christ', 'asp', 'Passenger', 'Daly', 'shove', 'elusive', 'chirp', 'fights', 'Chave', 'Trade', 'sympathy', 'Diana', 'kohn', 'Hilfiger', 'Do', 'unresponsive', 'Erased', 'Previewing', 'tektronix', 'O', 'witches', 'carved', 'orange', 'nsVoidArray', '0xffffffff', 'Gravelly', 'reversion', 'highlighted', 'explicit', 'brwsrcmp', 'assumption', 'interface', 'Checker', 'Coughing', 'Destination', 'Uninstaller', 'Behind', 'gasket', 'skipping', 'INPUT', 'Integrate', 'yells', 'in', 'Preferences', 'promotion', 'bourbon', 'Trust', 'Anything', 'oatmeal', 'bent', 'Press', 'bare', 'Editor', 'Stoner', 'editing', 'mp3s', 'Match', 'Practice', 'StyleXP', 'network', 'software', 'Hunter', 'Unhappy', 'copped', 'preventing', '181973', \"'!\", 'popups', 'virtual', 'came', 'society', 'Ron', 'year', 'lima', 'fasten', 'dirtied', 'intimate', 'NARRATOR', 'Angry', 'settle', 'lands', 'verses', 'goto', 'violation', 'M', 'uninstall', 'promote', 'sharp', 'hail', 'Prebinding', 'delicious', 'Tiny', 'fluids', 'marzipan', 'loyalty', 'Wonky', 'confirm', 'Annoyed', 'lap', 'lucked', 'diverse', 'objects', 'cottage', 'apparent', 'screwy', 'eerie', 'Adderall', 'worshippers', 'BEAUTIFUL', 'Knowledge', 'Wherefore', 'horizon', 'Fantastic', 'verca', 'volatility', 'TheraFlu', 'Knox', 'Solomon', 'navel', 'locks', 'unflawed', 'implementation', 'submitted', 'peeler', 'rendered', 'fans', 'UI', 'adverb', 'Restart', \"'...\", 'Area', 'grapple', 'PLeasant', 'Bloomingdale', 'yahoo', 'Keywords', 'Giuliani', 'refreshes', 'Shoe', 'Stadium', 'exfoliated', 'Mary', 'Abu', 'Bauer', 'update', 'raped', 'Thirty', 'bayonets', 'flattered', 'Disney', 'economic', 'Beta', 'Bigot', 'Lock', 'Musty', 'currants', 'Ari', 'tannic', 'dicks', 'US', 'manually', 'Irrelevant', 'pate', 'boobies', 'prostate', 'becaus', 'please', 'positionafter', 'malicious', 'entrepreneur', 'knots', 'frat', 'standalone', 'Misaligned', 'Mandy', 'rare', 'petite', 'wishlist', 'apples', 'characterful', 'dough', 'Dressed', 'FIXED', 'psychiatrist', 'Chores', 'supplies', 'Rioja', 'unnavigable', 'macrame', 'Gasp', 'console', 'Hamill', 'Concerned', 'Draw', 'shish', 'name', 'disassemble', 'terminal', 'Latifah', 'intercontinental', 'wacked', 'sucessful', 'outrageously', 'raised', 'hello', 'platypus', 'happend', 'judgment', 'voluntarily', 'pageload', 'damage', '\"!', 'XP', 'model', 'BORS', 'obey', 'cot', 'mushroomyness', 'Edgy', 'Stall', 'gesturing', 'Kay', 'Lifted', 'Goodwill', 'Interface', 'mis', 'backup', 'chlamydia', 'warheads', 'flag', 'UNICODE', 'TEXTAREA', 'Intensely', 'Â', 'couldn', 'ana', 'gun', 'Morningside', 'substandard', 'gorilla', 'Ebays', 'dancin', 'winter', 'expletive', 'Dental', 'downtown', 'torch', 'Slow', 'ours', 'Amontillado', 'Nightlies', 'circumcision', 'Bag', 'paused', 'punks', 'mushroomy', 'stating', 'impressed', 'coconuts', 'rock', 'Songbo', 'Realplayer', 'pear', 'whenever', 'Ghostzilla', '99', 'memoria', 'Bages', 'dramatically', 'selects', 'amount', 'signText', 'lantern', 'declined', 'Ouch', 'man', 'WinNT4', 'unexperienced', 'kde', 'certain', 'PGUP', 'thug', 'watches', 'Coney', 'GetFramePrincipal', 'calendar', 'horizontal', 'Person', 'uh', 'assistant', 'gradients', 'exception', 'Popeye', 'smoothing', 'not', 'Themes', 'loos', 'mortally', 'ends', 'overalls', 'Consult', 'begin', 'truncating', 'Squad', 'nglayout', 'Barossa', 'batting', 'switcher', 'OLEAUTH32', '61', 'wheelchair', 'Mousover', 'case', 'fiction', 'Launois', 'Elizabeth', 'restoring', 'concentrating', 'Hide', 'zap', 'bail', 'Scored', 'grin', 'sawwwww', 'WITCH', 'Jammy', 'replicates', 'retold', 'desperately', 'softwareupdates', 'torches', 'mister', 'willyin', 'renowned', 'OTHER', 'alphabetically', 'quite', 'Badon', 'shorts', 'synk', 'Jodie', 'Spritzy', 'Drive', 'hide', 'drags', 'sell', 'Short', 'respecting', 'irritable', 'Firfox', 'thirties', 'charset', 'f11', 'donaeis', 'Buggy', 'armpits', 'September', 'aloft', 'commonDialog', 'cosmetic', 'senseless', 'because', 'Ho', 'J2SDK', 'Parks', 'Dies', 'losst', 'coworkers', 'Riesling', 'Only', 'soaking', 'Entire', 'hey', 'clop', 'Barber', 'CITY', 'Ideal', 'rubber', 'balcony', 'Heaven', 'Ex', 'CHARACTER', 'Island', 'fitness', 'Arvid', 'Brunello', 'intimidating', 'unpalatable', 'apearance', 'fear', 'ate', 'alway', 'Perrin', 'deck', 'extinguish', 'Select', 'wilderness', 'voter', 'drapes', 'babysitter', '->\"', 'elements', 'lamest', 'Dude', 'hairs', 'increasingly', 'CENTRAL', 'taught', 'MIDGET', 'Prints', 'Barolo', 'paka', 'skeptical', 'mode', 'Oprah', 'mouseovers', 'forgotten', 'dissed', 'counts', 'Highway', 'enable', 'beckons', 'xpistub', 'disorders', 'walkin', 'engineering', 'instrument', 'Met', 'Barrio', 'Zip', 'adults', 'motha', 'craziest', 'unresolved', 'Christa', 'justMy', 'So', 'Sarsgaard', 'Frozen', 'tightly', 'lizardology', 'Opened', 'turn', 'milestones', 'ehh', 'joy', 'swingin', 'stank', '30ish', 'libraries', 'encode', 'Custom', 'pure', 'replacement', 'covered', 'samite', 'dwerg', 'cutlet', 'hedonistic', 'wheat', '34', 'ground', 'sweaters', 'ovah', 'skirt', 'Antichrist', '61st', 'detraction', 'Learn', 'Enough', 'drinking', 'o', 'insensitive', 'Statusbar', 'paragraphs', 'Not', 'swings', 'autoupdate', 'installatin', 'SOURCE', 'Stewardess', 'freak', 'FEISTY', 'nodding', 'Faster', 'Saving', 'Winstripe', 'default', '79', 'tail', 'retracted', 'Vanilla', 'SIGILL', 'attracted', 'suggesting', 'combination', 'core', 'mind', 'Hippy', 'cloth', 'edible', 'withour', 'aisles', 'Books', 'Bounce', 'suit', 'Pissed', 'Auuuuuuuugh', 'param', 'Obese', 'clink', 'Tickets', 'stockings', 'embeds', 'everywhere', 'vernacular', 'shock', 'hollow', 'conditioned', 'decanted', 'Ninepence', 'ratified', 'departing', 'mortician', 'invited', 'n', 'Slowly', '1MB', 'Doughboy', 'eyeballin', 'Spider', 'condom', 'Stylesheet', 'roar', 'vegetality', 'gimp', 'Africa', 'dive', 'depth', 'privacy', 'earwax', 'Runtime', 'Prevent', 'Chris', 'balloons', 'hovering', 'crackhouse', 'fame', 'chicks', 'effective', '39', 'vampires', 'user_pref', 'Should', \"...'\", '120148', 'interprets', 'swords', 'Samuel', 'albino', 'Caramely', 'waving', 'Generic', 'conch', 'gallery', 'dumbing', 'Silly', 'Remeniscent', 'ISO', 'Marie', 'browse', 'animals', 'uninteresting', 'auction', 'webserver', 'tuh', 'Lover', 'Patsy', 'corny', 'existing', 'south', 'biker', 'bass', 'screens', 'Application', 'vibrates', 'Paddy', 'Zacky', 'Camp', 'rednecks', 'R6025', 'barreled', 'sings', 'Week', 'pounds', 'XXX', 'Strayhorn', 'mumble', 'workers', 'RC', 'wedgie', 'bebbies', 'peasant', 'platform', 'Smokey', 'drunkpants', 'polar', 'Ninety', 'consciousness', 'scrubs', 'vet', 'variety', 'Threads', 'extensions', 'mother', 'reservation', 'Titlebar', 'Monday', 'feets', 'unsupported', 'pomegranate', 'Buff', 'flashy', 'olive', 'excessively', 'fulfillment', 'prefilled', 'confidentiality', 'governor', 'laughing', 'cannibals', 'Pheonix', 'Re', 'Leda', 'undressing', 'BK', \"->'\", 'netgear', 'Europe', 'extenstion', 'clarety', 'scots', 'Misplaced', 'heart', 'jack', 'FrameManager', 'bond', 'htm', 'Clarence', 'chart', 'planets', 'disposed', 'skanky', 'Aaauggh', 'Dat', '89', 'atheist', 'UX', 'exam', 'scat', 'Form', 'inability', 'want', 'Xul', 'jokingly', 'trifling', 'clickSelectsAll', 'Exuse', 'weigh', 'nsCOMArray', 'Holidays', 'valign', 'taken', 'battles', 'sous', '232969', 'deeds', 'given', 'pantyhose', 'gorg', 'pelvic', 'URLbars', 'fools', 'Home', 'Vinous', 'SITE', 'Portugese', 'priest', 'orgy', 'fun', 'monster', 'blubber', 'spilling', 'Munchaussen', 'belongings', 'Need', 'Nerdy', 'Jupiter', '^', 'aetherial', '800', 'fieldset', 'Pasta', 'Argh', '15th', 'Candidate', 'Replace', 'gamblin', 'extention', 'PHPMYAdmin', 'Pseudo', 'cus', '52nd', 'Pilot', 'Creating', 'irrelevant', 'groaning', 'usa', 'Dave', 'payday', 'resizer', 'list', '58', 'Kurt', 'Dork', 'grab', 'party', 'maturity', 'Please', 'Muscat', 'have', 'soulless', 'Thereupon', 'sports', 'Font', 'mark', 'workarounds', 'Working', 'Eurotrash', 'digital', '23rd', 'Blocka', 'double', 'Mimizing', 'freakin', 'Drastically', 'sock', 'SOCKS', 'Ban', 'CUTS', 'noticin', 'Ulk', 'Reliable', 'Greetings', 'universe', 'lactose', 'Nurse', 'Coast', 'cooks', 'selectedIndex', 'draq', 'JPEGs', 'prettier', 'Where', 'vacuuming', 'nc', 'guys', 'firebirds', 'Jeep', 'Governor', 'creamy', 'Sexual', 'Inaccessible', 'Aww', 'rum', 'creation', 'closet', '${', 'asking', 'nevertheless', 'quarrel', 'reeking', 'userfriendly', 'only', 'conservative', 'attendant', 'staging', 'noticable', 'UES', 'appelation', 'caution', 'shaven', 'dissin', 'wrought', 'locations', 'TrueType', 'Linky', 'InsCString', 'Eskimos', 'Self', 'stalker', 'crashy', 'png', 'tuna', 'confront', 'Additional', 'Ads', 'Bodega', 'eunuchy', 'decomposed', 'Sooner', 'retards', 'scoff', 'paints', 'dosprintf', 'themes', 'chores', 'Some', 'lungs', 'systemwide', 'spritz', 'Sinatra', 'Maximize', 'contract', '72nd', 'irritatedly', 'oxidatively', 'function', 'Tooltips', 'Zaftig', 'products', 'briefs', 'Totally', '20040513', 'Blind', 'rsa', 'frond', 'Radicals', 'offense', 'chipotle', 'Papi', 'bizarre', 'lined', 'hotness', 'charger', 'G', 'Agreed', 'SHTML', 'OS', 'peux', 'MyCheckFree', 'BONE', 'Tino', 'Effect', 'wierd', 'fortify', 'RY', 'NT4', 'sent', 'Dramatically', '\"$', 'autorepeatbutton', 'Takes', 'Jasmin', 'X', 'jam', 'hipsters', 'pancakes', 'resulted', 'Twix', 'Twin', \">'\", 'Hilton', 'Leafy', 'clearable', 'fire', 'Keen', 'advertisements', 'Ashlee', 'tinge', 'kapitan', 'hku', 'gifts', 'reconfigured', 'peaceful', 'urination', 'comparison', 'vibe', 'barbeque', 'Liberia', 'prefix', 'Diet', 'listening', 'lasted', 'mousewheel', 'compromise', 'two', 'vertical', 'throws', 'passing', 'technology', 'hangman', 'Devereaux', 'Wyoming', 'drank', 'science', 'Worldy', 'Janet', 'Bookmars', 'developer', '16', 'Game', 'Publicist', 'SquirrelMail', 'adoption', 'spill', 'Quite', 'Size', 'updates', 'Emana', 'Shrooms', 'rely', 'spam', 'outrage', 'Ehm', '.?', 'eighty', 'vbulletin', 'Shall', 'panting', 'parking', 'location', 'bites', 'Instruction', 'brained', 'REAAALLLY', 'valiant', 'resizes', 'incredibly', 'htis', 'Try', 'skills', 'maintaining', 'MimeTypes', 'ceases', 'Newark', 'AUDIODEV', 'unattended', 'inclusion', 'persistantly', 'Cheese', 'specially', 'lapel', 'guarantee', 'DONALD', 'asthma', 'disinterested', 'events', 'killing', 'Usability', 'havin', 'images', 'Delete', 'track', 'regulations', 'uni', 'reputation', 'handbag', 'Macromedia', 'rough', 'sequent', 'created', 'THE', 'JAPANESE', 'Permissons', 'spacer', 'aight', 'menubutton', 'beaten', 'Chapel', ';?...', 'builds', 'doesn', 'gentoo', 'channel', 'Mineral', 'general', 'session_start', 'initialpaint', 'Validation', 'Radicalism', 'contemplate', 'wobbles', 'tourists', 'trigger', 'C3PO', 'abs', 'MONKS', 'pedal', 'lipstick', 'discoverability', 'talkback', 'Broadway', 'charmingly', 'octet', 'phBB', 'autopsy', 'defined', 'nightclubs', 'bridesmaids', 'Bedevere', 'Israel', 'crate', 'latest', 'Pete', 'Win95', '01', 'scripts', 'interested', 'truffle', 'autolist', 'associations', 'safety', 'failed', 'agents', 'shutdown', 'wrapped', 'select', 'ceremony', 'adjust', 'dereferencing', 'latex', 'seeks', 'nope', 'Plaza', 'Volleyball', 'citizen', 'requires', 'Jacobs', 'Courtney', 'Real', 'keyword', 'Matzoh', 'TIA', 'Beautifully', 'passwrod', 'Clarety', 'Morgan', 'disillusioned', 'domains', 'daft', 'fireplace', 'marmaladey', 'potato', 'Englanders', 'Chianti', 'french', 'conscience', 'vagically', 'companionship', 'os', 'Evangelism', 'javaEnabled', '1800s', 'watchful', 'FAO', 'magne', 'Suzanne', 'particularly', 'belle', 'hacked', 'Redneck', 'MAILTO', 'your', 'eggs', 'drilllll', 'GoSuRF', 'dunes', 'goddam', 'screaming', 'Stanton', 'YSL', 'backword', 'Arrows', 'GTK1', 'squat', 'hurricane', 'temper', 'muscle', 'crosses', 'implemented', 'filmed', 'sucked', 'declaration', 'definitions', '610', 'chanting', 'DP', 'excited', 'examine', 'Spanish', 'eacute', 'Authentic', 'angry', 'Obsolete', 'different', 'parkin', 'docs', 'taps', 'IP', 'freestyle', 'Goldsmith', 'Slim', 'Roman', 'testicle', 'br', 'Hindu', 'Customising', 'Dib', 'modeless', 'raw', 'reindeer', 'sleepin', 'Import', 'Venkman', 'Might', 'blindfold', 'cocksucker', 'Mozgesture', 'reopen', 'Dirt', 'octets', 'Secret', 'exposé', 'hoo', 'deceptively', 'boards', 'uboot', 'tape', 'iframe', 'Pony', 'pixie', '31', 'RFE', 'convicted', 'Fox', 'Water', 'Castro', 'Startup', 'BECKETT', 'Junkie', 'Tarry', 'wig', 'Amstel', 'internal', 'Labs', 'Anonymous', 'Hillary', 'dirtiest', 'Cursor', 'trailer', 'vomits', 'cleaner', 'blindness', 'snarky', 'lot', 'happier', 'true', 'privileges', 'deactivated', 'JARs', 'bitter', 'Careful', 'semillon', 'ok', 'person', 'Operation', 'exciting', 'unrecognized', 'Narania', 'catcalls', 'rom', '225755', 'blanced', 'Refrences', 'ancient', 'summon', 'ready', 'headed', 'openBrowser', 'diaper', 'line', 'orgies', 'bubble', 'Spelled', 'most', 'buttholes', 'program', 'purchase', 'earlier', 'revisitiing', 'Mainstream', 'reflecting', 'heck', 'settles', 'Mem', 'provide', 'Reductiveness', 'Towers', 'registers', 'threats', 'Continues', 'costs', 'heed', 'Long', 'echelon', 'masks', '128MB', 'Varnishy', 'SA', 'whip', 'hon', 'verification', 'scanable', 'Keybinding', 'President', 'gorgeous', 'nicely', 'dating', 'retrieved', 'letter', 'Arafat', 'travelling', 'cleanup', 'groupmark', 'CPAN', 'chases', 'capitalist', 'cranking', 'Klonopin', 'MozillaZine', 'Pointing', 'Oak', 'impaled', 'Performer', 'logo', 'Hic', 'virginity', 'motherfucker', 'shall', 'pooty', 'xoops', 'forx', 'inexistant', 'Queen', 'revolution', 'whoop', 'PMS', 'handsome', 'H1', 'means', 'Partial', 'beauty', 'gcc', 'hop', 'visit', 'smokin', 'ISP', 'symlinked', 'gisburn', 'way', 'conversing', 'Dialogue', 'chipmunk', 'cuddle', 'Certificates', '80918', 'zoom', 'SBC', 'matching', 'Uploading', 'Ross', 'Johnson', 'alike', 'anger', 'Van', 'dying', 'Jamaican', 'Removing', 'koo', 'norwegian', 'dumbest', 'stylistic', 'quiz', 'Niggers', 'surgery', 'ddeexec', 'Scientologist', 'ATTRACT', 'lick', 'Flew', 'resolves', 'send', 'Preemie', 'appointed', 'spikey', 'unreasonably', 'Nirvana', 'smears', 'Congeniality', 'bathing', 'forehead', 'enquiries', 'domesticated', 'tour', 'weddings', 'Bluetooth', 'performance', 'gut', 'freshness', 'NS_ERROR_OUT_OF_MEMORY', 'needed', 'Sweeter', 'Huh', 'mothafuckin', 'rumbling', 'footstep', 'disapear', 'selectewd', 'int', 'Penguin', 'Amazing', 'formed', 'lista', 'PM', 'item', 'haired', 'tax', 'heeh', '215981', 'dorks', 'Bar', 'electricity', 'combine', 'toplevel', 'ROGER', 'Jewish', 'approx', 'watching', 'talk', 'bois', 'lease', 'retreats', 'simultanenously', 'circumstances', 'Laundromat', 'affectionate', 'salute', 'consulted', 'butterflies', 'mimeTypes', 'velocity', 'projector', 'iframes', '2616', 'jogging', 'rhymes', 'Bergduff', 'IME', 'Introduce', 'Want', 'usernames', 'scampers', 'Wilson', 'meetings', 'integrate', 'adressbar', 'Yasser', 'clits', 'gunpowder', 'arrows', 'monospaced', 'Cut', 'padding', 'paving', 'Yikes', 'thawed', 'granular', 'didnt', 'Xhml', 'sculpture', 'Wet', 'CopyRgn', 'bends', 'Sucks', 'emotions', 'linguistics', 'Footland', 'thumbnail', 'Chaucer', 'trumpets', 'graphical', 'perjury', 'undemanding', 'Lisa', 'forbid', 'rider', 'Aids', 'enqueue', 'Chart', 'deposit', 'Then', 'Checksum', 'spinbuttons', 'Paul', 'ABLE', 'unfold', 'Mr', 'dates', 'mushroom', 'Magnum', 'fishnets', 'placenta', 'Clock', 'selctor', 'emerges', 'field', 'getting', 'botrytis', 'ARMED', 'aground', 'offshore', 'marketing', 'gutsiness', 'AMAZING', 'honied', 'Penn', 'char', 'pong', 'Prefrences', 'misalign', 'eclipse', 'cataloguing', 'cups', 'robust', 'lauch', 'Xft', 'Hands', 'release', 'gratitude', 'Export', 'slaves', 'controversial', 'nettle', 'lama', 'SCARLETT', 'kicks', 'Superb', 'Would', 'Tattooed', 'mozicon16', 'Q', 'sport', 'Unblock', 'Example', 'erase', 'songs', 'Centre', 'shaped', 'Ducktales', 'wraps', 'almighty', 'overwritten', 'mmm', 'Damn', 'REFERRER', 'reappeared', 'Variables', 'botrytisy', 'HUGE', 'checksum', '93', 'good', '40yo', 'Daddy', 'Runaway', 'Iesu', 'fuckin', 'relying', 'sores', 'regarding', 'preceding', 'wyciwyg', 'Undesirable', 'autoscroller', 'FUCK', 'Strawberry', 'therapist', 'menues', 'shoop', 'shade', 'promted', 'fiftyish', 'Clicked', 'Singing', 'Intermintant', 'placeholder', '!)', 'oxidised', 'ptoo', 'hangs', 'printProgress', 'Menubar', 'Setting', 'yodobashi', 'FOLDER_GROUP', 'Cinemas', 'CANNIBAL', 'Awoo', 'Viewing', 'head', 'mantain', 'potted', 'differ', 'scribble', 'access', 'Craig', 'hearing', 'briochey', 'biotch', 'Truth', 'Hobo', 'Soil', 'Rikers', 'clowning', 'Foley', 'knives', 'unseen', 'When', 'adress', 'Cept', 'ESPN2', 'Logon', 'burger', 'dearie', 'nsIMdbRow', 'lord', 'soothingly', 'props', 'Loaded', 'CLI', 'Coding', 'Gets', 'PICK', 'aesthetically', 'la', 'Audit', 'swallow', 'approached', 'Jafee', 'address', 'Eastern', 'climbed', 'Britney', 'whores', 'violets', 'oozed', 'perhpas', 'upx', 'lamps', 'grandma', 'camper', 'sailed', 'RIDER', 'nightlies', 'chunky', 'ashore', 'since', 'deckhand', 'buffer', 'mainframe', 'Sachs', 'attenuated', 'uninstallfirefox', 'drunken', 'Skywalker', 'path', 'elegany', 'chick', 'EITC', 'follows', 'fireflies', 'LocalFindProxyForURL', 'highlighting', 'Scandinavian', 'acrylic', 'Zag', 'delicate', 'bunch', 'occasionally', 'crappy', 'greengage', 'outfits', 'Kilborn', 'drown', 'Galeonesque', 'spongey', 'dunked', 'YOUUU', 'separately', 'Optimoz', 'strong', 'fishing', 'Town', 'Unitarian', 'playin', '1AM', 'joined', 'female', 'churches', 'transaction', 'repositioning', 'Color', 'Drier', 'backslash', ']\"', 'mozbrowser', 'Japan', 'struggling', 'bowled', 'Anchors', 'pages', 'add', 'candy', 'Machine', 'Factor', 'pastes', 'bibles', 'Psh', 'sourceid', 'downloaded', 'diabetes', 'exploits', 'starred', 'Non', 'finish', 'BOOKMARKS', 'Invoking', 'morphine', 'value', 'pch', 'winner', 'Taking', 'backs', 'pass', 'nuclear', 'mechanic', 'what', 'unique', 'guilt', 'statue', 'PSM_CO_TAG', 'Unknown', 'defending', 'Proper', 'Art', 'Appear', 'worst', 'vegetable', 'Katie', 'streak', 'techno', 'bustage', 'attitude', 'Damned', 'Preschool', 'dogs', 'passersby', 'Made', 'activity', 'edition', 'peacock', 'cabs', 'twisting', 'brewed', 'FirefoxInstaller', '222367', 'zoo', 'netinfo', 'sgl', 'waterballoons', 'binary', '(&', 'shook', 'Cassisy', 'leg', 'Ew', 'notifications', 'arm', 'Walk', 'allow', 'parody', 'Tripoli', 'patron', 'Rome', 'Metro', 'listed', 'swallows', 'Conterno', 'plate', 'Yourself', 'corked', 'donkey', 'Yiddish', 'us', 'how', '\";', 'Woof', 'jp', 'deliver', 'heroic', 'converted', 'Abraham', 'nod', 'Stinky', 'woke', 'rustic', 'attach', 'counterfeit', 'dribbling', 'Ya', 'BMX', 'quilt', 'Teacher', 'preteen', 'ISLAND', 'dev', 'possesses', 'personally', \"('<\", 'setting', 'landline', '000', 'sank', 'Sendmail', 'Le', 'Washington', 'grate', 'traveller', 'CA', 'IntelliMouse', 'Pull', 'arrive', 'sing', '1990', 'headin', 'Pauillac', 'Smile', 'SCUTTLED', 'reasonable', 'ponytail', 'lowered', 'Intrigued', 'trophy', 'installation', 'bayou', 'zoop', 'lovable', 'Rob', 'noticing', 'totally', '(?)', 'made', 'staring', 'Blank', 'friction', 'Submenus', 'dignity', 'voip', 'frequent', 'our', 'diplomats', 'lunchtime', 'BADLY', 'File', 'Ambiguously', 'Friday', 'kit', 'Wizard', 'Protozilla', 'commandline', 'pill', 'Pushing', 'genuinely', 'ninjas', 'simlest', 'Reader', 'informed', 'scrollbar', 'translate', 'Canal', 'Life', 'NS_CreateNativeAppSupport', 'customised', 'someplace', 'weapon', 'Nvida', 'penises', 'admire', 'Sleeping', 'penalties', 'registration', 'randomly', 'scent', 'Steve', 'dreidel', 'Macs', 'Bull', 'regenerates', 'Sunday', '$', 'rowing', 'older', 'tangerine', 'Mozex', 'musicals', 'another', 'Pregnant', 'Undefined', 'phpwiki', 'fetish', 'relationship', 'wallet', '***(*)', 'certified', 'devil', 'Shove', 'vintages', 'untamable', 'oozing', 'next', 'age', 'granddaughter', 'Hobette', 'seller', 'Salesguy', 'Lafarge', 'chairs', 'recursos', 'Kwai', 'Ribolla', 'foo', 'ensues', 'contradictory', 'foods', 'chair', 'beds', 'extends', 'choi', 'elbow', 'stat', 'Destiny', 'afraid', 'Smart', 'purple', 'compromised', 'nearby', 'toothpaste', 'GUARDS', 'online', 'Military', 'ABCs', 'lice', 'domwindow', 'kidnappers', 'Payment', 'reaching', 'shriek', 'NV', 'foreskin', 'Million', 'Diary', 'KDE', 'count', 'peanuts', 'nasty', 'prison', 'Jehovah', 'mobile', 'MOZILLA_FIVE_HOME', 'percocets', '171349', 'terrific', 'from', 'semantics', 'modiffing', 'Login', 'Angnor', 'expires', 'Settings', 'mayhem', 'Human', 'leaning', 'Extensions', 'Extra', 'Fiji', 'hobos', 'dancers', 'bougeais', 'poxy', 'Niepoort', 'crewmen', 'knowledge', 'production', 'eagerly', 'raises', 'Intellimouse', 'p', 'smokehouse', 'netscape', 'thought', 'startin', 'voom', 'wobble', 'Managers', 'sheer', 'caskets', 'hight', 'figuratively', 'Delight', 'fingering', 'Y', 'purposefully', 'abbr', 'marines', 'tux', 'Revolution', 'superhero', 'ways', 'Tasted', 'Onassis', 'untouched', 'Border', 'DMG', 'Guys', 'Northern', 'overwrite', 'claim', 'bodybackgrounds', 'Duration', 'Eudora', 'built', 'jubble', 'Thanksgiving', 'surprised', 'Lex', 'grippy', 'squad', 'timed', 'ids', 'Persuade', 'ya', 'Date', 'removing', 'excess', 'iTunes', 'Ewwww', 'F5', 'Updating', 'showing', 'success', 'better', 'invading', 'Civil', 'bookmarklets', 'blackberries', 'DEAS', 'gz', 'disable_window_open_feature', 'aspartame', 'included', 'AAHIG', 'easygoing', 'promt', ':<', 'We', 'ta', 'Princesses', 'kings', 'PopupAutoComplete', 'Brittney', 'parenthood', 'Bengay', 'objdir', 'da', 'Specific', 'shelter', 'markers', 'improvements', 'Spare', 'Win', 'Paris', 'Ted', 'saving', 'deployed', 'currency', 'userChrome', 'livemark', 'Dusty', '\"-', 'fetuses', 'capabilities', 'This', 'usability', 'knife', 'Add', 'Homeless', 'breadth', 'opiates', 'Foodie', 'guided', 'fry', 'Gypped', 'brochures', 'SEI', 'Florence', 'Stewie', 'scary', 'Cuban', 'safe', 'wrappers', 'racing', 'perfumed', 'suckin', 'Knoblauch', 'barn', 'Skype', 'bytes', '*!', 'calculation', 'transition', 'Highly', 'Getcha', 'blinking', 'haaa', 'Trading', 'Launcelot', 'adulterous', 'approaching', 'snickel', 'Iran', 'writing', 'losing', 'eyed', 'MEDIA', 'onchange', 'chicken', 'squirrels', 'Aunido', '4393', 'lgcov', 'backroom', 'cancelled', 'suggestion', 'idioms', 'estoy', 'suburbs', 'Bugzilla', 'radion', 'beastie', 'Fubu', 'rel', 'cheapest', 'climb', 'rawness', 'threateningly', 'AM', 'minister', 'Exorcist', 'Praise', 'Howie', 'Dyckman', 'UNRELATED', 'Saxons', 'angora', 'sweating', 'folds', 'Galaxy', 'providence', 'ask', 'tinged', 'Submenu', 'organs', 'features', 'leave', 'overlayed', 'pleasant', 'medical', 'emerged', '(\"', 'however', 'sulphur', 'picure', 'listen', 'Technic', 'Coco', 'timebomb', 'toys', 'honor', 'shift', 'Teenboy', 'sterilized', '68', 'slutty', 'Endings', 'DTE', 'violence', 'tricked', 'Les', 'cuddling', 'dawg', 'kernel32', 'dragged', 'programme', 'coconut', 'bluescreen', 'overt', 'inventing', 'mufuckin', 'FQDN', 'Clipboard', 'hailing', 'Cocoa', 'pippki', '.....', 'Queef', 'obsolete', 'Koonunga', 'unfriendly', 'Judaism', 'Minus', 'heatwave', 'ELDERLY', 'content', 'grease', 'yourselves', 'Subject', 'clickable', 'Umm', 'Duplicate', 'von', 'considering', 'empires', 'Bitch', '&&', 'tannins', 'Elmer', 'fundamentally', 'China', 'Undeline', 'multibyte', 'blockup', 'fuckers', 'museum', 'afoot', 'pluginreg', 'waves', 'Ra', 'Grahams', 'punishing', 'cheerleaders', 'SetDirty', 'thrusts', 'landed', 'feed', 'hungry', 'embeded', 'crtl', 'passes', '4', 'tolls', 'revealed', 'ambivalent', 'urls', 'live', 'renovations', 'Pintel', 'finely', 'pancake', 'Panels', 'doll', 'Zig', 'Hispanic', 'pregnancy', '29', 'handjob', 'Fye', 'contained', 'court', 'bite', 'react', 'disrespected', 'oil', 'Backspace', 'weaker', 'insane', 'winhooks', 'quesadilla', 'time', 'Saturday', 'assistants', 'Madison', 'beat', 'imagined', 'Testament', 'antenna', 'stalkiness', 'Wheel', '20030818', 'heavy', 'loses', 'instances', 'Civics', 'macosx', 'Acting', 'dystrophy', 'Dorky', 'Saddam', 'Hall', 'ashy', 'Naaaaaaacho', 'savoury', 'speed', 'Shady', 'Freak', 'bongs', 'globby', 'Uploaded', 'cashier', '>=', 'behaving', 'abusive', 'renames', 'nightly', 'ON', 'pulled', 'colonial', 'win', 'Exterminator', 'tenemos', 'ideally', 'Mushrooms', 'Milk', 'Prof', 'VC', 'Yo', 'prow', 'Latina', 'Spec', 'fdc', 'prince', 'waiting', 'amber', 'grotesque', 'basis', 'stepping', 'Himself', 'Ewww', 'XPInstall', 'Arobat', 'showy', 'Administrator', 'lung', 'units', 'underscore', 'Ames', 'enjoys', 'chuga', 'ying', 'sherry', 'omelette', 'flickers', 'MT', 'jprof', 'whom', 'Transfering', 'startup', 'automatical', 'ft', 'FIVE', 'brunch', 'Eiswein', 'J', 'Weirdo', 'Moran', 'concurrent', 'Sassy', 'see', 'migratory', 'signonsandiego', 'Milo', 'experienced', 'messes', 'Cornell', 'will', 'invoked', 'Gloria', 'bras', 'Salaa', 'tummy', 'Compile', 'endless', 'thick', 'Lively', 'Ach', 'seargent', 'who', 'camera', 'contentAreaClick', 'win98', 'Mexican', 'Richer', 'INTELLIGENT', 'examines', 'gin', 'onmouse', 'faulting', 'lips', 'salvagin', 'systematic', 'lookin', 'shifting', 'smelly', 'peepee', 'barks', 'itching', 'Save', 'unoaked', '108973', 'parsley', 'moldy', 'cared', 'collection', 'Australian', 'Casa', 'Grocery', 'HTML4', 'toffee', '78', 'scroll', 'Agostino', 'Duh', 'Intercom', 'roam', 'brilliance', 'blonde', 'getRegistryEntry', 'Clicking', 'file', 'understands', \"*!'\", 'takeoff', 'farmer', 'Crue', 'Aged', 'crushed', 'LONG', 'jeans', '40th', 'baby', 'rob', 'MacOSX', 'Tomorrow', 'soup', 'dealings', 'impregnated', 'Fonts', 'unarmed', 'Uma', 'criticise', 'Comment', 'ethnic', 'Dhabi', 'Jacky', 'iCab', 'piano', 'Osmond', 'Toolabr', 'menstrual', 'punish', 'volume', 'swan', 'expressive', 'bookmarked', 'Winston', 'sharable', 'Gray', 'Male', 'polish', 'pretzel', 'Grapes', 'laboratory', 'gold', 'Louisiana', 'reservations', 'Mayo', 'Liz', 'Alone', 'doggies', 'Wal', 'tap', 'terrible', 'monkey', 'Stanley', 'Nextel', 'floors', 'coordinator', 'faking', 'shuffling', 'fading', 'truth', 'Dropmarker', 'overloads', 'stays', 'RealPlayer', 'poppy', 'UNC', 'me', 'Stretch', 'withdraw', 'Sourceforge', 'rptViewReportForm', 'sherlock', 'vouchsafed', 'showModalDialog', 'cc', 'angle', 'methods', 'BET', 'handlers', 'Speak', 'Somehow', 'Infinite', 'shout', 'Larger', 'Hebrew', 'Snacks', 'suprnova', 'Bon', '\\x93', 'inaudible', 'carry', '\"?...', ':///', 'Witch', 'Tea', 'licked', 'Mismatch', 'Baroness', 'Gristedes', 'User', 'Americas', 'Pure', '.]', 'stew', 'emergency', 'Leaflet', 'Needs', 'eggplants', 'LoadDataSource', 'dissapears', 'repeat', 'ingredient', 'bangs', 'locking', 'Prairie', 'scan', 'before', 'JONES', 'honeyed', 'WANT', 'milk', 'Tyrone', 'digit', 'brush', 'cliff', 'shop', 'panties', 'Hamptons', 'inspired', 'linky', 'Heart', 'splashing', 'Eskimo', 'Catholics', 'helicopters', 'leagues', 'Reusing', 'mimic', 'basically', 'servitude', 'concentrated', 'Mouseover', 'illustrious', 'Fitty', 'generations', 'ratios', 'study', 'option', ';&#', 'applets', 'Alternative', 'painter', 'existent', '...:', 'celibate', 'plum', 'beta', 'Eighth', 'hammered', 'MIME', 'SUNYs', 'inteface', 'Day', 'steaks', 'opposed', 'Different', 'lastModified', 'sparklers', 'gell', 'Both', 'Finishing', 'typeahead', 'decoration', 'recovered', 'relativel', 'vest', 'IFrame', 'EXC_BAD_ACCESS', 'quickstart', 'hundredth', 'anthems', 'coarser', 'carats', 'halted', 'Camino', 'chief', 'pokes', 'repays', '80s', 'column', 'wooden', 'shtm', 'OxyContin', 'assigns', 'enjoyably', 'boy', 'jus', 'Rhoda', 'Put', 'Investigate', 'queries', 'Shows', 'Guigal', 'txt', 'visibly', 'issue', 'sniff', 'Nanny', 'faith', 'CHANGED', 'hand', 'To', 'MB', 'dim', 'Creamy', 'LIRR', 'creme', 'due', 'PR', 'beautifully', 'Aldrin', 'Okay', 'identical', 'at', 'lifeboat', 'Anchor', 'ability', 'universally', 'graphs', 'monastry', 'But', 'eighth', 'GoogleSearch', 'FLASH', 'Feature', 'varying', 'climbing', 'Kerosene', 'guess', 'EUROPEAN', 'response', 'Placement', 'dipslay', 'Yankee', 'Alex', 'Cent', 'textboxes', 'hightlight', 'fade', 'independent', 'Eh', 'filesize', 'Personal', 'warmer', 'MS', 'hippies', 'retardant', 'Italianate', 'input', 'saying', 'Perpetually', 'Model', 'uuup', 'puckered', 'Order', 'knees', 'Platform', 'gra', 'mural', 'credibility', 'Eighty', 'rose', 'claws', 'AIM', 'renaming', 'shoplifting', 'cracking', 'Qute', 'Royal', 'Obvious', 'accepting', 'woosh', 'nicest', 'cigars', 'instance', 'refill', 'quality', 'Requested'])\n"
     ]
    }
   ],
   "source": [
    "print(vocabulary2)"
   ]
  },
  {
   "cell_type": "code",
   "execution_count": 420,
   "metadata": {
    "collapsed": true
   },
   "outputs": [],
   "source": [
    "word_counts2=Counter(vocabulary2)"
   ]
  },
  {
   "cell_type": "code",
   "execution_count": 421,
   "metadata": {
    "collapsed": true
   },
   "outputs": [],
   "source": [
    "top_fifty2=word_counts.most_common(50)"
   ]
  },
  {
   "cell_type": "code",
   "execution_count": 422,
   "metadata": {
    "collapsed": false
   },
   "outputs": [
    {
     "name": "stdout",
     "output_type": "stream",
     "text": [
      "[('Voyce', 1), ('coming', 1), ('decay', 1), ('youth', 1), ('Wearie', 1), ('Lesser', 1), ('hoopes', 1), ('dish', 1), ('regards', 1), ('Pox', 1), ('nights', 1), ('mocke', 1), ('cam', 1), ('reconcile', 1), ('drowsie', 1), ('clos', 1), ('than', 1), ('approach', 1), ('many', 1), ('Breast', 1), ('infirmitie', 1), ('Obserue', 1), ('Mercifull', 1), ('strongest', 1), ('Theme', 1), ('Against', 1), ('Picture', 1), ('whatsoeuer', 1), ('resolute', 1), ('Caps', 1), ('greene', 1), ('deed', 1), ('Beggers', 1), ('billes', 1), ('Beasts', 1), ('Mankinde', 1), ('deale', 1), ('Industrious', 1), ('Lecture', 1), ('Sweno', 1), ('cryed', 1), ('beautifed', 1), ('Luc', 1), ('rellish', 1), ('Seale', 1), ('Thanes', 1), ('twentieth', 1), ('olde', 1), ('Guildenstern', 1), ('Adieu', 1)]\n"
     ]
    }
   ],
   "source": [
    "print(top_fifty2)"
   ]
  },
  {
   "cell_type": "code",
   "execution_count": null,
   "metadata": {
    "collapsed": true
   },
   "outputs": [],
   "source": []
  },
  {
   "cell_type": "markdown",
   "metadata": {},
   "source": [
    "Question 6\n",
    "\n",
    "Under Inaugural Address package\n",
    "For every president, find out how many unique words they used in speech. \n",
    "We will just assume that President Bush means one person (technically it is incorrect but we will ignore it)\n"
   ]
  },
  {
   "cell_type": "code",
   "execution_count": 158,
   "metadata": {
    "collapsed": true
   },
   "outputs": [],
   "source": [
    "import nltk"
   ]
  },
  {
   "cell_type": "code",
   "execution_count": 160,
   "metadata": {
    "collapsed": false
   },
   "outputs": [],
   "source": [
    "from nltk.corpus import inaugural"
   ]
  },
  {
   "cell_type": "code",
   "execution_count": 161,
   "metadata": {
    "collapsed": false
   },
   "outputs": [
    {
     "data": {
      "text/plain": [
       "['1789-Washington.txt',\n",
       " '1793-Washington.txt',\n",
       " '1797-Adams.txt',\n",
       " '1801-Jefferson.txt',\n",
       " '1805-Jefferson.txt',\n",
       " '1809-Madison.txt',\n",
       " '1813-Madison.txt',\n",
       " '1817-Monroe.txt',\n",
       " '1821-Monroe.txt',\n",
       " '1825-Adams.txt',\n",
       " '1829-Jackson.txt',\n",
       " '1833-Jackson.txt',\n",
       " '1837-VanBuren.txt',\n",
       " '1841-Harrison.txt',\n",
       " '1845-Polk.txt',\n",
       " '1849-Taylor.txt',\n",
       " '1853-Pierce.txt',\n",
       " '1857-Buchanan.txt',\n",
       " '1861-Lincoln.txt',\n",
       " '1865-Lincoln.txt',\n",
       " '1869-Grant.txt',\n",
       " '1873-Grant.txt',\n",
       " '1877-Hayes.txt',\n",
       " '1881-Garfield.txt',\n",
       " '1885-Cleveland.txt',\n",
       " '1889-Harrison.txt',\n",
       " '1893-Cleveland.txt',\n",
       " '1897-McKinley.txt',\n",
       " '1901-McKinley.txt',\n",
       " '1905-Roosevelt.txt',\n",
       " '1909-Taft.txt',\n",
       " '1913-Wilson.txt',\n",
       " '1917-Wilson.txt',\n",
       " '1921-Harding.txt',\n",
       " '1925-Coolidge.txt',\n",
       " '1929-Hoover.txt',\n",
       " '1933-Roosevelt.txt',\n",
       " '1937-Roosevelt.txt',\n",
       " '1941-Roosevelt.txt',\n",
       " '1945-Roosevelt.txt',\n",
       " '1949-Truman.txt',\n",
       " '1953-Eisenhower.txt',\n",
       " '1957-Eisenhower.txt',\n",
       " '1961-Kennedy.txt',\n",
       " '1965-Johnson.txt',\n",
       " '1969-Nixon.txt',\n",
       " '1973-Nixon.txt',\n",
       " '1977-Carter.txt',\n",
       " '1981-Reagan.txt',\n",
       " '1985-Reagan.txt',\n",
       " '1989-Bush.txt',\n",
       " '1993-Clinton.txt',\n",
       " '1997-Clinton.txt',\n",
       " '2001-Bush.txt',\n",
       " '2005-Bush.txt',\n",
       " '2009-Obama.txt']"
      ]
     },
     "execution_count": 161,
     "metadata": {},
     "output_type": "execute_result"
    }
   ],
   "source": [
    "inaugural.fileids()"
   ]
  },
  {
   "cell_type": "code",
   "execution_count": 282,
   "metadata": {
    "collapsed": false
   },
   "outputs": [
    {
     "name": "stdout",
     "output_type": "stream",
     "text": [
      "724\n"
     ]
    }
   ],
   "source": [
    "Washington=len(set(inaugural.words('1789-Washington.txt')))+len(set( inaugural.words('1793-Washington.txt')))\n",
    "print(Washington)"
   ]
  },
  {
   "cell_type": "code",
   "execution_count": 289,
   "metadata": {
    "collapsed": false
   },
   "outputs": [
    {
     "name": "stdout",
     "output_type": "stream",
     "text": [
      "1835\n"
     ]
    }
   ],
   "source": [
    "Adams=len(set(inaugural.words('1797-Adams.txt')))+len(set(inaugural.words('1825-Adams.txt')))\n",
    "print(Adams)"
   ]
  },
  {
   "cell_type": "code",
   "execution_count": 290,
   "metadata": {
    "collapsed": false
   },
   "outputs": [
    {
     "name": "stdout",
     "output_type": "stream",
     "text": [
      "1523\n"
     ]
    }
   ],
   "source": [
    "Jefferson=len(set(inaugural.words('1801-Jefferson.txt')))+len(set(inaugural.words('1805-Jefferson.txt')))\n",
    "print(Jefferson)"
   ]
  },
  {
   "cell_type": "code",
   "execution_count": 291,
   "metadata": {
    "collapsed": false
   },
   "outputs": [
    {
     "name": "stdout",
     "output_type": "stream",
     "text": [
      "1079\n"
     ]
    }
   ],
   "source": [
    "Madison=len(set(inaugural.words('1809-Madison.txt')))+len(set(inaugural.words('1813-Madison.txt')))\n",
    "print(Madison)"
   ]
  },
  {
   "cell_type": "code",
   "execution_count": 288,
   "metadata": {
    "collapsed": false
   },
   "outputs": [
    {
     "name": "stdout",
     "output_type": "stream",
     "text": [
      "2306\n"
     ]
    }
   ],
   "source": [
    "Monroe=len(set(inaugural.words('1817-Monroe.txt')))+len(set(inaugural.words('1821-Monroe.txt')))\n",
    "print(Monroe)"
   ]
  },
  {
   "cell_type": "code",
   "execution_count": 292,
   "metadata": {
    "collapsed": false
   },
   "outputs": [
    {
     "name": "stdout",
     "output_type": "stream",
     "text": [
      "1019\n"
     ]
    }
   ],
   "source": [
    "Jackson=len(set(inaugural.words('1829-Jackson.txt')))+len(set(inaugural.words('1833-Jackson.txt')))\n",
    "print(Jackson)"
   ]
  },
  {
   "cell_type": "code",
   "execution_count": 293,
   "metadata": {
    "collapsed": false
   },
   "outputs": [
    {
     "name": "stdout",
     "output_type": "stream",
     "text": [
      "1318\n"
     ]
    }
   ],
   "source": [
    "VanBuren=len(set(inaugural.words('1837-VanBuren.txt')))\n",
    "print(VanBuren)"
   ]
  },
  {
   "cell_type": "code",
   "execution_count": 296,
   "metadata": {
    "collapsed": false
   },
   "outputs": [
    {
     "name": "stdout",
     "output_type": "stream",
     "text": [
      "3251\n"
     ]
    }
   ],
   "source": [
    "Harrison=len(set(inaugural.words('1841-Harrison.txt')))+len(set(inaugural.words('1889-Harrison.txt')))\n",
    "print(Harrison)"
   ]
  },
  {
   "cell_type": "code",
   "execution_count": 295,
   "metadata": {
    "collapsed": false
   },
   "outputs": [
    {
     "name": "stdout",
     "output_type": "stream",
     "text": [
      "1333\n"
     ]
    }
   ],
   "source": [
    "Polk=len(set(inaugural.words('1845-Polk.txt')))\n",
    "print(Polk)"
   ]
  },
  {
   "cell_type": "code",
   "execution_count": 297,
   "metadata": {
    "collapsed": false
   },
   "outputs": [
    {
     "name": "stdout",
     "output_type": "stream",
     "text": [
      "499\n"
     ]
    }
   ],
   "source": [
    "Taylor=len(set(inaugural.words('1849-Taylor.txt')))\n",
    "print(Taylor)"
   ]
  },
  {
   "cell_type": "code",
   "execution_count": 298,
   "metadata": {
    "collapsed": false
   },
   "outputs": [
    {
     "name": "stdout",
     "output_type": "stream",
     "text": [
      "1168\n"
     ]
    }
   ],
   "source": [
    "Pierce=len(set(inaugural.words('1853-Pierce.txt')))\n",
    "print(Pierce)"
   ]
  },
  {
   "cell_type": "code",
   "execution_count": 299,
   "metadata": {
    "collapsed": false
   },
   "outputs": [
    {
     "name": "stdout",
     "output_type": "stream",
     "text": [
      "948\n"
     ]
    }
   ],
   "source": [
    "Buchanan=len(set(inaugural.words('1857-Buchanan.txt')))\n",
    "print(Buchanan)"
   ]
  },
  {
   "cell_type": "code",
   "execution_count": 300,
   "metadata": {
    "collapsed": false
   },
   "outputs": [
    {
     "name": "stdout",
     "output_type": "stream",
     "text": [
      "1441\n"
     ]
    }
   ],
   "source": [
    "Lincoln=len(set(inaugural.words('1861-Lincoln.txt')))+len(set(inaugural.words('1865-Lincoln.txt')))\n",
    "print(Lincoln)"
   ]
  },
  {
   "cell_type": "code",
   "execution_count": 301,
   "metadata": {
    "collapsed": false
   },
   "outputs": [
    {
     "name": "stdout",
     "output_type": "stream",
     "text": [
      "1042\n"
     ]
    }
   ],
   "source": [
    "Grant=len(set(inaugural.words('1869-Grant.txt')))+len(set(inaugural.words('1873-Grant.txt')))\n",
    "print(Grant)"
   ]
  },
  {
   "cell_type": "code",
   "execution_count": 303,
   "metadata": {
    "collapsed": false
   },
   "outputs": [
    {
     "name": "stdout",
     "output_type": "stream",
     "text": [
      "832\n"
     ]
    }
   ],
   "source": [
    "Hayes=len(set(inaugural.words('1877-Hayes.txt')))\n",
    "print(Hayes)"
   ]
  },
  {
   "cell_type": "code",
   "execution_count": 305,
   "metadata": {
    "collapsed": false
   },
   "outputs": [
    {
     "name": "stdout",
     "output_type": "stream",
     "text": [
      "1022\n"
     ]
    }
   ],
   "source": [
    "Garfield=len(set(inaugural.words('1881-Garfield.txt')))\n",
    "print(Garfield)"
   ]
  },
  {
   "cell_type": "code",
   "execution_count": 306,
   "metadata": {
    "collapsed": false
   },
   "outputs": [
    {
     "name": "stdout",
     "output_type": "stream",
     "text": [
      "1496\n"
     ]
    }
   ],
   "source": [
    "Cleveland=len(set(inaugural.words('1885-Cleveland.txt')))+len(set(inaugural.words('1893-Cleveland.txt')))\n",
    "print(Cleveland)"
   ]
  },
  {
   "cell_type": "code",
   "execution_count": 307,
   "metadata": {
    "collapsed": false
   },
   "outputs": [
    {
     "name": "stdout",
     "output_type": "stream",
     "text": [
      "2099\n"
     ]
    }
   ],
   "source": [
    "McKinley=len(set(inaugural.words('1897-McKinley.txt')))+len(set(inaugural.words('1901-McKinley.txt')))\n",
    "print(McKinley)"
   ]
  },
  {
   "cell_type": "code",
   "execution_count": 314,
   "metadata": {
    "collapsed": false
   },
   "outputs": [
    {
     "name": "stdout",
     "output_type": "stream",
     "text": [
      "2690\n"
     ]
    }
   ],
   "source": [
    "Roosevelt=len(set(inaugural.words('1905-Roosevelt.txt')))+len(set(inaugural.words('1933-Roosevelt.txt'))\n",
    " )+len(set(inaugural.words('1937-Roosevelt.txt')))+len(set(inaugural.words('1941-Roosevelt.txt')))+len(set(inaugural.words('1945-Roosevelt.txt')))\n",
    "\n",
    "print(Roosevelt)"
   ]
  },
  {
   "cell_type": "code",
   "execution_count": 315,
   "metadata": {
    "collapsed": false
   },
   "outputs": [
    {
     "name": "stdout",
     "output_type": "stream",
     "text": [
      "1439\n"
     ]
    }
   ],
   "source": [
    "Taft=len(set(inaugural.words('1909-Taft.txt')))\n",
    "print(Taft)"
   ]
  },
  {
   "cell_type": "code",
   "execution_count": 316,
   "metadata": {
    "collapsed": false
   },
   "outputs": [
    {
     "name": "stdout",
     "output_type": "stream",
     "text": [
      "1210\n"
     ]
    }
   ],
   "source": [
    "Wilson=len(set(inaugural.words('1913-Wilson.txt')))+len(set(inaugural.words('1917-Wilson.txt')))\n",
    "print(Wilson)"
   ]
  },
  {
   "cell_type": "code",
   "execution_count": 317,
   "metadata": {
    "collapsed": false
   },
   "outputs": [
    {
     "name": "stdout",
     "output_type": "stream",
     "text": [
      "1170\n"
     ]
    }
   ],
   "source": [
    "Harding=len(set(inaugural.words('1921-Harding.txt')))\n",
    "print(Harding)"
   ]
  },
  {
   "cell_type": "code",
   "execution_count": 318,
   "metadata": {
    "collapsed": false
   },
   "outputs": [
    {
     "name": "stdout",
     "output_type": "stream",
     "text": [
      "1221\n"
     ]
    }
   ],
   "source": [
    "Coolidge=len(set(inaugural.words('1925-Coolidge.txt')))\n",
    "print(Coolidge)"
   ]
  },
  {
   "cell_type": "code",
   "execution_count": 319,
   "metadata": {
    "collapsed": false
   },
   "outputs": [
    {
     "name": "stdout",
     "output_type": "stream",
     "text": [
      "1087\n"
     ]
    }
   ],
   "source": [
    "Hoover=len(set(inaugural.words('1929-Hoover.txt')))\n",
    "print(Hoover)"
   ]
  },
  {
   "cell_type": "code",
   "execution_count": 320,
   "metadata": {
    "collapsed": false,
    "scrolled": true
   },
   "outputs": [
    {
     "name": "stdout",
     "output_type": "stream",
     "text": [
      "781\n"
     ]
    }
   ],
   "source": [
    "Truman=len(set(inaugural.words('1949-Truman.txt')))\n",
    "print(Truman)"
   ]
  },
  {
   "cell_type": "code",
   "execution_count": 321,
   "metadata": {
    "collapsed": false
   },
   "outputs": [
    {
     "name": "stdout",
     "output_type": "stream",
     "text": [
      "1521\n"
     ]
    }
   ],
   "source": [
    "Eisenhower=len(set(inaugural.words('1953-Eisenhower.txt')))+len(set(inaugural.words('1957-Eisenhower.txt')))\n",
    "print(Eisenhower)"
   ]
  },
  {
   "cell_type": "code",
   "execution_count": 322,
   "metadata": {
    "collapsed": false
   },
   "outputs": [
    {
     "name": "stdout",
     "output_type": "stream",
     "text": [
      "570\n"
     ]
    }
   ],
   "source": [
    "Kennedy=len(set(inaugural.words('1961-Kennedy.txt')))\n",
    "print(Kennedy)"
   ]
  },
  {
   "cell_type": "code",
   "execution_count": 323,
   "metadata": {
    "collapsed": false
   },
   "outputs": [
    {
     "name": "stdout",
     "output_type": "stream",
     "text": [
      "571\n"
     ]
    }
   ],
   "source": [
    "Johnson=len(set(inaugural.words('1965-Johnson.txt')))\n",
    "print(Johnson)"
   ]
  },
  {
   "cell_type": "code",
   "execution_count": 324,
   "metadata": {
    "collapsed": false
   },
   "outputs": [
    {
     "name": "stdout",
     "output_type": "stream",
     "text": [
      "1288\n"
     ]
    }
   ],
   "source": [
    "Nixon=len(set(inaugural.words('1969-Nixon.txt')))+len(set(inaugural.words('1973-Nixon.txt')))\n",
    "print(Nixon)"
   ]
  },
  {
   "cell_type": "code",
   "execution_count": 325,
   "metadata": {
    "collapsed": false
   },
   "outputs": [
    {
     "name": "stdout",
     "output_type": "stream",
     "text": [
      "529\n"
     ]
    }
   ],
   "source": [
    "Carter=len(set(inaugural.words('1977-Carter.txt')))\n",
    "print(Carter)"
   ]
  },
  {
   "cell_type": "code",
   "execution_count": 326,
   "metadata": {
    "collapsed": false
   },
   "outputs": [
    {
     "name": "stdout",
     "output_type": "stream",
     "text": [
      "1831\n"
     ]
    }
   ],
   "source": [
    "Reagan=len(set(inaugural.words('1981-Reagan.txt')))+len(set(inaugural.words('1985-Reagan.txt')))\n",
    "print(Reagan)"
   ]
  },
  {
   "cell_type": "code",
   "execution_count": 327,
   "metadata": {
    "collapsed": false
   },
   "outputs": [
    {
     "name": "stdout",
     "output_type": "stream",
     "text": [
      "2198\n"
     ]
    }
   ],
   "source": [
    "Bush=len(set(inaugural.words('1989-Bush.txt')))+len(set(inaugural.words('2001-Bush.txt')))+len(set(inaugural.words('2005-Bush.txt')))\n",
    "print(Bush)"
   ]
  },
  {
   "cell_type": "code",
   "execution_count": 328,
   "metadata": {
    "collapsed": false
   },
   "outputs": [
    {
     "name": "stdout",
     "output_type": "stream",
     "text": [
      "1417\n"
     ]
    }
   ],
   "source": [
    "Clinton=len(set(inaugural.words('1993-Clinton.txt')))+len(set(inaugural.words('1997-Clinton.txt')))\n",
    "print(Clinton)"
   ]
  },
  {
   "cell_type": "code",
   "execution_count": 329,
   "metadata": {
    "collapsed": false
   },
   "outputs": [
    {
     "name": "stdout",
     "output_type": "stream",
     "text": [
      "938\n"
     ]
    }
   ],
   "source": [
    "Obama=len(set(inaugural.words('2009-Obama.txt')))\n",
    "print(Obama)"
   ]
  },
  {
   "cell_type": "markdown",
   "metadata": {},
   "source": [
    "question 7\n",
    "Use Name corpus, calculate the probability of a name being of a male or female base on the last character(s) of name.\n",
    "Sample steps:\n",
    "For char ‘a’:\n",
    "\ttotal_names = sum(names ending with ‘a’)\n",
    "\tmale_names = sum(male names ending with ‘a’)\n",
    "\tfemale_names = sum(female names ending with ‘a’)\n",
    "\tProbability of name being male = 100 * male_names / total_names\n",
    "2. Do this for all characters. \n",
    "Output must come with proper title (e.g. [a] male: 25%, female: 60%)\n"
   ]
  },
  {
   "cell_type": "code",
   "execution_count": 345,
   "metadata": {
    "collapsed": false
   },
   "outputs": [],
   "source": [
    "from nltk.corpus import names"
   ]
  },
  {
   "cell_type": "code",
   "execution_count": 363,
   "metadata": {
    "collapsed": false
   },
   "outputs": [],
   "source": [
    "name=names.fileids()\n",
    "    "
   ]
  },
  {
   "cell_type": "code",
   "execution_count": 365,
   "metadata": {
    "collapsed": false
   },
   "outputs": [
    {
     "name": "stdout",
     "output_type": "stream",
     "text": [
      "['female.txt', 'male.txt']\n"
     ]
    }
   ],
   "source": [
    "print(name)\n"
   ]
  },
  {
   "cell_type": "code",
   "execution_count": 381,
   "metadata": {
    "collapsed": true
   },
   "outputs": [],
   "source": [
    "male=names.words('male.txt')"
   ]
  },
  {
   "cell_type": "code",
   "execution_count": 382,
   "metadata": {
    "collapsed": false
   },
   "outputs": [],
   "source": [
    "male_names=[name for name in male_names if name.endswith(('a')) ]"
   ]
  },
  {
   "cell_type": "code",
   "execution_count": 383,
   "metadata": {
    "collapsed": false
   },
   "outputs": [
    {
     "data": {
      "text/plain": [
       "29"
      ]
     },
     "execution_count": 383,
     "metadata": {},
     "output_type": "execute_result"
    }
   ],
   "source": [
    "len(male_names)"
   ]
  },
  {
   "cell_type": "code",
   "execution_count": 384,
   "metadata": {
    "collapsed": true
   },
   "outputs": [],
   "source": [
    "female=names.words('female.txt')"
   ]
  },
  {
   "cell_type": "code",
   "execution_count": 385,
   "metadata": {
    "collapsed": true
   },
   "outputs": [],
   "source": [
    "female_names=[name for name in female_names if name.endswith(('a')) ]"
   ]
  },
  {
   "cell_type": "code",
   "execution_count": 386,
   "metadata": {
    "collapsed": false
   },
   "outputs": [
    {
     "data": {
      "text/plain": [
       "1773"
      ]
     },
     "execution_count": 386,
     "metadata": {},
     "output_type": "execute_result"
    }
   ],
   "source": [
    "len(female_names)"
   ]
  },
  {
   "cell_type": "code",
   "execution_count": 387,
   "metadata": {
    "collapsed": true
   },
   "outputs": [],
   "source": [
    "total_names=len(male_names)+len(female_names)"
   ]
  },
  {
   "cell_type": "code",
   "execution_count": 389,
   "metadata": {
    "collapsed": false
   },
   "outputs": [
    {
     "data": {
      "text/plain": [
       "1802"
      ]
     },
     "execution_count": 389,
     "metadata": {},
     "output_type": "execute_result"
    }
   ],
   "source": [
    "int(total_names)"
   ]
  },
  {
   "cell_type": "code",
   "execution_count": 402,
   "metadata": {
    "collapsed": false
   },
   "outputs": [
    {
     "name": "stdout",
     "output_type": "stream",
     "text": [
      "1.609322974472808\n"
     ]
    }
   ],
   "source": [
    "percentage_male=100*len(male_names)/int(total_names)\n",
    "print(percentage_male)\n",
    "\n"
   ]
  },
  {
   "cell_type": "code",
   "execution_count": 403,
   "metadata": {
    "collapsed": false
   },
   "outputs": [
    {
     "name": "stdout",
     "output_type": "stream",
     "text": [
      "98.3906770255272\n"
     ]
    }
   ],
   "source": [
    "percentage_female=100*len(female_names)/int(total_names)\n",
    "print(percentage_female)"
   ]
  },
  {
   "cell_type": "code",
   "execution_count": null,
   "metadata": {
    "collapsed": true
   },
   "outputs": [],
   "source": []
  },
  {
   "cell_type": "code",
   "execution_count": null,
   "metadata": {
    "collapsed": true
   },
   "outputs": [],
   "source": [
    "question 8\n",
    "Use nps_chat and wordlist corpus.\n",
    "If you find a word in nps_chat but not in wordlist, it is considered an unusual word. (e.g. Heyyyy, gr8, 4ever can be considered unusual words for this analysis)\n",
    "Find out how many unusual words people speak in chat (notice: usernames should not be counted)\n",
    "Bonus: What if I want to  count : ) , : ( all these emoticons in. (optional)\n"
   ]
  },
  {
   "cell_type": "code",
   "execution_count": 308,
   "metadata": {
    "collapsed": true
   },
   "outputs": [],
   "source": [
    "from nltk.corpus import nps_chat, words"
   ]
  },
  {
   "cell_type": "code",
   "execution_count": 309,
   "metadata": {
    "collapsed": false
   },
   "outputs": [
    {
     "data": {
      "text/plain": [
       "['abandoner',\n",
       " 'abandonment',\n",
       " 'Abanic',\n",
       " 'Abantes',\n",
       " 'abaptiston',\n",
       " 'Abarambo',\n",
       " 'Abaris',\n",
       " 'abarthrosis',\n",
       " 'abarticular',\n",
       " 'abarticulation',\n",
       " 'abas',\n",
       " 'abase',\n",
       " 'abased',\n",
       " 'abasedly',\n",
       " 'abasedness',\n",
       " 'abasement',\n",
       " 'abaser',\n",
       " 'Abasgi',\n",
       " 'abash',\n",
       " 'abashed']"
      ]
     },
     "execution_count": 309,
     "metadata": {},
     "output_type": "execute_result"
    }
   ],
   "source": [
    "words.words()[50:70]"
   ]
  },
  {
   "cell_type": "code",
   "execution_count": 310,
   "metadata": {
    "collapsed": true
   },
   "outputs": [],
   "source": [
    "all_posts = list(nps_chat.words('10-19-20s_706posts.xml'))"
   ]
  },
  {
   "cell_type": "code",
   "execution_count": 311,
   "metadata": {
    "collapsed": false
   },
   "outputs": [
    {
     "name": "stdout",
     "output_type": "stream",
     "text": [
      "['go', 'U7', 'do', \"n't\", 'golf', 'clap', 'me', '.', 'fuck', 'you', 'U121', ':@', 'whats', 'everyone', 'up', 'to', '?', 'PART', 'PART', 'i', \"'ll\", 'thunder', 'clap', 'your', 'ass', '.', 'PART', 'and', 'i', 'dont', 'even', 'know', 'what', 'that', 'means', '.', 'that', 'sounds', 'painful', 'any', 'ladis', 'wanna', 'chat', '?', '29', 'm', '26', '/', 'm', 'JOIN', 'my', 'cousin', 'drew', 'a', 'messed', 'up', 'pic', 'on', 'my', 'cast', 'PART', '24', '/', 'm', 'boo', '.', '26', '/', 'm', 'and', 'sexy', 'lol', 'U115', 'boo', '.', 'JOIN', 'PART', 'he', 'drew', 'a', 'girl', 'with', 'legs', 'spread', 'boo', '.', 'hope', 'he', 'didnt', 'draw', 'a', 'penis', 'PART', 'ewwwww', 'lol', '&', 'a', 'head', 'between', 'her', 'legs', 'JOIN', 'JOIN', 'sounds', 'good', 'to', 'me', '.', 'r', 'u', 'serious', 'JOIN', 'PART', 'I', \"'ll\", 'take', 'one', ',', 'please', '.', '&', 'i', 'have', 'to', 'go', 'to', 'the', 'docs', 'tomorrow', 'ya', 'man', 'I', 'am', 'too', '..', 'Connected', 'to', '...', 'Slip', 'away', '...', 'Fade', 'away', '...', 'Days', 'away', 'I', '...', 'Still', 'feel', 'you', '...', 'Touching', 'me', '...', 'Changing', 'me', '...', 'Considerably', 'killing', 'me', '...', 'heeeey', '!', 'do', \"n't\", 'you', 'have', 'a', 'sharpie', '?', '26', '/', 'm', 'you', \"'re\", 'back', 'U115', 'U129', 'yep', 'U115', 'Any', 'ladies', 'wanna', 'chat', 'with', '24', '/', 'm', 'hurry', 'ladies', 'PART', 'JOIN', 'JOIN', 'not', 'fast', 'enough', 'U116', 'a', 'bowl', 'i', 'got', 'a', 'blunt', 'an', 'a', 'bong', '......', 'lol', 'JOIN', 'well', ',', 'glad', 'it', 'worked', 'out', 'my', 'chair', 'is', 'too', 'hard', '.', 'Anyone', 'from', 'Tennessee', 'in', 'here', '?', 'hey', 'ladies', 'as', 'am', 'i', 'is', 'U68', 'back', 'yet', 'PART', 'hey', 'PART', 'JOIN', 'U121', 'is', 'missing', 'a', 'B', 'in', 'her', 'name', 'and', 'i', 'do', \"n't\", 'complain', 'about', 'things', 'being', 'hard', 'very', 'often', '.', 'ok', 'yes', 'U30', 'fire', 'it', 'up', 'Any', 'women', 'from', 'Nashville', 'in', 'here', '?', 'JOIN', 'PART', 'and', 'an', 'an', '\"', 'itch', '\"', 'JOIN', 'yo', ',', 'U133', 'or', 'a', '\"', 'ogan', '\"', 'are', 'you', 'a', 'male', '?', 'JOIN', 'JOIN', 'show', 'will', 'let', \"'s\", 'talk', '.', 'PART', ':)', 'haha', 'brb', 'opps', 'JOIN', 'PART', 'sho', '*', '.', 'ACTION', 'keeps', 'U115', 's', 'place', 'nice', 'and', 'warm', '.', 'hey', 'any', 'guys', 'with', 'cams', 'wanna', 'play', '?', '.', 'ACTION', 'sits', 'on', 'U68', \"'s\", 'lap', '.', 'JOIN', 'JOIN', 'any', 'guyz', 'wanna', 'chat', 'hi', 'there', 'boo', ',', 'it', \"'s\", 'a', 'female', '.', 'hey', 'U126', 'PART', 'i', 'wonna', 'chat', 'PART', '24', 'f', 'nc', 'single', 'mom', 'where', 'did', 'everyone', 'gooo', '?', 'sure', 'U126', 'JOIN', 'what', 'did', 'you', 'but', 'on', 'e-bay', 'i', 'feel', 'like', 'im', 'in', 'the', 'wrong', 'room', 'yeee', 'haw', 'U30', 'im', 'considering', 'changing', 'my', 'nickname', 'to', '\"', 'ihavehotnips', '\"', 'JOIN', 'i', 'do', \"n't\", 'want', 'hot', 'pics', 'of', 'a', 'female', ',', 'I', 'can', 'look', 'in', 'a', 'mirror', '.', 'hi', 'U64', 'wb', 'U139', 'u', 'should', 'U44', ':)', 'PART', 'PART', 'JOIN', 'single', 'dad', 'here', 'JOIN', 'ty', 'U68', 'PART', 'JOIN', 'Hi', 'U139', 'PART', 'JOIN', 'hi', 'U138', 'HAHAHA', 'yw', 'U139', 'you', 'should', 'make', 'it']\n"
     ]
    }
   ],
   "source": [
    "print(all_posts[50:500])"
   ]
  },
  {
   "cell_type": "code",
   "execution_count": null,
   "metadata": {
    "collapsed": true
   },
   "outputs": [],
   "source": []
  }
 ],
 "metadata": {
  "anaconda-cloud": {},
  "kernelspec": {
   "display_name": "Python [conda root]",
   "language": "python",
   "name": "conda-root-py"
  },
  "language_info": {
   "codemirror_mode": {
    "name": "ipython",
    "version": 3
   },
   "file_extension": ".py",
   "mimetype": "text/x-python",
   "name": "python",
   "nbconvert_exporter": "python",
   "pygments_lexer": "ipython3",
   "version": "3.5.2"
  }
 },
 "nbformat": 4,
 "nbformat_minor": 1
}
