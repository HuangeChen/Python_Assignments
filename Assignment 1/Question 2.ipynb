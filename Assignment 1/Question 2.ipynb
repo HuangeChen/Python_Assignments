{
 "cells": [
  {
   "cell_type": "markdown",
   "metadata": {},
   "source": [
    "Question 2\n",
    "Under package Gutenberg get content from file 'melville-moby_dick.txt.' (HINT: Words? Raw?) Find out frequency of 26 characters. (Turn uppercase into lowercase and count as one character) List all 26 characters in order base on their frequency. (From most frequent to least frequent) Try NOT to use FreqDist module."
   ]
  },
  {
   "cell_type": "code",
   "execution_count": 1,
   "metadata": {
    "collapsed": true
   },
   "outputs": [],
   "source": [
    "import nltk"
   ]
  },
  {
   "cell_type": "code",
   "execution_count": 2,
   "metadata": {
    "collapsed": true
   },
   "outputs": [],
   "source": [
    "from nltk.corpus import gutenberg"
   ]
  },
  {
   "cell_type": "code",
   "execution_count": 3,
   "metadata": {
    "collapsed": true
   },
   "outputs": [],
   "source": [
    "content=gutenberg.raw('melville-moby_dick.txt')"
   ]
  },
  {
   "cell_type": "code",
   "execution_count": 4,
   "metadata": {
    "collapsed": true
   },
   "outputs": [],
   "source": [
    "fdist=nltk.FreqDist([w.lower() for w in content])"
   ]
  },
  {
   "cell_type": "code",
   "execution_count": 5,
   "metadata": {
    "collapsed": true
   },
   "outputs": [],
   "source": [
    "characters=['a','b','c','d','e','f','g','h','i','j','k','l','m','n','o','p','q','r','s','t','u',\n",
    "          'v','w','x','y','z' ]"
   ]
  },
  {
   "cell_type": "code",
   "execution_count": 6,
   "metadata": {
    "collapsed": false
   },
   "outputs": [
    {
     "name": "stdout",
     "output_type": "stream",
     "text": [
      "a: 77916\n",
      "b: 16877\n",
      "c: 22507\n",
      "d: 38219\n",
      "e: 117092\n",
      "f: 20833\n",
      "g: 20820\n",
      "h: 62896\n",
      "i: 65434\n",
      "j: 1082\n",
      "k: 8059\n",
      "l: 42793\n",
      "m: 23277\n",
      "n: 65617\n",
      "o: 69326\n",
      "p: 17255\n",
      "q: 1556\n",
      "r: 52134\n",
      "s: 64231\n",
      "t: 87996\n",
      "u: 26697\n",
      "v: 8598\n",
      "w: 22222\n",
      "x: 1030\n",
      "y: 16872\n",
      "z: 632\n"
     ]
    }
   ],
   "source": [
    "for i in characters:\n",
    "    print(i+':',fdist[i])"
   ]
  },
  {
   "cell_type": "code",
   "execution_count": null,
   "metadata": {
    "collapsed": true
   },
   "outputs": [],
   "source": []
  }
 ],
 "metadata": {
  "kernelspec": {
   "display_name": "Python [conda root]",
   "language": "python",
   "name": "conda-root-py"
  },
  "language_info": {
   "codemirror_mode": {
    "name": "ipython",
    "version": 3
   },
   "file_extension": ".py",
   "mimetype": "text/x-python",
   "name": "python",
   "nbconvert_exporter": "python",
   "pygments_lexer": "ipython3",
   "version": "3.5.2"
  }
 },
 "nbformat": 4,
 "nbformat_minor": 1
}
