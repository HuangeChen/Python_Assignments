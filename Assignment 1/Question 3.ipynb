{
 "cells": [
  {
   "cell_type": "markdown",
   "metadata": {},
   "source": [
    "Question 3"
   ]
  },
  {
   "cell_type": "markdown",
   "metadata": {},
   "source": [
    "Under package Webtext, see what files are in it. Get content in file 'pirates.txt'. According to the number of lines for geand Will Turner, find out who is the real leading man in this movie."
   ]
  },
  {
   "cell_type": "code",
   "execution_count": 1,
   "metadata": {
    "collapsed": true
   },
   "outputs": [],
   "source": [
    "import nltk"
   ]
  },
  {
   "cell_type": "code",
   "execution_count": 6,
   "metadata": {
    "collapsed": true
   },
   "outputs": [],
   "source": [
    "from nltk.corpus import webtext"
   ]
  },
  {
   "cell_type": "code",
   "execution_count": 7,
   "metadata": {
    "collapsed": true
   },
   "outputs": [],
   "source": [
    " content=(webtext.raw('pirates.txt'))"
   ]
  },
  {
   "cell_type": "code",
   "execution_count": 8,
   "metadata": {
    "collapsed": false
   },
   "outputs": [
    {
     "name": "stdout",
     "output_type": "stream",
     "text": [
      "ounts to a full pardon. Jack will be free, a privateer in the employ of England.\n",
      "WILL TURNER: Somehow I doubt Jack will consider employment the same as being free.\n",
      "LORD CUTLER BECKETT: Freedom. Jack Sparrow is a dying breed. The world is shrinking, the blank pages of the map filled in. Jack must find his place in the new world or perish. Not unlike you, Mister Turner. You and your fiancée face the hangman's noose. \n",
      "WILL TURNER: So you get both Jack *and* the Black Pearl.\n",
      "LORD CUTLER BECKETT: The Black Pearl?\n",
      "WILL TURNER: The property you want that he possesses.\n",
      "LORD CUTLER BECKETT: A ship? Hardly. The item in question's considerably smaller and far more valuable. Something Sparrow keeps on his person at all times. A compass. Ah, you know it. Bring back that Compass, or there's no deal.\n",
      "Scene: BLACK PEARL\n",
      "[Jack is using calipers on a map, using his left hand, a \"P\" brand mark is seen on his right arm]\n",
      "[an hourglass is in the background, Jack taps the Compass]\n",
      "[Jack looks in his bottle, turns the bottle upside-down, only a few drops spill out]\n",
      "JACK SPARROW: Why is the rum always gone?\n",
      "[Jack rises to his feet, staggers]\n",
      "[Jack picks up his hat off the top of a globe]\n",
      "JACK SPARROW: Oh! *That's* why.\n",
      "[Jack walks past the crew sleeping on hammocks, Jack is carrying a lantern]\n",
      "[some of the crew are snoring, and Cotton is among those sleeping]\n",
      "JACK SPARROW: As you were, gents.\n",
      "[Jack goes downstairs to the hold, an animal bleats, Jack unlocks the door, goes in]\n",
      "[Jack sees eerie filter \n",
      "ounts to a full pardon. Jack will be free, a privateer in the employ of England.\n",
      "WILL TURNER: Somehow I doubt Jack will consider employment the same as being free.\n",
      "LORD CUTLER BECKETT: Freedom. Jack Sparrow is a dying breed. The world is shrinking, the blank pages of the map filled in. Jack must find his place in the new world or perish. Not unlike you, Mister Turner. You and your fiancée face the hangman's noose. \n",
      "WILL TURNER: So you get both Jack *and* the Black Pearl.\n",
      "LORD CUTLER BECKETT: The Black Pearl?\n",
      "WILL TURNER: The property you want that he possesses.\n",
      "LORD CUTLER BECKETT: A ship? Hardly. The item in question's considerably smaller and far more valuable. Something Sparrow keeps on his person at all times. A compass. Ah, you know it. Bring back that Compass, or there's no deal.\n",
      "Scene: BLACK PEARL\n",
      "[Jack is using calipers on a map, using his left hand, a \"P\" brand mark is seen on his right arm]\n",
      "[an hourglass is in the background, Jack taps the Compass]\n",
      "[Jack looks in his bottle, turns the bottle upside-down, only a few drops spill out]\n",
      "JACK SPARROW: Why is the rum always gone?\n",
      "[Jack rises to his feet, staggers]\n",
      "[Jack picks up his hat off the top of a globe]\n",
      "JACK SPARROW: Oh! *That's* why.\n",
      "[Jack walks past the crew sleeping on hammocks, Jack is carrying a lantern]\n",
      "[some of the crew are snoring, and Cotton is among those sleeping]\n",
      "JACK SPARROW: As you were, gents.\n",
      "[Jack goes downstairs to the hold, an animal bleats, Jack unlocks the door, goes in]\n",
      "[Jack sees eerie filter \n",
      "ounts to a full pardon. Jack will be free, a privateer in the employ of England.\n",
      "WILL TURNER: Somehow I doubt Jack will consider employment the same as being free.\n",
      "LORD CUTLER BECKETT: Freedom. Jack Sparrow is a dying breed. The world is shrinking, the blank pages of the map filled in. Jack must find his place in the new world or perish. Not unlike you, Mister Turner. You and your fiancée face the hangman's noose. \n",
      "WILL TURNER: So you get both Jack *and* the Black Pearl.\n",
      "LORD CUTLER BECKETT: The Black Pearl?\n",
      "WILL TURNER: The property you want that he possesses.\n",
      "LORD CUTLER BECKETT: A ship? Hardly. The item in question's considerably smaller and far more valuable. Something Sparrow keeps on his person at all times. A compass. Ah, you know it. Bring back that Compass, or there's no deal.\n",
      "Scene: BLACK PEARL\n",
      "[Jack is using calipers on a map, using his left hand, a \"P\" brand mark is seen on his right arm]\n",
      "[an hourglass is in the background, Jack taps the Compass]\n",
      "[Jack looks in his bottle, turns the bottle upside-down, only a few drops spill out]\n",
      "JACK SPARROW: Why is the rum always gone?\n",
      "[Jack rises to his feet, staggers]\n",
      "[Jack picks up his hat off the top of a globe]\n",
      "JACK SPARROW: Oh! *That's* why.\n",
      "[Jack walks past the crew sleeping on hammocks, Jack is carrying a lantern]\n",
      "[some of the crew are snoring, and Cotton is among those sleeping]\n",
      "JACK SPARROW: As you were, gents.\n",
      "[Jack goes downstairs to the hold, an animal bleats, Jack unlocks the door, goes in]\n",
      "[Jack sees eerie filter \n",
      "ounts to a full pardon. Jack will be free, a privateer in the employ of England.\n",
      "WILL TURNER: Somehow I doubt Jack will consider employment the same as being free.\n",
      "LORD CUTLER BECKETT: Freedom. Jack Sparrow is a dying breed. The world is shrinking, the blank pages of the map filled in. Jack must find his place in the new world or perish. Not unlike you, Mister Turner. You and your fiancée face the hangman's noose. \n",
      "WILL TURNER: So you get both Jack *and* the Black Pearl.\n",
      "LORD CUTLER BECKETT: The Black Pearl?\n",
      "WILL TURNER: The property you want that he possesses.\n",
      "LORD CUTLER BECKETT: A ship? Hardly. The item in question's considerably smaller and far more valuable. Something Sparrow keeps on his person at all times. A compass. Ah, you know it. Bring back that Compass, or there's no deal.\n",
      "Scene: BLACK PEARL\n",
      "[Jack is using calipers on a map, using his left hand, a \"P\" brand mark is seen on his right arm]\n",
      "[an hourglass is in the background, Jack taps the Compass]\n",
      "[Jack looks in his bottle, turns the bottle upside-down, only a few drops spill out]\n",
      "JACK SPARROW: Why is the rum always gone?\n",
      "[Jack rises to his feet, staggers]\n",
      "[Jack picks up his hat off the top of a globe]\n",
      "JACK SPARROW: Oh! *That's* why.\n",
      "[Jack walks past the crew sleeping on hammocks, Jack is carrying a lantern]\n",
      "[some of the crew are snoring, and Cotton is among those sleeping]\n",
      "JACK SPARROW: As you were, gents.\n",
      "[Jack goes downstairs to the hold, an animal bleats, Jack unlocks the door, goes in]\n",
      "[Jack sees eerie filter \n",
      "ounts to a full pardon. Jack will be free, a privateer in the employ of England.\n",
      "WILL TURNER: Somehow I doubt Jack will consider employment the same as being free.\n",
      "LORD CUTLER BECKETT: Freedom. Jack Sparrow is a dying breed. The world is shrinking, the blank pages of the map filled in. Jack must find his place in the new world or perish. Not unlike you, Mister Turner. You and your fiancée face the hangman's noose. \n",
      "WILL TURNER: So you get both Jack *and* the Black Pearl.\n",
      "LORD CUTLER BECKETT: The Black Pearl?\n",
      "WILL TURNER: The property you want that he possesses.\n",
      "LORD CUTLER BECKETT: A ship? Hardly. The item in question's considerably smaller and far more valuable. Something Sparrow keeps on his person at all times. A compass. Ah, you know it. Bring back that Compass, or there's no deal.\n",
      "Scene: BLACK PEARL\n",
      "[Jack is using calipers on a map, using his left hand, a \"P\" brand mark is seen on his right arm]\n",
      "[an hourglass is in the background, Jack taps the Compass]\n",
      "[Jack looks in his bottle, turns the bottle upside-down, only a few drops spill out]\n",
      "JACK SPARROW: Why is the rum always gone?\n",
      "[Jack rises to his feet, staggers]\n",
      "[Jack picks up his hat off the top of a globe]\n",
      "JACK SPARROW: Oh! *That's* why.\n",
      "[Jack walks past the crew sleeping on hammocks, Jack is carrying a lantern]\n",
      "[some of the crew are snoring, and Cotton is among those sleeping]\n",
      "JACK SPARROW: As you were, gents.\n",
      "[Jack goes downstairs to the hold, an animal bleats, Jack unlocks the door, goes in]\n",
      "[Jack sees eerie filter \n",
      "ounts to a full pardon. Jack will be free, a privateer in the employ of England.\n",
      "WILL TURNER: Somehow I doubt Jack will consider employment the same as being free.\n",
      "LORD CUTLER BECKETT: Freedom. Jack Sparrow is a dying breed. The world is shrinking, the blank pages of the map filled in. Jack must find his place in the new world or perish. Not unlike you, Mister Turner. You and your fiancée face the hangman's noose. \n",
      "WILL TURNER: So you get both Jack *and* the Black Pearl.\n",
      "LORD CUTLER BECKETT: The Black Pearl?\n",
      "WILL TURNER: The property you want that he possesses.\n",
      "LORD CUTLER BECKETT: A ship? Hardly. The item in question's considerably smaller and far more valuable. Something Sparrow keeps on his person at all times. A compass. Ah, you know it. Bring back that Compass, or there's no deal.\n",
      "Scene: BLACK PEARL\n",
      "[Jack is using calipers on a map, using his left hand, a \"P\" brand mark is seen on his right arm]\n",
      "[an hourglass is in the background, Jack taps the Compass]\n",
      "[Jack looks in his bottle, turns the bottle upside-down, only a few drops spill out]\n",
      "JACK SPARROW: Why is the rum always gone?\n",
      "[Jack rises to his feet, staggers]\n",
      "[Jack picks up his hat off the top of a globe]\n",
      "JACK SPARROW: Oh! *That's* why.\n",
      "[Jack walks past the crew sleeping on hammocks, Jack is carrying a lantern]\n",
      "[some of the crew are snoring, and Cotton is among those sleeping]\n",
      "JACK SPARROW: As you were, gents.\n",
      "[Jack goes downstairs to the hold, an animal bleats, Jack unlocks the door, goes in]\n",
      "[Jack sees eerie filter \n"
     ]
    }
   ],
   "source": [
    "for fileid in webtext.fileids():\n",
    "   print(webtext.raw('pirates.txt')[8000:9500])"
   ]
  },
  {
   "cell_type": "code",
   "execution_count": 21,
   "metadata": {
    "collapsed": false
   },
   "outputs": [
    {
     "data": {
      "text/plain": [
       "193"
      ]
     },
     "execution_count": 21,
     "metadata": {},
     "output_type": "execute_result"
    }
   ],
   "source": [
    " content.count(\"SPARROW\")"
   ]
  },
  {
   "cell_type": "code",
   "execution_count": 22,
   "metadata": {
    "collapsed": false
   },
   "outputs": [
    {
     "data": {
      "text/plain": [
       "133"
      ]
     },
     "execution_count": 22,
     "metadata": {},
     "output_type": "execute_result"
    }
   ],
   "source": [
    "content.count(\"TURNER\")"
   ]
  },
  {
   "cell_type": "code",
   "execution_count": null,
   "metadata": {
    "collapsed": true
   },
   "outputs": [],
   "source": []
  }
 ],
 "metadata": {
  "kernelspec": {
   "display_name": "Python [conda root]",
   "language": "python",
   "name": "conda-root-py"
  },
  "language_info": {
   "codemirror_mode": {
    "name": "ipython",
    "version": 3
   },
   "file_extension": ".py",
   "mimetype": "text/x-python",
   "name": "python",
   "nbconvert_exporter": "python",
   "pygments_lexer": "ipython3",
   "version": "3.5.2"
  }
 },
 "nbformat": 4,
 "nbformat_minor": 1
}
